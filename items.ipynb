{
 "cells": [
  {
   "cell_type": "markdown",
   "metadata": {},
   "source": [
    "# Items"
   ]
  },
  {
   "cell_type": "markdown",
   "metadata": {},
   "source": [
    "This notebook contains examples of using the ArcGIS API for Python to manage items in an ArcGIS Online portal. \n",
    "\n",
    "Each cell in this notebook is independent of every other cell, but each cell assumes the existence of a portal connection object stored in a variable named `gis`. The creation of this object is covered in the [Portal connection notebook](https://github.com/travisormsby/agol_admin/blob/main/portal_connection.ipynb).\n",
    "\n",
    "Usernames used throughout this notebook are specific to my organization. You will need to change them to something appropriate for your organization.\n",
    "\n",
    "All API references in this notebook are from the [arcgis.gis](https://developers.arcgis.com/python/api-reference/arcgis.gis.toc.html) module: [ContentManager](https://developers.arcgis.com/python/api-reference/arcgis.gis.toc.html#contentmanager), [GIS](https://developers.arcgis.com/python/api-reference/arcgis.gis.toc.html#gis), and [Item](https://developers.arcgis.com/python/api-reference/arcgis.gis.toc.html#item)"
   ]
  },
  {
   "cell_type": "markdown",
   "metadata": {},
   "source": [
    "* [Create `Item` objects](#create-item-obj)\n",
    "    * [Get a specific item](#get-item)\n",
    "    * [Search for items](#query)\n",
    "        * [Default query](#default-query)\n",
    "        * [Query a specific field](#query-a-specific-field)\n",
    "        * [Query multi-word phrases](#query-multi-word-phrases)\n",
    "        * [Query by range of values](#query-by-range-of-values)\n",
    "        * [Combine query terms](#combining-query-terms)\n",
    "    * [Advanced search](#advanced-search)\n",
    "* [Get information about an item](#get-info)\n",
    "    * [Display item information](#display-item-information)\n",
    "    * [Access item properties](#access-item-properties)\n",
    "* [Manage items](#manage)\n",
    "    * [Create an item](#create-an-item)\n",
    "    * [Copy an item](#copy-an-item)\n",
    "    * [Share an item](#share-an-item)\n",
    "        * [Default behavior of the `share` method](#default-behavior-of-the-share-method)\n",
    "        * [Sharing items to groups: as documented](#sharing-items-to-groups-as-documented)\n",
    "        * [Sharing items to groups: the undocumented reality](#sharing-items-to-groups-the-undocumented-reality)\n",
    "    * [Update an item's information](#update-an-items-information)\n",
    "    * [Bulk update multiple items' information](#bulk-update-multiple-items-information)\n",
    "    * [Reassign an item to a new owner](#reassign-an-item-to-a-new-owner)\n",
    "    * [Move an item between folders](#move-an-item-between-folders)\n",
    "    * [Export an item](#export-an-item)\n",
    "    * [Delete an item](#delete-an-item)"
   ]
  },
  {
   "cell_type": "markdown",
   "metadata": {},
   "source": [
    "## Create `Item` objects"
   ]
  },
  {
   "cell_type": "markdown",
   "metadata": {},
   "source": [
    "In order to manage items, you will need to represent them as some data structure that Python can manipulate. An instance of the [`ContentManager` class](https://developers.arcgis.com/python/api-reference/arcgis.gis.toc.html#contentmanager) can create these `Item` objects. This instance is available as the `content` property of a [`GIS` object](https://developers.arcgis.com/python/api-reference/arcgis.gis.toc.html#gis)"
   ]
  },
  {
   "cell_type": "markdown",
   "metadata": {},
   "source": [
    "### Get a specific item"
   ]
  },
  {
   "cell_type": "markdown",
   "metadata": {},
   "source": [
    "<a id='get-item'></a> The code below uses the [`get` method of the `ContentManager` object](https://developers.arcgis.com/python/api-reference/arcgis.gis.toc.html#arcgis.gis.ContentManager.get) to return a single `Item` object that matches the provided item id. "
   ]
  },
  {
   "cell_type": "code",
   "execution_count": 433,
   "metadata": {},
   "outputs": [
    {
     "name": "stdout",
     "output_type": "stream",
     "text": [
      "<Item title:\"HOLC\" type:Web Map owner:t.ormsby>\n"
     ]
    }
   ],
   "source": [
    "item = gis.content.get(\"63d41db9006647afb92516cee5c89a1a\")\n",
    "print(item)"
   ]
  },
  {
   "cell_type": "markdown",
   "metadata": {},
   "source": [
    "### Search for items"
   ]
  },
  {
   "cell_type": "markdown",
   "metadata": {},
   "source": [
    "The [`search` method of the `ContentManager` object](https://developers.arcgis.com/python/api-reference/arcgis.gis.toc.html#arcgis.gis.ContentManager.search) returns a list of `Item` objects that match the search criteria. There are several parameters for the `search` method, most of which are well explained in the documentation. \n",
    "\n",
    "The most important parameter is `query`, which is used to search for items by fields not covered by the other parameters. The `query` parameter is also used for complex search logic using ranges, boolean operators, and grouping.\n",
    "\n",
    "The use of the `query` parameter is unfortunately not well documented. Esri provides [examples of POST requests](https://developers.arcgis.com/rest/users-groups-and-items/search-reference.htm) made against the REST API directly, but these do not translate perfectly to the Python syntax of the `search` method. The examples below show how to correctly format query strings."
   ]
  },
  {
   "cell_type": "markdown",
   "metadata": {},
   "source": [
    "#### Default query"
   ]
  },
  {
   "cell_type": "markdown",
   "metadata": {},
   "source": [
    "By default, the `query` argument is matched against items' title, tags, snippet, description, type, and typekeywords fields. The `query` argument is not case sensitive and will return close matches, not just exact matches. \n",
    "\n",
    "The code below will return up to 20 items that match the term `\"holc\"` in any of the default fields."
   ]
  },
  {
   "cell_type": "code",
   "execution_count": 442,
   "metadata": {},
   "outputs": [
    {
     "name": "stdout",
     "output_type": "stream",
     "text": [
      "<Item title:\"HOLC Travis Ormsby\" type:Web Mapping Application owner:t.ormsby>\n",
      "<Item title:\"HOLC\" type:Web Map owner:t.ormsby>\n",
      "<Item title:\"Highest income\" type:Feature Layer Collection owner:t.ormsby>\n",
      "<Item title:\"HOLC Appraisals\" type:Feature Layer Collection owner:t.ormsby>\n",
      "<Item title:\"Lowest income\" type:Feature Layer Collection owner:t.ormsby>\n",
      "<Item title:\"HOLC_Blocks\" type:Service Definition owner:t.ormsby>\n",
      "<Item title:\"HOLC_Blocks\" type:Feature Layer Collection owner:t.ormsby>\n",
      "<Item title:\"HOLC Travis Ormsby\" type:Web Map owner:t.ormsby>\n",
      "<Item title:\"Highest percent white population\" type:Feature Layer Collection owner:t.ormsby>\n",
      "<Item title:\"Highest percent population of color\" type:Feature Layer Collection owner:t.ormsby>\n"
     ]
    }
   ],
   "source": [
    "items = gis.content.search(query=\"holc\", max_items=20)\n",
    "for item in items:\n",
    "    print(item)"
   ]
  },
  {
   "cell_type": "markdown",
   "metadata": {},
   "source": [
    "#### Query a specific field"
   ]
  },
  {
   "cell_type": "markdown",
   "metadata": {},
   "source": [
    "You can specify a particular field in the query, instead of using the default fields. Querying does not work on all fields, but you can specify the following:\n",
    "\n",
    "* `id` (item ID)\n",
    "* `owner` (owner username)\n",
    "* `created` (Unix miliseconds timestamp)\n",
    "* `modified` (Unix miliseconds timestamp)\n",
    "* `lastviewed` (Unix miliseconds timestamp)\n",
    "* `title`\n",
    "* `type` ([tables of all types](https://developers.arcgis.com/rest/users-groups-and-items/items-and-item-types.htm))\n",
    "* `typekeywords` ([tables of all type keywords](https://developers.arcgis.com/rest/users-groups-and-items/items-and-item-types.htm))\n",
    "* `description`\n",
    "* `tags`\n",
    "* `snippet` (summary text)\n",
    "* `accessInformation`\n",
    "* `access` (public, private, org, or shared)\n",
    "* `group` (group ID)\n",
    "* `numviews` (number of views)\n",
    "* `numratings` (number of ratings)\n",
    "* `numcomments` (number of comments)\n",
    "* `avgrating` (average rating)\n",
    "* `culture` (locale information, e.g. \"en-US\")\n",
    "* `orgid` (returns items within a specified organization)\n",
    "* `categories`\n",
    "* `contentStatus` (null, deprecated, org_authoritative, public_authoritative)\n",
    "* `name` (does not work for finding notebooks)\n",
    "* `protected` (True or False)\n",
    "\n",
    "\n",
    "The code below narrows the search above by limiting the search to the snippet field.\n",
    "\n",
    "\n",
    "\n"
   ]
  },
  {
   "cell_type": "code",
   "execution_count": 443,
   "metadata": {},
   "outputs": [
    {
     "name": "stdout",
     "output_type": "stream",
     "text": [
      "<Item title:\"HOLC Appraisals\" type:Feature Layer Collection owner:t.ormsby>\n",
      "<Item title:\"HOLC_Blocks\" type:Service Definition owner:t.ormsby>\n",
      "<Item title:\"HOLC_Blocks\" type:Feature Layer Collection owner:t.ormsby>\n"
     ]
    }
   ],
   "source": [
    "items = gis.content.search(query=\"snippet:holc\", max_items=20)\n",
    "for item in items:\n",
    "    print(item)"
   ]
  },
  {
   "cell_type": "markdown",
   "metadata": {},
   "source": [
    "#### Query multi-word phrases"
   ]
  },
  {
   "cell_type": "markdown",
   "metadata": {},
   "source": [
    "Querying items that match a multi-word phrase can be tricky. The code below is a naïve implementation of a search for the \"HOLC Appraisals\" item listed above. This implementation returns additional results that do not match the desired phrase"
   ]
  },
  {
   "cell_type": "code",
   "execution_count": 444,
   "metadata": {},
   "outputs": [
    {
     "name": "stdout",
     "output_type": "stream",
     "text": [
      "<Item title:\"HOLC Appraisals\" type:Feature Layer Collection owner:t.ormsby>\n",
      "<Item title:\"HOLC_Blocks\" type:Service Definition owner:t.ormsby>\n",
      "<Item title:\"HOLC_Blocks\" type:Feature Layer Collection owner:t.ormsby>\n"
     ]
    }
   ],
   "source": [
    "items = gis.content.search(query=\"title:HOLC Appraisals\", max_items=20)\n",
    "for item in items:\n",
    "    print(item)"
   ]
  },
  {
   "cell_type": "markdown",
   "metadata": {},
   "source": [
    "The code below uses single quotes in an attempt to represent a phrase. This also does not work."
   ]
  },
  {
   "cell_type": "code",
   "execution_count": 445,
   "metadata": {},
   "outputs": [
    {
     "name": "stdout",
     "output_type": "stream",
     "text": [
      "<Item title:\"HOLC Appraisals\" type:Feature Layer Collection owner:t.ormsby>\n",
      "<Item title:\"HOLC_Blocks\" type:Service Definition owner:t.ormsby>\n",
      "<Item title:\"HOLC_Blocks\" type:Feature Layer Collection owner:t.ormsby>\n"
     ]
    }
   ],
   "source": [
    "items = gis.content.search(query=\"title:'HOLC Appraisals'\", max_items=20)\n",
    "for item in items:\n",
    "    print(item)"
   ]
  },
  {
   "cell_type": "markdown",
   "metadata": {},
   "source": [
    "To find content that matches the entire phrase, the phrase must be enclosed in double quotes. The code below uses double quotes around the search phrase and returns the correct result."
   ]
  },
  {
   "cell_type": "code",
   "execution_count": 446,
   "metadata": {},
   "outputs": [
    {
     "name": "stdout",
     "output_type": "stream",
     "text": [
      "<Item title:\"HOLC Appraisals\" type:Feature Layer Collection owner:t.ormsby>\n"
     ]
    }
   ],
   "source": [
    "items = gis.content.search(query='title:\"HOLC Appraisals\"', max_items=20)\n",
    "for item in items:\n",
    "    print(item)"
   ]
  },
  {
   "cell_type": "markdown",
   "metadata": {},
   "source": [
    "#### Query by range of values"
   ]
  },
  {
   "cell_type": "markdown",
   "metadata": {},
   "source": [
    " Values can be queried by range using `firstValue TO lastValue` (`TO` must be capitalized). Brackets (`[]`) around the range indicate that the search should be inclusive of the values. Curly braces (`{}`) indicate that the search should be exclusive of the values.\n",
    "\n",
    "This is especially useful for numeric values, but can work for any field.\n",
    "\n",
    "The code below searches for items created during the month of October in US Central Time. The range opens with a bracket because it must be inclusive of the first milisecond of October. It closes with a curly brace because it must be exclusive of the first milisecond of November.\n"
   ]
  },
  {
   "cell_type": "code",
   "execution_count": 447,
   "metadata": {},
   "outputs": [
    {
     "name": "stdout",
     "output_type": "stream",
     "text": [
      "<Item title:\"ProblemsSummary\" type:Feature Layer Collection owner:t.ormsby>\n",
      "<Item title:\"ProblemsHeatMap\" type:Feature Layer Collection owner:t.ormsby>\n",
      "<Item title:\"Collaboration\" type:Notebook owner:t.ormsby>\n",
      "<Item title:\"Schools20MinWalk\" type:Feature Layer Collection owner:t.ormsby>\n",
      "<Item title:\"ProblemsVectorTilePackage\" type:Vector Tile Package owner:t.ormsby>\n",
      "<Item title:\"ProblemsClusters\" type:Service Definition owner:t.ormsby>\n",
      "<Item title:\"ProblemsHeatMap\" type:Service Definition owner:t.ormsby>\n",
      "<Item title:\"SchoolsInfoFeatures\" type:Feature Layer Collection owner:t.ormsby>\n",
      "<Item title:\"ProblemsBins\" type:Service Definition owner:t.ormsby>\n",
      "<Item title:\"ProblemsBins\" type:Feature Layer Collection owner:t.ormsby>\n",
      "<Item title:\"SchoolsInfoBuffer\" type:Feature Layer Collection owner:t.ormsby>\n",
      "<Item title:\"ProblemsVectorTilePackage\" type:Vector Tile Layer owner:t.ormsby>\n",
      "<Item title:\"ProblemsSummary\" type:Service Definition owner:t.ormsby>\n",
      "<Item title:\"ProblemsClusters\" type:Feature Layer Collection owner:t.ormsby>\n",
      "<Item title:\"clusters\" type:Feature Layer Collection owner:t.ormsby>\n",
      "<Item title:\"Problems\" type:Map Package owner:t.ormsby>\n",
      "<Item title:\"ExampleMap3\" type:Web Map owner:ormsby_guest1>\n",
      "<Item title:\"ExampleMap1\" type:Web Map owner:ormsby_guest1>\n",
      "<Item title:\"ExampleMap2\" type:Web Map owner:ormsby_guest1>\n"
     ]
    }
   ],
   "source": [
    "items = gis.content.search(query=\"created:[1696136400000 TO 1698814800000}\", max_items=20)\n",
    "for item in items:\n",
    "    print(item)"
   ]
  },
  {
   "cell_type": "markdown",
   "metadata": {},
   "source": [
    "#### Combining query terms"
   ]
  },
  {
   "cell_type": "markdown",
   "metadata": {},
   "source": [
    "[Esri documentation](https://developers.arcgis.com/rest/users-groups-and-items/search-reference.htm) claims that you can use the Boolean operators `AND`, `OR` and `NOT` to combine terms in the query string. In practice, these Boolean operators do not work, likely due to a bug in the ArcGIS API for Python. \n",
    "\n",
    "For that reason, the code below uses sets and set methods to return collections of items that match more complex patterns needing Boolean operators.\n",
    "\n"
   ]
  },
  {
   "cell_type": "code",
   "execution_count": 479,
   "metadata": {},
   "outputs": [
    {
     "name": "stdout",
     "output_type": "stream",
     "text": [
      "query 1 returns:\n",
      "<Item title:\"Highest percent population of color\" type:Feature Layer Collection owner:t.ormsby>\n",
      "<Item title:\"ExampleMap1\" type:Web Map owner:ormsby_guest1>\n",
      "<Item title:\"Highest percent white population\" type:Feature Layer Collection owner:t.ormsby>\n",
      "query 2 returns:\n",
      "<Item title:\"ExampleMap2\" type:Web Map owner:ormsby_guest1>\n",
      "<Item title:\"ExampleMap1\" type:Web Map owner:ormsby_guest1>\n",
      "<Item title:\"ExampleMap3\" type:Web Map owner:ormsby_guest1>\n",
      "query1 AND query2 returns:\n",
      "<Item title:\"ExampleMap1\" type:Web Map owner:ormsby_guest1>\n",
      "query1 OR query 2 returns:\n",
      "<Item title:\"ExampleMap1\" type:Web Map owner:ormsby_guest1>\n",
      "<Item title:\"ExampleMap2\" type:Web Map owner:ormsby_guest1>\n",
      "<Item title:\"Highest percent white population\" type:Feature Layer Collection owner:t.ormsby>\n",
      "<Item title:\"ExampleMap3\" type:Web Map owner:ormsby_guest1>\n",
      "<Item title:\"Highest percent population of color\" type:Feature Layer Collection owner:t.ormsby>\n",
      "query1 NOT query 2 returns:\n",
      "<Item title:\"Highest percent white population\" type:Feature Layer Collection owner:t.ormsby>\n",
      "<Item title:\"Highest percent population of color\" type:Feature Layer Collection owner:t.ormsby>\n"
     ]
    }
   ],
   "source": [
    "# Dictionary of two sets of Item objects, each set returned from a different query\n",
    "itemsets = {\n",
    "    \"query 1\": set(gis.content.search(query='\"highest percent\"', max_items=100)),\n",
    "    \"query 2\": set(gis.content.search(query='\"example\"', max_items=100))\n",
    "}\n",
    "\n",
    "query1 = itemsets[\"query 1\"]\n",
    "query2 = itemsets[\"query 2\"]\n",
    "\n",
    "# Add more sets to the dictionary representing the intersection, union, and difference of the original sets\n",
    "itemsets[\"query1 AND query2\"] = query1.intersection(query2) # AND means the intersection of two sets\n",
    "itemsets[\"query1 OR query 2\"] = query1.union(query2) # OR means the union of two sets\n",
    "itemsets[\"query1 NOT query 2\"] = query1.difference(query2) # NOT means the difference of two sets\n",
    "\n",
    "# Output the items in each set\n",
    "for setname, itemset in itemsets.items():\n",
    "    print(f\"{setname} returns:\")\n",
    "    for item in itemset:\n",
    "        print(item)\n",
    "    "
   ]
  },
  {
   "cell_type": "markdown",
   "metadata": {},
   "source": [
    "Putting the sets of `Item` objects in a dictionary as above is done to show you the relationships betwen the different sets. In practice, you would not usually do that. The code below represents a more typical pattern by creating variables to hold the results of the initial query terms, and then performing the set operation on those results"
   ]
  },
  {
   "cell_type": "code",
   "execution_count": 478,
   "metadata": {},
   "outputs": [
    {
     "name": "stdout",
     "output_type": "stream",
     "text": [
      "<Item title:\"ExampleMap1\" type:Web Map owner:ormsby_guest1>\n",
      "<Item title:\"ExampleMap2\" type:Web Map owner:ormsby_guest1>\n",
      "<Item title:\"Highest percent white population\" type:Feature Layer Collection owner:t.ormsby>\n",
      "<Item title:\"ExampleMap3\" type:Web Map owner:ormsby_guest1>\n",
      "<Item title:\"Highest percent population of color\" type:Feature Layer Collection owner:t.ormsby>\n"
     ]
    }
   ],
   "source": [
    "query1 = set(gis.content.search(query='\"highest percent\"', max_items=100))\n",
    "query2 = set(gis.content.search(query='\"example\"', max_items=100))\n",
    "query1OR2 = query1.union(query2)\n",
    "for item in query1OR2:\n",
    "    print(item)"
   ]
  },
  {
   "cell_type": "markdown",
   "metadata": {},
   "source": [
    "### Advanced search"
   ]
  },
  {
   "cell_type": "markdown",
   "metadata": {},
   "source": [
    "The [`advanced_search` method of the `ContentManager` object](https://developers.arcgis.com/python/api-reference/arcgis.gis.toc.html#arcgis.gis.ContentManager.advanced_search) is very similar to the `search` method, with three important differences.\n",
    "\n",
    "* The `advanced_search` method exposes some additional parameters to refine your search. These additional parameters are well documented in the API referenve.\n",
    "\n",
    "* The `search` method defaults to searching only inside the organization, but can search outside. The `advanced_search` method does not have a parameter to search inside the organization only (though similar results could be achieved with a query string)\n",
    "\n",
    "* The `search` method returns a list of `Item` objects. By default, the `advanced_search` method retuns a dictionary with a list of `Item` objects stored in the `results` key. Optionally, `advanced_search` will store a list of dictionaries of item properties in the `results` key.\n",
    "\n"
   ]
  },
  {
   "cell_type": "code",
   "execution_count": 482,
   "metadata": {},
   "outputs": [
    {
     "data": {
      "text/plain": [
       "[<Item title:\"HOLC Appraisals\" type:Feature Layer Collection owner:t.ormsby>,\n",
       " <Item title:\"HOLC_Blocks\" type:Service Definition owner:t.ormsby>,\n",
       " <Item title:\"HOLC_Blocks\" type:Feature Layer Collection owner:t.ormsby>]"
      ]
     },
     "execution_count": 482,
     "metadata": {},
     "output_type": "execute_result"
    }
   ],
   "source": [
    "# The search method looks only inside the organization by default \n",
    "# It returns a list of Item objects\n",
    "gis.content.search(query=\"snippet:holc\")"
   ]
  },
  {
   "cell_type": "code",
   "execution_count": 490,
   "metadata": {},
   "outputs": [
    {
     "data": {
      "text/plain": [
       "{'total': 761,\n",
       " 'start': 1,\n",
       " 'num': 100,\n",
       " 'nextStart': 101,\n",
       " 'results': [<Item title:\" (HOLC) Neighborhood Redlining Grade Boston\" type:Web Map owner:raechelw>,\n",
       "  <Item title:\"“Redlining” and Exposure to Urban Heat Islands\" type:Web Map owner:ElainnaH>,\n",
       "  <Item title:\"“Redlining” and Exposure to Urban Heat Islands\" type:Web Map owner:jpszitta_DurhamEM>,\n",
       "  <Item title:\"“Redlining” and Exposure to Urban Heat Islands\" type:Web Map owner:dpisut_content>,\n",
       "  <Item title:\"“Redlining” and Exposure to Urban Heat Islands\" type:Web Map owner:Sarah_A_Knight>,\n",
       "  <Item title:\"“Redlining” and Exposure to Urban Heat Islands\" type:Web Map owner:Connected_DMV_Atlas>,\n",
       "  <Item title:\"“Redlining” and Exposure to Urban Heat Islands – Dallas\" type:Web Mapping Application owner:ldl8244>,\n",
       "  <Item title:\"“Redlining” and Exposure to Urban Heat Islands-Copy\" type:Web Map owner:jeremyhoffman>,\n",
       "  <Item title:\"“Redlining” and Exposure to Urban Heat Islands-Copy\" type:Web Map owner:noir0315_gisucla>,\n",
       "  <Item title:\"“Redlining” and Exposure to Urban Heat Islands-Copy\" type:Web Map owner:Dylan.J.Hayden@hud.gov_HUD>,\n",
       "  <Item title:\"“Redlining” and Exposure to Urban Heat Islands-Copy\" type:Web Map owner:graceriggs12_gisucla>,\n",
       "  <Item title:\"“Redlining” and Exposure to Urban Heat Islands-Copy\" type:Web Map owner:ADu_ourcommunity>,\n",
       "  <Item title:\"“Redlining” and Exposure to Urban Heat Islands-Copy\" type:Web Map owner:Kayli.Skinner_ucboulder>,\n",
       "  <Item title:\"“Redlining” and Exposure to Urban Heat Islands-Copy\" type:Web Map owner:ldl8244>,\n",
       "  <Item title:\"“Redlining” and Exposure to Urban Heat Islands-Copy\" type:Web Map owner:omarissa>,\n",
       "  <Item title:\"“Redlining” and Exposure to Urban Heat Islands_2\" type:Web Map owner:raechelw>,\n",
       "  <Item title:\"“Redlining” and Exposure to Urban Heat Islands_2\" type:Web Map owner:lauren25>,\n",
       "  <Item title:\"“Redlining” and Exposure to Urban Heat Islands_WFL1\" type:Feature Layer Collection owner:jpszitta_DurhamEM>,\n",
       "  <Item title:\"“Redlining” and HCV\" type:Web Map owner:Dylan.J.Hayden@hud.gov_HUD>,\n",
       "  <Item title:\"“Redlining” and Home Ownership\" type:Web Map owner:Dylan.J.Hayden@hud.gov_HUD>,\n",
       "  <Item title:\"“Redlining” and Home Values\" type:Web Map owner:Dylan.J.Hayden@hud.gov_HUD>,\n",
       "  <Item title:\"“Redlining” and Public Housing\" type:Web Map owner:Dylan.J.Hayden@hud.gov_HUD>,\n",
       "  <Item title:\"“Redlining” and Race\" type:Web Map owner:Dylan.J.Hayden@hud.gov_HUD>,\n",
       "  <Item title:\"“Redlining” HOLC 1\" type:Web Map owner:Dylan.J.Hayden@hud.gov_HUD>,\n",
       "  <Item title:\"(HOLC) Neighborhood Redlining Grade\" type:Web Map owner:jimhanson4>,\n",
       "  <Item title:\"16. HOLC Ratings in PUSD, 1939\" type:Web Map owner:caroline.thompson@dlrgroup.com>,\n",
       "  <Item title:\"17. HOLC Scores (1939) by Lower Resource Neighborhoods (2022)\" type:Web Map owner:caroline.thompson@dlrgroup.com>,\n",
       "  <Item title:\"1935 HOLC Grade\" type:Layer Package owner:jayalakc>,\n",
       "  <Item title:\"1937 Durham HOLC Map\" type:Web Map owner:pmmcdani_UNC>,\n",
       "  <Item title:\"1937 Durham HOLC Map- Imagery Backdrop\" type:Web Map owner:pmmcdani_UNC>,\n",
       "  <Item title:\"1937 HOLC - Residential \"Security\" Map\" type:Web Mapping Application owner:mdeemer@grand_rapids.mi.us_grandrapids>,\n",
       "  <Item title:\"1939 HOLC Redlining Grades\" type:Feature Layer Collection owner:m.quirk>,\n",
       "  <Item title:\"1940 Cuyahoga County HOLC Map\" type:Web Mapping Application owner:kirwaninstitute.osu>,\n",
       "  <Item title:\"1940 Cuyahoga County HOLC Map\" type:Web Mapping Application owner:kirwaninstitute.osu>,\n",
       "  <Item title:\"2019_11_18_HOLC\" type:Web Map owner:amy.heath2@g.austincc.edu9>,\n",
       "  <Item title:\"2019_11_18_Redline_in_motion-Copy-Copy\" type:Web Map owner:amy.heath2@g.austincc.edu9>,\n",
       "  <Item title:\"2021 Home Loan Denial Rates for Birmingham, Alabama\" type:Web Mapping Application owner:jhrocha_UMass_Amherst>,\n",
       "  <Item title:\"2022 HOLC\" type:Web Map owner:erp82_rutgers>,\n",
       "  <Item title:\"2N\" type:Web Map owner:wuyiche8_utoronto>,\n",
       "  <Item title:\"3. SF Residential\" type:Web Map owner:naulston>,\n",
       "  <Item title:\"5 - KC Metro Home-Owners Loan Corporation (HOLC) Map and Present-Day Race/Ethnicity\" type:Web Mapping Application owner:kirwaninstitute.osu>,\n",
       "  <Item title:\"5. Life Expectancy\" type:Web Map owner:naulston>,\n",
       "  <Item title:\"A1 - Durham 1937\" type:Image owner:pmmcdani_UNC>,\n",
       "  <Item title:\"A2 - Durham 1937\" type:Image owner:pmmcdani_UNC>,\n",
       "  <Item title:\"A4 - Durham 1937\" type:Image owner:pmmcdani_UNC>,\n",
       "  <Item title:\"A5 - Durham 1937\" type:Image owner:pmmcdani_UNC>,\n",
       "  <Item title:\"Air Quality Lab- P2 POCallaghan-Copy\" type:Web Map owner:patrick.ocallaghan_urichmond>,\n",
       "  <Item title:\"Albany HOLC Map\" type:Web Map owner:hwasser_Skid>,\n",
       "  <Item title:\"Albany HOLC Map\" type:Feature Layer Collection owner:hwasser_Skid>,\n",
       "  <Item title:\"Alkadir_HW1_HOLC_Urban_heat_islands_and_public_housing\" type:Web Map owner:haa311_Harvard_CGA>,\n",
       "  <Item title:\"AP Webmap Proximity of Oil/Gas Wells and Major Roads to Redlined Districts in the Central Los Angeles Area\" type:Web Map owner:apedicin@pitzer.edu_claremont>,\n",
       "  <Item title:\"App Draft 1: Black Population by Block in the Twin Cities, 1980-2010\" type:Web Mapping Application owner:zhan6322_UMN>,\n",
       "  <Item title:\"Asheville Data Resource\" type:Web Mapping Application owner:cmcnamara_avl>,\n",
       "  <Item title:\"Asthma in Philadelphia, PA (AAH)\" type:Web Map owner:azimihas_utoronto>,\n",
       "  <Item title:\"Asthma Rates Related to HOLC-Graded Neighbourhoods - Portland, OR\" type:Web Map owner:mlynczy1_utoronto>,\n",
       "  <Item title:\"Atlanta 1929 Zoning with HOLC\" type:Map Package owner:goliverio3_gtmaps>,\n",
       "  <Item title:\"Atlanta 1929 Zoning with HOLC\" type:Web Map owner:goliverio3_gtmaps>,\n",
       "  <Item title:\"Atlanta, GA, USA contaminated sites and their relation to the former redlining grades\" type:Web Map owner:doanchr4_utoronto>,\n",
       "  <Item title:\"Atlanta, GA, USA HOLC grades redlining and race (black and white)\" type:Web Map owner:doanchr4_utoronto>,\n",
       "  <Item title:\"Atlanta, GA, USA HOLC redlining grades app comparing low income and health insurance coverage\" type:Web Mapping Application owner:doanchr4_utoronto>,\n",
       "  <Item title:\"Atlanta, GA, USA HOLC redlining grades urban heat islands and impervious surface\" type:Web Map owner:doanchr4_utoronto>,\n",
       "  <Item title:\"Atlanta, GA, USA HOLC redlining grades urban heat islands and impervious surface\" type:Web Mapping Application owner:doanchr4_utoronto>,\n",
       "  <Item title:\"Atlanta, GA, USA HOLC redlining grades urban heat islands and impervious surface-Copy\" type:Web Map owner:doanchr4_utoronto>,\n",
       "  <Item title:\"Atlanta, GA, USA HOLC redlining grades with transportation noise\" type:Web Map owner:doanchr4_utoronto>,\n",
       "  <Item title:\"Atlanta, GA, USA HOLC relining grades showing their relationship with internet and vehicle access\" type:Web Map owner:doanchr4_utoronto>,\n",
       "  <Item title:\"Atlanta, GA, USA redlining HOLC grades and parkland relationship to urban heat islands and shade from tree canopies.\" type:Web Mapping Application owner:doanchr4_utoronto>,\n",
       "  <Item title:\"Atlanta, GA, USA redlining HOLC grades and parkland relationship with urban heat islands and shade from tree canopies.\" type:Web Map owner:doanchr4_utoronto>,\n",
       "  <Item title:\"Atlanta, GA, USA redlining HOLC grades and parkland relationship with urban heat islands and shade from tree canopies.-Copy\" type:Web Map owner:doanchr4_utoronto>,\n",
       "  <Item title:\"Atlanta, GA, USA redlining HOLC grades with average income and housing prices\" type:Web Map owner:doanchr4_utoronto>,\n",
       "  <Item title:\"B1 - Durham 1937\" type:Image owner:pmmcdani_UNC>,\n",
       "  <Item title:\"B4 - Durham 1937\" type:Image owner:pmmcdani_UNC>,\n",
       "  <Item title:\"B5 - Durham 1937\" type:Image owner:pmmcdani_UNC>,\n",
       "  <Item title:\"B6 - Durham 1937\" type:Image owner:pmmcdani_UNC>,\n",
       "  <Item title:\"Baltimore HOLC Map\" type:Web Map owner:oellerka@uvm.edu_UVM>,\n",
       "  <Item title:\"Baltimore Redlined Neighborhoods\" type:Web Mapping Application owner:john.v.bullough_envgisumuc>,\n",
       "  <Item title:\"Baltimore Redlined Neighborhoods\" type:Web Map owner:john.v.bullough_envgisumuc>,\n",
       "  <Item title:\"Baltimore Redlined Neighborhoods\" type:Web Map owner:ehe002_Bucknell>,\n",
       "  <Item title:\"Baltimore's Home Owners' Loan Corporation (HOLC)'s Historical Redlining Grade\" type:Web Map owner:MDgeoED>,\n",
       "  <Item title:\"Baltimore_Redlining\" type:Vector Tile Layer owner:jrollins_UofMD>,\n",
       "  <Item title:\"Baltimore_Redlining\" type:Feature Layer Collection owner:jrollins_UofMD>,\n",
       "  <Item title:\"Basic Environmental Facts about Cities Tabulated by 1940 Era HOLC Rating\" type:Feature Layer Collection owner:mdangermond_content>,\n",
       "  <Item title:\"BES Neighborhood Demographic Change1930_2010\" type:Feature Layer Collection owner:Static78>,\n",
       "  <Item title:\"Birmingham Map 1/3- HOLC Grades compared to Median Income, Home Value, and Poverty Status\" type:Web Map owner:ejmccloy_LUGDC>,\n",
       "  <Item title:\"Birmingham Map 2/3 - HOLC Grades in comparison to active hazardous waste sites and asthma prescriptions\" type:Web Map owner:ejmccloy_LUGDC>,\n",
       "  <Item title:\"Birmingham, AL  Home Loan Denials 2021\" type:Web Experience owner:jhrocha_UMass_Amherst>,\n",
       "  <Item title:\"Birmingham, AL 2021 Home Loan Denials\" type:Web Map owner:jhrocha_UMass_Amherst>,\n",
       "  <Item title:\"BirminghamAL_HOLC\" type:Feature Layer Collection owner:jhrocha_UMass_Amherst>,\n",
       "  <Item title:\"Black Residents by Block in the Twin Cities, 1980-2010\" type:Web Mapping Application owner:jps_UMN>,\n",
       "  <Item title:\"Borderlands\" type:Web Map owner:grobin28_asu>,\n",
       "  <Item title:\"Boston area redlining by 2014-2018 demographics\" type:Web Map owner:eic810_Harvard_CGA>,\n",
       "  <Item title:\"Boston HOLC Map - Georectified\" type:Web Map owner:eic810_Harvard_CGA>,\n",
       "  <Item title:\"Boston Urban Heat Islands, Tree Cover, Redlining\" type:Dashboard owner:eic810_Harvard_CGA>,\n",
       "  <Item title:\"Boston_1938_HOLC\" type:Feature Layer Collection owner:BARI_NU>,\n",
       "  <Item title:\"Brooklyn 11221 Food Access Points\" type:Web Map owner:DMcLean21>,\n",
       "  <Item title:\"Brooklyn HOLC\" type:Map Image Layer owner:brose_TM>,\n",
       "  <Item title:\"Buildings_Norfolk_3D_Flood_MP\" type:Scene Layer owner:cmccabe_content>,\n",
       "  <Item title:\"Buildings_Norfolk_3D_Flood_MP\" type:Feature Layer Collection owner:cmccabe_content>,\n",
       "  <Item title:\"Buildings_Roanoke_3D_Flood_MP\" type:Scene Layer owner:cmccabe_content>,\n",
       "  <Item title:\"Buildings_Roanoke_3D_Flood_MP\" type:Feature Layer Collection owner:cmccabe_content>,\n",
       "  <Item title:\"Builidings_Lynchburg_3D_Flood_MP\" type:Scene Layer owner:cmccabe_content>]}"
      ]
     },
     "execution_count": 490,
     "metadata": {},
     "output_type": "execute_result"
    }
   ],
   "source": [
    "# The advanced_search method searches all of ArcGIS Online \n",
    "# It returns a dictionary with Item objects stored in the results key\n",
    "gis.content.advanced_search(query=\"snippet:holc\")"
   ]
  },
  {
   "cell_type": "markdown",
   "metadata": {},
   "source": [
    "## Get information about an item"
   ]
  },
  {
   "cell_type": "markdown",
   "metadata": {},
   "source": [
    "Once you have an `Item` object, you can access information about that item."
   ]
  },
  {
   "cell_type": "markdown",
   "metadata": {},
   "source": [
    "### Display item information"
   ]
  },
  {
   "cell_type": "markdown",
   "metadata": {},
   "source": [
    "The code below uses the Jupyter Notebook `display` function to show a card for an item, including a link to its item details page.\n"
   ]
  },
  {
   "cell_type": "code",
   "execution_count": 491,
   "metadata": {},
   "outputs": [
    {
     "data": {
      "text/html": [
       "<div class=\"item_container\" style=\"height: auto; overflow: hidden; border: 1px solid #cfcfcf; border-radius: 2px; background: #f6fafa; line-height: 1.21429em; padding: 10px;\">\n",
       "                    <div class=\"item_left\" style=\"width: 210px; float: left;\">\n",
       "                       <a href='https://ormsby.maps.arcgis.com/home/item.html?id=86f92739855e481c82d54c6dc167ef99' target='_blank'>\n",
       "                        <img src='data:image/png;base64,iVBORw0KGgoAAAANSUhEUgAAAMgAAACFCAYAAAAenrcsAACAAElEQVR4Xoy9h5dcyXXmiT9z95ydHc3sSKMZWVo1SVGiHEWRFE03TTuYNmwD0xamG94UqgpAee8yK713ZYBGN01s/O4X972sQku7eU6cl8+Huea7JuKd2G3Oh16/FBrttbC31wqHB71Y+uHx4SAsLs6F7e31MBo24rl2qNfLodOuhb1ROx5r2vGD/W4YjZoq8dhBvJ/t3qhlx/b3O1Y4xjP9uv29Try2a1uO80ye5dc/eTyyfQrnnz59nJ1/8ngY79M5e85+fGe83+o1og19qy/73Ms1+3Hftun52bH4jL2R6tvr1kOjUQ7DgbejYdvhoG7Xch31GA4a8VzdCufybcO2g3i+0ylZXbiWe/l/kPqh36vYdbzzyZM9q2u/Vw+V0loY8ZwR/dqz87Rzf593t6zQZ7zns8/2w2HqT+pFe3hXq7lr7x8yBnvcw9jw7l7WV7z7s88OwsGoHyZOTYVTf3MunHrufDgZt5SXvvZWeP6rL4YXYmH7ynPvhOf//I3ws//9enjtOx/q2m+es3L6W+/Z/ae/dUH/n7tg59ly7NavJkJ7pRIGrbrqMNYW6lV5uBumX5sP/V36SWNj4zdivNrWN6Nha2wcU9kX/VCq1WJ49Ggq1HubodRZjGUplfi/TVkK3WEp1PvVMNkchsVWNSy3y+Fa4/fhUasTVlq74VbjSfikEZ4pJ2CQbmSQ3cZsqLQWQ7W1FLdLodnbCnNzj0KhsJk6thPKpUKYn5/NOpsGHB72E8GpQTTOBs0GhwHmXogwNvIxjCACFsF1bAB5xjASGczJ4A0jAfBfg9uwToWQnCh5HtdbJ8O8cTvgvkgYbMW0DSs8R9ckQjJGUt2sLtQ/1mUQmeLWzRvh4cMHoddLzzAG0ZZ2fBmDDPqJOUZ6B9f2+zUjUjFw25jMmN0GlD7q2cDrWC8yZiWWcmhH4m63iqmuqX6xr+hv67PYz48RDnH79Olh/D/KCIbnqE/bodulPmMCak/9BNPqmpYxGKVXaIQ7L0+GGz+7F278fCJc+8ntcOWH18IH/3Y+vPQ3rxqTvPLc24lBXosM8oER/8m/EZOcfu49YyqYg2MwxRljmvPh9Xjt+oerYeL0VPj0J7dCfcHfLyHpAvbp4wO12WlmH2aXwGE8EYhsnR5o1yD2MYzDsUplJ47bVGj0t8QQx5kklWY8341jttkuhYXIJDvt1VBO1800a88whzFIKTFIqTkX+O+l2d2KXDkdSrswCITejgxSDLdv37ZBcGKAcZz4jJDiPpU3Qh+oESZBIfpDJHszI+BxIuV6CGgwQEM5E2nwkZRPnx5YB9I5xkhDiLSZJHHbCNWYJBGzSXNjNJiPa3W9tB/nnNk69r8f79/e3gpbWxtRS1YTg9RNw4hB0AINYxC739qXaw61RfVpNrazeu1ZO2ES2pEY5NCZVhqiFzVKq1mwfms3i5lWMA0YiSO/VhqEPpQGkTBSHVrWDv7XqjvGaP0oMWG8Tns3NJs7kUHKElZ7MMhB0sSxjvQL2n+vZ3Vo1LbD6uyt8Oq3To8xyJvhp//rtcgA70emuGAMAGOceg6tAWO8b9sz35IGee3bH4phEgOhZS788+VQny/aGEMb1Jf+VZ+KQYwOoKGBhI8LBwSKC1sb3xF9gUZCgxSMVnMN8uUMQql2VkN/VI2lZkrArolMtRL75zhzJAZZSAySMwelXF8LMzMPQ61WFGfHChaL26EUtYg0giQRxCt1KGKWKpQ2MemZ1CrEpgGV1DguJaV9etZ5du8Y43E9BKHj7fBZ1CYmlTNJnEtP9r0OdLRJXPsvSKb6ODzLr+V9S0uLYX19OQi+JYiTYJEEQTt88cWTjDEhQJdsEgLNKL1FkGKQHOJQbyPwfbWT8/SXM3Q3Svduu2LPFDO0dc7eKzjifQFT0B8OQ9Fo3h7q2OvWQr0Gw1VFiMZAdcEV6hrrgMDJGMT6WcKO9zQbO+HR1avhF197yRjkpW++EV74i9+IQYwhEoxKmsP30R75//eyc2ci85z59vvGROf/6Uoo3t2xNksjDsLnnz+xd3sRnbh2l3aU0BAi8X4VzbUi9N/NNUhiBDSDaQeDWIlB2joOU5Tby6HV3zFm4VghoqdP/2MGKT/DINvFxTA7+zC0sTmS6tve3gg7O9tZp+bErgprACEoDYhriV63GRmtFFZXY0UKG2bLNCPWX1iYC416KV7TDbdu3YyEFXF4pRDfoWsexUaDLyuVYrQNIm5cnrd3rK+vxw6ZDhsba/Y87ltZWYgEvhBaLdS4tMJwWLP6wXTSIBTghurOeWOABMdoHxoE6GdMkLXBJToQ69C2nEM6u3aB8BlEYEylvBaqsSCJO1GSQ6g2oPsifOrU70lLiVHaUXMUQrW0atBMDIGtUh0jCI45EecahHthLrVL7WDbihACqNeNWoPxMyHAuJkW6sgGiYIpk84uPOL70D5XT36Y2SG//PrJ8Mu/ejv85E9PR1glaHWcQUyrHCswBcyh84JgaJOz/3AxdIuVpEEEF0Uz0sxud7h2NMhlWj9p8oQAHA20mmVjkPoYxHJG4P9uPPZw4Xa4M3E1PJi5GwrVpbCxOxsWVibD1k68proeNuP+RKUXPlmtho9v3A53t+vhTnkUTnR6Jeu0Tr8YOr1Y+hEHx+1uaSNqkAdxwIShGaCdnS0jSsfPLv3F2b4/sMY519PxvV4zPHgwHWYePYx2zWyYnJoIN27cCFPTE6EfCXFxKVbu/p14zVSYX5gN09OTYW1tNUzevx9V56Nw9eqn4dq1q7Fcs/fMznLsanzWTJicnIyMthDu3r0bGWfNiPvx4dA6D2KSlJRqBp5wLsPlMDQ2UxoM2re4MB87X/uCZOOlpcEcCQMDjSTJpNlkgDbNpoDga9WNyCjrUZpvGpM4sQv2yWnhNlOlvBoquysGK1xjGERM0lSOiLy/zQaJbXFbwzSLwSzVu9+PzBoNUbNpDAEkIQaz7HP/QWY/Iii4lzbRvwiUKz+7GH75tZNWfsU2Msi//8/TAUgFsTtDOOTK93MGgXkw6l+Pxe7h2njsN9/9KHTWEV5okFH4wjSIa3g5ZQSthBJAAT5+dsyvxT7DhjP6ihpksJ0YJIdWMAfbq7c/ChNT18O1G5fCrTufhPc+eDecee2VcO78W+HKlQ/t2MfXb4QL06vh4q274fKdiXD+4qX/GGJtFeYTgzA4GMWNsLtbiAyyalxtxq9rECM2HwBJUsEIOpwBaEXoEfF1q2aQrR61x/zSo1CoL4ad2kIot9ZCJWLDUpOyEurd7YBXCmmK8YzR+fhwL+JoSWyOtVoMPppoN55vmKHGsW6nkogFQks2SJLKJj1TfakrBGEeJIzqSJjlciEy5ooxuYze3PilPeyDl4WhBa3QHA5BsS9yL42YSh4uGfWCa9ICvFt9GPsmGo3FnYWocbaMuF3bwYBiqhyOOuRzAncNJ0iG1pTth2CrV7dNy/l56ur1RYPkDCKjnnapf5ph9vxsePWbZ8Or3zhrUl8Mcir+l83hHi8R/QUjeuCTaxMrybNljBJtErNT4j0f/+h6GLUSAjnABpFW9n57bEI2d3q40S6o6H1ak3CI59vRZjQNgg3iDNKGORaswCAr2w/CbnMpaop5K5OPboRHi3fD4tpkFMoPwlZpPkxt7YRPC8Nwp/o4XF2rh6uLO+FEu7djg4sG6Q4iDh7shnJzMWOQfl9MQCeurCyFrc01q5S8VTmDuOEu96okmnU4jGIDLqaxwY8SbDdivkJjNhRb8xm3u3qsdldDb1Sx0h1GKR0J7/PPkZgiXLC3CEe2j7sA9W73pImgOMf7jUhMygtnexEDNY3pZmYemWaTLSOj1yS3qXYRN4RpHhSXxkk6G/FlDJJrHQ10S0bwvojdHANJyHCuVFwOu4WlpJFEqP2eDFl7rxOPvUcQlnocHGKzVWIph2E0Ontx240IgLFsdrYjfN01l7LXRXUE+7czN7HDF2nM5FiI/ViZLoQ3//aD8Mo33jVG+eVfvRV+/CenIoGLQdzVKwa4ED7+wfXQ36iH1cur4YMfXM2Y5My38XrBUNGAj0zC/uy5uXDAWNGexCB6t5CHwgESOjC27EhpDXn1ZKhTf/73ooB0iFVswRDSIPw3DQKzROaYikyxXYkCubsSFtenY5mK+3NhpxD316bCw0Yn3Gz+Lpbfh1txSzENQsfi2u0Ny9ZR1dbKMQaRxJufnzGcr8E9ZnAbwdLRkgJyLYoIZMgm6Y0GiIO5U58xBjHDqbtk5YjXgUbR2LhtDnYig+BelTSmA5H6bnzmUjZ3Hfq+NJkYBOJQ3UTEEKA0SMTrvUaYmJgIm5vr9jzHuq6NBCElufXsBFsMsog5KP7e8frYdiR3tdXDnikXNJqrsDVv2sMlJHAM+8MYJDGVCCa5QIfEMfZDe7AZtuq3xsrt7P92YyJCu5IxnbQM7xdBikEONIaJgd0W87bvReTQ226EtYsrRuC/+uu3I4OcjITuMEqxjhe/8o5tb7xwN4z66pfmXCm8+V1glTSI2x6UD75/NQx2knfOxqRnDELbfdxc07pt6PtZv4+AkIrH8b/bqY0xyHymNYx+Ej3duHsxTE7fDJ9e+zhcuvJe+PTqR+Hq9YuGWG7euhLKjdVw9uOL4eyHH4Y7c0vhrfPnI+S6rjhIJ0EsNMgg4tFKazlsZhALldc3AlqNGgTPFhUzbB8b5J4UsKThxjH8OH6ewTCJBeTaaxiD7DRmnmEQayCcb9wvBsHg2n/cM2+HebwgMAjcbATH5dIegkPyrEH8uj55rohD+PZAWNbrBANQVzMck+SCWAUR88Ezj8tBwsfWXtqVtv7MsS3vNQ1nW2Fp+k59Ngz9CD2xPXrGECJQpL68eUfjILIFOwZX9/cGodJYDqu718NG7eYxRomlcSeUoh2JV82Z1d3EOYO4d0h2i7/DBQh17OxUwjt//1H4dWSEH/2xGMQN8O//0Yvhn//vX4d3vncpNBcEba2t/W5Y/WgtvB+ZAY0Bk9x/9UG4/evJ0F6G6WEM9TeM/rvffi7b0ASd7Fi2glDYari6hVLMtjWHhNAB13USg2CDGKxKTDLOIGs7j6KdcSXcuRft2ZuXoj1yI8wtThq0fzRzPyyuTIePbt0Ll+/eDx9cvxk+vHo9TG6VFQdBg9Taq9FgFnRAgziDoEHApOowRYRd+hnXszV8LanoGBquRzJ7bEMelLbdgw+60JwzJjGXW2IQmIPjziQZjkz/W4NCZBT5zZ882Tfpa54hk7JuWOfEnEnuJP1Vv7x43AAvENuFaKDPz89lRGlqHKI0QhUjCQ4kTxMaxuISLoE1oGKu5H0xD5q8Xu51oX6CT60Ig6Kd0CmPwdC+GfmmTUYpXoMkjefR4ouLs9GOq4ZGox63lVAobofphUtfwiC3w240/NttMVvGJPvYVYlBkhdMMFFw1YuNd2xbv10L11+4YwwCxDr5zdwA//4fvRT+5b/+Olz/2b0w6roHzYN4jdBaLId3/+FSeOM774fOcoR6A2l0ec1gQvoVwffY2o3gMMdOen+GEKxvQSmCzdYnSZBxnRhkWka6o4+EQNxINzrrLAei6uYC7i5b4fhgVA+lCPnv11rhajOEa80/ZMUgFhId22MvQpB2vxBtkIUMYvV6ME2CKMnAYzA1yIpy+qBrEKQCnTGckWikEwwMAhMUCU6myrO/EyFXoTmbaY4jUMuhV7JRRofYJY/tPUgSSXBJcSST/qvYedMyY0yT2mLBuVbRBgUX7+LigjGHMZsRlIjd7YcjBqVJZMV5rP1pAP1aQQP3StGHSTIfOIN0zNPV71aN2ZGKGYOYsBLRZfWO/by+vhLfsxc++uij8Prrr8f6Lobp+cvPMkgslcZGJB7gWm6HWNDXNUgKNOYaWY4HwWW3zxqhsVoMD8/NhPtvTmZuWyAWsZGf/9kbkUHuhj3gFc9OEM00dRRMc28thGucbzNOYoLDQwqat28ZEl988Zm9k34nxsUx7vd4ld0DEjCBldDCHjEs/W81K1G4zUZtsJLbHG3ZIBkdJfieu39zSF/rRU0blcRajVjI75+Ng+DaNW9WtEEw0Me9WGgQHyRXgSICaQxXcxmDoEESbhSDqJMhGtMqPYzvqtRgC4NpKdoic2Gr9tCO5Y05ao+MM4gauhyePN0zmGID7VoBZgQWYa8kqewS3+qMVLZrpAFgEGIXHCsUtizVxFzViQnGtQH3YoOoP0RoRMelQWh/0irGIClmMcYgss9cmLQsoFirbFj/uKeN/sIGsfakfh9nEhgEt/bHH38cXnnllTA1NRWm5p7VIJv1m6FcXw7NRik5FcYw/J7cvO4mdu+Xv0NeN0Es+gVPGDlqsw8fhvWb62H9+mq49O+3wj/9l19a+sn7//JJGJTVTtNG6R0I1GErPq+mtkloiLhtTPZIM0o2CGNhY5ZytpKWMcicYDv1FdxS/Rz+kvlA3uDoML7/sGOCfnjQMsE/SGV4EO2Wvbo5fjo4osbpK/5vRTsXJpmu1Y8yCAyB7ZFvl44wCHg3U2logDTgVJzOkydGWJ99/ktjOAMJW7o0R1LgUTDvVSJ8bBE0x3iFxxnEja6jZcm0yGcRaplGO5AdwKCamxYokSSQSaM9JUBK+ghGGPQZkNIgg38hwqs7d27bgDhTMZiKVYjpLBfLznlUWl6g7Hn23/tA9/AcgwtpKxzdtPQSmMShmbxqA3mwYHYjXJgnD3QuRUIYDAah1WqFYrEYms1mmFmMzNAil27OtqXmTBzHmVAZYxDLGbNx1HPA/hCdt92PO5zTMWF9DP1up6HAcStqu1YtXPrxjfCTP30tPP9nr5vxvfTRfGJyET/tgQGkiZ1BBKmIXzAG/Pc4iISvYB50ksc8IiJ4IkSAMH4aNR/lyeM904LQF25+GEQM75q/k8ZZAVDuhTGA6UTPoRVF3nNtsh8Zaysa6+Na5IS5TWMFZDQN7aL9eKxU3rQOIQ7iblQZl2qYiBFjfWSVcQOUyrAlhQBC4d7t+kRYrV4O2437odJeScZ58jTELarwiO1xhElcDa6bCh1nkMMnA5MK+L/7A3A7GkEEmElDI2Z1mphZMCDzQFknSlIBsVZXF9MAyTDujXZDPWLVepcEztWUFiFDn3sV1ErBLRtQD3Tl7mc32nWfBt0SFDty6zpzi7gkfDwpUc9NQbF4PwS/tbVsMZvd3a2wHf/3ugz4QONHe9J9o2HH4IcLBG8TzwGe5hnTyow9zIhS7TNYY4KmY65U6KHVis/rdcInP7kdbZLT4cWvvmteqvunHhikginUX8uh0Ytw0AxywV4TXoeyQcSATaWaRKEjISJNKmaR5jcBY9fnQkKaSJqb/U60s2AQ1+AKePo7kg0X74E5nH6A6fuxjWydnggnlKP9PVVvjmmQFpojQivfRumOL32rsGDZvIMUB+HF5vUYSkI6vs6xfXJxIjlGR12Zy+WLUWs8CPc2XgkzxXPhUfGdMFf8IBTb2CBiABgDm8RKglpmaCUtQ94Mhf1qdy2MosoEu061Hoerjd+Fa43fWpamEZy9W1LRNJ4xguokrSBNCAQcDMD/KjvbW1EqkyeU2jLSYK9Xrhtk2WlOyAYxGJEwvUkqtzuS/WX/BQEEsXIpStC01dix6LpBGSMAaRAGVBqtav0q54egnQ1+gm0QgGmAA9l3/i4YT5nECvjx/Hq9YhrJ6mF9oHq6DZLXTfDH7EzaloSHtxNDGERBYiBG/taNzfDTPz1jKfDvfu/j0Fot2f29KKXHoV53WAg4UrAX3ItmcR7LLFCGd5a+Y+3PHQoZQyRiz4VMsjsP0Ax4WJvGIAgJtzfNDk37XjrD3YzeKM3+tsF9IZmISCIsI5lxrb5yLBeLOEg7SqJhxTxYRNZhEOIeuHmd4Mzg/o8YJCOq3Ej38yvlT0KxMR2Wdi/FCizEd0UDvfEwTKydDAuli6HQmpG3KvM8eFFDwIsYUnt0dNR2JAyCodE643jxWuPzUIodL+2VpKZ3KtIr1dWlvdQ9mkCFtBaChS5l6fxafPd69boNdiEyCISVMUimgXLD3NpufdMIlz48E5YX74fbN94Llz9+3ZIIPzj/crjy8RspFwuCrhq0MiYxSSdIxbt5hj3LYI8I2aGe52IpzwwGyXO8dJ8MbzEITJSYwMbJGUTZEGKQNK5uQ1g7cm9gt1M3BimXCSzH/ur2wtbURlj4NMK6WZgdZv5yBoExnUHQUtCQMcg+mlLJii646As5SegPFUFz1VvXHbX53AZxGImDw5gKIWgQUqU9gEFymI4duxf70w13Mcia0dXNxmdJg0QixM2F92q0p5ysYews3Ly81OIDYMDYQDwMUnkyUJF+TnTW8eOdmzFIL0rgG9FgqpsUflh8M0ztnA4r1Ssmme9tvBTurL4cNcv5sFGbSPbGuA2i/7Xuevjtb5/acyjN7mbUNEtHGISy1pHjQIQzbjg6xEoMP5KE8vkcQJfV1RWb7yLjUFCnFqGVBvt2ZN7pFCjUM0VQksjHNQgQ6r13XwwTdz82Bnk4dTXCk2K4cfVsuHf7Q0nGeL0IWoJFAykNYvbBQPlbGmSi/exjE9XMze2p8rwLQuJaCI/nOHHXqkWbROWEfpRBxpwbqa8cenY6ZE4sZ88h3QcGIenU2hv7kukBy8sLyesmzyDeUMZ5IwqVzdrNKLV37Dh0AiNKI8oVbAb5gYx0q5/FOrwvNC5iPLVLc36EDEw7W31J1qwnWhW8NDMgQV+KhFg7tE2DHLVlMd67o5L9B5XUOutGg1uttcgkT8OJSmQQIFWppZwsjHW8Wps7MMi8qWxe4J0uLK/AlyUGmptXxCZIISZxBmGgS1FDLJU/ioxxKkwVzhiDTG2/FhoR/9W7K2Gm8E6Y2Hw53Fl7OUrrO1lw0JkDf/XeYcdw82AYCWqvETZKd6N6rIWJ1tGZYFsRKgp/iwBNsh5gUCs9Rswrl6FJoFSAEBBEobCdUhsEWdBa/SGpHGBZBQrtuYkhZO/4VrYMxNxplSLTRWET+6Yd/5dLa2FnK3b85qzlj/mguWaTTZfHITydxuti9oDv76svPDYjQog4PzlEBPuk0VvNamjWE4PsCRI2GpVY32GspxwNjJPHa5xJtjY3LGsajQEx46xhzkXOIH1LEASSkjNnWiwxyHbzdlgtXTUmaQ+27Z1mgzg0MuLtmDu3F+2ZZhMnwpiWtDbkmt+9bXlbPfgqZhhGWwvvHgmauZBKcDrtQw9okDwuktsi9H0l0uFoH0iN4JUDabO9GU4U67O5m9ci6nL7bu4sGINo0orgg7xAeimNQXLgRcKjYFHOxK2cN/erGXw9g1TzpQuRMRJzxO1kZJbJ7ZNheuc1O3Z/69Vwf/OVcGv5V2GxdGWsEUthtzNnLt32YCtquq0IBUthcedK2K7dC49qhYw58D7sNO4adHCCGicYMQgd7RrEPTsq1JdzBiWRXKYVFVG3tu1rHoWkrDSm2yvjEGv20b0wOXHV7kFgMFOQfiT1XIIkBUx7R+d/KGlSmk/wSXXgmHkHTeJKoqMBsGdc4rKl3qY5gUxJm8OszSZaRZKYY42oLQmKMlvU+8GhWTa+sVy8eDGsrS1blJ9+IVoNg1gSZWzb1NT9sLQ0b2NsnqNY116U0jutO2Fl99OwVr5qY2YxC2CvBXWB53K3Q0/Ly0vh3r27YXlpNjGoiqCSDHkywW/fvploS8Tu40Fdq9Xd8M4771iw0DTwQEa6axwv2CAedB4PHeDk2YvP+jzlt+Hl6kQaA26duHzr3TA1ez0UKtFoaRfC3Ord0OpgpC+Z+nSvkHO0d6J7G0RseURZAS81kArC6SuVS7FCj8YY5HSY3DppDJLtR4ZZrVwJrWhrLO9eCYvRbqERhdaj2OF3w9PPD6MmehgqndlQasyGpcLlsBah2/V6rkEw1hfrC2bn4D504rEcKSPmMTvh4CjOhQAhGgbDIBpReiN+MQDtF4MABxJjjD3zOMSSgS2BUdpdsT4h3mLPyhgE2KAZlIo9JGPcbIquRcHr1R2LQTC/g4lB9QiZyIo+PNyLddRkIc7hXSI5EajIHB7csdgePIv7OW52DpI0YnZmhs7MiKAYP4+9jMPkYoFZpfJcwQRokGo1xVXic9G20Ij1Mdov2SAwCPCKMWpGaIyGsaBeguZuVzFGTJ8A2qpuuV3HmFjqftySH7e8vGgM7jaTeQMt941n9mxKBNeZ5nCNi4ZJ3jmOMy/9y4KH/h8vab27YcY71+LRPTE9dyOcPPvTcO/RJ+Gnp74X3vvk9fDR9bfCxRvvRsixmIxJBYyQUExNRVrQYYJdbui51yaXQjQWdTpTfDvU48sfFN5IDHHKyjiDbNZuhGJzKjwsvGnbheJHYalyOeJZEu9uR4gVO/CgEf/fsY7HcJ6oHw3quBaZqW+FzmDHIAh1yFLSjbBF0BApdXaGwabY3t6Mqno12TCuOWEgESz3uAbJGCTFQ8Y1CAMD4QMN0LK7xSU7ZjMNYZwjDILN0TCM346ECCED94ALuG9HwxRXGDlu13+MdJ/D4faU2xJWgHntsj232ayE4s56aERtKzjVsvkzuIk9KXIcYtm7Yr2YrMb8HYLF1B+vZrVSkmSP7SZICYMY7DkA7gCxipYbxritV65FBtkwzYhGVAaGtDnvwy0NrOU5TJxTbl2uEakDtMVEtju3b9l9fk7IQLbiMPbR2bPvKnewTyY0/aasaGkhOT7QCqSaWLrJsVJqPXucYyduTn8Y1raidJ+/Gu5MXwxLG5E4VyfDw7m7lt7OPAxUIYMN7sVQJ1ADtLJjUaJmwZsnBG/2s3Pubmt01yLWWwjN3rp13DiTWNk+Fa9ZjzDrpNkoj4pvmRZ4VHgrXn/DjORiczI8+WxkGawb1RthsfYwMsMfnmEQyu3GMEKt+wb9HGYd7icM7zh97L/sB025JRaCtIOAzdg7UIDKUiBiW377xWcGF3BccJ1hYZNYuVEoKCfGYUZhOWoQjsMgCJhWs2TxCbC3GAIjmwEXJOV5BmfH6sgcCR3XZDD6nXN5cE33WZpI2h8ntmbd31m10u/3TEMQJc9XWRGBZi7yyGRMUtvd3bHnAKcqFVZNkUE/NTUZ6jXNWPRU/yNGetwCiamP21TW36mfeBYMQhHxJziLdk9BSvYRWsAwmJJ9OWAkgMXMbYOD0Gs23mlc8pIWGNmTnWjH0Hppn3cLlvt5zQE6gdXejy98uHQjqseKxUM6vd2wsb1gag2cK3iRN1LRaL1EAaBxo2rsxfsKWD0s/sYYAXtjpzEROXk7zBbfzZgDjdHqb0aunQ2zu2eNgZoRaj0s/Mbumd19J6xVPzWPEgzItXPVoy7e4+VG40lojJRo6BqDQaUTHKe60e4QC2lJxjL2k+Fm8/K4hpGGQBA4NjYNtKdB47wkub8rDlyUZORakU7CRC4IFPy/WO+HqeZnYa5D0NFtN9dKkq6KObndkBO6vWcoNy/3mddqKII1wkabJ0ktIhex08ZqedtiImRmX79+zfLO2lHLKA6UY3WhALUbG4HrgHGrqwQoi1YnCJAZncz8VCBTDALEWouaA/sDbd/uywUspw31cm0eoV+dHKo5E0z0HZnHXle/hvYUduJ4zz20usv2kAGeMXXsk3Pnzll9vN4+BuoXaRCrQ+ofv44+k9bR5DS1X1qYe6MNcjZQzlx4Ibx78VWLg2Ckb2zNm/pExTuuM2mWJCSEb5F1Mxpz3KpzypmhIHkfFWAQQamV6mXrXLTJdLRJCs37EV7dMbgFFGv01sJ67VpYKL9vQTqYa3L7dHiw/aZ5RB4/GUajfzYs1P9zBqGsdAgauUdL6tgIb6QOcylrHpI46Eggac1hBgccl7tRCMRyBnFJZNDtCCHjvq1YMBDtUSlt2iIKqP7moBNut36b1bE69D4Emo0zSPK4Jeax59pWHjkYBGaVB4yxQKMREKPf2UeCImFzFy7xAmZlwiBMT95YX9Hc9Z4Yg/r5OPoWO4Op0j2mO6wuRbi4Y9fiCEGqM8PUJ2EZkUcG2YhwGSYBGiPMjDGyNtIO1+Aw2axBLPNsJaeOa2Xr29gf2CkwKvEXeSg1ZkaXMMpQDAIjGUOMNM7+P7t+zO7MaNb6SIVnuw3E2HL9CSazX7v3frgSmeTiTWyFDWOQ9cQgjguVcKgcIr04cappi5zj7drEgZIYXWOQT5ZeDbdW3wmzhU/CbnM1zOx8GqY2L4WV8kS4unQyaou34vZM+HTxjbBanooq+kE8fyV8Evcf7ZwP5c6cQbxSNNq3arejJpoKd6IkPs4U4+VRe88arbR4aUHXDrRBAyGvCvXf3NywlVs8ICrby6PM6jRjEFR8IiINohuWar/h98p6lNgbhq2JQ5S6nXC9+YcwG7VGqT8IVyM8vN38XeiPBIfMzvkPGGR8ML2f8WIxqNg48lxJUur9kpYeFReTi4BZ/AKIRUB0aXHWpDaLHgD7bD782DhSmCDHNGTagfDYgQj3BEcwrknwtIloJiwixOoXDVoV6pPmwidmZbAptUPGtfqX/qe/gVhmj1m8J8Vjsjq0EhPdD0A+adBcaNnY7PXCrVu3bD0BC4hm59RvrhF8rMbbp6JESaEBh5rS6CcIrTMfpNxatjkhEAJBuPWtOWMQMLPymRJBmQbJsbY4Pz+mgcm3ECSG94VHz4el8qfh1sr5cGP5vXB9+e1wef434dSdfw1np58PN1dPhw9nfx0mNs6HD2ZeDqfv/iDuvxyev/qdMIoDffi4H3ZbD01CYfh1+tuh0JgJN+t7zzCGl4nW5+YpkSEsJqHOpsaHaUGENHgcZyBwazpsFP7P/e4MrOIgIhDLXTpES3n+Fdf2bNmc8u6qrU9lBEwfxk7f6O2Fxe5huBaZA/upMURiEg9Ik84O80llgrPqP0X9UwJfeg9pNm6vUFQfn6hG3fHiSBDIiSJiAeLVI7GjQdbWFi3tBaIgLZ6VJY8Tj9bzUloHThscGZKu3bATjWf6K8toNmkctUiE6AZrTHNo+jN19PiTwy36rFbbDfPz85nmk/aTzWsSPcLkjY31MDl53+73uJBrILa4ed9//33TcMfP5TaF2iGvpISFCzXTMGb7iB6y/djPJ0gxIYuX+Eert21cVGkuhvVNMQgQy19kxEXHIYGtQ2Rn5Jyac70XOhZb4sHOO+HSwq/C5Oa7Ya7waZgpvBfV8N2wuHsjao5XomH+drzmbIRZZ6OmORPubbwVprejPbJ1LvT2mmanEM3GS8J2u37H6j1VWXuGMbzcbX4eO1vZvkyKor50vrB28sBZx/QsxwhjECkpI1EBq7wtSBeliXO/SaPUyWgZX2KHhd+qlS1zuXoavTSW+mUQy70IsVYio3iQkcH0jGD68yjzjiVYpi3tQJuyhfksOW9Mk9v9MEr2XkFMY5BYL1JeVlZWbDkl6ut2B+5hcP64ZCXDeXp6Kh5vJwbZsGervk741Nslc8oOGAlJuOZ2xnXowrOB6PT5gwcPDPZZbpzFfIBNqhOpTrjesX/w9nG/pLy0BHV/9OhBuHnzRpiOWsa1rFzJ3nbleWmsJAQsVpSN7dHzbsvRvhPAqVEkQJb8aXa3U8AwQqxNINaiNIgRlAwtwSdlXTrh+H6eCpBU1L6yeWEQYiDT0QbxYjGRrTNRDa/G/deTEc81xEpkvHPdfOk9iz3s1O+ZNwuvCMxhaQyxznOVB88whhdgTGNPSX0eCGOgqCcELWkk24TVVlDTdLa10yClG7pIQ6CLsL97cRxCUhhYPEL1KinsShB0uCDpPS6Zte+pHqoTRC5pp6BlnouVD2Qqsb4wCM+1YCO2g93n4yCINQ4njCj3FIyE0SuVshE8E+I8LYdxrNfEMH7f1uZqtDtIUBxZtHpray2T4qR33L8/EXyZJCO8IXlbTPMVbaAJBB/F/NTJ7IM9aRDFQbBjcm3omtsRyuGh7CskPJ5S1zRaQLBvnkfm8aytsujfcQ2SF5+Kne+PBZP3lEGt80njxPMnqmiQfjlqjSVLM9mtzRnh7RRWUxDoeHg/h08MsKl+O68OkNTSIJqWieceFF7PIueKfZyyOdP7j6Mk/OJx6O4VU6RdhvwU16TrFssfWg7WbnPa/OswCMwhBimE5erEM7PAxsuNxu9C2QxhOndknWASd88lsmIJ0ooJJ++7x4U8KIxXxQgoimAjYcQg3uZutxo1B0t+5hOUTFBAuBCIESvHJESMQUwjRwbZ17wMeXhE6H6Ounw5g6CBOKf+zschSWxLKz/KIDzX2hHHFHurVNq2+7UCo+pkEf+uaxGWU2Kpp/X4vx/vWbXFzOlH3oH0r1aJqgvaATW9PnJHJymf+lIMIsEAg0D8CGG8WOof2UuCYPpPvdAM9+/fNSElKc94SOOaQI7vnJ6eMFrz9nLOmZZ6cD30q4X5UmzJEQ9aNzGG2yumUWJ9T9Q7WtUdO4RV3iloENx5il66P11ZsCIkQSxjlCSZNBiSllKjYiAIstyZCeVuLJ1HodZbiIwRB/BxhDUdcq6ioTgqhqefH4TBQSX09ouhs7cdWsP10BhEHN9fNCaCMUiZhymK0UBvRxuE59c6y9FYHzzDGMcL6fD3mk/CMEojpJC0YkoO5P9QGtGNOS30BuFjBPsi1WgQjGMkogi3tLtthEPEuVTasfW5NjdWLDjX7TTD+tpqJLC436iEjXUmMJVT2kTXItxAlnarbvBmfW0pbpkbPxO1UMOewTWsHgk0JJFyI8FAIAfneTcpFma77CumQ5GkVboP/aRprIovmPbfG5qxrnQWZnoK3qBN8Gzpunp8/lokTvD/wLTH1pYYhGfiovVVYEzYYCseaDKUw0fhfhnnlm8Wt5roNLBtvV41BrHUJLPBVFenHd6F3TM3N2cJmloyVdNyuV/P2g8ffvihQTHiQxQmYfl/tC33oe1In5qbnbHFR8gjw7BnwcBCYSf2h2aVEnDEnmF9ghOkjmPwqTyNxKh9UgrQIE+fsp9fo0ppZXBm1yHJfJ+CEUtDzNB6zKoVexYBV6nblhRyfOREz9dsrsWtsFObiMcXQ6Mfiam/ZgHB7qgQ+nul8NnT/QwOWcfE57t0oKPpzEKvbrGP44xxvJSGWtdXgwpjSwMIJ+dGpEtlaUQJBbQQ2kxtVT8wePfu3QuXLl2MxMIks1nz7szGQUBKM/gE2yYm7pm3BmKDmegjnALgb46zZQAZFKAeBIGd8PDhQ8uaZQxwh2IPEJe4efNm2N0tRubbiOO0nNWL/oGogKVsnzwZ2lhAJL/73ReB3/7+vt3PMkdALHKrzI7qaRFvpCkaESFAMmGptGvPB8pATH/4w+/tOSxDi3YRAYoOLJic6CDfHhitqE57RjPUjYlS1SoCYMdoxeqa6k4wVgzVN9cyq2mKeUh6dKZXAiRC/JNPrpiwQlPJwZJrVNeqBDYprNL5+uuvGbwbDbu2Sifu7Lt371j/wvg4DogVnZARJbya+f1NtUqDSBJIDWXuyASjlHgmY9X97WZkJsPIgjDDmq2wASQiAs52varouGV9lq/F87fCWtySPoLvHDfhlpVb5lMf7DOBSBDBOg0IhLQfy1+iDdVeKdz6T7xaeI6aA6lbV9/jLmlBmFwlS+XqOk9fYNA5DzHVGjthded+mN2cCVOlKFELi2GntGg5VASt0BbkMbEgdjVCFVLIST/f2lyxZ6MtcK+iPbBbilFTcE8t2jGsZ7yzs27ngG4QLe5YjGxgb7nMiu2VSGBRa5Vxroyl+ey5JFfMxA1S99igDWBIMdbnJhhdALL/u9/91pjp4GDfGJAVNT///LNs7WJb1TGOBzMMiYN4n3n/ed/JYYB9lmgmHdNYKscP1y3P9jGxe/fJZRNMBVbBlGgvQyecS+MmKNy0HLoLFy6EO3duSdghzMzDl+wJg3Yk0AINoXX25VUjr42UGpkOCETOQ99Awp4YhEkj9oBk2CBxBLEWIpceiAOZF4IUt//ye1MJVVIeLIp7unyfRqEhjAkq14xBiGNs1++GneYdYxrmhfj8AZ9oA2PI1hCDOIZ21W1q2yCDOrU/rIZyaz40IgS71Rg9wxxArOXGQkpbz71B6sxkqBlz5wPthedjeJod9ng/1CLBbhQnw1Lhk7BUuReuJ811t9GL719ObXcvnwp94vaEQxLgB9fS73a9STvBIB0Dr6et9Sv1kjcNyTxeX5vnnfA/UAwtRaq6j0EGr4YY8REalkq2Ur8H7RhPCQQlnLIYG4TIN2HQkjwfZgBSgQoIRM7MzNgxaXPRgHL0NE7kcBFpL+3u2PFs/bBDaWboDC2LVN9YJxCoOqjtSciOmOr7yCS7aw6/LveqSgtgH3lGgnn/0n9n1kzYp/H14+zLThI9ySaR3XRC3KQLXfozkEgvM9L3PFiWR6H9oaqAe1mSgbWvCT4uecG0pi2iZoAZgFGt3pZF0nHZklKyXb9n5yjOIKZxauzfDsODNIU0SY2McKkrcGmfTE3cv7cs+r7bibCn0QmTjWp4WN8JM/WNsNp4YM/qD4gka7V1LwrQHWWK8XfQjkad722QgboXSrWFsFy8Eu4dWwGDstvz73v4QEmCZQa3950RrZwB5sWyPmOw80Ah73VpK6PTtQFS93FWZ3N78j+VcrSFgG0Y2E5oPkaMBx8IIkC3vrZsfYoLHA+cpVyktBMLHEbpzkLi4HU8SUhxbBLZID2DhNhXRlBJa9AGWw8YmorvAyICCWUfycHjMxkhSLA+Wgrt6O5Vj5N4ews72AWPggu23A2bkj6jhnrttddife7lY2r9RX+qiDZTqon1GYJVNifFbLGknXROSaXGIFI7+u4Ghh2cjXSBQQ4PFLBhwDxxzos8F+OusvFgTNIqsTIwh0MqcnPWdq8l4r8VCo37lunLpCRW5IBZKu250B+VQzsyEpOqMOgVQJMdIC0no865fjCsGDSDsZh/MrDlXZjHrjkkFPaZqG+Ma54m7yhn+qPMgd8diANMIjMWwkF6snrIfOXhM8xxvfHUFpeQthCBuPfGGUQSTZLfDVj6FyhheDnZP0pEzFcPVD9DIPIU2Uog9lwRv8dLeC5ZwQQCqbsn/UkDE5topnT3W5L+SfsDdZxR6B+YiMAhhi/SG1iFgQ5uV0CzHzUUn3ogviRUIZqQJnNaQftgDBvkSRrSJTl2JQvglcssnKe6Z21OzM58c7QQthz9o+drrDzWA00wXRoNIsZUoqE0ePKs7qkPTfskdzr19tXwcYZgc6B9c63czW0QqSThRC4oFjEwmQ+iVSLM4zNMKdp9rR1rXg+TOJrXkKcX54QHpDGt0IBBlLy2VryWaQovxDYw3luRwNACOw3FPSj9vbJU6zBPNWDLQDox897txl27DwcAnq4KS+FEZvNCMiSZxXS0AlLp3vQc6k3ACluBeAarxxM3oK1qb2zTYdOgItCK+Se4mO80BpE5Pg8PotR1iKVAFQQtW80w97gG2UsaxAa6b94yH1Adk+ZwTSJbT3YEW2kQCSJrRyIo3rW1Ja/azg64PbdBfPwIFK6vrdk3WLwPqDPLEGGwKw0fKNa2uJCM5a4Ru9kcEFs8hnbBoBXkcVe2vmvi9cIRQF2MUJM2NQ1h2rEfdrb51suD1DZJ96yf0EzxGO/0CL6Pv9MAW6bcfvLJJ9H4/lS0Z9olFx727Ax9aEzsXTbeGlsEBU4Q5vA7AjIN4gwiIyVxd2zE7u6mucSYO6AXSBuo4uJSx4LqZBn3Ou9qri0GMea4bZoEBlkpXn2GQY6WfBFmCm5gfd9Qz9QkI820My1g0lkd4lI4U8ccM6ksQswlFEEzUixqSUvwZSg6R1JWgTtJa5tSOmJ+QWT4/XrmcFitTYa1+rQ5ITZqERZG5qyz1I0RvyRXpkFMxcvWM2JNgUiDjQesUI4nif4VTEGza256NzGPq39BKtyX0iqS3p5uz/7u7nY0+JkqK4Gi80htee5YwufKlSuafz8m+SEU0mTIAKBvum1BW5YYop8w0AkW+vV4nXBamEs2eROVGqNpDmgavFyDfgr6UdA+Wer+nnntIEwRr4Sz2V2JsCmgGcsBQzMceoZ1rhE83R1GMSFBv9PeRJ/SIEfT3dlnmSJpVei2bd4taVXROXUyBnHGyEo8Vipva066pR7IiFGsYIwrnduTFBqXZP4fAoCAjOhhkMFmWN29KiM8eas2Ia4xA/14YWUMCzyZhFTwjvczFdQZhEa7lHBbySWMSw4wNRmt3S44mbaISbJOGhMAhkeHuD7xMOmLtfZhzgj36p1lmxtv6RaJ+OlHh1GaPPTlDIL0cqeAr77CXHLqYobsgWAjW6SajHSHWDxXLmogVtbPJgySoNojK0DzLCBq6gSjdTr6QCjJiXjg7INGthC5Czet9NiopzkifdodmSIa5Z7mQcyF/zKU1Wfu+TSYm+wo3uEezbWoqfBC8Xz1hfqEDADagjcO7ZAtljdI3imEYbINqSefpbBgXhIq1NsEzghh1gpnz54NS4skK4r+VK9Eq3tudOeayY6ZBsHuEo3funXDnFMZMonX5BArMYfgFlJjJzGIjBYzZgYqDqdcyroU0gAe24/PxBj3wiIInX6USL2do4VjsZAN2hkUbF4BiYm9QcnmCeM/dwIRxhTWdcnDoFFXOguJwkw6uUWLtiog0gU8y2JqlgR4mK+0nhGlSUGlW7ugUKcq/cGkZpR6rkmR7CYoEmOaLQMhkOCHfz4xCPs5o2rQJFw0wDC0awdjdDvHEj5oDi3l4xDLCxArZyYty+k2IdB4cwOXsTTQ+NioPRAgn5BIgUUbf/qvYvNXEAjUBwYzrU0bDLqtW3qKa2DqKqn87PiLlvoG5Yi2c48nIMr2krfUv8lysC/3PfTkqSy+TzYxaxBzzG0yH3Pqwef3zpw5k1zOSVvE9iDECDN4XaVVvA8ZQ2ks8/IdYMc8NO3rfcz1J+pR2jCRptMBezfsP/h7pyCIxb4tHdOqWsozc6AxaGyOQ5WlL6uWv4MvnvPa37XkP6LHLb4qFa/jGM/gGPtciw+aZ9m+xQz4+GQp1CoFW42D6znH6hv7+wO7nndpFh7R56oxAfOvzT3JNy262EUysEm0tDnyScN4J2kqpyLFdLo6MEnCBBMZHLO9sKkMZukeW4kjLbNjUjJprnFpbhokpYBnGiQRvXBxsnv28gXR7HsnCca64PFJPLzPrqUuaLsBawRrATvVWe93iYmHCu9RschcjDxjwGwQsyfrFhOAiPy4e3RYbd6WQx1qGjDPk6HLdADmZSwk4hdctPSSjOikfV0bkxFA1J94mhOia2u0Ge0mxrIwz+o5cpy45rFF7mwSVstsHWwMpYMo1cQZl3rBuKxTzKISmc0Vj2OPUryfJKDGGARmSmOBcPn444+szkdsEAsw8dFK29K4pkVXywlitcy9KTUkg8b/a8u8aVtGs5eMGyoO0SVOtg62ZycINkq2zJHiWFHQRISlVQKBUTTMI+kaTEEb6yQjUGFIP26Lk5maVMdokJPEM6KgnlK7TqRG2E7AididaeTZUX4UUWEG0zvb6+Gdnvvhk0szaWYjJvfEGUySv5/75LGS58Wxs38jQynYDsty2+aLzz9L0l8MKG0iDYHXiOm8CDNpJgkJ6qe0GdzITBtmNRoRjHl0Bor3aO48RIwgECGyhRCZdmu2GUQ3OgqxNa6C4/xnkhWzBoFq0FYWUkDg9FnQY2gZG9UqUDkJqn3N2ZHmlQYhkk57XPO7QFPcjjb3bQEKUuNdENIfQi0Fu1bXKwky39f9JoQiuiDLYds+4qo68owjRroxixFhI2OQZqOQNd6J7SgXHid6pAgDKVeeDZB1pNyxsmWU+yTp7PaDBlDeBXzhKQN3pOi5q12PntOBZgNwLDGGSeNEZCJ6Eb8ka9Ig+9Igxmxs99EUKTmNjqMvGMSMSaSGfQVEiKrdIpqdGCzrh3EGcbwtTaJ5GQlSJWkr+KDvgTvE4pz3hbSfNKMn0uUwy+MgEkB6vztNUv8fQEi5p8/6PjELDEKUmJQd7pfEFMFjP/jyRMRCvG2cQ4PwmQFnTBFxHrhTHWX4qo0dy20q7GzY800Lm5NBS0ZBnLybCP74lF+e74IKJsGztLW1mTGNxiJ3zNDOqal76l9ra9LsVvecPnNm1tjZGKTxqJQLEZYiAOaEEBKtH2OQtnmw+I8LEAZp1LVwmA2slU64d/euzUwj0AS+x7PBekn2sZ3EIJLOLjE0QDRAXCsJoPQINcYb4oXzvmYUgSktBOGTb3KPhPzd8tLouFKhdZ2IXfES2Vn6pkQiULs/YV/qkwjBJVRWH6ufvEvYIEZAI0E0e1YctJUIPXAAgINJIYGYSDFhYQS8QLVqNJwj1CCtnv69e+eO9SFSGSOViUfgewxhjvOcqamJYNNj4zlWnQcjK92DZ68aNt8t8sHTZKQn5lxbXZT2byr4R99n24HW40JQWE4bRrXNW5GAYvVHnxsuiOVzJVpWJ5ajzWiFccqINBecYkSNN9F2YBYM4t9glHGs1SP5/9svntr1KsnFnZ4FfMYNzGfCGSuLGaXAtWtbmN0YBGZN97kzY7yI9vivsR/XKAQ8cVlrgQppO55xxEi3/3Gwyax1I52kOlQunQHx/f73vwu3bt40jl5eWrZ5ySTX4WnAc6IlIF2yCeI4seULSOdMIPWv61yLQHCSNtongMlgcu945/N8f5ckhqRCJpHTc50ZBN0Em45CBLldLebD8xOGVVAuDfpQ6dm4NUVoSGS1jYHDK0T+1fXr142QPSmRABbJixjOS4sLNhDYUqRPgM3pv4cPpsKD6SlL4ygWCpZ6AVF88MEHlptFNi8uWbws9qnsiNlZ10qLv21Z26T9pLEgbM5xr5YFTc6VBJMZT4hJC1BImrsA4Br7ruGQ725IMIpB2saQZLpKqOTQzt+tPk5afoQTo2F1pf0QW6cj7xj9xzO5lzEhEdL7GUaUSzrZPkkLkSktDSIkoikIoo9Mgxhj5QjDIR/XOB04I5umSmMvGtV7rZ9SX9Ef9vmDcSahPH26nzEIiW0ebSWR7fOnn4X15bVQLcWObnRDu9YOzUrs2G7PslMhCKK4voIHOFaNFWNgXFulRiz36QTJ88c1jWCPMxIMYlnCj5XJSfH/+RbcKm+XH7MU6nSNeVAeayEJI+rkfTGP1T6QQXECwTqXiIKG3onUE+OWOAFSFwjkzIlTQou3oUnlesSrBg4nSgwh+uIIFu+wgYNZ9Q4Yzgjc+kkaC/tOthgToriWegD3gCFKvIOpvQ4O0ZaX5y22QMDQXK7G/JrQhfZotxVXoq843miAEiA6D/5KSDTrOEhyhwIajsXjPHCYJ6u6oBJ8sjYmhwJCE88QfY3mlVARvIVB6FP7wlQaa55lEDkJMYx0i32kMeGc2qJvOvq4CGLlMJ5+NDiX6mTPHRtLzxfz85Vy0WIyxFvUXynVBO8Q+UVgWs/oJK2Aeb4wiL4HuGfH0B6DTi90691YfKvSa5FWwPc1li014YsvPrfVMFCxpGWD75CqM5GBWq1GhBzlWBnlDOHqI+W5UmEBaWml0UgMizdDGkSf5ZIjINktyfCURkhGOqoRIz11cOYVgSCNgJAsul5eKEk8TzkYx605xhW+ZiBI0XZ/Pde7dnTJ5fBMUj03vF2D2SCb+hcc5BkOCU3TmbaTejfHQLrGpa0zkH+nRBBD2F/Pb1uWLxoNj57h9WHOIGzxIPFO04YjjGktku3tt7aNxDBuh6CZ0IIPHkzK2ZA0hsZIDO12kISAHCET9+4ZdLE2mrNBjgRrU4LbYhAfn9x9631mK7QkZuScLyRCmy0msscidvfUR8YAQiH5M5OwS3XVWAo9aJzkQGEKwGaEkWYPJSY7gcQrl7ZDpeTzqJXJiVo3j8VeL2Ma3K2dWpQENWcQL3zsUYTi31XnheTYo8aBDDACkALVvx3hWa1asvx7cnvA60R+pybvG/6+dOlSZNoDS7n+wx9+Z4wJg5gKhAhT40TI7cCHLdFaqPR+D2MQ+wWJjcsTCNKNKnorQoSleB/eISAcrlstOiY3Mh2v/yZV0juEhcUIaCD6Qh48pShIG8prY+7eNCiuyh0m5BIywQIbYCV20i43YLlHiXNE15VBzDVibNc86VuJe8lmSse93mh/hA4LMYiRBRko7qVifLDt0IJEz2FGX2NL8FRMj+tdkhsGmbeZe5qrIeeDtS0RoUtjh3I8g7kkNs8/tUP1xDGQpjCM9J0X7zNnOgkm+i99i9BSWdCOC2azkZCJvcA+i3HjCqbPSK/hK1zNBl68UrTHlgyecYy2QOuEFJhNaXakaToJVs3ZYSUfd2REBiGi3I7GHHEKXgTDMB+BWXG8nOOsD9tq7IZuND479Y4xSbvaPqJBBp2cCCRV3TZQowUf8iJpq8E2fH+gpSnZ17TINPB7+jY5OFWTcjSLDAnKcY7ROaVSMZuoxDf8yCAlzYEJTJ99dmgSFc1EZJc1lvgIJtqNjNTJyUljsOnpaVOz+Tt8IhDvOTDt8fvf/96kIW2zKaBJGooxNLgQw3BUC53+ThjtySvjGkVaQPuWEjNMqe3WV/SZJDkEDLzxpEWlZ7hTItcgYkBpFhGrvpSF4FHqTG7LKZO3YlF1d1mLoJHC/pmF/HoYBGGJJnIGQVJ7kNXG9EApJFnbjLghbMVKEIg1CxRqhXbBWfWZeSbjNUD3PIEwub/TfzFI2o//sd1qtbIlLyJ4QSXTfKcxra2FncRYM/5E8ElBYZ4ICIY5MAhlxp+V68c1COPIcZwmroXo8xPCmI7TXEK1bPIODKJJ/frMFR4FAoHF7bVQLm5HjBolTK1pzNJruldHzzHJC6MY5JH3gaJcHEWAvbPkyxZ+9PfrOcCWupb9fMJSnH48d5nKmNRq44b9owZDQtgqGX1W79OarxiuXGdp1ZF5kSRmMzT4TAFwb8P2EQhiWmkDdynyvzUfr3/QsBgE1+PyNMlLfMjsEUk56kV2MWkyfLpNbl5h35zx1V8QpUlXC+ZBjEoWRMjwTMPpDhOTVkKQSIPIJS8JqP8UAqjMcqR+4++0D6gmO8TjILyLNbwMZqZkU+t3xjA9j2VLIXxpkPuCQEbstDVp2qFwu+xJd783bZ7GWhRcpiWNETWG3a6e6RrEBalpq33gYtIgSSi4BoGeyJtjPBlvhDljjW1EH9EOaNayg4d45coZDYNusI35j204TmtkAqOZWHzOIalBLF6OJKGSSExJzcemloBEeLF0XFMo3cMAIfISjPDK7mY0cnYMosFErDULrhWuF143ArFOFwxwaCCsK7djDhe8MFCNzM0rbH/cZaciyJUzkD3bBlh42u2V4+epp7XHjGQIWefcyHQG6W7Xwic/vR3O/uOnYe7dhbA0Qa4TcEypL9IAecCO/83umqXO5JLePT9IREl77lXwS1pXkM7jNb40UfLApAFlHwaRvSJJm3mTYkHCIg2xI10rW1u7glcMPu9EK5r7tUsfKPnTNY7ZekP1G1oEZoJBkOCqCxJWsM9svmQwWx2NyDXPHc/eboS50A3MCC24QPExNw2SxpD+kSPFUUdX3z1JfZqdszbL5at5KxP2PLeFsglkxpASUPSR0lzcve/Xa1Ub7A8Epz+Dd53Q3PJDm2bpRjoln1HIpPfPzHv15DDCjSdAjSfZVE1nHHke8KmDaXeVblKBaUqWHkKMwDQVg2VEmHOvM4gTZk7o6nRfjYRjSBqu8UHS4DOo45onZ4Dsf2KQcS3nuNwZScvp6z4IRcZa3Fbr4drzd8KZb78f3vjuRftW+MUfXg8rS9hVS4GMZ18Dy6ScCQPel0MVr7ve7cE5EaITjxPQcFDNYBy5a6xQ2B/w+QK3jxrBVjUZYxAxh6Qv0EMLKvDZBXdbayJTL0pujuH1QzOjsVhgO9OESN8Bc0Hyb6sbUe2Rq/TAmMSFJBoEhpZxrHZTF6033DFvWqtZs4UmqJfWBZanLB9zebGs7ml9X4dpX2aDeGa23s+C4MVQ2l23+IyNL0xt4y6njWw7jSNCCKbjuI/TEVqx/s3phHae0MCljh+6pGJNVkGsbqNzxNYwj1UjlmaEBe0oOXqRK/c10d4Y6XNN2pcdwjOVMckiySS/2XcusGmafIgFaaJldegIrlWejRMYRMw3B5VWba7oJEmy6b9AjxEE4j7unCD9v4xnl6TOIHlAK8PdQLaRmAUCaSNt27Xw6Dcz4fS3LiQGuRS3H4Rz/3g5FKY3w8oyXriZsGhwhkFWjMDhkBX+GzyQRMsIKhE2bmiXWho4wQqT+sNdZUH3WfITTSeGop9ly0hryDbRf5wQwvwaU2+zjHQyk+smdHgvWQEeKDStbwzq6/RKO3At698SuNRCHnyGDvsrjz1l7UtMQn2Yh49tZ1/tSpJfhCv4o9T4XhTOn9uWd9n7HsuF7ccy9342/qlPoZP4LKYrZJ9gsyLtkvdp6pcxBqFvPItXRd9+cc3l2ioxCBeoI0VwOYNglGfM0fjyMuxKkjlRajWTfTOsfeabiBUCbJvRxKIQRN+xC+zDLyQvthlA1G8e2DJOHg7C1pXNUJuOeLMcGzVAvYuRTdJD4Lw7EfiXM4iYIjs3TsDW0WJkiAUY4lh9++ZGeO3b7xmDnP7We8YgfPaYb4Of+6dLYeMWi0CvmteIlAi8YEzOsolb9Tu25eOf9j9u+QKWtGSuzcw7lySd1XmYJkrBvHuNUG0vhl4/2UYm2fqmuV0g5O3I22ySFoZKmsrPW/xmAGQSbHVNCUGAAJxBZBPV5Qwg5hE1CMmAtnDcoT7NkMOeBHcNPor52dJ/it+kdb5oT2wb0XomZyHU6Hf3Yok4ZTBrPCVQ8qBfXqgbK+YjQOv1ojGI4Lu0MnXgfK6VdYx6aj3j3BmhKbl187i6wHS6OgFHKlgm7jRu3SfhbdMYZNiPHT3sWRkNuAZ/dmzAAHwo3GvYbgwDe4f581iyBpct5fBwP1y+fMliJcwFwF2nqLQGBvsFiIamsYlM0agu3S+GN/72o/BaJNAL/3wlTLw6HXZvFUJnMw5iOzZuIPzvxOHE4MxwnGmOEpUwfTcyRau5E0j19lwcSvHuZjj13PlY0CDvhTf/7nI4lRiE7cx5TTrCPY3HhlUCmd7L7Ejm37NuF/8hctvGY8bIZp+p2Ar0qU4maJCA5tkS88jzJYnKMfrXc7Hy+3Ivop7JfUcdJwZPbfBlg8AkCAO8WhCEBUmBI4l4xCB8w5wpqSVbxYTJSxaXAlYnaWxS3Vy+44yact1IghySmOgwiU/C7USi1ndDEAKyQdxZQyZEvs6xMx2xGzKNbU6LBWkFj3kHTgl9J90dEWl2ZqLHjLbNlpEXdby/RANiEKtzvLYaBTjesBPZoFjHKprL/y/VILGMeoPQbcrFC2F6x9t9SYIrDeQoIUpLYRDWbUIP2mM2Sl2IisLEnGJh02CXDEV517rb1XDxRzcjQV4Ir3z9XHjlG+fCS197N/4/G17/zgfh/e9/Eq69eDs8emc2PHznUZg5G7fvzoRHsSx/sGgQSSp1nEkSYyTtYp1fi+82qKGMZBFxI7QXy9HmQHsIYr35d5fCq99415jjTGTYnVv5/AF863hJ9vYGYWLibpKy4w6EViYpx4kWr5Cnrtg4jDwfKe9LTRaC6OTZgnBFBN6/jqlVFBTLNaZLS7a5kX4Y7AtWIxm1TqAOW9EcHm9hEQ8MdJYsQsMj9Kibki3l1TK3N0RvTEk9qL+gokFAouIHylZotwr2LmCdBwrl6pUrmOupJxO42kwF7uC5IoNh15hATgG5yMnENQaJ9wou5kJhvN05U0AL9I1oAY8XUwSIxZEOREYIApwUe4NYwo7OIG6DaFWTTrRBzOZIZRRtjl6rrf8Zgwi3aUDApgnnWeVEaG480amKXGuRMoI3wC2wKhNrLl++bPtEbKenpsO9U9NRer8ffvXX79hH608991549ZvnY7lgW5jlV3/1Vnjpq++EF2N56WvvGBO98o2z4eQ3z4WlCwuhMrETag8KoT5TDM2FUmgtR3tooxo1UDk0NuK5ja3QjJ3TbySN1E2FNJF6PUydepAYRBDLGCRqlftRk41asX39CGVII0H6DvXJAPLTWDFRTCGDUZ4x+iRFm9O+wyn1maQvxKP+EgwRhFEuGtrFGUSMrvO6V/u5tzEJCN6bmEnPIPWGle8xzBUvQfI2IzGWG3zHfip0hgUjXt5HMJc8LObpwFSygVIGNTRjhJ0ETyJGr79lBCSGl71LGg6xFaYeoEGe5kLJiFb91e8x4W3b5q/7c9HwPFMOBX0Zy7+Tzr0IO09yVZHAsT7AJonvJ5+NmB/0jZeNhfnIbWOdMHLg+Mwck+uo3wkq7OpM6k2BKMVBFkO/G6VEr5uV/WgPDPkf7Y6DPVf/nk4BkyhVwP3aJpHSf4pn07pHhw7ifhZbQwLTUFK1qejk7cnwm+98GH76v14z5vjxn5y2///+P8+En//ZG5Fgde5f/9vL4eWoXV6NDOH2AVu0zMuxwEgnYarIOKejJkLyvxYZ7XQ89nr8/+bffhDe+u6H4d3vXQznI4T74F8/DR/+27Vw6d9vhMs/vRku/fj6mA1yMT7vrDHIR/92NVx94Xa49ou74c7Lk6G7peVKIRw0JN8BRCoBAcwjhivZCCkFFyHwPRGsgmHSMC7Frd9SX3nxvjMGyaBCglgGYSSo5FWUZ8oJxO93AxmIJeYRY3MdTFJrr0QGeWhLMz397NAkLMwxO/vAmAPoC7w2zbEnSC0mRTjm3kWMYMsV28vX+cphktJeqE+WrJjRiebjE+Hnmd4vXEPfHLEfrM51025Ezre3mVUobcbC2/QD8RK+6EtWBbRJwJhAowLHy5YISvbB+IqdPINrDWKpg92DIsL1QOFxiDVecG8KBhy9V5DCX6SO9/8mddKgOI6EUGxt2CRVeQ6+ectKjTDp1W9GrfGNC+Hlr4ng0RSvfAO74Hz8/64xyw//x8nILK9HTfN2shnOJ1tB9gP7MBDH+O+M5NegcV75+rtJ+5wLL37lbSsv2TvPmYbiOBrEr3GG9Pfd/sWEaR1rK4QfienGDWX31moFU//e+WZg0l4r/sk1SXrrS+vPvN+OF9kgGjdJaknoPTxEaQx4tmY/uvZw+4ykSzyDeKOk/T1i71pKBN+1a8rlTTPQmdYAwTHLVIG25JZPDJlDyTTuprXUF7wHd3KzDiTlXp1Dm6CllE3Biu36xqX/1+Qpt02I2eXfv/Qy6OuDohA6q6iQQcH0ALQC2RWkysMQZEpTbwKX2BieqeD2M5kS455B7OcxBsmlESVnkHH3bsSPra5KG+NdiX9KH6Fz5FbLfdUJGowVTxtw6al3u0T1wRU8YPDL9wrhdQz0qC0g9NOp4Go9jRaA+COR/uIv3gz/9v+8EpnlzfCjPz4VCTtnBoprALv+2DPYB465MZ4x2LGSaZAE4cYZCmh3+Yc3Q7uuTzK3bFpw1dIdWBiNyDZq3b+SpCxc7wdpHRdSgiG5hPyyAoNAMO7exXBm6/uCbWQTe4Rfmso1N4NvGiQxDwSOZJfhyzukaXjO9hYpPKw7RSJfLdoETKVWnCTTbDwjjZsxh9l3MIne28OjZAFJaQHqyTuhB2JwQD6u1WLhjag9+Ny15hjxuetumzR9kifJ6NDXgIm1MSWbvD7/ChYam/8wBekmLNBBPpYW6QD2uUs/n9Hp2si07sC9olp1/xiD5Ibel2mQQbtn0IrERLJ3RwOuTxok0xp0di5J3PWmDkspCCnqSpEEZZsHzrzSw3ojXP357WiMf2TEfAqJP0bw/l+aINokkWjRIM//+ZvhB//95cgs2CzSJGImmME1yzkL+HGftImuOcoUYqZnGUQ2yPFy9Sd3ou0S22WLQyhoNejQ+Zp7TZ5XuUR0u6WV2+1jNlodxfvuCIFZeZY5xCCHJn2z82Max7B+sg/c08NzGXi/Bsksv7/GHYIV9JHGsTGyujAPZMk0SKOxa16vZpM1CAqJ2RlvCVa9VzEYfWEYCA7RRZuVT1vbR3JAB8rAsM9d9+TmJQODnEDyvoBHMAdMYqlQ9KXZrepTRc8VBPTUGmYC+sJ3GR0nISz7Rsfsw0kJfrqdZhB0JAbRc/UOhIOMdGOQBJOSVP8yBjlaaPg4xMo9V/KCaKBZe0gBPtcg+SwuKm3SztzCvDt5T0b9sPHxevj0Z3ei5vggapCL4bXIJE7kSH+O5/vvGbHnTHAh2imnw6+/8m54I94LUQONVHzfjx3df/1vP36mvPYdtJcYhP1XjEGkucYZ5NOf3A7VqUK49+JkaCzshvZ6Odz8xb1QeVA0hsE4JCGSSVXYJKzWyOJ0EAerr0AcDrGMcFOfyY7jv1yh/Ieo5AbVfu5m99iEXJpuI+pcPg/GPuWdFuJ2odW21UwkuBQHEHTDvYsNwrONQaJtUCqy+ok+Ae25ZhAYjAHR89FSXPa2CDTeMSNGRcm9rtSRfSUrqt60VfZKy7xX/mzVE8Epe82vhcZIhSGjG4ZxjWn0lvWfNGsejpAwUZ1Ep74PozhD0vYT7ov3DvTKZMmK7bZl6g46ytgd3+6PFEH1l2eDMPZfz1RgR1hZg5H7sUnlBkdL2lk6QqFukWojykiIECUGeSbNo/SHWI9I8DGbQvtj0t80D//f0/9Ujj/j5HPnwgtfezn84lg58533jxjpL31tzM4ZK2e+fSG8+d0P7P8bcfvuP160/1d+eisMW4IyGIt4hGxdq1Fa/M6MZH24hll8QAUCpqZlkybxQTQNMUSDPMmM1czGSEX9LFvCEgSRkmmcjbjiGMAc9mkKBBrjlJhJ4y+7RPMuCBBOa3X1IRPeCOjy7fdNYyC9k68zMZFMK9/wTovYJynNO9jabEII3QSoJDTvg9nztqqeeKI08zEXtqKjWpYsad7SEXUSgzhKccjk/QFjWarSXu49RIPIWZJ7WOV9le2UMwgVSlJkHGJ5HASXbr8jbjU7YdCPWLKd5n+I+DPtkxrBmlbF5mQoNibDaE8v8jQRD0T6viRGSp/udUxzXP3Z3agh3jetQIEo0SC+fzoWbBLfd+1hDJIR7LPwyGyOdD/7aIajz7gQXvjqi8+UU98WM/1/QayjJX838ZrSfcVLNHjqb3LZIBzBzLxA+DAIwVJbz8tgp+N6PvKyaVmyy0vzGWFxH0RFOrsviOCRY7C0ayWCtTAHBqkypBFYZL2ypBN4nmWeWMKJT8mVzW5Cg7CsEx4xCJ+CDYATxdPRsQ+AjETg8VDZNaYBPJIuJ4QIE2bUF5/oC/vUwpiWdHoQhMtpkpLZL9BNMuCBbDCI6I/rxGhOl27fSePkz/L358/ONS3XW6qJpJOr9ZzI80AheVdSU4NeW3GQdstglsdBci+W7uULtFo18ZYl2eV4OpdsMpZUvBN3J7eMSI2wxoj9GQ2SCD67LvNGfQmDJO3hxr0/l2thFP9vWzTIMeZ4PmMQMRUMcvQ9x4vXUVu3da7+7HYY1vKUF/WbAnHyJiG5xjTCCCkqraK5OkrFAbuXdov2cR2Cd5ZOka6DoClANfswDlv7jzerZtdg3JPeAyxhchwJpdXKtp2DIInn8Dxcp9hKzAeHQQju6tuLWuYJaFgt7xiDkF2BfYKB7RKYNqJtzEgf5qkzhlYypiFAStDxs6TtPN3eU0lYGDvZNq4hTbuJaUTIWg9NEFA0KK2CsY+G1lRnTY7zadDqD87z31LnLScQZEO/q7DIoMVBKM6VzkEsXg2DDKJU3xvqc2qjfoRSe5qRZ//TGqvj3hTj0v2WrUnEiu10gmIsKtIg+i8tornj+/Ed905OPyPpcw3y8VENEqX/uDbQPZLy2tfWmCOdP3qNa6F0Pc/GEfAcxO8FQj9n2osUE2yUN//uypj98v+nXLToO6U8QdT4acqE5mM1+v/73//WtoJH8qBAiMAtBpIYEd4bW4SvVrLPAWzxTfeoSVhoj4xZEgNxvzK3xT6sE/9D+LY2QIQ9pSjwdndWNZUhji1p3cQNSOVxgSXGhchUkKAbG3yFdtLgEwmmvsgfzFHcZh3brmk5zV7M85083VzawFd+lA2gtQLYKgnRUpASndjCGGl6tegp0Q70eSCvl917qPlFQiNa1UQpKj2DsMRsmCMC47DVtxAXLBuZfTKTWUtr/JqZR0fvYZuM9KTKjEPHNchiwqEyetiSJOgYz/Gl3+MaYnzfYFniarlwk3fFIQUaJHYEBu1b3/0ouVuPahHXIK4FuAabQAFBFb/n5W++FSX/S5n98PxXXgwvffWtdD7XQLhpCSCyzY1tnSc6/+uvvC0G+5vkHiaSDrNGo9/skfQMUmC0n9JRMgbUPs80h0L8T+Bx2IjScIjQyQOC9CdEoag1CxRIAue2hyCDHYvXsqIMH55xSGb9m6S2z6Hx+/KxEJRGY+GiLRc3TftwzhiE60wCK9KNNIfYiC2QSu7aAS0gO4lVNSUAgYJaOFCp7DwD75xsJNkU5j3aT1/z3aPN0giuQey9mS1MXAzNyIeT3PnjUChvixnUtH9Pq5ow5RqhzrRZtCOudJ8QCC0z2xStaBqSVVHiOxEATJRCM6M9fJENnoWLPrdBDKfJ6KE4xHKfuOM3d435Me7xfe6T4eUeMXktHP8K16XJQkipYTt01iqhcHUrXHv+bkbErhW8IIVx9Y4fF9Ed1RJsTz73bjS0X8rLV38dfvnXp+NxYBmQiuvwdr1vni5F4l+yYOM//Zdf2TU/+dMz8f8vzQvGcY/iE2chGMl53sX9FK750R+ftPsV6T8dfvGXb4df/tVb4cd/fCq5m9Fi74dPf347TJ18FG2ttWgbeP9hPMujA7GYbZARhBNFbnwym5HB1gJvOfEYPBuDaH69jw3j4RF4J1DiD7yTef8UpDlbGIlzzCBE6o4vFA5Rmnu6D7G1bAlazTXR55+5j/E1rZC8RmgoGMScMiZs8XqxeLjnYvF9Gr5pX7f1dJvNrTDcq9pHZVstpnwXLF8Oz5aEgupvdk00qOfmHpnWsDUIEioZRy7QMosy4HZ29IJQsu8WTk5anIocrAsXzts03lqtYtMYxCBDxSfGMZznYolBPDouBnGt4K7bjKuHeUTX9zU4uQ3C/UpGrIfG/G44+w+agPTlOF5FGkTeIbQFqR4mnTPt4fdIaosxKNGG+Mqvw0/+4oXw4jdez+0bStQaP/6TU0bE//JfXzSihpgh5J9HhiB9hXgKhP/Lv3o7MslrRvwwzQt/8Rt714//5KRdw/3EX4jmE6iEOWAqZxzuH28P9bj8oxuWx0X/KJKOYBEB7h92srkJziCG39OW+RVM1Mq9WJK82o657Ef5fwknkhz9W4RkV/82MYxWgSEO4lqd97NwxoMH9+0rUAhR11bSLoLHzCSlOMGrdCPU2zbCdZsDjUkb2Wf23vY2X8zlk24r9iEevsloae6xHuXmbP6JifLVUGpigMvmcE3j3ing5+oq8Gne7KBMqxpT5sIBOMmUBPegAWFpA7CLdJPVlUWbrqC0k4LNTScn6wQ3EAhiyR5WU+QkK/ltb68bR7FKYIPjJa0OaAxwjEFc63DcXXd+zKWFF4dlw04j3PrVhBGaGMQhkDRI9v853LzyYkn6A62UWevawDTCmCZ58RtvGEO88NVXwvN//WL46V/CIK9l12SEmhjT00U8hnKkHpm7mILni3qkfYKL2TMVcDStlj1HjDjeHrXpvfB6rP/SueXQ28ZVqu/14cFxFzn7Hh9wxsEZguSmn7ElTCtYv4oQPTHR+9r+J9jMvXzP4w9/+IPZPJ5SAlMg+dFG/t9TX/AOYX9AQEhbJ1IzromT9MnKrYTdiDYwcnnH4YE0B5nRcjHDnLKtxCBaibPV0ncSt7a2IkMdhIfzN8Jm+XbYqNwMa5Wr9hGk1dKn9m2ZVl+fmjYbBTvGXNUEX/XJZjQqX0KTkMdlnTxhaQIWjMCaXp9++knIVpFPfezxF9+XnSSbmkl5Jzjx6CEGy6MwOXnfwvSsBEEu/NIS349bDwvzc3aONasej0EoM+zHIJcWNGNfDKQiBpIhGAdqpOzOysOdCJsgwHECcsJN0W3LdTqXaRCzN77pGiTFNDLJLOLDBnBCJaD38tfeDi985eXw0jffzIk5ebzEAOMMMs4MCbZxzs8D7SKDZPlXvMdiK2PawRgkbwvnjmhIu1bnufbGL+6FYVcE6ZrY+i32L5+hs5QSc0cibBQ3AWPzWTK+8W0Ee5g+j4dUt8FNC2MYMamgEYBOFnOIY0XSIATOwnKMJTENMLkvMg0R6RNsrPiyElhc2j55gY3B9RbT0Hxw8ppYHEH2hQKT8nbpU9IOtz3NCCOanCnKD3/4wyiY62Fy5mJYr1yzbz/y4VY8oBvVm2GneS+0+xuJ8OW1wtsEusE2QmiLzjjOZLtURxcQqT9RALis3QNGFjPPhC7dfc2+Tx6z/o7vOqF8HVyAuPckfWgsWI6lY/wTAxgvuALBzRA416Hq6Uz88lSAhltFosZh2SBfwIxrV6Iqm786E65Fgrj/2nR4+3sfGSwBupA3RdIh+0CejEFggL8Zc/MmYhYDHNc6Y9I/EaWSCZVQKCOaa/wZKVA4TtwZYecE7O/z49QlI3a/lvPpmuNaiiJ4mNcV7cd1HH/ne5fC5tX1cNDSfAyfLASBVzpzYbc1bVNStczRoZV+v2vL1vR6eIB+m1zFfCNd36UnxkGx5ZKSt8zv13pWmgOBoPOUkt3iss298K/5okUwVGEQDFmmH+d2ULJpYOi4X68ULE4C5MOm4FpNasrT20lZVypHzRAL9SeW884770TIVQvT85fDyu4nGXOgRfhODB5RLSQnm4MPk2JvoDUUh1MEXzENRyvAPNk+zljM90DY23Gg3EiLxWUpKKCfFMFXZoccKDajkGLuM3OhyYjxGYXdaCTxQUy56fIlPvlPpmSv17ZvVPNyJpngYeEDkaxVxfn5OVYD74ZHFx+GFyImB/eD2//u//h5NHpfNTz/79EA5vgP/8erhvOd+F2LmIs3aRC0B4SfSe4x4s2IMsUecmkt5siM/ASBYES8Xvk1ChZm6SsG4wTz/DwOgyPE/gyj6h1ZfbwuqW65xy0VY97z4fKPb4ZeUWkS7v2rdTULEVgEgSP9GTSWx0SDdLsJl+/JYeKQS44RJxZpI834w/2qLYwhIhZeb9Y3w8bKtGXb2rOGBA9ZOHrSBJ/FNMz4T9nG6dnYLo0aLmUmnWnVe2cc6ITVUOSOZbFsrbEMXTEHY219OaysLYSV1fkwOXsxTC+eC9NLZ8PC5sdmfxBwpt5aTVHQDOaASRy1OIFbekp6r+bT+8r+WkgDpwa5cOYcSteZJhxoIQnSZ2AaTbVOq8nE607YPAV84MahuplO2I0MggGzU78fCo2J1Cke6NMA0inYLXyIEbxK0MW+Z2eZl/jw6+anH0U1fPuVCWXAfkMEoolNInZNfHrH/nPMA3oOp44yiDQCc0LQOnigeOYv/vI35p5li4v25DcvWLo6/42hItHChOba/fpZu/bFr78VfvbnJ1M2LrMUz5kGc+J2DeLEDUMZgyTngBN79j8j/vwejh9loqNM6/ef+dYHYeXScjaAuWE9yOZLIGgsxaTfsQEn58mkuRmtSRJa+keaPpAyhs2uMebAe6OIssMP3LOcY454cXshjvuS2SJMTCqXtixJEVSgpYH0Pp9Xwj4E1moVLJAJLYBEZHuShpSCeXjNYKZBSifq65MH8+uXo51x1ZihUH9gz+t0igZ/RJNibJ4NY7DyvUXXsWuTB8uj6fSBCYhUNwkMaTogGesgkP6uPhBUM5vImCUtv7qv1R+1iEimQaQxTEMkTnfvBGvzugs4Wxw6BXko3KOgjzSKzmPoaJ9ixlKEBLd+dd8IBfesB/tc2h4/5gE9l7BmpBvEYl/EhRY6HYkKrfOD//6KuWFxs+KCxXOEZiLtHc/Sr7/yTtx/M/z9//l8+FHc51rO/ex/v2HX/+RPNenqH/+vX4bv/5EYTnU9mopCvQgYPlvXo/tonvw+2kdQ0x0JeWLlOPTi/+TJB9aHsu+k2S0txOaFuzYAZuzazEsiwyKUpCX4b8wlLE3sAmJnsCFKT2A0+yS9Rw6XtjEEGgV4BLNwX7GwbgEzHDaeOZvhewhrxFpbxCtEVNAMkfnx6QsGdxIBu4PH5n7vNcKj1Qv2xWAYpFieD8Metk9k5iFBado/CNtbTPV9YBOaxBjYMwgLtYF3s5WXL3n6zNum6cCKzmMeEN9IjMU1puEkKHhGq6lld8kWgFnQKsYgWVDJuN01SCtWaMsYRDPNUv7MSI2UDeLBxaSyRlTAfdzCpzqubWO+GM7/82XLS2KO97iEzW2DsaCfaYuzlsJueVhokMym0BwMiAzJzyQqNAcTqfjPMSY6YdPAGC9/nX3yp7j+rGkVit9Lef7PX8+20hqS8Ec0yHPyqDl0co1hdbLJWP+ZBvFjuSbR88/ZqikX/umTUF8oJuLLJ01hV8AgDp/oy2q1aD56vjVoEPlAmQ7y2HQsi6HZk2HreXYaM2kZiMJWb2mx0J/sBaWKEyxTWjnvA2bLS8SXapU2b3Ub0wgmuSHOIW5ipqo2ou2peeFKr9f7fCEF/uOB2y5PGoPwMdf1yvVQqi7ZMlLk+rFSTrVUCQvzs+bCxfYVveWxN4eQHphUnUSX7j1TUqzqAJOTcAn9eh/zLGVVlyKtz4TJyQlzafvkPQSLvnK7r8WmrZNNteQf8WSKpdspYhD5v13reCqBX8OA5vtJg6RzvZ3YiXO1UJ8shfe/fzWTsp7y4RL3aErIexa9VrJifo20ztF7sv880xMRkeZWPlRJ70Tae7pKXg9/xni9xrRBPE/6iN9jzzhyj6e05PVwDaL9VLd0D+9/5+8vxv6IWLuORE8rzCSjkzHBsDbbw4hCY8E3RvjwJdCDY5aNAGzAQxP3m71V+6owUhLpaIwSjc/BXi00eiuh2loIjdZ6NI5XozZaDuXdlVAurkSNsRhhFROPto2g0VTkYfGFKKCUu43dBvGAnWsViJLovK/xDPO4xqIOTguk2+yUp8JMYpDV4jWbB09+H4mwqytLYS6+t7xbspQmSX05ByzlBBpNdeC/a9Dx4+YVTEKGY6zdXK1oiVoJHyUnqh0NWwehUpEzSkyfvFjK/ckxrziwZunu4D5b5xQPRNIM+v5frkEcD5q2sGjpcQ2SzpnhqQn+PG/l0pIZpy5JxyUuW9kmboMcnzClVJNxN+8R1+pz8mKNS/9ccquMa67jUt+P2fljz2B24/Hr2GZaxJ+V6vYfaxB5s66/cCcMOymZL9l2Rgz0aSxAVl96xwvE5zGqjFCMIIS/B6OqaREdk9vVYFOnYPEFvEQkk66Vr5pbVV+2RZMQA2maYQ0M4luHQCziDRpH0YjgmXuQFEC2cR2yBA9JjcTN9LUA0ZU0jocEWBFlc/deeLhyzrRHsTJri4DUK3z4ZzasrS6HVr1pc444zrQKp09NznO7KtkeQ6U9ucHthrl73BAUeOJYuNrgH2jHtJ+YnIJnjcWtaau7funrlKzouLRrgR8m9jBdcW5uziK2dBKTo8alAEVBmzzwQqFzfR9msfkHnEPCpfutYa22TYhyG0TaInd/ypMkrO4axM5lklu4fly6+zmX/vqfrjHJnkt72Que8Kh3j58fl/TjzwViZfZGuiavu78nf6bad1RTcc0HUYOWbkeDtCLi8mkAPg6elOcaxLU2hYTFXg/Dmg/riJEkrCAgaRoIw7eOyYFULGq33bgdGUTfpl8pXg6b649M8rMgXL/fD40m4yRvE5F0vEYQm4guf66gVWLcJCQtGj8keZEVScqWFu+EbNI+XoMLeqfyIEKs8xb7KNXmw9YG6TORQHcKNqV7NNCnNfjv7X5Gi5jWTM6ARF+21NIxOuVePHEY6cxy1L1yqev+jq1FTayPvjVt25fGTMv+8AKpo3ptJ1t+hw/cbG7yLQakizjKNEjiTBuEMY0hTSMOdS+J2yBeLFlxKOOp+mAnvPV3InyXum6DuEQ2jJ68WONSeVzrjEtyLxDifxrAS8eOPmP8OeMaJL/vuAbJnplps6PveFaDyBs2cWrK+kJE5mtL5f3ohE/GKwTl/a0CkWl192wcTAgld26SthmDDLW8K9Fu3PYWZyhfC/NbH4VHK+8ZMR8e7oV6sxeqjX6o1pnjfmD2B14sY5BkF0nwycB3plDRf3cHg+GZY4Lhbh/h2UvZApE+mCxWqS+F+c2PwkbpflhaJiFyNjSq9agx9L0ZVuski9zmtVhfCK1AXy4Q/EvAHtyDpvDKSSBIg7jhjv1B3pV7CfM6y2i3jIDdHUsx4b6MQVzyywvVtSzNSsRqd+7csamhJG6VS1pHV5UanzmoSLo6K2E/1xhpgLwzvZgGSZxOsmJ7tRqmzsyMEXAeSHMokmkQiDa75lh6e5LWXsaTGf38kWu+9BlpPzHHs+cVB/Hzfszrle2PPYO6jnuxPvrBtbBzYzsMyk2l+ae+VKqJS0H1szSIVt6X2zGVPXA8WsWhR3LhGvHmSzeN9poWhf5/S3vvLznP484Xf+fdvXf3nLUtybZsMUm+trRWtiiBIsUAgAQJBhAgAgEQOecBMDnnTtM9nXsyEoOk2vpUPdVvzwyl9dn94Tndb071rVz15Cp9Um3MSqWqNqAS3lJ9RIZnzygXB6Sr0mx3HBhptNowOW81igQhhR6CCuPco9FJFewhNjP+O0wv4TlbqG1MAlth0poaaUrOrVEZG+2cTM54KyHqyTHIK0tlm3tmpcEzhd3rjCKkgTNllx7cCyBxj2pWtm20yXJ6XxyHijU6MmL0GOdyr61rO36cT6IUgUYkyR4eyotUHE3LlUVFUkmuXr2q3KBtYEEXDQniXInoqBsxnNxR6udxG2T7iwuUhufAde2onlPUz9SsN5VJD6RDlys7Z/7k34hen/HU9ODW5u7NuHIv5/bIeY8HSvfHQ+UEu32fbccmF3LEazhm+3VOpVysb7/uNi/Wt9ggPNfsZWIdzm1N9TB9uDfVxKvugjDCixXvMeyMaPuTrU9MyNQOtw86ayXLbxpfuKQgWFSANHS0ZHWdyX2o9tuQKh6jAEfNx+raqhVIYaADEjJ2jTDTt/ZvzLrQJNy17N6qcqInbwNqjdzU8GUqBuJjTm8dqwDE3rDadbVZsAFo4lateGM47xzvdgsjvHjRuyq8c2Gcs83zwzzVxBhEDx3S4pZ+AJ5J3vPe0nakJB1QiNBbsFDPRcLlnphNKdIYaNpGCgkeLCLi1B0AkGfPtu+387/XOLvPPltmqgRPg9i5neP4bxHip8/l/rtDxp29ycLFrNnCjyk4umRxDeIV/JJyvv8FXLKfWvDv5//1bf1/xJZJSWebR+mPytv/dNTOQ4wksnOJ1hM/iYxbsm3f+edjdiz7cw3iIj/7L2932wgRO+E/57T76r3XWP6WQWpK7HP+t7fladubepNVGykgDO9d/FXP8F7Gnob+J1uH1PD9n9q2+M9gG+5TBsv++0ye8/51MNXy46112dzCS0ap7ZqqOUml0lGu+v9qHcOeRMC8pZn4rLZRGOd5eGGku4MmaQ5pm03jZgYwDBDgcz3sqlUr0kLVGR0dNCeQ5YOZUQ0Q1ozLk18FMbtKhcTJQM+A+P2cSIcEIgDF9Xs0Fb9nl64MJhKlxW3vvfdqQ3jqbDasalRFNi2rYI/n7DxJuTtPzHvBICpqZYxbTPbo6+I3huX88DF2rN+2Txcw2bRmvcuxLncz765ZVWvMLRpG9b/iWr1ghExQjxakEDC/BAH5hYBJMafBHEHDfT/wOg4IGlAgfQCBpbVYrcZR284v6wEM4GMbTeK4JucGQG/+42EDH8BgP45BinCvMTD2d987xriP2DZ2asKcGkgF+6W74VOf+4Q0DHfteg6RJ/YhQXyCVT6+p5xjo6RyVbIgrC1Ocr/uUH3Yv1nPe7M2VJYnjxUIbRuPH29Ku7PiIEmSA4B0mM5C74H5RTwPazpJh4apJEgH1/EzqRFl09UWjbljHXZI1Wwo8wqpFPI5KodNZYNDUwNvPXF1UNoLzTG3PPYIAcKwX4OQ+R8qUXhPqf0IDaZ3uARp+D66PwY4KfFmgyT7zqWiSxHKO9hnbGzImmvTCxjP354wzt1eSDreJtHanAHEExgzN7CrWC7udnZUjPU7l8Ng94f1QGN4QKLCrL1Qsdafrj715ixtrwfp2iBmL3g+lQ+3Bdy4dvtiv4LHU+EjR2qHDdJdzmyKbDnZQsmWMPviXyMXq1fF6lW14vgzJtkAG6oakfzPfnJeFh7NmC7O5EQE+yhVRX2gyVm7VU9lsGUzbJkznbSdep0JVXPWuA07sGu8P6HRWgDBVR3adJoKkzg465hgplqZNc6OVKk1OtKkv9k6RUUY5pmKVW96LAb3MeDA/lhbI7blE6i6Wh3Nqd0BYyDZ8AYMuJfN25Rc1a5ydyzGgK2BdJhTVYqZnKAtCJaBGscMUVzT/z8w9Y7gHsDmmdxzlVzZJiGi9Wl41cIh5P89xuHmgCfUqulQZOLOjI79fL5Po05dyZR9FxwabuDj5k0ACTeciUvlIJUKM6UOmP4YAPEPkt3QzmYN20HybWABIB4Hie2kXEe2Z/HOghz/mScDRjxkJ0CiL26WrNhjt9hyj96flnuTFsMDFvaOre/dp+eYbQmRLP//3rx6NzjCnnFAY7v89P95y6QZUux1lUxzlxbl3r07xqUgfvr28n6p3Lx27ar54JlQlBY7U1Y7PWGJnzhJUHWpeKPENd4jBAkBBrfmG9Y7M1LrTBknr7WZIo56DU8diWAaQbrOSkfBEFJhU22OFTXiiSus6zV8MhrsAYiVSPbaqjeXcFVme5l10IOn3Mc0DtCKN0IgNZ94GkHN+fmp7nlnZ6fsOkND3jI0bBKAxHsBJByHROnt0OKpTx5PCQLP6NHVJ5/WGnWP1HyXsDGdXZfJdyWIM3julWRIAOLlwx5T2ZNVBToqnYhXLX3ZJYhzibiZrtVvN7QTIDsBEcvZOpcg4RRwjmeSRIFCa8raRFEu/v5mBhCM9B6AOCFDrOE6zaRGr8GcuVZju3P3IPTsPJm3LCRQDD9HtpwBpHe/XoCclHdfOSxv/fOH8v6PqGs/Jqd/fUny/fNCCgcSAkOVdv1Em0k2pOugt8Tk4zu3I3vhyRMaGqDuMBfHY9/W8x5RzTy6naSwfkeCgAQASRmfLz20jGoyrFHlLMqtxid2IHO0QMgADLWps9qSVpvCOVdv4PTEQEgxMe+PJQrOmp3A9+p1SfeqM5HPZxm+9ZKdh7af1MBDfGQGIxmIqyE5FhamVWKWjKDDsUO8jaRErgmQ+MV+YJvZDYDQotxhlyTwGF0myZA8et2eYEZnmaoWAPEmey5B5vX+iP3lUv8vBtkECSCu33pAxz1NzCvuAHGfcveFdCWNxzRcRCVA9HhVQuxvB0wGEBdhPuJ8/Ddf9nJVBj4ZFHK2Ig7i3Q17iBcXrAUTw8WauVtjexB9piY5wWfbXG2K87jLNjtnuHDjPCx/SqpJrOuC63PZ//JH8s5L78ubL+63VkGM9370kU23EM8aUVved/zyfoJhWMJdSAR71+Qt+RTUve+QfQFI1OXA8fj47bW85Gp3DCDF2oh+4JapNzFVAN+Ra1ldCJJg3e+J7GC4OXaHc+8++2VgUEPcqD9Ig0gCvHXzmjx6eC+pRg8MjA8e3BUKq/BIWS+tiquSEPnw8KD9ch3GsqqPUTLcS1vhgSNxkPsJSWIgScTMs1tkf9OlSKherAstiH2tgzxMJL1725ZsjtjHZurdYBLPkklwmxWZHK41uskUHSDhUjOA2IlW9IZIVBs0FStckPHRfJmbSWjs+XDbANEDmAwgnlgX3TuMA9lL8RcVWaOdZllmLkyJdwk5awY2aereMNo7khx4wTuuk5Ly3kvHzaCG4F3vPy6U5uLO9blCXPXxLiZUG/p/QMO+ni6fTZeA/cAwAPSocV0VK0k4j9mcsjJfDPS3FSRvv3RQ3nn5fTnzmy9krZ4xA54rwOBqkX9kc0+uVWxGqlp70tQjfuudafdEPaNFaC9AXIIY4NYpM/BpnTe3UJn02xBR119iWdTjxPTPngrv17Qp3PQ+IGCXGBjQZE6o5MjNWrsgascxoKenJ4UWOQ4SareL0td3X22ksoUBKJ3l98qVy10JQcEdQMB2MttDVSVm3+U/UomZkakn9+42MAUnduPySg+11pzeW8HuCUnCcZRgOBicMXe9XCYVPObBs1lHxi3vfeAJk858I/XGGb4b78GkvP5p0q5hWcBr3perK0GC4HnpAIC+WDwcKtZOkeo5NZlHYRsouv97f/0/x2YqVs/5DCCxrzeQMLtkpWXdTjwD1zN00e1x1ZKq7l1JPpEDL56QX/5/+03nRzq89p1D5qYFVHiiSGPHTYtnCncvdgEuXZbZn//sw/4UcrGeepM3dT+TVD1GOi5nkzI96+x/SJgffyFTX0zK0v2c1MeZ7sBdoCH+I3bE89pzrnvknO4d1o2y8UiKzUdS0oE9QbFUL4OK4SqWgw/i6KwXTXLkavckX+vT/7clX6EH1KC57GlaEGqJA6ttUWNsHbbT4gYXv6sXADk6H/p9dlT9JdMV4oer07F+a2tLCXjcgEKKytDQkNpLN42xUpwEWPAK8YttgT2DE8KCcZyzXZX+hevSN3dJlhqzstxckGUFxlJjWhaXFVRlfQ/VOXk0eUtuDH8hj0bvyiw1K7UpmVx6ZPu3VjyVJYuFpORM6BlaM4eBDzfcXXK4ipXFRFCthoe432EDqzOxhlcUhifAP5iLIrpOoI9G25/4MOaZoDeWETIXcgkS0iADxHaAxPbevlp2nEkk5xqZftgy4xLVIHeTJtb35E0ldCTG7/72fZtRCu5OKjtuXAqdWP+2Ejjc/N0Xj9u++35w1La9/r2PzD17IEmK3/7NQSuM8urF0yZ5fAIeCrGoeDwsr3/3o+QiTnaGSREvmMJRYGkwvcmJOg4DjjMTsr6SGc8RPM0M6ixFnPccUsXXZdKGd4O+/ec//6n7rrYDZL0LENzGDoqblh1LjtXc8g3J1/vkwaN7MoIUWXX1Cu6JlyoMcX7bbefgBrqkt3s03l22EKDbFvSXGjeAMMFRo9GQTz/V93/woKUkEVx2dQsv1JABEEDRvYSUdc5nLUtbdJBvWH/fc4Mfy6d9b8j1ieNyZfyI3Jw6LmeHD8m54Y9tLFXH5UjfW7rfYdl//Rdyuv8DuTJ8Qi4OH5Xr4yfl3vTFJIkAsmcZRNKn1Xwkp0I8hwNkJ426emcJjynFhIHk3VMmDXiZuRZIUaaDH7pX3fRIAMLL7LRpFkbePPk1y/ZCo4MfxibcySvKlixBjUJ6IqeeQoxbs2C/lcqStVLhehUm8CwXbfA/ltlvucIchiS7MSWYXrNal9JwQa6/5dIkBhWF1HUAhKhnj7E/LbPNf6kBOWb7cxwj6kb8N/u/c1vv8nsvM2kP4MuuG9d4eLhfSoWcqS10HySZkEpLug+658UltTMMZx7BFDxFJ9QF5/QeTEUVyhhKBhBXsVBVUccAx9zyzW7LV/4zio0B6Xtw3zg6Lntcp9gWcHUIGP2e74iThPsjHuNd3Z2REaOJ0le3ETr2/a5du6znHLOuJAAFde7KlUsmMZivgz4F0fCB87lK7TMJhwZBdsbo4j0FxWcynL8od2eOyc3JI3J98rBKlS9kePG6rK4ty0julgJlSu5MnpfB6bsyNHVfbo6ck0dTt2Rg4r5JQDxg7g0bNQcAQEbi4XggloOTIZ+bl0J+QYqFRVMdCYYymJiUrj3QHv9ZF7GZPSCdl4RocQ+GG2tcFN0TLhODffw/Ljnfz4+J4cu+D+fNju1dzs7zbQOR7PcU+8b5R2+MyLtK5F4F+JH3svo7otw+WP7PDz/H/8nw47leds23VdoMX2GaAIxRv2d+I+EPTspHglmsdBDf7jnMDHbvGhJSlYHHCZCEVOmVLqy3/K3HLVmsYpjfMulh3UBSERKVegu6LVecNFXKm6P5t4bJcU3Su1lnM0YZONEOuL/kCICTrles3zKSHiKnpy3P19d3Vz7//KScPXtGDdx7NuUZICTmwkzFPDMA8aCeq5Vx/8EciAtNFq/IUP64jBVVjVo4KSOFczJcOCVTpasyXrygz3FbFlWlarTzBgSkFA4B3mvYOAy2Bd0CEHc88B1czaPdaEzl4Gqfj4zmgv78O7LfHlIA1tfaJoI7baboXTYOODU1Zi+Bnq8Ya1YEU0c6FLsz+7jkqFjdOV4AjCokRGXJZ/1p1omgMnnK9sG8hxAJzcIohcTtSQt7Oqi0lKvA0ehDizRiNJs1WVbDsFSelcGzj+TSW9fkyE/OGSdHlbLxoteUU4vOBJ8Y4vyy7Ma6LzONm9s0PulnnKO73HO+bxt0YAnJwvVO/Vo56ZlxWR5QlbDpDcp4X8y3CLeGeyGN+VDe79U/SvzC5eBUIcUbdZpK42KkBxa6v6tELPN9mBiU7XwDfskfIkrd7BSk0ZmXxqrq8u0xm3a6tZLXd0v/qYIFwSAcCMHnGHR1AzBwfwzvSlI1p4ATddhNbgDjgsWIxbNVUiMclcs8YgQJ1zwHyuea90i5G/cDpqa7ZMzUbrKKy/UJqVQXpKxjonRZpspX5J0bP5FrE0fl6sQROfbwLZUmx+X8yAdyZvCgqWFH+t6UfHFWZuZGpViaU9tNr4v6ZMmN3urIHU4etjAvl6nw0W3R01620rA+09aKCruFdkXOALw8d8XrQULsh+sPlGODWMltFEd1DWnncPxavQcZqT3byOH3kWalAnjdddu32ai3pbWaNx8+LkpGpYk7MdMNSbVgxlUKfFAhcrW7MvL5WNL/M9eul9W6TYDBnAUDvQALOwNvFnYH9kZEzOM82eiNkXgsJaLtEUmPgOXg8SGzlcyOsDSQzI2LH91KTc2Z4R8Qzg3Bot4ADtQBiDbcoCF9QkLvHC6lfbA/oCO+ADf18TBx02ELwnnDZvdQoeKSW0d1nRmt5tVBcnnrTmaN4j5NxXq8ZiB31WU49SjwgB5toNyGolMJYHLdPZ4XCQINEffhWQBz1z5VkFSb02poj8hSfVKWKjNSqo9LpZaT+cpdBcZhOTdySE4NHlBb5H25oQA53LdXTg++J4/mzyp4PlNGsGgAW12r+HlqYxbtd+Pan8tT/z10wXWRhNBpJDMybH2y4zjOswVcUkfi454IqjDgBAEWIryIKLgGy8Fx+PhRJWguYpLGEqcxzrADBOtdgPisVKuNlTQJT4y2NFfmTTWIQUloAAT9Gy7VWsvJTPmqbQcgG+W2zF2ataAiXiVsANSfg6+cMm8UOVYY5nB8PF60E0UVwl5Aovzqv+23fdiOse49eD1xEeOcc+D58j6+Dg5AF32xIpA5fh4mAjiUYDa9oZoDInnizPjzakE3yN2Y9Heq3G1jQ54+xo27rtvwulAZB9EynzgfeFMJrm0SlTJo7LolVYuWSvR5mjYC9tY8c6ZDEy8g0IYaEmoeQKTBA98UwDDhJYwrJAhgIXMCkNC0gKkNiHlEsJC5CVGVYJpx7xFYtubmm9yrSw4nvGCibcEmQffnmBUlaFLtSzqWGmMKDr3n+pxKknGZW1L7bWlWpos3VcU6LSP5z3WclNHCF/p7ypYHFo7JwOIxa0W6tlG14yqNCTtvo71gz2J0bJIDO457BCweTDS7agPj3Rmv21n+3wOdZAL4NwtHyh5Um+iEnbkAafuDm3fQdEoXWZmUAJker+DlpMIU/psEcSBkAGEKtwwgG6trUmmNWSuhYv2BeVqon+4FSLU1aV4fzgdhEUlGgkyrTmquTJU2cT+1sZJ1aEsh1jEAADSVSURBVMQof/273j+X5EUn8sOmWuHGBTzeW9f75vLfeu7qL0AATLiS937nA/n1fz9gv+zT23oUKULB1MXf3rC5E0/+4qLUxgvKzQrSVnWmvZIzd214SeBG3tU8tZNJ6QtGQIlTUf+QSdQ0J32jY4yE/+srqho89mZwRKqt5l8/Oomg5t7U/zhEPG2jX8ZNemCojttvo+4d17keBEDEGCkyodu85VN827ZuIxXEdW/AFGAIBur3nQCfuGzEI4j0Iz2cRjxKzb7EF5BAdSXgEqBojEu56aqV9dJSFb1czcmn99+UhaVxGVGj/d7Mebk/d0ZuTx+XS2OfyODiJTXiL6vhfkbuTJ/Q9adlKHdDaq2cNbouc04d6xtOw+ZKT+/GpYj3AwtJYTSePIfelNtpvLfkgH0BvBVMIVLrqjfT0ygCK1kk3R+4V4L4y3Iuwv9IPswAko0NA0gsO0BKjcEeQGwHhwNkYtvDYKyubJTU8LxlXpnl1ng3trDRasrd/Q/ks3+nFBaVyKPbES0PlSniFk7o8T+LrvsxCrRXFEQvf6i/Ko1+RNPpXoD4HIXMo74yo4xlRm2mlQUrX8UgxjgmduEfKQJSuGu9J21wbJMuxlRqBpD2chrVjg3elQMnGEvb2uAgSUlr//oruqE75/ekxLZ1FMFWQwWCILFrvMu6fye+X+Qi0bOMYB0qFPcB8HCVou4BNGzAiBt47CAyiNdM2sPceA4HF3Th0tKnyvDnjuftqGRBMi0Wxh0c9SkpVxZkqThnLl9iL48VuGeGD8nV8eNysv9duTt9QS6NHpFbk6fl1vTnuv5TtUM+lE/u75WP7v1Wbk+qDXjzF1Z3j50FOPB20fgBSeLPGgBJoYhNz83yyHlSo1KqDl0muXeP+wRz87EH1ETAj5cBSMgyhYMAEG8+5kGXrv84qVQeoPHszRCtfNSVRmZvrGFkVlvpw+sNr29IodafAaK+GyDl5lD68KRRLJuey8eB+4ZuaM0CUlSYWWU7s8ty7tXrBoawQSLfygCSVKWIiEdwLyuaimOyJEkD0TYJ4gA5/avLsl5xAOPhAeTuRbplAIl0BhfnWSML7jsrTmtY1kKvtA2AAI7WcjAW3Z7WoY4Cjj9+85VxO5u2WT8y0oTOgEgZItb0V3au7gSL7eNc0d3CpIMQ1KP5HGCg8R/aAt8cFZCmCj4BDuog3zl5t9Z99jCCmRsp0OYqJeqM19VbJmx69mW1NZbqozIzOyGTU2OyXJ9Xe4Q+XWvdSYO2nii9KHHXO3np4C1bL8sm2RZIShvrCsqK5JaHZVI1iJHCWZUmF+Ta+MdyZ/R9yVcf2rVRt7jW6vqy2cXGmEzVwsEQTfNcurh9SOUjnjvv6Yu08BhKZDp4PYvbIHZgKohJtgTcJUtWTAlgaT9ugB5CfX33LDbiXi46w+dluVyVsdFRqVWqUlgsqCgf1zFh9car7RWL7BYrU1Kqjsv0wiOZKwzK+MxDWSyNynx+xLYt5Cbten5NnzMDbujgcPHooPaIqBNkSwaODHWlRJasGABJxrwBBHBk0mQ7IOKY2LYdIBjpNHgLg3B9oyZLzcE0hiwfqntfxk2jBU0GGpfCzQSQHombpEeApbsMQBQwTMENt0eiUjDlDMrdsnxkiA9jnzb+4bnx9+Uu3ZBsrgF05OzZs2q/DFr6CAmFft+trnuZ+w1bw4OYnp4PU/RMWSQFxORSg3tg35W1shrOo1KsDtnv/PyE2UJU7VEk9vU3z2VVbYil+oTljDFKStxFHfw+mLugatQZZZSz0tH9mgqcvvnLaq8sKlAGZLx4XkFyUvrnj8jNkQNS0HXt1ZKpWMuNKVV16ekbXrqGGfO0z7X7NaYFc/P/Lkn8HYVNZTlx6Vvtobnx9qo0L57C3QtXefJ4w+oInj6hFYxvYz+aOpw5c8YCRXTp9vRs8m8mlBMV7Pfy5cuWTUqeD94b+smS8k3OC/9pXgwXy+dzlih24fz5lPb9wLiR1Qw/doB4/QNgcHFu/aNClG55N5D15YYsXpuTkz+/7DXpPSkh3lUEtSu6nGRdRgIwngCZqWDdGvU0zqntUX5QlvWyG3hIBlf1cAm6cWeRW1M1XMKYqmK6rQMEwvXcKufMED0dBTdWkLYsZ2N9hW0dX1bp8VS/hatmXg/iVYVP7YPCuantRkUK1c5mlU2qjjlgNnEi1MwuwD7hG9DIALuE/UyNNiJyx4h7hvz4YI72bEmt9mbRuKKxPdAyOlJt4KEaVnVqVAl61jot4qqHlugp3FotKiBGDRSLtQmZqs7J5PKsjC3nZEhtqcFqVT4eOCrnJs7JtamzcmrwA7kyfkzeu/0rmauO2DNTx7LcmpGppetmuN8eOyjThRsGkuXmlIJyxEDRXima6mVMTIFX02M6uk9F1Tx+WYcXrLA8JPnKoK0rVcd0DEu1OaN20zxxkOB2YdX7h0U/RJe1qX6NQzFPCN33PGUAiYH0wAdPsUmnpWpOoy2rfPDOuqw0lcu0EdPeztQk1JPo/ufLTtjun7ZfI3patkTPVO8ASDYrhBVRWD6yf8wkPbqqn461ptzaf1+YJbcrCUwCpBT5VAPSVbFCgiBZeqRJd//usadk+PioZ9am6/m7Cm+Qp4w4EdVsOWyELNcsGYAJLJGXFtOThVjn11yRibOR8mCp6kqwYfOh+nI8zIsaD1yqzqWRYMnZgiG64TEIrkecyV3II+ZZYsox9vd0+xSENLC71CCKHx6dZ6lAi3fP/VvsYxV13N3Ya6raQHAFlRql6qjaGbNStXZBbSsbxgtmOV/LCuLytNyvrsiVunzrOJ/LSV/jmZxRzeLq4qjcKpXkVmFWbucnZL6t9/P0cXcWrEa7KDPlW3J34pCqXB8oCKYtWbPZWTSgYp/AoKoqjVhudQomaSrNCfOmsY5RWB40QJUVtDxDuTap51hAxYqc+KQK2MdD96+biuWqhG93Q4cJ53HpUUvsnMXE1ioqg3O6XqMcUd493q7htcuuH/euS0S+kTkEvLFX3bgkpZvhjrNW9aEOpuHHuKhfWahK6V5B+o8OWVuhUJGQKg4OTzCM/7EdqZIBKqsHOb/3uixen5P1paZJ0F63djcBzu7X78ufze+VEQ6FUL3cnmupRAijMBmIAfSNzBnicQkn9q8pveXbKMfmHWB/mEqzQvfyQTO8432a6sP9PUbNqluKBfEWpDkqsUk2CLvrWXMpGC7quCdq2V2Vinkz6IjOc7lhy70Rl8B9W4Qg61Tl5Q2MAJdvV1P7YrpAisugDFT+MjD+s+Na/U8y3t6UxuOn8k2qze+sVmRy8ZrcGnpfBuZOqISBwHMWL6m1Zs3bhZRYrs2Y/bTcorBsWu7OnJWZpUcyWbwrc+VBuTV1RsYLd2Ukd1OXmcSz+1GSBOHjbjpAyMCMQKG/vOCEbKdZsU8fzMcgxdiiqa1egHR8quiu/k0Ayg0hN8JdFXHidqKK89v+61SlVYxr91bQZe00nWtXlwm8zSROTS0BuWKeWzRxaqILACLgYY/g9frsp7Tw+UsSxKXLMd2nOeVz70EoUZvhga+QIM6JiR9wX9wPEpb19CsOCYKniHs2ppKeJVe/p+rIoEsQky7bh7uHfZJMuHbo+V6no8Z8q2xqFd4rGmt0YzBJE6DDPt4pJIe7bl1CmIqY1EF3sGCjuMcq1CkGbmUkvEsiZ0IeGPU8LaLhAKOkatNSedae+5mqkH/68x/VYK7JRDUvN2tP5V7rzzJGKsj8glxt7Cb6/9PxoPlcqpuPFSg0uvhGVaqGjMxekuuD+2Vk8ZQ0VwkqlgwkvBvUsHKDMMOAzFZuyo3JY3J1/Kj0zZ2Xy+OfyRdDH8hZHccfva3bTvQGClNFIZxri/mjMwkS3A8VybjblnssvnyG6qOEu+bcxAIwhOmVoxEg5Df6YIXEcA7rxlMGzExH54O56zCdUwEQ9lHW6MGT+GJ5cZHoMA2IPWpcKOTlypUr5hAYuz8il35/12IfxEMO/9s5ufPRA3l07pGMX5qQN77rae3EQHyyzkNy+Y27MnZ6Sq7+4b7krtHRZdNGGK8hCcx5gbqoBDU9PaXEsWy21P37d+0+4NZ0hFleZlKatm3LLTK3h1evYZ/llLOifrSauNZLliVLqk84S5zYeS/+v1FbtFahLOPapWLP4gx12nx2zAg2wt/IJpsBQFTuOaiRaC6tWA5PpBumpIvXTQWhp1aA1KZf0HNbx/MkRVBZlhsz5mYtVSb0nnNCYNOmdH7+VBbaTblde7KNmIcXSkZTj+rPdhH6/+140PxSljefypff4B37UtWlsjwYPym3Rw/KWO68SjF9xwqW5uqCgaa5klPJt2DAGM5fNc/Yvdkv5PbUcZUqxxUo+2Uod4E4SCZBnLO564sGAUgQNzjjZWacyfZPhEIKOyoQL6hRYyLFZKDqvhbQso/tx2SdGQMgkTkaertf34/3HqmAwF13SZUxUMEp/b4sd8ycBPMpW7gszGxFVib9WKvDRUuBf+efjsq9ww9sPQRdKS/JTN+UzFyaloMvOkDeffGENCY82LfBBDVrKfAU6tEuaefri0VPH8HJgBMinyMJkO7kU1YHgS4+PQV4cw6M3JwCZdZysEj9wFFBNJyp8FBh/Ts4Y7KZYZOqVa8uyszkA9XvF8z7hGRot13VM2/VlucVkVuFTeJdSTya7FFiT0L0JuOuXoftybeGoTUaauxWPZ7geVje7M2zAWrS7qCrT6o+r6raOvl1NXcYfPO1LK49leuqAu0kYCPiyqbd09BCcdv62wqYh/UVGap3ZLjWkKFaVcbU3p2uzsqk3kd/tS53q+tyvfbVrnPuHLcaf5LCxjMFytfmRu6o5B2euSDXBw7IrZED8mDmExlY/MySI+/Pfa6G/m21YfpV5Zq2iDySJgKPrOvGQcIw849C4XvDJQjeFuMa3szBDU9/0fYC7eW69HDP07rVXVsEXvehzaS/6HSOZIMEsXelitkXmd4c5wRMfJxnTzfTdncthtQJ45IPHQal2wJrllBpbTM7DRn7fExuvN0nK8VwEQN2fwZ+Hx4aMBuEiUWZYDQkZ2z34cDcCRBnIj6C2IJBoPrYusS9jbFseX2IqZumJrot0X0OYxr+vuw89ktN+ZIszg3JzMRDSyb1mV0rxjzchiHJrtFVqUgo7CYIpt9wCPgEl0mlSt++q04nIHmAMzE6tb2ePd+UhaUHMpfrSxKubdKcvl2tJ8/lXvObXQS7jXibImMqOceVmfXX12Wk0ZT52ryqaZPSaBWUWSxItZ6Xaq1o0yFYnlVDVbfmuHm98sv67OVR6a+U5XZ1S67+BSAy7jS+UYniQKEHGeGK0ZmrcnPgQ7n04A9ytf8tOalq1NEHb8iRB6/Lvhs/0f9/kFvTJ+SErj/Zv08+ufc7evP6h+cleGGPcxIChhYoJEpuH8kliL/ARJSE8dMHZZ1PjBjG66rpv7xEiCH0YoglvCvOtbynkgXRbD3ncsnAYJ3ZICn4E6rBbkJ1sJiXZd2rIl1S9RDGRgS/kkRIxMH5mJvj8mu3pTbiUyF7ZWMwh7iGe45CP2e4AZ4th0qZjUzNzPbxRmwUPcW6+G+evPBumZ3mEmpVjdDFecBBAqLXPNC1xAC07uk4PAf5UhjjGOJhS/AO7Dd9G6TCytqSBdVsH2OQnm7PuZ4+dmmNxGIb97SyvqQA2TDVBDWMRtd4khpPvpT+1ldKrLuJtHcgJYbqDQUXkm1I8qUJs6tW8dIp3cC5AUSMpeqk2jRzslSbMIAAjkIV9/G4xUoMLJVxeVhtqsT6y8BEouTWVT3/2hvvra93pFydl/7xL+T+5Bm5MHBQzvUfkM/u7ZXLI4fkzMA+uTd1Qm6NHZWzgwdkj80cZZLD3bDB1TMjPThY8qUb8SZOb5zIC4H8Q/vk7BANhIRE4cMBNvZlPZLAt2fD3JfpI3GuzE5hkM37zI6Le7N7Sftky653x/C0ge2SymIpdt8uQRgONN/+mGTBVA0YPZ160w9sn9gfjmxcOTxyDtIsmc/X9bp5A/QBTrvnxCRcsiI9HXAWod5Mcwm2KCGYkfkZ72OLdDCD35iJx1mQCK1mNcUbSA50RhDXNffxhvcDXt/Se3qCBPEYEvvhQvfv67NNhQR7+nRNlpuTUqwO2jeK7o1Pv/5axjvPdxFk74BwH9TXZEalhLtTR8zLBUCI+MPACOyFqzUDSFpemrQM45raV5VqTsomYQpSbeQUONOWBVxrzlmpxHDziVyr/3nXPcS4oUBZWFM6UqCgeqEWlkvzMr3YJ3dHjsrFh/tUquyTi31vyIV7r6tKdkgBdNhr0oOz8D/UAyrhLJcf9SG96F6xbx6cLpH4R/DeQ9k5+I2AHz53V32CsycCStLAPVvbbRDGNgmSOH9Iu9jHhx/z7RLEpYszgCBcjy7HPfh9tK2mu5sT1pmwfWJ7nJf7jWESBCJLoIvtJn2MO3vmQYDSbTa/j4iDmJTBU2RgSW11dN/VdlltDXKW8mp75NWWYerjESmWSrKSJpZx28Lvj+xb7BJnHJmN6B5Df+fsT3kuEf+Q5NuZnEuOkGQYso3Woo68fUdsjbWnz4wz7yRCBi7YR2pLTFfnPCbSE2soVUfMqPeqxkGpWFCxZ3v6X6wNWZZuW1VKUuvxPLVICF0r2f/2CjNiqb2wXLBUehqur7TJ6K3JQPOvOwBuApT1L81ewutFTcjs0rC8euEFtY1uyNWRT+X4gzdVerxv6fU9uVjOuV2tcC+WG+kunv3j9zYfiAS4RAzpY/RKIeNAT7wqDWPdm9D5h+g91tUWP54R6/3jej0IXiS7D1MbnMi23YsRu+vOGRHy38FvqkM3ec8H9xrnDGlBukikjtBVxGJDdr/ZfhGEc1UsMpt9cC8QHdvM7Z3UTv7DxU1tSvv4u3f3roPVU3pwbS+XZ6WYp2kbquxKtyVncWkptQnV+6Lgx86Nq9vb6yBF3DHi4K9UFk0aBdMyV2ebmg1nTBC9x7+cgXEteuPyrA3l1IuFYXt+cqfWnj2XubIS4uqq3G3sVmvu1B/LbG3GUkx6iR6ibrT1PvTZyc8qLE2YGji/OG6xChppt1R18zoRgnsT9p5qjQWVEHSGL1iuVKflAzD8pTHZ2tx1X982sJeaj59bzf9Se8Gi+lfHT8iVseNyc0JVr5HDcmf6pDdt6BK3iXwXzZkEcSILQg5uzT527DZO7ucIbs5HwUi3VJYvvYEyHhbzhiSicmmQjjHJkfTlRMQGLkt7oOGyXze4b9xHdgyE6TZUqFi9YMwkSLJ9NlMEGeJOnLwrxYwD+7M7wTP3hE9Y4/ZTSKFwDritZu8y3TfrQlXLlhMYeH89zInr4LGrVualsDgmzbraEJuAhdajzPY1LHPz86lN6Ip1YG+0VqSzsmJBOcCBK5d4lEkQvcbZs6fk4Hv7lRj75cMP35PFxSl71wcP7pM//OE1uXz5rIyPD0hf3y3l6tNqt1BjMin797+l5102hwvxhZVnX8lY50tTYUaWWmpcP5HS2uOuSoN9Ma7XBhgM0jSIPZBZC0CIamPvYGe0OpQEENH3ElnvNK8SYL0sG8zfvuE2aSWqDdWAr1SZv303GL5tjDS3u5b/2sBuGl/50uyoL5U2kSioX6FGEuhMKlbGuSM+gYEdNkgAwMHQ641JkiMdkwX9PGPSg1reOibUAGweRGLXuwL3/BZ1yVUaN7pRsQwg3e27jXS3PaIoCVUovEkOIP6bugdRJt07UlxCivpMvkl9IqMUG+mJ21NOyB7/YR3pMG5T0U0ws6dYBpxxLCDw6/bs0/Ms9s7X3X27OD+sasOCSTqA0ajjOqYbunLbhQAHCXVMUZA6s6uRit1BoRQBVOwHk5oKkLnFQXnjD6/K3XvX5MOP3hNiGahI77//rrz55l6533dRLlw8If/24x/KxUufq5SakBMnjtr2p8+fyqLq7Ds9UxP1DbUrnitgnktudUtGa2UpJGmBa5R6GNI58DohOQAFKRw8E9IiUtKxk3iuUmUmBRrTOdSuWLcYTFuWKpO2DXuDPl07wfBtY6G1ugsI/5mB6rW4+tgkKnTBN2u26YuFemME2qOWGECSkW4uTF/Hh3eXpi+7BHFQGYEa53Y1JgzoXrWGda4a4dPnPM5td6o+XReundNdxdzwdqN8uyoXwOx18xLAxE9vY805dq96hMu4d5n3QNSaDh+eE9UwxhHbUZf8ehkwXcVzBuMEn5btnbh0MrssMQhGV7XbJNGvLMtLsyY1zEEBIeHqVElCNR9ENDM7rarGmqlWnY6qSJ1V68zearcsvwkJ4wwizY+OtNN77R++Iae/OCJnzn4qH318QIbGbsnDwTNy5LP3JVcctkl1Dh8+JG+//Ya5o0+c+EwOfnhIDh05IhtPNuVB8+suAWFb8DteW1Mb46nZGfSkIpIOYWMzMLVzpTEpucqAETZA2ERVa89bqsfcooOAZELS7NFQFnOuVtn66pgsLU/L8AgNLuZUYk7L9Oy4TNgMVENdKUKLWu9y37AyZyv1TdtaarA/bLi0I2JPTGamuS5zrTX9/5eN+Bi4nrF3SEehf1dP69GWTZaYSZBegCRiSB86I47MXbqNs6OGGPfWdT3HQ2ROLBCQqxa9Xp5egg8C4xhUrDDSs+v0Sh0Ir+cY1Ce9j06Dct9UU1F3IDphJtuFKHj83+zJFOhK1FRHkIi5F5jdY1D1es8RDMe4eDCAXnvIW+twvlYjL0vFaZOSnNcmbanlLEJO6ox7e2alapJjTTkzjGPNVKxlfS6qBn2aAE/Z5ng8fiTcNTt55YB55+bVYRtzhT6ZnL+hqlnObDrcnkiUdTW6Z1afW+wAbw9juK2qx9YTud94LMP1qtyqufE7XGpIsVm0PKaCZcCS2j5iAMFdS74ToCEa31opKOGrlFietDSTm7duqOrkgEDlwqmAmoVKZiAp49EaldGJh/L8+XPrwnLu3DmbCnBsbNC0GpjdGuW9KikDLLzLAEyMlVUmEFKGt8E7oyR4WYqtttz4K7GTGMNKN7iWK83J1LQBtKy0bMrd3SpW8khtuO7sHhG6a5St9tkDhc65vUaAuIdzcbvRFRDuJZ90SIGArOBpi+xcDNbE/RMxdTlyuiZA6wIkAYL1fkwGvky6uD3A9gwgOuo+54aDOrOhuqDbzAJjcU7uxVWrTJWMd9BlFOm+u8dYxVqmUm6kXKwAO+cDDO7G9YkkKd7ptJmzvCjT06OWemI2h4IjJEezrceoWgVIUK9mZqaNwMyJsoVbWKWcXreuxrDbay3j2hAxxJer9NvEmaSIACJiGFv6LSYanV0EclU57T0Fxpp+o7wa6jdrX9r6m/UvZaa4qACYtnRyQEe6CSoUEoMZrayZghK/1WWQPg5A6sMyMkbZw6RKCAcDaemUCqMeWuOGJEXwYI2OMwVCv3z88cdyRKXZw4cPFWD9QvcRpEW1PKMq6fw21cqenzSZngGQYrv1FNZ9Ku2mMYKdz7xzDKskoUR4j02M82zL4gzRa4n/BFQQgU8e++QucD5TsRIh0uqHXKP5+TnLLyL3iNynyTQ7Luin1oC6EPoRQVinTn1u3gu8MbwsOnPMz9PQa8F+c/pLf1dSQSJiz3UxlkhlcYPbubOrahknN7UsgLXu7thOq2nz3a002rLSTJm2yVh2CedGeTgMODecOLJn3ej2PLIwuLm2q1vhtcq2u4MjvGbJs5Vc3w4i2h2VE2NoqypVUN2aSS7x0ixZs7JPPvnEmrDlcosqOdoqLVSVafNs6/a/1li1d048xBkT6fBU0W1YnUO9tWCG7pOna+Y5ypX7LYZRWB423R6vzZdfPVF7YUYeLNd3EQbjRv0buVt/LPm1p1LffGqAGdR3mKdWoky9xZSpT0gIjPLO2pKCgS4jyyYNSB3nmt7aZ8yIfmp2wNSmwpKDgXVurI9IvjC3zR08PNqnIH8mtRqtg9T+aDZlaPSOVbpC7MzWu7w0baroThvkrw2roVcJ1FDt6H7jf5+2MqPX2eMG54Y8VtFNQc7W+poNJnQ3N+8adRphgJK/48FBdEhzO+pHhdjphMgUujZh+7LPGIoKwDIvhp6sS7qOGXNJ2qPjHaAih4mEPnKWKOCBc6yuuqEMMXI9vF+ZB8oB2vWohTpkqhBqk9eY+KQvPmdFGM0wglj24Qa1bX+C8dwbxPT6FJ552z47DO7nzzd1nW/vvaYdZ04AD466Me7p+xarMf3Z4xiNes1KYA8cOGDzh3z66WFhWoR4DhjXc7Jq9TtRdOST6RAv8roPgF5v0Su3bakZ1g6nOmoOi3JtzIgWrwzgwFOUqwzLveXdkmPnGFE167ka64V2XQoq2YpLw1Y2WyZIV8MDtWySwIuS6kb0eQUHahb/a0030JEiqCvMgwJTXVLQACIKkqAN+mdRe9EFyMQtU70eDtyUvv6rcl/HzOIj76GWiN2SNhUktcqsDaSKD9bNmYQJNWzbsOKuthQ6a//b6P+d+nNSTTqy2qSOXLnpiop7asp1NGtNkyAdOmus+ocNGyTGdhvEuaYby5maEjp9dox/VDjwH4loWpQ9Oybctl3OriOkhxNDpmKFnWPqTvc+fEBc2wKS6zGvRaa+9apGdk7zfPm9GbdJKl+A0tTPzZA6XkeRub4zj5QtJ+CGW7dcmpb8onLJwoRl47abzDBVNQZC5SU9bpG6N29es+eMezU7aMtd48RCvJeud+IIxwKxBVSdfO2RTBQvGOfOq+RYKAwYwMJ9iRdpdmlI7lbXdhHDztHX/EpKq9SLlyR/d1E+/8UlufqHWzJxdVQWRsbMzqC0luKk8EzhsXLp4XEQfnEYhMTIFUgzGZHZeQqrBs12oUwbdbLeAEjDVnTFORkNvV/aA6HqVKpzVpwHkUP4jeqig2F5Ttp6bFNtt/oywFjw5XrOAMPvLpDogEHlVsjn2v3svWNPp0EvK1QQ7BCMWeo5VPzXGiZB2rWWrVttu5HuwS5GIrBEMBCPT+RCIM2r4rrEYgTqMY8gdP5TfLS2ut3QD8JFPbGqOiVUPrI1abB9nKgDVK7nu6qDTYSdYwDpAihA0LLujyyTLRtEn10zI3CPi/i6XgbQC5io0+CdGKPYIsjn1/R7Cg9XWypLszI79VAK+XELAmJokhp/+fIlUz/n5mbk4sULQlTXUnJSWo6/LxwozO9HS81xsXR0AMo96nUgetPpG9P2LSBabA9S0ClNNZXqy8fmXZor9cut6uNdRJCNP6tqtSUlsrJX5mW8cF7unzpnTbkPvHxEPvgXn2rixM/PS6dU0WtOWgyDAB+ShG9f6gYJRwwgrU7etgOQQnlM+gceKkDGTQVjPwqdcEYsLeVNJTRP4nrFatmtLLZBN5Qx64SC1DTpQVykVTZALC9N2UCKNBQcgIbRVAnj8zMu+LYax2yXKNjIA62/rmpZoNAMUZUkT7bUuFtbtcF0vIg5jyKzHX8+XRTZ37maqV5PPCUhzhNJd74P8YQsr8oMYeOM7uGxOouUpZsZu65W+TEQb9PyuWLW0iBUO0/PMg22Z9VwhSPj+mT6MlS2wYEBYfZSxohKRIJqcOtCftHE+8I89RgzJubL5ZLq/vM2BRo1HS7dIvDpI4Dqqd8uyUzt3PKotLuu/fkwwpnimAxcphRmCgEawN29e8fstb1799o8G16lmMCVpFOoswQLMdpJX7eJOFMMh3dOcwKICAJErcotqSE8e1u5cd7sNqLfqFR0HpzJ98m9SnsXAVxTA/yOGsujTVWR2iWbxm26fFWGFk/I7aPn5L0ffiIHf/iZgePAy4f117tKDp655xxfCRmXKFKrnmIexbxKymWkhm/nPtmXQiW6m4xPACK3Odg/ukzyHgA8YGI757QGcw2mbyjat4Owkb6tZH8gQQwg+gtoAAI2CmDpNB0QdZXYDANNbbtEaak5cbPxx13vpQsQ47L6gCtNCpxWzSWKilXK0XhhzDxSEIbFEeCwoWIZ1/YIdvj+jeOZRyUyc5EcpKy7wcp2Vxf8PzYAhN6dnLIrRZxD+zEuQXpVmUyC9ByjXBnPDg2i6T4I0VNjgS0ECAAIEgYA0N8WuwkgABImypxTMFFoRf0IdgB1GeSP8Xy917Xl9KyoWBjdGVhToqVu4yMuzKq6kYfrV+2aeKXeffdd88qcPHnSGvZF8DEYTAzOAwjJrcJec8aR3QvfACIikZB68Ln8PZmYvmdp3UgNAMIkOnDwuaKCo9zY9fGv157IwNK1buPo0eJpGSqckOHcaVlYfCCf/fRzeefFD2Xfix9b+fHBHx7X/x/Jvhc+lWM/OyXFGSfyahOPldsajVJBLuy9JDf2X5WFfpUSFUCAN8vBghqGs2Bsol/vT204ZZDMcIU6D/PAzRu2CC7kCk0YAEidXsQ+TZ9JEQOC52AFSMy7ldRXZqnlf6tRsH2QJixzXC9IiBstrW3tejddgBhXRu1Rw5imbtHPqpRzTpzNChrZvuHydMA4l/PYAuvC5x8BRcvSNa66XYKEmxWuQbvLiMewj7uOHSgs+7x6MT1AxBu252Jlyx6zwFC266ftlqpu63rVpSylxe/d59czN3W6tt9/7BO17y7dLH1kg1R0GIKrcahdNf0QuYURi4TTXJoOInjwrl+/Zp1g+h89NEAFs/EApqup3CcqLLYhnqqsy2HkrEXcqmFEhBt3cu625AvjQsmtq1RP1ACeUyN5xu6vXyVjfPDQuW/UNmWoeFVGJs7IyJiO0TNy66Te4yefS2lpTFq1gpz65UWVFsfk/R+dUHAcU2nyWQKMg+TRsTsmKUoFBer0ogxfvC9X912x+RnZ74N/OSKl/hnZSrUnlrSp9IHUHB5RtWrZU9wx8q216eK83XMABNvKWghhg1RyrmJ1g4JlkxL8R3KEgQ5QUMECAAaIJG1QsfhvdotKmdiHoPVgy13ZO8ce60yhBvpqS4lirUeC5JME6RbR9BqhmX7uxJekzEYmQTiv1zpDWC5xwriOvCQ3rtkfwvOcJj8XhT9ej80vniLPOHWJxHBplmwQrrvp7lYHZ+pxZPeeVJ4EgC5YNzxiH8DOtmeAMekY3jHbz5MJe9UoN8Tp+JITamesR22LHrVNqyBkNtsLF87bVM+3bl0XK0TqqqSuhtokm13CJ/kRmwPpNmODObztfev+qFOkY3SUK88X76s+/0ilU8UCflZuq1IDNWV66aEsLI+qujQr9xvP5H79qTxoPJG+8pIF//pyqkbduCpvvPiW7P/R+7L/hwflP/7h97L/5U/kwYePpDQ4JYd/clL2/tN+I3YGINn30kf2/8BLzBd/XK4pID7/tUqXHx1RMDkwABIqGW2Uxk9PWEo6iYoY5RB+rjBlnsz5PLNFkV4ymoz1Iak2wptFT60Rt6fq2CCL1v+gN2oOkYcRDuHj+gUQDhIHDwMpkqlZ2f7tpILZudZXvjWIuAcPFe7dzXX9SOurBg6TILsAgtpD4M8J3YlyB0CSsWxeqlWS+zBInYgthpBA5ud0z5h16FgLTh7qkjcSCDXLjfQsUTKA2FX30r3E8ewDEWZGut/btmRFA7lLCb9mSpG3ZMcUB8HQNrUm9tvuUIjBPqSM4KGqV3PWuABgwCmPHTtmxF4u+0yt8Q4czD7C48Y9IY3cIJ+weyEXi5STkMi4bfFQ5UujUihiGPssVEhZN9IxcMfki6FDcmnsmBwd+EQ+uPemnB49JR89eFcuTV2UVy+9JO+e/YUc+vdD8pO//YX88nuvyY//5lfys++8Jt//r6/ouv+Qn33vN/Lvf/eq/E/9HwDZ/xL2yLGu2rXvhSP63wHDL5LmPd1uPcWYp173v/T7a1JYGrX78gYPQzKfG7XWqHMLnqbCqLe8bVEu75F2bzrnTarxYqFitRIx9w6AENIAYxz3LoAIdQup4cvuEg7bxUDSo2qtKV3nV3c7MPZ0Gg3zXpl7t55+e1Ss0H2ZJYmPTtzD1SFPf3fVJqVibEa02lUdPmiXSycw+fZI3SDohhRZsWh76PcOMuf+HEMw09NEnHPDZTPjP0mUtByA2CkNfJ1357DjTAr15nw1TAWLc7rtlTkMHCSuyjlY03G2raXgmJT84oTaMtNy8eJFOXv2CwMIc6Bk9lLcx+48Ms6D2xfHCKDwfrcNKeTnbXk1pcpTB76kH5sUcFJFkBodVUMAP+ke9ZbaVM0F6Vu4K/eWCnJm+q6cnbkv9ys1uZabkIcLF+TSyAdy4p3D8pt//L2C41WVHK/Lq//4lvzmH97S5dfld9/fJ6/90wFd97aue7MLEJcix+Xdlz/VccT+W5d7A4S3UmIZYDDefeWoSqETUpqaMi+aNWYzQChAStMyODRgLmKzpRpT9pw0tEC1Clex9dtSgFCGu7LqgUIGhN9WwjdQGBDKJhGQIq1G0bazzQx4BUsngShskZWUOt/rBka6k2KzDSAY53T16+Ys6e82Iz1JEGq7MV7xFHU/biJm58aea+Uc17mwzRNhXNyliHPL1LQhce52q2jE3ajRycMlB2nlNlPpY1d/zIhNXDaubZV76RwunVy1CskQxO/g9G3bPVLcY3Zf/Lp0c8dASBEvhPJz+P17lq4f03BjfI4W/zOWBXD69Gmbq4+YhZ/fOX8mcRIg0r3G9WmjRAr43NykvfOo4aAL4uzchEXC5wsPVdWY1/faslQRygiqrRlTqYieE7iDU88Uh+VWcdG6ipBXReLe9cafZbAyLovV+zIypwT97x/I3n9+3cbvvv+mqUW/V1BA1EiHd1SVevMH76tK9bF5r5AcSAj6iB3+8YXu/CtIivdeVuP9hU8yIL3kv+z/9guHZOTMgCczbrhjAcLvH7xr3rzFYmaUL1dpdzuo0iKfpIjnbFkcpLJguWZBzEiCDBilrjSwAKIyEAfInEmSnSoX3wwXsUuXYteQt/OqFtWb1LhnkwnsV7MGyl2A5JORntI9mHmHeSXoHBISITwuvVwZd2z897nuvCjII/DusTEJApCU6MiXifp108GJNnftDJc0qFikHOBxYv5CovIQE9KMZD3iA0xthiuU/B5mLGWSGjxaM9OTdu+U/ZLCwbyB7ENRkJ2HlOsSMzz53BpG2AnsABxJxDOa3ZCM5AAext7iHBNhjshnn32mBvhp61jCtbxDod9/ODJ6pWgvQLAhmPCmpM9j1XLKaTFOSR1fKjOjE3r7hFT0fxjiGL6kl+MVgoiITq9Qt14el/u1Lfng/ttyauSkfPjgPfli/KJ8PnxYHi1ckjszX8jdsS9k30/eUQnxpvz0O7+RX//9m/KmEvIL/++/yM+/+5qqWr8zafKz7+xVSfKuuXYPquENiJAMB5Agr6BeudoFEN5RgOxXlWv/S0cUVA4WU8leOSbHf3ZWGgvkaZUsXkN7z4JyejItZuddggAIsmhjxi0AxToMeAACeDr0BwtCVqJu1TPCxjAHKL0GO2AJMCFZHBRecIULmKAiAHF7xCUMqhZp/F2APN4kOIX3agdAuhIk9Oa2uU7x30e0O+pBurbAehYVh8BWOj4puwUXk2s3JI7r+q7GkAKyse7cvbegKAbeD+935X2AUV0wegn8kZdEmgru2cHBfpNyGMXEP9hG+x/UFVQX854M+7TIcC/cwP39D60XMOe9efOGrUeiuSHtwxwJFgRNiYomGfR9zA6qIT5mBHzjxnVr6B1ePybU4XlNAifA23Ky0wIg1JYTkLXO6ut4pqLs1KPK5CtBSNgkqFRIDtLK3cszZUYsaoglJpZH5O5yx2obLkxdkTOjJ+TTR+/L+TE1mu/8Wh5MXpDzp47Ix7/6WH75D3vllf/+E7M9AMMbPzgor+rvf/z9H+Rf/8cvFRjvqWTZL7/47t6uYd47AAXerO5/lTSZbXLYwHJAwfK+Spm3fnBIbu2/p0xszGMbNJlT9cemaBsZsuRHM8ppYF3y+URalgA5ZGn7GOm1OirWdoD0qkdIg6qe0yRHcvv2SgYAEOkovR4sQIL06ZUwJDoONJ4mI53Oh2tIkO0tQ8NI95JbVwvgjrgs3Xvjbkd3PbrNQdnn4sK89ew1WyEBwD1fDSP2rjdqgxlPiSO47re16enemWGdGbFwXGZcgkDpDwyHZrZd9xoxxyFgrFtHQ+6lqMRGYltIDvOfr+BOXbWWRNg7jUbZjoFAKT9lPhR6V5X0A5lKxj2iJqqEC+9X2EVMUV1emjfJRTYqnibLq0oNG7wGPfUafsyvF2ZxfYbVtqzT/ZH+xyM2Y5RJY90HLsvwDiNNq7tm1mHra5tfsAxZ9HOLXKsUgdPmywNSXJ6QuykQiCv3TvOPco/R+EoGC1flxtQR6fvikrz1kqpRPzyigNinEuFo13bw1qvemhWJgYTYr0QP4QdAUJfe+sEH+v9Qkhx4rfT/yw6OnWPfi4fVVmHK7mNy8OUTMn6l3yQCQKC9D91FRlSCT81kJbqV2nyqu5+3Z20SZESC1NS4hun2ACQkRAxPP3EAEBTkf2+JLus9bws7pUetSq5fs03Sulq7bqqWAYSERAeIe7AAyW4J0rGmaHBrtz0yOySCgKhfBORssnhUFLxYpm75YP8IqoUaxnAiXFeCJbc/paGjqyeCI30bNcvtjOw8rtq5Xp9NH5fcsabSOfe3seGNEbru2Q03uGN/226FW/4fYgcQRtB67VXLwq1avQaJhBiTcDrvIJLiMWavxP1naSpdG4b0/E2/d2w6ZoQiwTPc3pZcWB+3vCZ881TR0XeKPCraqcKcFvP0i/LUcmo+UK+YAfZhqbDLA8O4y5QIxRMymDsmJ34DMN5Ro/pz72SvwHDO/1HyUHmcA6IPIgcUr6mx/ur3XpNf/O0v5Vd/8xsdv9Xxquz93pvm2uUc7IftgRrmMRMdas+8+8pn+nvMg4s/PSfl4XkPANbVNqgteBbAesWi8EhBngc1i2F1IimSju21QiFYD0AsIRG1SkfYJObVangAsU7SohJ+L4hsve5jdkmt1y5xCcM2YiysG29uyR5ahWYSZDdAiFAjHZg/gqxb9HrLP0o+/AikQRg8FGpYUQ1EJ+ZMgkQcpLezIkThbt66qVlka5phbhIpBfm2vMrOXL1mkzgxemQ9Aylg8Al2vDmCEWZ0rgfEKQEwjGK/fkip5EDY8loVKgrb7SV7brt/3UYThdqyPtfmSupaOGTPGS5rP487A9yWijwq395VQ3U/3MAcT/CLGAgEAsEbwHTgzQIQZODipSJ13dLGl7xlTqE0JW1VOSrz1H6XZbj87eBgDCzdlIHc53KzvCSf7R+Qt15833oPf/Cjz7sqEgNwABLAAbG/8f135Xd//7oCY6+8/v19ti/eq/BUoVa9pWrZa9/bJ+++dNSOQdKYxEHN0v3NVjFvF8BTAL3wkRxSQD36tF+aeVWFap6Csr5ZM2nh0xEMS6E4a1KkUpvzZMU6yYq7bRCIP3KuQiKE9yqMd5cWDpjeEfGS8GjZerxaJD0m13G13dipYrmLd7cEacrszIT1jSVVo5sDlVQrV4u8vT56P+461B+yYh1EAMo/ftfNmwxwO896RLHpNu7GuhM2gbq25erAsXvTTTje7Juky3dVvQQiV/88um4Sa929Ye6NchXKwevcm9GbU9aN5utxBAFRyyj5JLqNzUFgy86/5Wkhbsj7rz3jVmoQt5W6wSSGgjOA6DhTRtg+qH2qb1sH8g2AgZQqWaoIksMnmoFwPD+pWJ6SEbUD7314X8799oqMTxetXmMnMBg3q23pz5+VG5WWLd+/Mygnfn5uu80A14fTKyG/rerT7/9hn/zm7/bKf3zvVSX6gyYNAM6H/3ravVj6a0mL+h8phKv3d995yyTF2y980PVg7e/aLR8ZqFDHOIb9MOiP/M8zMnpq1IBuToYaxrqrWY02MZEhs8uYz5D69uX6oqXRmARQoh4bfaQ0Maq25j2TJA8f3JaJ8QGZnHgkpaLaNIVp26ewOC4P+m7JzPSwTE2orZeb1DElucVJGRvpk5HhPlmYH1N7Uq+vwCwV1aadHtHzDJi3638Bu3mejzH1SR0AAAAASUVORK5CYII=' width='200' height='133' class=\"itemThumbnail\">\n",
       "                       </a>\n",
       "                    </div>\n",
       "\n",
       "                    <div class=\"item_right\"     style=\"float: none; width: auto; overflow: hidden;\">\n",
       "                        <a href='https://ormsby.maps.arcgis.com/home/item.html?id=86f92739855e481c82d54c6dc167ef99' target='_blank'><b>ExampleMap3</b>\n",
       "                        </a>\n",
       "                        <br/><img src='https://ormsby.maps.arcgis.com/home/js/jsapi/esri/css/images/item_type_icons/maps16.png' style=\"vertical-align:middle;\" width=16 height=16>Web Map by ormsby_guest1\n",
       "                        <br/>Last Modified: October 22, 2023\n",
       "                        <br/>0 comments, 4 views\n",
       "                    </div>\n",
       "                </div>\n",
       "                "
      ],
      "text/plain": [
       "<Item title:\"ExampleMap3\" type:Web Map owner:ormsby_guest1>"
      ]
     },
     "metadata": {},
     "output_type": "display_data"
    }
   ],
   "source": [
    "item = gis.content.get(\"86f92739855e481c82d54c6dc167ef99\")\n",
    "display(item)"
   ]
  },
  {
   "cell_type": "markdown",
   "metadata": {},
   "source": [
    "### Access item properties"
   ]
  },
  {
   "cell_type": "markdown",
   "metadata": {},
   "source": [
    "You can also access specific properties of an `Item` object. The code below prints some example information you can access. The [REST API documentation for items](https://developers.arcgis.com/rest/users-groups-and-items/item.htm) has the complete list of available properties."
   ]
  },
  {
   "cell_type": "code",
   "execution_count": 677,
   "metadata": {},
   "outputs": [
    {
     "name": "stdout",
     "output_type": "stream",
     "text": [
      "{'everyone': True, 'org': True, 'groups': []}\n",
      "True\n",
      "t.ormsby\n",
      "1697984440000\n"
     ]
    }
   ],
   "source": [
    "item = gis.content.get(\"86f92739855e481c82d54c6dc167ef99\")\n",
    "print(item.shared_with)\n",
    "print(item.can_delete)\n",
    "print(item.owner)\n",
    "print(item.modified)"
   ]
  },
  {
   "cell_type": "markdown",
   "metadata": {},
   "source": [
    "## Manage items"
   ]
  },
  {
   "cell_type": "markdown",
   "metadata": {},
   "source": [
    "### Create an item\n"
   ]
  },
  {
   "cell_type": "markdown",
   "metadata": {},
   "source": [
    "### Copy an item\n"
   ]
  },
  {
   "cell_type": "markdown",
   "metadata": {},
   "source": [
    "### Update an item's information\n"
   ]
  },
  {
   "cell_type": "markdown",
   "metadata": {},
   "source": [
    "### Bulk update multiple items' information\n"
   ]
  },
  {
   "cell_type": "markdown",
   "metadata": {},
   "source": [
    "### Reassign an item to a new owner\n"
   ]
  },
  {
   "cell_type": "markdown",
   "metadata": {},
   "source": [
    "### Share an item\n"
   ]
  },
  {
   "cell_type": "markdown",
   "metadata": {},
   "source": [
    "To change the sharing of an item, you need to use the `Item` object's [share](https://developers.arcgis.com/python/api-reference/arcgis.gis.toc.html#arcgis.gis.Item.share) and [unshare](https://developers.arcgis.com/python/api-reference/arcgis.gis.toc.html#arcgis.gis.Item.unshare) methods."
   ]
  },
  {
   "cell_type": "markdown",
   "metadata": {},
   "source": [
    "#### Default behavior of the `share` method"
   ]
  },
  {
   "cell_type": "markdown",
   "metadata": {},
   "source": [
    " Be aware that the default parameter values represent the most restrictive public and organization sharing options. The code below specifies that the item above should not be shared with everyone, but does not specify how it should be shared with the organization. The default parameter values mean that the item will be unshared from the organization as well."
   ]
  },
  {
   "cell_type": "code",
   "execution_count": 678,
   "metadata": {},
   "outputs": [
    {
     "name": "stdout",
     "output_type": "stream",
     "text": [
      "{'everyone': True, 'org': True, 'groups': []}\n",
      "{'everyone': False, 'org': False, 'groups': []}\n"
     ]
    }
   ],
   "source": [
    "item = gis.content.get(\"86f92739855e481c82d54c6dc167ef99\")\n",
    "print(item.shared_with)\n",
    "\n",
    "item.share(everyone=False)\n",
    "print(item.shared_with)"
   ]
  },
  {
   "cell_type": "markdown",
   "metadata": {},
   "source": [
    "For that reason, the code below specifies a value for both the `everyone` and `org` parameters, which is a best practice when using the `share` method."
   ]
  },
  {
   "cell_type": "code",
   "execution_count": 635,
   "metadata": {},
   "outputs": [
    {
     "name": "stdout",
     "output_type": "stream",
     "text": [
      "{'everyone': False, 'org': True, 'groups': []}\n"
     ]
    }
   ],
   "source": [
    "item = gis.content.get(\"86f92739855e481c82d54c6dc167ef99\")\n",
    "item.share(everyone=False, org=True)\n",
    "print(item.shared_with)"
   ]
  },
  {
   "cell_type": "markdown",
   "metadata": {},
   "source": [
    "#### Sharing items to groups: as documented"
   ]
  },
  {
   "cell_type": "markdown",
   "metadata": {},
   "source": [
    "The code below passes a list of [`Group` objects](https://developers.arcgis.com/python/api-reference/arcgis.gis.toc.html#group) created by the [`get` method of the `GroupManager` object](https://developers.arcgis.com/python/api-reference/arcgis.gis.toc.html#arcgis.gis.GroupManager.get) to the `groups` parameter of the `share` method. This shares the item with those groups.\n",
    "\n",
    "The `share` method returns a dictionary indicating any groups the item could not be shared with. In this case, the item could be shared with both groups, so the `notSharedWith` value is an empty list, and the two groups are indicated in the `groups` value in the separate dictionary returned by the item's `shared_with` property."
   ]
  },
  {
   "cell_type": "code",
   "execution_count": 679,
   "metadata": {},
   "outputs": [
    {
     "name": "stdout",
     "output_type": "stream",
     "text": [
      "{'notSharedWith': [], 'itemId': '86f92739855e481c82d54c6dc167ef99'}\n",
      "{'everyone': False, 'org': True, 'groups': [<Group title:\"Group1\" owner:t.ormsby>, <Group title:\"Group2\" owner:t.ormsby>]}\n"
     ]
    }
   ],
   "source": [
    "item = gis.content.get(\"86f92739855e481c82d54c6dc167ef99\")\n",
    "group1 = gis.groups.get(\"435bfd95c37b404ebbf9308b38dcd251\")\n",
    "group2 = gis.groups.get(\"d34a7555514b4a58a6a0f4c9c0ce4078\")\n",
    "\n",
    "share_result = item.share(\n",
    "    everyone=False, \n",
    "    org=True, \n",
    "    groups=[group1, group2]\n",
    ")\n",
    "\n",
    "print(share_result)\n",
    "print(item.shared_with)"
   ]
  },
  {
   "cell_type": "markdown",
   "metadata": {},
   "source": [
    "The code below uses the [`unshare` method of the `Item` object](https://developers.arcgis.com/python/api-reference/arcgis.gis.toc.html#arcgis.gis.Item.unshare) to remove the item from one of the groups it is shared with. "
   ]
  },
  {
   "cell_type": "code",
   "execution_count": 680,
   "metadata": {},
   "outputs": [
    {
     "name": "stdout",
     "output_type": "stream",
     "text": [
      "{'everyone': False, 'org': True, 'groups': [<Group title:\"Group1\" owner:t.ormsby>]}\n"
     ]
    }
   ],
   "source": [
    "item = gis.content.get(\"86f92739855e481c82d54c6dc167ef99\")\n",
    "group2 = gis.groups.get(\"d34a7555514b4a58a6a0f4c9c0ce4078\")\n",
    "\n",
    "item.unshare(groups=[group2])\n",
    "\n",
    "print(item.shared_with)"
   ]
  },
  {
   "cell_type": "markdown",
   "metadata": {},
   "source": [
    "#### Sharing items to groups: the undocumented reality"
   ]
  },
  {
   "cell_type": "markdown",
   "metadata": {},
   "source": [
    "There are several complexities for sharing with groups that are not immediately obvious. The next several examples walk through pitfalls you might encounter when sharing with a group. None of these behaviors are documented in the API reference, though some of them are documented in the [REST API for the shareitems endpoint](https://developers.arcgis.com/rest/users-groups-and-items/share-items.htm). \n",
    "\n",
    "The code below is identical to the first group sharing code above. But the return value of the `share` method now seems to suggest the item was not shared with the first group. That's not true, as the `shared_with` property confirms. The confusing `notSharedWith` value occured because in this example, the item was already shared with this group. \n",
    "\n",
    "The best way to interpret the `notSharedWith` value is \"the sharing was not changed to add these groups to the existing groups the item is already shared with\". This value does not mean \"this item is not shared with these groups\".\n",
    "\n",
    "For this reason, it is not a good idea to rely on the length of the `notSharedWith` list to determine if sharing was successful or not."
   ]
  },
  {
   "cell_type": "code",
   "execution_count": 681,
   "metadata": {},
   "outputs": [
    {
     "name": "stdout",
     "output_type": "stream",
     "text": [
      "{'notSharedWith': ['435bfd95c37b404ebbf9308b38dcd251'], 'itemId': '86f92739855e481c82d54c6dc167ef99'}\n",
      "{'everyone': False, 'org': True, 'groups': [<Group title:\"Group1\" owner:t.ormsby>, <Group title:\"Group2\" owner:t.ormsby>]}\n"
     ]
    }
   ],
   "source": [
    "item = gis.content.get(\"86f92739855e481c82d54c6dc167ef99\")\n",
    "group1 = gis.groups.get(\"435bfd95c37b404ebbf9308b38dcd251\")\n",
    "group2 = gis.groups.get(\"d34a7555514b4a58a6a0f4c9c0ce4078\")\n",
    "\n",
    "share_result = item.share(\n",
    "    everyone=False, \n",
    "    org=True, \n",
    "    groups=[group1, group2]\n",
    ")\n",
    "\n",
    "print(share_result)\n",
    "print(item.shared_with)"
   ]
  },
  {
   "cell_type": "markdown",
   "metadata": {},
   "source": [
    "The code below is similar to the code above, except that it passes a list of group id strings to the `groups` parameter instead of a list of `Group` objects. The result is similar, except the `notSharedWith` list now includes a additional empty string. This superflous empty string appears in this list whenever you pass a list of group id strings to the `groups` parameter. For that reason, it is a best practice to use `Group` objects instead"
   ]
  },
  {
   "cell_type": "code",
   "execution_count": 682,
   "metadata": {},
   "outputs": [
    {
     "name": "stdout",
     "output_type": "stream",
     "text": [
      "{'notSharedWith': ['', '435bfd95c37b404ebbf9308b38dcd251', 'd34a7555514b4a58a6a0f4c9c0ce4078'], 'itemId': '86f92739855e481c82d54c6dc167ef99'}\n",
      "{'everyone': False, 'org': True, 'groups': [<Group title:\"Group1\" owner:t.ormsby>, <Group title:\"Group2\" owner:t.ormsby>]}\n"
     ]
    }
   ],
   "source": [
    "item = gis.content.get(\"86f92739855e481c82d54c6dc167ef99\")\n",
    "\n",
    "share_result = item.share(\n",
    "    everyone=False, \n",
    "    org=True, \n",
    "    groups=[\"435bfd95c37b404ebbf9308b38dcd251\", \"d34a7555514b4a58a6a0f4c9c0ce4078\"]\n",
    ")\n",
    "\n",
    "print(share_result)\n",
    "print(item.shared_with)"
   ]
  },
  {
   "cell_type": "markdown",
   "metadata": {},
   "source": [
    "The code below attempts to share a different item, with a different owner, to the same two groups. This item's owner is a member of both groups, but is only allowed to contribute content to the first group. The `share` method returns a response indicating that the content was not shared to the second group. The `shared_with` property confirms that the item is shared only with the first group.\n"
   ]
  },
  {
   "cell_type": "code",
   "execution_count": 684,
   "metadata": {},
   "outputs": [
    {
     "name": "stdout",
     "output_type": "stream",
     "text": [
      "{'notSharedWith': ['d34a7555514b4a58a6a0f4c9c0ce4078'], 'itemId': 'c01140f5fb4b492eb1e9b3c9d69bead7'}\n",
      "{'everyone': False, 'org': True, 'groups': [<Group title:\"Group1\" owner:t.ormsby>]}\n"
     ]
    }
   ],
   "source": [
    "item = gis.content.get(\"c01140f5fb4b492eb1e9b3c9d69bead7\")\n",
    "group1 = gis.groups.get(\"435bfd95c37b404ebbf9308b38dcd251\")\n",
    "group2 = gis.groups.get(\"d34a7555514b4a58a6a0f4c9c0ce4078\")\n",
    "\n",
    "share_result = item.share(\n",
    "    everyone=False, \n",
    "    org=True, \n",
    "    groups=[group1, group2]\n",
    ")\n",
    "print(share_result)\n",
    "print(item.shared_with)"
   ]
  },
  {
   "cell_type": "markdown",
   "metadata": {},
   "source": [
    "The code below attempts to share the same item as above to a shared update group. The item owner is a member of this group and has permission to contribute content to the group, but the item is not successfully shared."
   ]
  },
  {
   "cell_type": "code",
   "execution_count": 685,
   "metadata": {},
   "outputs": [
    {
     "name": "stdout",
     "output_type": "stream",
     "text": [
      "{'notSharedWith': ['65959444535f4bbb84dbb740a1fc4f37'], 'itemId': 'c01140f5fb4b492eb1e9b3c9d69bead7'}\n",
      "{'everyone': False, 'org': True, 'groups': [<Group title:\"Group1\" owner:t.ormsby>]}\n"
     ]
    }
   ],
   "source": [
    "item = gis.content.get(\"c01140f5fb4b492eb1e9b3c9d69bead7\")\n",
    "sharedUpdateGroup = gis.groups.get(\"65959444535f4bbb84dbb740a1fc4f37\")\n",
    "share_result = item.share(\n",
    "    everyone=False, \n",
    "    org=True, \n",
    "    groups=[sharedUpdateGroup]\n",
    ")\n",
    "print(share_result)\n",
    "print(item.shared_with)"
   ]
  },
  {
   "cell_type": "markdown",
   "metadata": {},
   "source": [
    "When sharing to a shared update group, you must explicitly enable group members to edit the item. The code below sets the `allow_members_to_edit` parameter of the `share` method to `True`, allowing the item to be successfully shared."
   ]
  },
  {
   "cell_type": "code",
   "execution_count": 686,
   "metadata": {},
   "outputs": [
    {
     "name": "stdout",
     "output_type": "stream",
     "text": [
      "{'notSharedWith': [], 'itemId': 'c01140f5fb4b492eb1e9b3c9d69bead7'}\n",
      "{'everyone': False, 'org': True, 'groups': [<Group title:\"Group1\" owner:t.ormsby>, <Group title:\"Shared Update\" owner:t.ormsby>]}\n"
     ]
    }
   ],
   "source": [
    "item = gis.content.get(\"c01140f5fb4b492eb1e9b3c9d69bead7\")\n",
    "sharedUpdateGroup = gis.groups.get(\"65959444535f4bbb84dbb740a1fc4f37\")\n",
    "share_result = item.share(\n",
    "    everyone=False, \n",
    "    org=True, \n",
    "    groups=[sharedUpdateGroup],\n",
    "    allow_members_to_edit=True\n",
    ")\n",
    "print(share_result)\n",
    "print(item.shared_with)"
   ]
  },
  {
   "cell_type": "markdown",
   "metadata": {},
   "source": [
    "The code below shares the same item as above with a group that the item owner is not a member of. This code works because the item is shared to the organization and the user associated with the `gis` object is the owner of the group the item is being shared to. Group owners or managers can add organization-shared content to their group, even if the item owner is not a group member. \n",
    "\n",
    "Notice also that even though only a single group is specified in the `groups` parameter, the `shared_with` property indicates the item is shared with two gruops. Groups passed to the `groups` parameter are added to the groups the item is shared to, they do not replace those groups. There is no way to use the `share` method to unshare an item from a group."
   ]
  },
  {
   "cell_type": "code",
   "execution_count": 687,
   "metadata": {},
   "outputs": [
    {
     "name": "stdout",
     "output_type": "stream",
     "text": [
      "{'notSharedWith': [], 'itemId': 'c01140f5fb4b492eb1e9b3c9d69bead7'}\n",
      "{'everyone': False, 'org': True, 'groups': [<Group title:\"Group1\" owner:t.ormsby>, <Group title:\"Shared Update\" owner:t.ormsby>, <Group title:\"AdminsOnly\" owner:t.ormsby>]}\n"
     ]
    }
   ],
   "source": [
    "item = gis.content.get(\"c01140f5fb4b492eb1e9b3c9d69bead7\")\n",
    "adminGroup = gis.groups.get(\"ecc2dd125703488d8d2c1d1bc2e14380\")\n",
    "share_result = item.share(\n",
    "    everyone=False, \n",
    "    org=True, \n",
    "    groups=[adminGroup]\n",
    ")\n",
    "print(share_result)\n",
    "print(item.shared_with)"
   ]
  },
  {
   "cell_type": "markdown",
   "metadata": {},
   "source": [
    "The code below changes the sharing of the item above so that it is not shared with the organization any longer. If performed in the portal web app, this operation would have automatically unshared the item from any groups the item owner cannot contribute content to and succesfully updated the organization sharing level.\n",
    "\n",
    "But the Python API throws an error wrongly indicating the admin user associated with the `gis` object does not have permission to change sharing."
   ]
  },
  {
   "cell_type": "code",
   "execution_count": 688,
   "metadata": {},
   "outputs": [
    {
     "ename": "Exception",
     "evalue": "User does not own the item or have the privileges to share this item.",
     "output_type": "error",
     "traceback": [
      "\u001b[0;31m---------------------------------------------------------------------------\u001b[0m",
      "\u001b[0;31mException\u001b[0m                                 Traceback (most recent call last)",
      "\u001b[0;32m/tmp/ipykernel_2585075/1338280747.py\u001b[0m in \u001b[0;36m?\u001b[0;34m()\u001b[0m\n\u001b[1;32m      1\u001b[0m \u001b[0mitem\u001b[0m \u001b[0;34m=\u001b[0m \u001b[0mgis\u001b[0m\u001b[0;34m.\u001b[0m\u001b[0mcontent\u001b[0m\u001b[0;34m.\u001b[0m\u001b[0mget\u001b[0m\u001b[0;34m(\u001b[0m\u001b[0;34m\"c01140f5fb4b492eb1e9b3c9d69bead7\"\u001b[0m\u001b[0;34m)\u001b[0m\u001b[0;34m\u001b[0m\u001b[0;34m\u001b[0m\u001b[0m\n\u001b[0;32m----> 2\u001b[0;31m share_result = item.share(\n\u001b[0m\u001b[1;32m      3\u001b[0m     \u001b[0meveryone\u001b[0m\u001b[0;34m=\u001b[0m\u001b[0;32mFalse\u001b[0m\u001b[0;34m,\u001b[0m\u001b[0;34m\u001b[0m\u001b[0;34m\u001b[0m\u001b[0m\n\u001b[1;32m      4\u001b[0m     \u001b[0morg\u001b[0m\u001b[0;34m=\u001b[0m\u001b[0;32mFalse\u001b[0m\u001b[0;34m\u001b[0m\u001b[0;34m\u001b[0m\u001b[0m\n\u001b[1;32m      5\u001b[0m )\n",
      "\u001b[0;32m~/.local/share/virtualenvs/agol_admin-rkaODuKR/lib/python3.10/site-packages/arcgis/gis/__init__.py\u001b[0m in \u001b[0;36m?\u001b[0;34m(self, everyone, org, groups, allow_members_to_edit)\u001b[0m\n\u001b[1;32m  14614\u001b[0m             \u001b[0mself\u001b[0m\u001b[0;34m.\u001b[0m\u001b[0m_hydrated\u001b[0m \u001b[0;34m=\u001b[0m \u001b[0;32mFalse\u001b[0m\u001b[0;34m\u001b[0m\u001b[0;34m\u001b[0m\u001b[0m\n\u001b[1;32m  14615\u001b[0m             \u001b[0mself\u001b[0m\u001b[0;34m.\u001b[0m\u001b[0m_hydrate\u001b[0m\u001b[0;34m(\u001b[0m\u001b[0;34m)\u001b[0m\u001b[0;34m\u001b[0m\u001b[0;34m\u001b[0m\u001b[0m\n\u001b[1;32m  14616\u001b[0m             \u001b[0;32mreturn\u001b[0m \u001b[0mres\u001b[0m\u001b[0;34m\u001b[0m\u001b[0;34m\u001b[0m\u001b[0m\n\u001b[1;32m  14617\u001b[0m         \u001b[0;32melse\u001b[0m\u001b[0;34m:\u001b[0m\u001b[0;34m\u001b[0m\u001b[0;34m\u001b[0m\u001b[0m\n\u001b[0;32m> 14618\u001b[0;31m             raise Exception(\n\u001b[0m\u001b[1;32m  14619\u001b[0m                 \u001b[0;34m\"User does not own the item or have the privileges to share this item.\"\u001b[0m\u001b[0;34m\u001b[0m\u001b[0;34m\u001b[0m\u001b[0m\n\u001b[1;32m  14620\u001b[0m             )\n",
      "\u001b[0;31mException\u001b[0m: User does not own the item or have the privileges to share this item."
     ]
    }
   ],
   "source": [
    "item = gis.content.get(\"c01140f5fb4b492eb1e9b3c9d69bead7\")\n",
    "share_result = item.share(\n",
    "    everyone=False, \n",
    "    org=False\n",
    ")\n",
    "print(share_result)\n",
    "print(item.shared_with)"
   ]
  },
  {
   "cell_type": "markdown",
   "metadata": {},
   "source": [
    "The code below attempts to change the orgnization setting by using the `unshare` method to remove the item from the group the item owner does not have permission to contribute to, then changing the organization sharing level with the `share` method. This does not work either"
   ]
  },
  {
   "cell_type": "code",
   "execution_count": 689,
   "metadata": {},
   "outputs": [
    {
     "ename": "Exception",
     "evalue": "User does not own the item or have the privileges to share this item.",
     "output_type": "error",
     "traceback": [
      "\u001b[0;31m---------------------------------------------------------------------------\u001b[0m",
      "\u001b[0;31mException\u001b[0m                                 Traceback (most recent call last)",
      "\u001b[0;32m/tmp/ipykernel_2585075/3982828448.py\u001b[0m in \u001b[0;36m?\u001b[0;34m()\u001b[0m\n\u001b[1;32m      1\u001b[0m \u001b[0mitem\u001b[0m \u001b[0;34m=\u001b[0m \u001b[0mgis\u001b[0m\u001b[0;34m.\u001b[0m\u001b[0mcontent\u001b[0m\u001b[0;34m.\u001b[0m\u001b[0mget\u001b[0m\u001b[0;34m(\u001b[0m\u001b[0;34m\"c01140f5fb4b492eb1e9b3c9d69bead7\"\u001b[0m\u001b[0;34m)\u001b[0m\u001b[0;34m\u001b[0m\u001b[0;34m\u001b[0m\u001b[0m\n\u001b[1;32m      2\u001b[0m \u001b[0madminGroup\u001b[0m \u001b[0;34m=\u001b[0m \u001b[0mgis\u001b[0m\u001b[0;34m.\u001b[0m\u001b[0mgroups\u001b[0m\u001b[0;34m.\u001b[0m\u001b[0mget\u001b[0m\u001b[0;34m(\u001b[0m\u001b[0;34m\"ecc2dd125703488d8d2c1d1bc2e14380\"\u001b[0m\u001b[0;34m)\u001b[0m\u001b[0;34m\u001b[0m\u001b[0;34m\u001b[0m\u001b[0m\n\u001b[1;32m      3\u001b[0m \u001b[0mitem\u001b[0m\u001b[0;34m.\u001b[0m\u001b[0munshare\u001b[0m\u001b[0;34m(\u001b[0m\u001b[0;34m[\u001b[0m\u001b[0madminGroup\u001b[0m\u001b[0;34m]\u001b[0m\u001b[0;34m)\u001b[0m\u001b[0;34m\u001b[0m\u001b[0;34m\u001b[0m\u001b[0m\n\u001b[1;32m      4\u001b[0m \u001b[0;34m\u001b[0m\u001b[0m\n\u001b[0;32m----> 5\u001b[0;31m share_result = item.share(\n\u001b[0m\u001b[1;32m      6\u001b[0m     \u001b[0meveryone\u001b[0m\u001b[0;34m=\u001b[0m\u001b[0;32mFalse\u001b[0m\u001b[0;34m,\u001b[0m\u001b[0;34m\u001b[0m\u001b[0;34m\u001b[0m\u001b[0m\n\u001b[1;32m      7\u001b[0m     \u001b[0morg\u001b[0m\u001b[0;34m=\u001b[0m\u001b[0;32mFalse\u001b[0m\u001b[0;34m,\u001b[0m\u001b[0;34m\u001b[0m\u001b[0;34m\u001b[0m\u001b[0m\n\u001b[1;32m      8\u001b[0m     \u001b[0mgroups\u001b[0m\u001b[0;34m=\u001b[0m\u001b[0;32mNone\u001b[0m\u001b[0;34m\u001b[0m\u001b[0;34m\u001b[0m\u001b[0m\n",
      "\u001b[0;32m~/.local/share/virtualenvs/agol_admin-rkaODuKR/lib/python3.10/site-packages/arcgis/gis/__init__.py\u001b[0m in \u001b[0;36m?\u001b[0;34m(self, everyone, org, groups, allow_members_to_edit)\u001b[0m\n\u001b[1;32m  14614\u001b[0m             \u001b[0mself\u001b[0m\u001b[0;34m.\u001b[0m\u001b[0m_hydrated\u001b[0m \u001b[0;34m=\u001b[0m \u001b[0;32mFalse\u001b[0m\u001b[0;34m\u001b[0m\u001b[0;34m\u001b[0m\u001b[0m\n\u001b[1;32m  14615\u001b[0m             \u001b[0mself\u001b[0m\u001b[0;34m.\u001b[0m\u001b[0m_hydrate\u001b[0m\u001b[0;34m(\u001b[0m\u001b[0;34m)\u001b[0m\u001b[0;34m\u001b[0m\u001b[0;34m\u001b[0m\u001b[0m\n\u001b[1;32m  14616\u001b[0m             \u001b[0;32mreturn\u001b[0m \u001b[0mres\u001b[0m\u001b[0;34m\u001b[0m\u001b[0;34m\u001b[0m\u001b[0m\n\u001b[1;32m  14617\u001b[0m         \u001b[0;32melse\u001b[0m\u001b[0;34m:\u001b[0m\u001b[0;34m\u001b[0m\u001b[0;34m\u001b[0m\u001b[0m\n\u001b[0;32m> 14618\u001b[0;31m             raise Exception(\n\u001b[0m\u001b[1;32m  14619\u001b[0m                 \u001b[0;34m\"User does not own the item or have the privileges to share this item.\"\u001b[0m\u001b[0;34m\u001b[0m\u001b[0;34m\u001b[0m\u001b[0m\n\u001b[1;32m  14620\u001b[0m             )\n",
      "\u001b[0;31mException\u001b[0m: User does not own the item or have the privileges to share this item."
     ]
    }
   ],
   "source": [
    "item = gis.content.get(\"c01140f5fb4b492eb1e9b3c9d69bead7\")\n",
    "adminGroup = gis.groups.get(\"ecc2dd125703488d8d2c1d1bc2e14380\")\n",
    "item.unshare([adminGroup])\n",
    "\n",
    "share_result = item.share(\n",
    "    everyone=False, \n",
    "    org=False,\n",
    "    groups=None\n",
    ")\n",
    "print(share_result)\n",
    "print(item.shared_with)"
   ]
  },
  {
   "cell_type": "markdown",
   "metadata": {},
   "source": [
    "For this reason, the code below temporarily reassigns ownership of the item in order to correctly change the organization sharing level."
   ]
  },
  {
   "cell_type": "code",
   "execution_count": 690,
   "metadata": {},
   "outputs": [
    {
     "name": "stdout",
     "output_type": "stream",
     "text": [
      "{'notSharedWith': [], 'itemId': 'c01140f5fb4b492eb1e9b3c9d69bead7'}\n",
      "{'everyone': False, 'org': False, 'groups': [<Group title:\"Group1\" owner:t.ormsby>, <Group title:\"Shared Update\" owner:t.ormsby>]}\n"
     ]
    }
   ],
   "source": [
    "item = gis.content.get(\"c01140f5fb4b492eb1e9b3c9d69bead7\")\n",
    "origOwner = item.owner\n",
    "item.reassign_to(gis.users.me)\n",
    "\n",
    "adminGroup = gis.groups.get(\"ecc2dd125703488d8d2c1d1bc2e14380\")\n",
    "item.unshare([adminGroup])\n",
    "\n",
    "share_result = item.share(\n",
    "    everyone=False, \n",
    "    org=False,\n",
    "    groups=None\n",
    ")\n",
    "\n",
    "item.reassign_to(origOwner)\n",
    "\n",
    "print(share_result)\n",
    "print(item.shared_with)"
   ]
  },
  {
   "cell_type": "markdown",
   "metadata": {},
   "source": [
    "### Move an item between folders\n"
   ]
  },
  {
   "cell_type": "markdown",
   "metadata": {},
   "source": [
    "### Export an item\n"
   ]
  },
  {
   "cell_type": "markdown",
   "metadata": {},
   "source": [
    "### Delete an item"
   ]
  }
 ],
 "metadata": {
  "kernelspec": {
   "display_name": "agol_admin-rkaODuKR",
   "language": "python",
   "name": "python3"
  },
  "language_info": {
   "codemirror_mode": {
    "name": "ipython",
    "version": 3
   },
   "file_extension": ".py",
   "mimetype": "text/x-python",
   "name": "python",
   "nbconvert_exporter": "python",
   "pygments_lexer": "ipython3",
   "version": "3.10.12"
  }
 },
 "nbformat": 4,
 "nbformat_minor": 2
}
