{
 "cells": [
  {
   "cell_type": "markdown",
   "metadata": {},
   "source": [
    "# Items"
   ]
  },
  {
   "cell_type": "markdown",
   "metadata": {},
   "source": [
    "This notebook contains examples of using the ArcGIS API for Python to manage users in an ArcGIS Online portal. \n",
    "\n",
    "Each cell in this notebook is independent of every other cell, but each cell assumes the existence of a portal connection object stored in a variable named `gis`. The creation of this object is covered in the [Portal connection notebook](https://github.com/travisormsby/agol_admin/blob/main/portal_connection.ipynb).\n",
    "\n",
    "Usernames used throughout this notebook are specific to my organization. You will need to change them to something appropriate for your organization.\n",
    "\n",
    "All API references in this notebook are from the [arcgis.gis](https://developers.arcgis.com/python/api-reference/arcgis.gis.toc.html) module: [ContentManager](https://developers.arcgis.com/python/api-reference/arcgis.gis.toc.html#contentmanager), [GIS](https://developers.arcgis.com/python/api-reference/arcgis.gis.toc.html#gis), and [Item](https://developers.arcgis.com/python/api-reference/arcgis.gis.toc.html#item)"
   ]
  },
  {
   "cell_type": "markdown",
   "metadata": {},
   "source": [
    "* [Create `Item` objects](#create-item-obj)\n",
    "    * [Get a specific item](#get-item)\n",
    "    * [Search for items](#query)\n",
    "    * [Advanced search](#advanced-search)\n",
    "* [Get information about an item](#get-info)\n",
    "    * [Display item information](#display-info)\n",
    "    * [Access item properties](#access-properties)\n",
    "* [Manage items](#manage)\n",
    "    * [Create an item](#create)\n",
    "    * [Copy an item](#copy)\n",
    "    * [Share an item](#share)\n",
    "    * [Update a item's information](#update)\n",
    "    * [Bulk update multiple items' information](#bulk-update)\n",
    "    * [Reassign an item to a new owner](#reassign)\n",
    "    * [Move an item between folders](#folders)\n",
    "    * [Export an item](#export)\n",
    "    * [Delete an item](#delete)"
   ]
  }
 ],
 "metadata": {
  "language_info": {
   "name": "python"
  }
 },
 "nbformat": 4,
 "nbformat_minor": 2
}
