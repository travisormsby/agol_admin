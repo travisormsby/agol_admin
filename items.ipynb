{
 "cells": [
  {
   "cell_type": "markdown",
   "metadata": {},
   "source": [
    "# Items"
   ]
  },
  {
   "cell_type": "markdown",
   "metadata": {},
   "source": [
    "This notebook contains examples of using the ArcGIS API for Python to manage users in an ArcGIS Online portal. \n",
    "\n",
    "Each cell in this notebook is independent of every other cell, but each cell assumes the existence of a portal connection object stored in a variable named `gis`. The creation of this object is covered in the [Portal connection notebook](https://github.com/travisormsby/agol_admin/blob/main/portal_connection.ipynb).\n",
    "\n",
    "Usernames used throughout this notebook are specific to my organization. You will need to change them to something appropriate for your organization.\n",
    "\n",
    "All API references in this notebook are from the [arcgis.gis](https://developers.arcgis.com/python/api-reference/arcgis.gis.toc.html) module: [ContentManager](https://developers.arcgis.com/python/api-reference/arcgis.gis.toc.html#contentmanager), [GIS](https://developers.arcgis.com/python/api-reference/arcgis.gis.toc.html#gis), and [Item](https://developers.arcgis.com/python/api-reference/arcgis.gis.toc.html#item)"
   ]
  },
  {
   "cell_type": "markdown",
   "metadata": {},
   "source": [
    "* [Create `Item` objects](#create-item-obj)\n",
    "    * [Get a specific item](#get-item)\n",
    "    * [Search for items](#query)\n",
    "        * [Default query](#default-query)\n",
    "        * [Query a specific field](#query-a-specific-field)\n",
    "        * [Query multi-word phrases](#query-multi-word-phrases)\n",
    "        * [Query by range of values](#query-by-range-of-values)\n",
    "        * [Combine query terms](#combining-query-terms)\n",
    "    * [Advanced search](#advanced-search)\n",
    "* [Get information about an item](#get-info)\n",
    "    * [Display item information](#display-info)\n",
    "    * [Access item properties](#access-properties)\n",
    "* [Manage items](#manage)\n",
    "    * [Create an item](#create)\n",
    "    * [Copy an item](#copy)\n",
    "    * [Share an item](#share)\n",
    "    * [Update a item's information](#update)\n",
    "    * [Bulk update multiple items' information](#bulk-update)\n",
    "    * [Reassign an item to a new owner](#reassign)\n",
    "    * [Move an item between folders](#folders)\n",
    "    * [Export an item](#export)\n",
    "    * [Delete an item](#delete)"
   ]
  },
  {
   "cell_type": "markdown",
   "metadata": {},
   "source": [
    "## Create `Item` objects"
   ]
  },
  {
   "cell_type": "markdown",
   "metadata": {},
   "source": [
    "In order to manage items, you will need to represent them as some data structure that Python can manipulate. An instance of the [`ContentManager` class](https://developers.arcgis.com/python/api-reference/arcgis.gis.toc.html#contentmanager) can create these `Item` objects. This instance is available as the `content` property of a [`GIS` object](https://developers.arcgis.com/python/api-reference/arcgis.gis.toc.html#gis)"
   ]
  },
  {
   "cell_type": "markdown",
   "metadata": {},
   "source": [
    "### Get a specific item"
   ]
  },
  {
   "cell_type": "markdown",
   "metadata": {},
   "source": [
    "<a id='get-item'></a> The code below uses the [`get` method of the `ContentManager` object](https://developers.arcgis.com/python/api-reference/arcgis.gis.toc.html#arcgis.gis.ContentManager.get) to return a single `Item` object that matches the provided item id. "
   ]
  },
  {
   "cell_type": "code",
   "execution_count": 433,
   "metadata": {},
   "outputs": [
    {
     "name": "stdout",
     "output_type": "stream",
     "text": [
      "<Item title:\"HOLC\" type:Web Map owner:t.ormsby>\n"
     ]
    }
   ],
   "source": [
    "item = gis.content.get(\"63d41db9006647afb92516cee5c89a1a\")\n",
    "print(item)"
   ]
  },
  {
   "cell_type": "markdown",
   "metadata": {},
   "source": [
    "### Search for items"
   ]
  },
  {
   "cell_type": "markdown",
   "metadata": {},
   "source": [
    "The [`search` method of the `ContentManager` object](https://developers.arcgis.com/python/api-reference/arcgis.gis.toc.html#arcgis.gis.ContentManager.search) returns a list of `Item` objects that match the search criteria. There are several parameters for the `search` method, most of which are well explained in the documentation. \n",
    "\n",
    "The most important parameter is `query`, which is used to search for items by fields not covered by the other parameters. The `query` parameter is also used for complex search logic using ranges, boolean operators, and grouping.\n",
    "\n",
    "The use of the `query` parameter is unfortunately not well documented. Esri provides [examples of POST requests](https://developers.arcgis.com/rest/users-groups-and-items/search-reference.htm) made against the REST API directly, but these do not translate perfectly to the Python syntax of the `search` method. The examples below show how to correctly format query strings."
   ]
  },
  {
   "cell_type": "markdown",
   "metadata": {},
   "source": [
    "#### Default query"
   ]
  },
  {
   "cell_type": "markdown",
   "metadata": {},
   "source": [
    "By default, the `query` argument is matched against items' title, tags, snippet, description, type, and typekeywords fields. The `query` argument is not case sensitive and will return close matches, not just exact matches. \n",
    "\n",
    "The code below will return up to 20 items that match the term `\"holc\"` in any of the default fields."
   ]
  },
  {
   "cell_type": "code",
   "execution_count": 442,
   "metadata": {},
   "outputs": [
    {
     "name": "stdout",
     "output_type": "stream",
     "text": [
      "<Item title:\"HOLC Travis Ormsby\" type:Web Mapping Application owner:t.ormsby>\n",
      "<Item title:\"HOLC\" type:Web Map owner:t.ormsby>\n",
      "<Item title:\"Highest income\" type:Feature Layer Collection owner:t.ormsby>\n",
      "<Item title:\"HOLC Appraisals\" type:Feature Layer Collection owner:t.ormsby>\n",
      "<Item title:\"Lowest income\" type:Feature Layer Collection owner:t.ormsby>\n",
      "<Item title:\"HOLC_Blocks\" type:Service Definition owner:t.ormsby>\n",
      "<Item title:\"HOLC_Blocks\" type:Feature Layer Collection owner:t.ormsby>\n",
      "<Item title:\"HOLC Travis Ormsby\" type:Web Map owner:t.ormsby>\n",
      "<Item title:\"Highest percent white population\" type:Feature Layer Collection owner:t.ormsby>\n",
      "<Item title:\"Highest percent population of color\" type:Feature Layer Collection owner:t.ormsby>\n"
     ]
    }
   ],
   "source": [
    "items = gis.content.search(query=\"holc\", max_items=20)\n",
    "for item in items:\n",
    "    print(item)"
   ]
  },
  {
   "cell_type": "markdown",
   "metadata": {},
   "source": [
    "#### Query a specific field"
   ]
  },
  {
   "cell_type": "markdown",
   "metadata": {},
   "source": [
    "You can specify a particular field in the query, instead of using the default fields. Querying does not work on all fields, but you can specify the following:\n",
    "\n",
    "* `id` (item ID)\n",
    "* `owner` (owner username)\n",
    "* `created` (Unix miliseconds timestamp)\n",
    "* `modified` (Unix miliseconds timestamp)\n",
    "* `lastviewed` (Unix miliseconds timestamp)\n",
    "* `title`\n",
    "* `type` ([tables of all types](https://developers.arcgis.com/rest/users-groups-and-items/items-and-item-types.htm))\n",
    "* `typekeywords` ([tables of all type keywords](https://developers.arcgis.com/rest/users-groups-and-items/items-and-item-types.htm))\n",
    "* `description`\n",
    "* `tags`\n",
    "* `snippet` (summary text)\n",
    "* `accessInformation`\n",
    "* `access` (public, private, org, or shared)\n",
    "* `group` (group ID)\n",
    "* `numviews` (number of views)\n",
    "* `numratings` (number of ratings)\n",
    "* `numcomments` (number of comments)\n",
    "* `avgrating` (average rating)\n",
    "* `culture` (locale information, e.g. \"en-US\")\n",
    "* `orgid` (returns items within a specified organization)\n",
    "* `categories`\n",
    "* `contentStatus` (null, deprecated, org_authoritative, public_authoritative)\n",
    "* `name` (does not work for finding notebooks)\n",
    "* `protected` (True or False)\n",
    "\n",
    "\n",
    "The code below narrows the search above by limiting the search to the snippet field.\n",
    "\n",
    "\n",
    "\n"
   ]
  },
  {
   "cell_type": "code",
   "execution_count": 443,
   "metadata": {},
   "outputs": [
    {
     "name": "stdout",
     "output_type": "stream",
     "text": [
      "<Item title:\"HOLC Appraisals\" type:Feature Layer Collection owner:t.ormsby>\n",
      "<Item title:\"HOLC_Blocks\" type:Service Definition owner:t.ormsby>\n",
      "<Item title:\"HOLC_Blocks\" type:Feature Layer Collection owner:t.ormsby>\n"
     ]
    }
   ],
   "source": [
    "items = gis.content.search(query=\"snippet:holc\", max_items=20)\n",
    "for item in items:\n",
    "    print(item)"
   ]
  },
  {
   "cell_type": "markdown",
   "metadata": {},
   "source": [
    "#### Query multi-word phrases"
   ]
  },
  {
   "cell_type": "markdown",
   "metadata": {},
   "source": [
    "Querying items that match a multi-word phrase can be tricky. The code below is a naïve implementation of a search for the \"HOLC Appraisals\" item listed above. This implementation returns additional results that do not match the desired phrase"
   ]
  },
  {
   "cell_type": "code",
   "execution_count": 444,
   "metadata": {},
   "outputs": [
    {
     "name": "stdout",
     "output_type": "stream",
     "text": [
      "<Item title:\"HOLC Appraisals\" type:Feature Layer Collection owner:t.ormsby>\n",
      "<Item title:\"HOLC_Blocks\" type:Service Definition owner:t.ormsby>\n",
      "<Item title:\"HOLC_Blocks\" type:Feature Layer Collection owner:t.ormsby>\n"
     ]
    }
   ],
   "source": [
    "items = gis.content.search(query=\"title:HOLC Appraisals\", max_items=20)\n",
    "for item in items:\n",
    "    print(item)"
   ]
  },
  {
   "cell_type": "markdown",
   "metadata": {},
   "source": [
    "The code below uses single quotes in an attempt to represent a phrase. This also does not work."
   ]
  },
  {
   "cell_type": "code",
   "execution_count": 445,
   "metadata": {},
   "outputs": [
    {
     "name": "stdout",
     "output_type": "stream",
     "text": [
      "<Item title:\"HOLC Appraisals\" type:Feature Layer Collection owner:t.ormsby>\n",
      "<Item title:\"HOLC_Blocks\" type:Service Definition owner:t.ormsby>\n",
      "<Item title:\"HOLC_Blocks\" type:Feature Layer Collection owner:t.ormsby>\n"
     ]
    }
   ],
   "source": [
    "items = gis.content.search(query=\"title:'HOLC Appraisals'\", max_items=20)\n",
    "for item in items:\n",
    "    print(item)"
   ]
  },
  {
   "cell_type": "markdown",
   "metadata": {},
   "source": [
    "To find content that matches the entire phrase, the phrase must be enclosed in double quotes. The code below uses double quotes around the search phrase and returns the correct result."
   ]
  },
  {
   "cell_type": "code",
   "execution_count": 446,
   "metadata": {},
   "outputs": [
    {
     "name": "stdout",
     "output_type": "stream",
     "text": [
      "<Item title:\"HOLC Appraisals\" type:Feature Layer Collection owner:t.ormsby>\n"
     ]
    }
   ],
   "source": [
    "items = gis.content.search(query='title:\"HOLC Appraisals\"', max_items=20)\n",
    "for item in items:\n",
    "    print(item)"
   ]
  },
  {
   "cell_type": "markdown",
   "metadata": {},
   "source": [
    "#### Query by range of values"
   ]
  },
  {
   "cell_type": "markdown",
   "metadata": {},
   "source": [
    " Values can be queried by range using `firstValue TO lastValue` (`TO` must be capitalized). Brackets (`[]`) around the range indicate that the search should be inclusive of the values. Curly braces (`{}`) indicate that the search should be exclusive of the values.\n",
    "\n",
    "This is especially useful for numeric values, but can work for any field.\n",
    "\n",
    "The code below searches for items created during the month of October in US Central Time. The range opens with a bracket because it must be inclusive of the first milisecond of October. It closes with a curly brace because it must be exclusive of the first milisecond of November.\n"
   ]
  },
  {
   "cell_type": "code",
   "execution_count": 447,
   "metadata": {},
   "outputs": [
    {
     "name": "stdout",
     "output_type": "stream",
     "text": [
      "<Item title:\"ProblemsSummary\" type:Feature Layer Collection owner:t.ormsby>\n",
      "<Item title:\"ProblemsHeatMap\" type:Feature Layer Collection owner:t.ormsby>\n",
      "<Item title:\"Collaboration\" type:Notebook owner:t.ormsby>\n",
      "<Item title:\"Schools20MinWalk\" type:Feature Layer Collection owner:t.ormsby>\n",
      "<Item title:\"ProblemsVectorTilePackage\" type:Vector Tile Package owner:t.ormsby>\n",
      "<Item title:\"ProblemsClusters\" type:Service Definition owner:t.ormsby>\n",
      "<Item title:\"ProblemsHeatMap\" type:Service Definition owner:t.ormsby>\n",
      "<Item title:\"SchoolsInfoFeatures\" type:Feature Layer Collection owner:t.ormsby>\n",
      "<Item title:\"ProblemsBins\" type:Service Definition owner:t.ormsby>\n",
      "<Item title:\"ProblemsBins\" type:Feature Layer Collection owner:t.ormsby>\n",
      "<Item title:\"SchoolsInfoBuffer\" type:Feature Layer Collection owner:t.ormsby>\n",
      "<Item title:\"ProblemsVectorTilePackage\" type:Vector Tile Layer owner:t.ormsby>\n",
      "<Item title:\"ProblemsSummary\" type:Service Definition owner:t.ormsby>\n",
      "<Item title:\"ProblemsClusters\" type:Feature Layer Collection owner:t.ormsby>\n",
      "<Item title:\"clusters\" type:Feature Layer Collection owner:t.ormsby>\n",
      "<Item title:\"Problems\" type:Map Package owner:t.ormsby>\n",
      "<Item title:\"ExampleMap3\" type:Web Map owner:ormsby_guest1>\n",
      "<Item title:\"ExampleMap1\" type:Web Map owner:ormsby_guest1>\n",
      "<Item title:\"ExampleMap2\" type:Web Map owner:ormsby_guest1>\n"
     ]
    }
   ],
   "source": [
    "items = gis.content.search(query=\"created:[1696136400000 TO 1698814800000}\", max_items=20)\n",
    "for item in items:\n",
    "    print(item)"
   ]
  },
  {
   "cell_type": "markdown",
   "metadata": {},
   "source": [
    "#### Combining query terms"
   ]
  },
  {
   "cell_type": "markdown",
   "metadata": {},
   "source": [
    "[Esri documentation](https://developers.arcgis.com/rest/users-groups-and-items/search-reference.htm) claims that you can use the Boolean operators `AND`, `OR` and `NOT` to combine terms in the query string. In practice, these Boolean operators do not work, likely due to a bug in the ArcGIS API for Python. \n",
    "\n",
    "For that reason, the code below uses sets and set methods to return collections of items that match more complex patterns needing Boolean operators.\n",
    "\n"
   ]
  },
  {
   "cell_type": "code",
   "execution_count": 479,
   "metadata": {},
   "outputs": [
    {
     "name": "stdout",
     "output_type": "stream",
     "text": [
      "query 1 returns:\n",
      "<Item title:\"Highest percent population of color\" type:Feature Layer Collection owner:t.ormsby>\n",
      "<Item title:\"ExampleMap1\" type:Web Map owner:ormsby_guest1>\n",
      "<Item title:\"Highest percent white population\" type:Feature Layer Collection owner:t.ormsby>\n",
      "query 2 returns:\n",
      "<Item title:\"ExampleMap2\" type:Web Map owner:ormsby_guest1>\n",
      "<Item title:\"ExampleMap1\" type:Web Map owner:ormsby_guest1>\n",
      "<Item title:\"ExampleMap3\" type:Web Map owner:ormsby_guest1>\n",
      "query1 AND query2 returns:\n",
      "<Item title:\"ExampleMap1\" type:Web Map owner:ormsby_guest1>\n",
      "query1 OR query 2 returns:\n",
      "<Item title:\"ExampleMap1\" type:Web Map owner:ormsby_guest1>\n",
      "<Item title:\"ExampleMap2\" type:Web Map owner:ormsby_guest1>\n",
      "<Item title:\"Highest percent white population\" type:Feature Layer Collection owner:t.ormsby>\n",
      "<Item title:\"ExampleMap3\" type:Web Map owner:ormsby_guest1>\n",
      "<Item title:\"Highest percent population of color\" type:Feature Layer Collection owner:t.ormsby>\n",
      "query1 NOT query 2 returns:\n",
      "<Item title:\"Highest percent white population\" type:Feature Layer Collection owner:t.ormsby>\n",
      "<Item title:\"Highest percent population of color\" type:Feature Layer Collection owner:t.ormsby>\n"
     ]
    }
   ],
   "source": [
    "# Dictionary of two sets of Item objects, each set returned from a different query\n",
    "itemsets = {\n",
    "    \"query 1\": set(gis.content.search(query='\"highest percent\"', max_items=100)),\n",
    "    \"query 2\": set(gis.content.search(query='\"example\"', max_items=100))\n",
    "}\n",
    "\n",
    "query1 = itemsets[\"query 1\"]\n",
    "query2 = itemsets[\"query 2\"]\n",
    "\n",
    "# Add more sets to the dictionary representing the intersection, union, and difference of the original sets\n",
    "itemsets[\"query1 AND query2\"] = query1.intersection(query2) # AND means the intersection of two sets\n",
    "itemsets[\"query1 OR query 2\"] = query1.union(query2) # OR means the union of two sets\n",
    "itemsets[\"query1 NOT query 2\"] = query1.difference(query2) # NOT means the difference of two sets\n",
    "\n",
    "# Output the items in each set\n",
    "for setname, itemset in itemsets.items():\n",
    "    print(f\"{setname} returns:\")\n",
    "    for item in itemset:\n",
    "        print(item)\n",
    "    "
   ]
  },
  {
   "cell_type": "markdown",
   "metadata": {},
   "source": [
    "Putting the sets of `Item` objects in a dictionary as above is done to show you the relationships betwen the different sets. In practice, you would not usually do that. The code below represents a more typical pattern by creating variables to hold the results of the initial query terms, and then performing the set operation on those results"
   ]
  },
  {
   "cell_type": "code",
   "execution_count": 478,
   "metadata": {},
   "outputs": [
    {
     "name": "stdout",
     "output_type": "stream",
     "text": [
      "<Item title:\"ExampleMap1\" type:Web Map owner:ormsby_guest1>\n",
      "<Item title:\"ExampleMap2\" type:Web Map owner:ormsby_guest1>\n",
      "<Item title:\"Highest percent white population\" type:Feature Layer Collection owner:t.ormsby>\n",
      "<Item title:\"ExampleMap3\" type:Web Map owner:ormsby_guest1>\n",
      "<Item title:\"Highest percent population of color\" type:Feature Layer Collection owner:t.ormsby>\n"
     ]
    }
   ],
   "source": [
    "query1 = set(gis.content.search(query='\"highest percent\"', max_items=100))\n",
    "query2 = set(gis.content.search(query='\"example\"', max_items=100))\n",
    "query1OR2 = query1.union(query2)\n",
    "for item in query1OR2:\n",
    "    print(item)"
   ]
  },
  {
   "cell_type": "markdown",
   "metadata": {},
   "source": [
    "### Advanced search"
   ]
  },
  {
   "cell_type": "markdown",
   "metadata": {},
   "source": [
    "The [`advanced_search` method of the `ContentManager` object](https://developers.arcgis.com/python/api-reference/arcgis.gis.toc.html#arcgis.gis.ContentManager.advanced_search) is very similar to the `search` method, with three important differences.\n",
    "\n",
    "* The `advanced_search` method exposes some additional parameters to refine your search. These additional parameters are well documented in the API referenve.\n",
    "\n",
    "* The `search` method defaults to searching only inside the organization, but can search outside. The `advanced_search` method does not have a parameter to search inside the organization only (though similar results could be achieved with a query string)\n",
    "\n",
    "* The `search` method returns a list of `Item` objects. By default, the `advanced_search` method retuns a dictionary with a list of `Item` objects stored in the `results` key. Optionally, `advanced_search` will store a list of dictionaries of item properties in the `results` key.\n",
    "\n"
   ]
  },
  {
   "cell_type": "code",
   "execution_count": 482,
   "metadata": {},
   "outputs": [
    {
     "data": {
      "text/plain": [
       "[<Item title:\"HOLC Appraisals\" type:Feature Layer Collection owner:t.ormsby>,\n",
       " <Item title:\"HOLC_Blocks\" type:Service Definition owner:t.ormsby>,\n",
       " <Item title:\"HOLC_Blocks\" type:Feature Layer Collection owner:t.ormsby>]"
      ]
     },
     "execution_count": 482,
     "metadata": {},
     "output_type": "execute_result"
    }
   ],
   "source": [
    "# The search method looks only inside the organization by default \n",
    "# It returns a list of Item objects\n",
    "gis.content.search(query=\"snippet:holc\")"
   ]
  },
  {
   "cell_type": "code",
   "execution_count": 490,
   "metadata": {},
   "outputs": [
    {
     "data": {
      "text/plain": [
       "{'total': 761,\n",
       " 'start': 1,\n",
       " 'num': 100,\n",
       " 'nextStart': 101,\n",
       " 'results': [<Item title:\" (HOLC) Neighborhood Redlining Grade Boston\" type:Web Map owner:raechelw>,\n",
       "  <Item title:\"“Redlining” and Exposure to Urban Heat Islands\" type:Web Map owner:ElainnaH>,\n",
       "  <Item title:\"“Redlining” and Exposure to Urban Heat Islands\" type:Web Map owner:jpszitta_DurhamEM>,\n",
       "  <Item title:\"“Redlining” and Exposure to Urban Heat Islands\" type:Web Map owner:dpisut_content>,\n",
       "  <Item title:\"“Redlining” and Exposure to Urban Heat Islands\" type:Web Map owner:Sarah_A_Knight>,\n",
       "  <Item title:\"“Redlining” and Exposure to Urban Heat Islands\" type:Web Map owner:Connected_DMV_Atlas>,\n",
       "  <Item title:\"“Redlining” and Exposure to Urban Heat Islands – Dallas\" type:Web Mapping Application owner:ldl8244>,\n",
       "  <Item title:\"“Redlining” and Exposure to Urban Heat Islands-Copy\" type:Web Map owner:jeremyhoffman>,\n",
       "  <Item title:\"“Redlining” and Exposure to Urban Heat Islands-Copy\" type:Web Map owner:noir0315_gisucla>,\n",
       "  <Item title:\"“Redlining” and Exposure to Urban Heat Islands-Copy\" type:Web Map owner:Dylan.J.Hayden@hud.gov_HUD>,\n",
       "  <Item title:\"“Redlining” and Exposure to Urban Heat Islands-Copy\" type:Web Map owner:graceriggs12_gisucla>,\n",
       "  <Item title:\"“Redlining” and Exposure to Urban Heat Islands-Copy\" type:Web Map owner:ADu_ourcommunity>,\n",
       "  <Item title:\"“Redlining” and Exposure to Urban Heat Islands-Copy\" type:Web Map owner:Kayli.Skinner_ucboulder>,\n",
       "  <Item title:\"“Redlining” and Exposure to Urban Heat Islands-Copy\" type:Web Map owner:ldl8244>,\n",
       "  <Item title:\"“Redlining” and Exposure to Urban Heat Islands-Copy\" type:Web Map owner:omarissa>,\n",
       "  <Item title:\"“Redlining” and Exposure to Urban Heat Islands_2\" type:Web Map owner:raechelw>,\n",
       "  <Item title:\"“Redlining” and Exposure to Urban Heat Islands_2\" type:Web Map owner:lauren25>,\n",
       "  <Item title:\"“Redlining” and Exposure to Urban Heat Islands_WFL1\" type:Feature Layer Collection owner:jpszitta_DurhamEM>,\n",
       "  <Item title:\"“Redlining” and HCV\" type:Web Map owner:Dylan.J.Hayden@hud.gov_HUD>,\n",
       "  <Item title:\"“Redlining” and Home Ownership\" type:Web Map owner:Dylan.J.Hayden@hud.gov_HUD>,\n",
       "  <Item title:\"“Redlining” and Home Values\" type:Web Map owner:Dylan.J.Hayden@hud.gov_HUD>,\n",
       "  <Item title:\"“Redlining” and Public Housing\" type:Web Map owner:Dylan.J.Hayden@hud.gov_HUD>,\n",
       "  <Item title:\"“Redlining” and Race\" type:Web Map owner:Dylan.J.Hayden@hud.gov_HUD>,\n",
       "  <Item title:\"“Redlining” HOLC 1\" type:Web Map owner:Dylan.J.Hayden@hud.gov_HUD>,\n",
       "  <Item title:\"(HOLC) Neighborhood Redlining Grade\" type:Web Map owner:jimhanson4>,\n",
       "  <Item title:\"16. HOLC Ratings in PUSD, 1939\" type:Web Map owner:caroline.thompson@dlrgroup.com>,\n",
       "  <Item title:\"17. HOLC Scores (1939) by Lower Resource Neighborhoods (2022)\" type:Web Map owner:caroline.thompson@dlrgroup.com>,\n",
       "  <Item title:\"1935 HOLC Grade\" type:Layer Package owner:jayalakc>,\n",
       "  <Item title:\"1937 Durham HOLC Map\" type:Web Map owner:pmmcdani_UNC>,\n",
       "  <Item title:\"1937 Durham HOLC Map- Imagery Backdrop\" type:Web Map owner:pmmcdani_UNC>,\n",
       "  <Item title:\"1937 HOLC - Residential \"Security\" Map\" type:Web Mapping Application owner:mdeemer@grand_rapids.mi.us_grandrapids>,\n",
       "  <Item title:\"1939 HOLC Redlining Grades\" type:Feature Layer Collection owner:m.quirk>,\n",
       "  <Item title:\"1940 Cuyahoga County HOLC Map\" type:Web Mapping Application owner:kirwaninstitute.osu>,\n",
       "  <Item title:\"1940 Cuyahoga County HOLC Map\" type:Web Mapping Application owner:kirwaninstitute.osu>,\n",
       "  <Item title:\"2019_11_18_HOLC\" type:Web Map owner:amy.heath2@g.austincc.edu9>,\n",
       "  <Item title:\"2019_11_18_Redline_in_motion-Copy-Copy\" type:Web Map owner:amy.heath2@g.austincc.edu9>,\n",
       "  <Item title:\"2021 Home Loan Denial Rates for Birmingham, Alabama\" type:Web Mapping Application owner:jhrocha_UMass_Amherst>,\n",
       "  <Item title:\"2022 HOLC\" type:Web Map owner:erp82_rutgers>,\n",
       "  <Item title:\"2N\" type:Web Map owner:wuyiche8_utoronto>,\n",
       "  <Item title:\"3. SF Residential\" type:Web Map owner:naulston>,\n",
       "  <Item title:\"5 - KC Metro Home-Owners Loan Corporation (HOLC) Map and Present-Day Race/Ethnicity\" type:Web Mapping Application owner:kirwaninstitute.osu>,\n",
       "  <Item title:\"5. Life Expectancy\" type:Web Map owner:naulston>,\n",
       "  <Item title:\"A1 - Durham 1937\" type:Image owner:pmmcdani_UNC>,\n",
       "  <Item title:\"A2 - Durham 1937\" type:Image owner:pmmcdani_UNC>,\n",
       "  <Item title:\"A4 - Durham 1937\" type:Image owner:pmmcdani_UNC>,\n",
       "  <Item title:\"A5 - Durham 1937\" type:Image owner:pmmcdani_UNC>,\n",
       "  <Item title:\"Air Quality Lab- P2 POCallaghan-Copy\" type:Web Map owner:patrick.ocallaghan_urichmond>,\n",
       "  <Item title:\"Albany HOLC Map\" type:Web Map owner:hwasser_Skid>,\n",
       "  <Item title:\"Albany HOLC Map\" type:Feature Layer Collection owner:hwasser_Skid>,\n",
       "  <Item title:\"Alkadir_HW1_HOLC_Urban_heat_islands_and_public_housing\" type:Web Map owner:haa311_Harvard_CGA>,\n",
       "  <Item title:\"AP Webmap Proximity of Oil/Gas Wells and Major Roads to Redlined Districts in the Central Los Angeles Area\" type:Web Map owner:apedicin@pitzer.edu_claremont>,\n",
       "  <Item title:\"App Draft 1: Black Population by Block in the Twin Cities, 1980-2010\" type:Web Mapping Application owner:zhan6322_UMN>,\n",
       "  <Item title:\"Asheville Data Resource\" type:Web Mapping Application owner:cmcnamara_avl>,\n",
       "  <Item title:\"Asthma in Philadelphia, PA (AAH)\" type:Web Map owner:azimihas_utoronto>,\n",
       "  <Item title:\"Asthma Rates Related to HOLC-Graded Neighbourhoods - Portland, OR\" type:Web Map owner:mlynczy1_utoronto>,\n",
       "  <Item title:\"Atlanta 1929 Zoning with HOLC\" type:Map Package owner:goliverio3_gtmaps>,\n",
       "  <Item title:\"Atlanta 1929 Zoning with HOLC\" type:Web Map owner:goliverio3_gtmaps>,\n",
       "  <Item title:\"Atlanta, GA, USA contaminated sites and their relation to the former redlining grades\" type:Web Map owner:doanchr4_utoronto>,\n",
       "  <Item title:\"Atlanta, GA, USA HOLC grades redlining and race (black and white)\" type:Web Map owner:doanchr4_utoronto>,\n",
       "  <Item title:\"Atlanta, GA, USA HOLC redlining grades app comparing low income and health insurance coverage\" type:Web Mapping Application owner:doanchr4_utoronto>,\n",
       "  <Item title:\"Atlanta, GA, USA HOLC redlining grades urban heat islands and impervious surface\" type:Web Map owner:doanchr4_utoronto>,\n",
       "  <Item title:\"Atlanta, GA, USA HOLC redlining grades urban heat islands and impervious surface\" type:Web Mapping Application owner:doanchr4_utoronto>,\n",
       "  <Item title:\"Atlanta, GA, USA HOLC redlining grades urban heat islands and impervious surface-Copy\" type:Web Map owner:doanchr4_utoronto>,\n",
       "  <Item title:\"Atlanta, GA, USA HOLC redlining grades with transportation noise\" type:Web Map owner:doanchr4_utoronto>,\n",
       "  <Item title:\"Atlanta, GA, USA HOLC relining grades showing their relationship with internet and vehicle access\" type:Web Map owner:doanchr4_utoronto>,\n",
       "  <Item title:\"Atlanta, GA, USA redlining HOLC grades and parkland relationship to urban heat islands and shade from tree canopies.\" type:Web Mapping Application owner:doanchr4_utoronto>,\n",
       "  <Item title:\"Atlanta, GA, USA redlining HOLC grades and parkland relationship with urban heat islands and shade from tree canopies.\" type:Web Map owner:doanchr4_utoronto>,\n",
       "  <Item title:\"Atlanta, GA, USA redlining HOLC grades and parkland relationship with urban heat islands and shade from tree canopies.-Copy\" type:Web Map owner:doanchr4_utoronto>,\n",
       "  <Item title:\"Atlanta, GA, USA redlining HOLC grades with average income and housing prices\" type:Web Map owner:doanchr4_utoronto>,\n",
       "  <Item title:\"B1 - Durham 1937\" type:Image owner:pmmcdani_UNC>,\n",
       "  <Item title:\"B4 - Durham 1937\" type:Image owner:pmmcdani_UNC>,\n",
       "  <Item title:\"B5 - Durham 1937\" type:Image owner:pmmcdani_UNC>,\n",
       "  <Item title:\"B6 - Durham 1937\" type:Image owner:pmmcdani_UNC>,\n",
       "  <Item title:\"Baltimore HOLC Map\" type:Web Map owner:oellerka@uvm.edu_UVM>,\n",
       "  <Item title:\"Baltimore Redlined Neighborhoods\" type:Web Mapping Application owner:john.v.bullough_envgisumuc>,\n",
       "  <Item title:\"Baltimore Redlined Neighborhoods\" type:Web Map owner:john.v.bullough_envgisumuc>,\n",
       "  <Item title:\"Baltimore Redlined Neighborhoods\" type:Web Map owner:ehe002_Bucknell>,\n",
       "  <Item title:\"Baltimore's Home Owners' Loan Corporation (HOLC)'s Historical Redlining Grade\" type:Web Map owner:MDgeoED>,\n",
       "  <Item title:\"Baltimore_Redlining\" type:Vector Tile Layer owner:jrollins_UofMD>,\n",
       "  <Item title:\"Baltimore_Redlining\" type:Feature Layer Collection owner:jrollins_UofMD>,\n",
       "  <Item title:\"Basic Environmental Facts about Cities Tabulated by 1940 Era HOLC Rating\" type:Feature Layer Collection owner:mdangermond_content>,\n",
       "  <Item title:\"BES Neighborhood Demographic Change1930_2010\" type:Feature Layer Collection owner:Static78>,\n",
       "  <Item title:\"Birmingham Map 1/3- HOLC Grades compared to Median Income, Home Value, and Poverty Status\" type:Web Map owner:ejmccloy_LUGDC>,\n",
       "  <Item title:\"Birmingham Map 2/3 - HOLC Grades in comparison to active hazardous waste sites and asthma prescriptions\" type:Web Map owner:ejmccloy_LUGDC>,\n",
       "  <Item title:\"Birmingham, AL  Home Loan Denials 2021\" type:Web Experience owner:jhrocha_UMass_Amherst>,\n",
       "  <Item title:\"Birmingham, AL 2021 Home Loan Denials\" type:Web Map owner:jhrocha_UMass_Amherst>,\n",
       "  <Item title:\"BirminghamAL_HOLC\" type:Feature Layer Collection owner:jhrocha_UMass_Amherst>,\n",
       "  <Item title:\"Black Residents by Block in the Twin Cities, 1980-2010\" type:Web Mapping Application owner:jps_UMN>,\n",
       "  <Item title:\"Borderlands\" type:Web Map owner:grobin28_asu>,\n",
       "  <Item title:\"Boston area redlining by 2014-2018 demographics\" type:Web Map owner:eic810_Harvard_CGA>,\n",
       "  <Item title:\"Boston HOLC Map - Georectified\" type:Web Map owner:eic810_Harvard_CGA>,\n",
       "  <Item title:\"Boston Urban Heat Islands, Tree Cover, Redlining\" type:Dashboard owner:eic810_Harvard_CGA>,\n",
       "  <Item title:\"Boston_1938_HOLC\" type:Feature Layer Collection owner:BARI_NU>,\n",
       "  <Item title:\"Brooklyn 11221 Food Access Points\" type:Web Map owner:DMcLean21>,\n",
       "  <Item title:\"Brooklyn HOLC\" type:Map Image Layer owner:brose_TM>,\n",
       "  <Item title:\"Buildings_Norfolk_3D_Flood_MP\" type:Scene Layer owner:cmccabe_content>,\n",
       "  <Item title:\"Buildings_Norfolk_3D_Flood_MP\" type:Feature Layer Collection owner:cmccabe_content>,\n",
       "  <Item title:\"Buildings_Roanoke_3D_Flood_MP\" type:Scene Layer owner:cmccabe_content>,\n",
       "  <Item title:\"Buildings_Roanoke_3D_Flood_MP\" type:Feature Layer Collection owner:cmccabe_content>,\n",
       "  <Item title:\"Builidings_Lynchburg_3D_Flood_MP\" type:Scene Layer owner:cmccabe_content>]}"
      ]
     },
     "execution_count": 490,
     "metadata": {},
     "output_type": "execute_result"
    }
   ],
   "source": [
    "# The advanced_search method searches all of ArcGIS Online \n",
    "# It returns a dictionary with Item objects stored in the results key\n",
    "gis.content.advanced_search(query=\"snippet:holc\")"
   ]
  },
  {
   "cell_type": "markdown",
   "metadata": {},
   "source": [
    "## Get information about an item"
   ]
  },
  {
   "cell_type": "markdown",
   "metadata": {},
   "source": [
    "## Manage items"
   ]
  }
 ],
 "metadata": {
  "kernelspec": {
   "display_name": "agol_admin-rkaODuKR",
   "language": "python",
   "name": "python3"
  },
  "language_info": {
   "codemirror_mode": {
    "name": "ipython",
    "version": 3
   },
   "file_extension": ".py",
   "mimetype": "text/x-python",
   "name": "python",
   "nbconvert_exporter": "python",
   "pygments_lexer": "ipython3",
   "version": "3.10.12"
  }
 },
 "nbformat": 4,
 "nbformat_minor": 2
}
