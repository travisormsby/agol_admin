{
 "cells": [
  {
   "cell_type": "markdown",
   "metadata": {},
   "source": [
    "# Items"
   ]
  },
  {
   "cell_type": "markdown",
   "metadata": {},
   "source": [
    "This notebook contains examples of using the ArcGIS API for Python to manage items in an ArcGIS Online portal. It assumes you are relatively familiar with Python generally, and with performing ArcGIS Online organization administration tasks through the portal web app. It does not assume any familiarity with the specifics of how to use the Python API to automate those administrative tasks."
   ]
  },
  {
   "cell_type": "markdown",
   "metadata": {},
   "source": [
    "## Table of Contents"
   ]
  },
  {
   "cell_type": "markdown",
   "metadata": {},
   "source": [
    "* [Notebook Environment](#notebook-environment)\n",
    "* [Create `Item` objects](#create-item-objects)\n",
    "    * [Get a specific item](#get-a-specific-item)\n",
    "    * [Search for items](#search-for-items)\n",
    "        * [Default query](#default-query)\n",
    "        * [Query a specific field](#query-a-specific-field)\n",
    "        * [Query multi-word phrases](#query-multi-word-phrases)\n",
    "        * [Query by range of values](#query-by-range-of-values)\n",
    "        * [Combine query terms](#combining-query-terms)\n",
    "        * [Advanced search](#advanced-search)\n",
    "* [Get information about an item](#get-information-about-an-item)\n",
    "    * [Display item information](#display-item-information)\n",
    "    * [Access item properties](#access-item-properties)\n",
    "* [Manage items](#manage-items)\n",
    "    * [Create an item](#create-an-item)\n",
    "    * [Copy an item](#copy-an-item)\n",
    "    * [Update an item's information](#update-an-items-information)\n",
    "    * [Update multiple items' information](#update-multiple-items-information)\n",
    "    * [Reassign an item to a new owner](#reassign-an-item-to-a-new-owner)\n",
    "    * [Reassign multiple items to a single new owner](#reassign-multiple-items-to-single-new-owner)\n",
    "    * [Share a single item](#share-a-single-item)\n",
    "        * [Change the sharing level](#change-the-sharing-level)\n",
    "        * [Sharing items to groups: as documented](#sharing-items-to-groups-as-documented)\n",
    "        * [Sharing items to groups: the undocumented complexity](#sharing-items-to-groups-the-undocumented-complexity)\n",
    "    * [Share multiple items](#share-multiple-items)\n",
    "    * [Move an item between folders](#move-an-item-between-folders)\n",
    "    * [Export an item](#export-an-item)\n",
    "    * [Delete an item](#delete-an-item)\n",
    "    * [Delete multiple items](#delete-multiple-items)"
   ]
  },
  {
   "cell_type": "markdown",
   "metadata": {},
   "source": [
    "## Notebook Environment"
   ]
  },
  {
   "cell_type": "markdown",
   "metadata": {},
   "source": [
    "The code in this notebook is specific to version 2.2 of the Python API. All API references in are from the [arcgis.gis](https://developers.arcgis.com/python/api-reference/arcgis.gis.toc.html) and [arcgis.features](https://developers.arcgis.com/python/api-reference/arcgis.features.toc.html) modules: [ContentManager](https://developers.arcgis.com/python/api-reference/arcgis.gis.toc.html#contentmanager), [FeatureLayerCollection](https://developers.arcgis.com/python/api-reference/arcgis.features.toc.html#featurelayercollection), [FeatureLayerCollectionManager](https://developers.arcgis.com/python/api-reference/arcgis.features.managers.html#featurelayercollectionmanager), [GIS](https://developers.arcgis.com/python/api-reference/arcgis.gis.toc.html#gis), [Group](https://developers.arcgis.com/python/api-reference/arcgis.gis.toc.html#group), [GroupManager](https://developers.arcgis.com/python/api-reference/arcgis.gis.toc.html#groupmanager), [Item](https://developers.arcgis.com/python/api-reference/arcgis.gis.toc.html#item), [User](https://developers.arcgis.com/python/api-reference/arcgis.gis.toc.html#user) and [UserManager](https://developers.arcgis.com/python/api-reference/arcgis.gis.toc.html#arcgis.gis.UserManager)\n",
    "\n",
    "The code below imports the relevant portions of the `arcgis` package, confirms you are using the correct version, and creates a `GIS` object called `gis` that connects you to your ArcGIS Online portal. The variables in this cell are required for subsequent cells to work, but the cells in this notebook are otherwise independent of each other. \n",
    "\n",
    "You will need to alter the code creating the `GIS` object to make a connection to your portal. Various methods of creating this object are covered in the [Portal connection notebook](https://github.com/travisormsby/agol_admin/blob/main/portal_connection.ipynb). Usernames and specific content details (such as item id) used in this notebook are also specific to my organization. You will need to change them to something appropriate for your organization."
   ]
  },
  {
   "cell_type": "code",
   "execution_count": 908,
   "metadata": {},
   "outputs": [],
   "source": [
    "import arcgis\n",
    "from arcgis.gis import GIS\n",
    "from arcgis.features import FeatureLayerCollection\n",
    "\n",
    "assert arcgis.__version__.startswith(\"2.2.\")\n",
    "gis = GIS(profile=\"agol\") # Change to make a connection to your portal\n"
   ]
  },
  {
   "cell_type": "markdown",
   "metadata": {},
   "source": [
    "## Create `Item` objects"
   ]
  },
  {
   "cell_type": "markdown",
   "metadata": {},
   "source": [
    "In order to manage items, you will need to represent them as some data structure that Python can manipulate. An instance of the [`ContentManager` class](https://developers.arcgis.com/python/api-reference/arcgis.gis.toc.html#contentmanager) can create these `Item` objects. This instance is available as the `content` property of a [`GIS` object](https://developers.arcgis.com/python/api-reference/arcgis.gis.toc.html#gis)"
   ]
  },
  {
   "cell_type": "markdown",
   "metadata": {},
   "source": [
    "### Get a specific item"
   ]
  },
  {
   "cell_type": "markdown",
   "metadata": {},
   "source": [
    "The code below uses the [`get` method of the `ContentManager` object](https://developers.arcgis.com/python/api-reference/arcgis.gis.toc.html#arcgis.gis.ContentManager.get) to return a single `Item` object that matches the provided item id. "
   ]
  },
  {
   "cell_type": "code",
   "execution_count": 906,
   "metadata": {},
   "outputs": [
    {
     "name": "stdout",
     "output_type": "stream",
     "text": [
      "<Item title:\"HOLC\" type:Web Map owner:t.ormsby>\n"
     ]
    }
   ],
   "source": [
    "item = gis.content.get(\"63d41db9006647afb92516cee5c89a1a\")\n",
    "print(item)"
   ]
  },
  {
   "cell_type": "markdown",
   "metadata": {},
   "source": [
    "### Search for items"
   ]
  },
  {
   "cell_type": "markdown",
   "metadata": {},
   "source": [
    "The [`search` method of the `ContentManager` object](https://developers.arcgis.com/python/api-reference/arcgis.gis.toc.html#arcgis.gis.ContentManager.search) returns a list of `Item` objects that match the search criteria. There are several parameters for the `search` method, most of which are well explained in the documentation. \n",
    "\n",
    "The most important parameter is `query`, which is used to search for items by fields not covered by the other parameters. The `query` parameter is also used for complex search logic using ranges, boolean operators, and grouping.\n",
    "\n",
    "The use of the `query` parameter is unfortunately not well documented. Esri provides [examples of POST requests](https://developers.arcgis.com/rest/users-groups-and-items/search-reference.htm) made against the REST API directly, but these do not translate perfectly to the Python syntax of the `search` method. The examples below show how to correctly format query strings."
   ]
  },
  {
   "cell_type": "markdown",
   "metadata": {},
   "source": [
    "#### Default query"
   ]
  },
  {
   "cell_type": "markdown",
   "metadata": {},
   "source": [
    "By default, the `query` argument is matched against items' title, tags, snippet, description, type, and typekeywords fields. The `query` argument is not case sensitive and will return close matches, not just exact matches. \n",
    "\n",
    "The code below will return up to 20 items that match the term `\"holc\"` in any of the default fields."
   ]
  },
  {
   "cell_type": "code",
   "execution_count": 442,
   "metadata": {},
   "outputs": [
    {
     "name": "stdout",
     "output_type": "stream",
     "text": [
      "<Item title:\"HOLC Travis Ormsby\" type:Web Mapping Application owner:t.ormsby>\n",
      "<Item title:\"HOLC\" type:Web Map owner:t.ormsby>\n",
      "<Item title:\"Highest income\" type:Feature Layer Collection owner:t.ormsby>\n",
      "<Item title:\"HOLC Appraisals\" type:Feature Layer Collection owner:t.ormsby>\n",
      "<Item title:\"Lowest income\" type:Feature Layer Collection owner:t.ormsby>\n",
      "<Item title:\"HOLC_Blocks\" type:Service Definition owner:t.ormsby>\n",
      "<Item title:\"HOLC_Blocks\" type:Feature Layer Collection owner:t.ormsby>\n",
      "<Item title:\"HOLC Travis Ormsby\" type:Web Map owner:t.ormsby>\n",
      "<Item title:\"Highest percent white population\" type:Feature Layer Collection owner:t.ormsby>\n",
      "<Item title:\"Highest percent population of color\" type:Feature Layer Collection owner:t.ormsby>\n"
     ]
    }
   ],
   "source": [
    "items = gis.content.search(query=\"holc\", max_items=20)\n",
    "for item in items:\n",
    "    print(item)"
   ]
  },
  {
   "cell_type": "markdown",
   "metadata": {},
   "source": [
    "#### Query a specific field"
   ]
  },
  {
   "cell_type": "markdown",
   "metadata": {},
   "source": [
    "You can specify a particular field in the query, instead of using the default fields. Querying does not work on all fields, but you can specify the following:\n",
    "\n",
    "* `id` (item ID)\n",
    "* `owner` (owner username)\n",
    "* `created` (Unix miliseconds timestamp)\n",
    "* `modified` (Unix miliseconds timestamp)\n",
    "* `lastviewed` (Unix miliseconds timestamp)\n",
    "* `title`\n",
    "* `type` ([tables of all types](https://developers.arcgis.com/rest/users-groups-and-items/items-and-item-types.htm))\n",
    "* `typekeywords` ([tables of all type keywords](https://developers.arcgis.com/rest/users-groups-and-items/items-and-item-types.htm))\n",
    "* `description`\n",
    "* `tags`\n",
    "* `snippet` (summary text)\n",
    "* `accessInformation`\n",
    "* `access` (public, private, org, or shared)\n",
    "* `group` (group ID)\n",
    "* `numviews` (number of views)\n",
    "* `numratings` (number of ratings)\n",
    "* `numcomments` (number of comments)\n",
    "* `avgrating` (average rating)\n",
    "* `culture` (locale information, e.g. \"en-US\")\n",
    "* `orgid` (returns items within a specified organization)\n",
    "* `categories`\n",
    "* `contentStatus` (null, deprecated, org_authoritative, public_authoritative)\n",
    "* `name` (does not work for finding notebooks)\n",
    "* `protected` (True or False)\n",
    "\n",
    "\n",
    "The code below narrows the search above by limiting the search to the snippet field.\n",
    "\n",
    "\n",
    "\n"
   ]
  },
  {
   "cell_type": "code",
   "execution_count": 443,
   "metadata": {},
   "outputs": [
    {
     "name": "stdout",
     "output_type": "stream",
     "text": [
      "<Item title:\"HOLC Appraisals\" type:Feature Layer Collection owner:t.ormsby>\n",
      "<Item title:\"HOLC_Blocks\" type:Service Definition owner:t.ormsby>\n",
      "<Item title:\"HOLC_Blocks\" type:Feature Layer Collection owner:t.ormsby>\n"
     ]
    }
   ],
   "source": [
    "items = gis.content.search(query=\"snippet:holc\", max_items=20)\n",
    "for item in items:\n",
    "    print(item)"
   ]
  },
  {
   "cell_type": "markdown",
   "metadata": {},
   "source": [
    "#### Query multi-word phrases"
   ]
  },
  {
   "cell_type": "markdown",
   "metadata": {},
   "source": [
    "Querying items that match a multi-word phrase can be tricky. The code below is a naïve implementation of a search for the \"HOLC Appraisals\" item listed above. This implementation returns additional results that do not match the desired phrase"
   ]
  },
  {
   "cell_type": "code",
   "execution_count": 444,
   "metadata": {},
   "outputs": [
    {
     "name": "stdout",
     "output_type": "stream",
     "text": [
      "<Item title:\"HOLC Appraisals\" type:Feature Layer Collection owner:t.ormsby>\n",
      "<Item title:\"HOLC_Blocks\" type:Service Definition owner:t.ormsby>\n",
      "<Item title:\"HOLC_Blocks\" type:Feature Layer Collection owner:t.ormsby>\n"
     ]
    }
   ],
   "source": [
    "items = gis.content.search(query=\"title:HOLC Appraisals\", max_items=20)\n",
    "for item in items:\n",
    "    print(item)"
   ]
  },
  {
   "cell_type": "markdown",
   "metadata": {},
   "source": [
    "The code below uses single quotes in an attempt to represent a phrase. This also does not work."
   ]
  },
  {
   "cell_type": "code",
   "execution_count": 445,
   "metadata": {},
   "outputs": [
    {
     "name": "stdout",
     "output_type": "stream",
     "text": [
      "<Item title:\"HOLC Appraisals\" type:Feature Layer Collection owner:t.ormsby>\n",
      "<Item title:\"HOLC_Blocks\" type:Service Definition owner:t.ormsby>\n",
      "<Item title:\"HOLC_Blocks\" type:Feature Layer Collection owner:t.ormsby>\n"
     ]
    }
   ],
   "source": [
    "items = gis.content.search(query=\"title:'HOLC Appraisals'\", max_items=20)\n",
    "for item in items:\n",
    "    print(item)"
   ]
  },
  {
   "cell_type": "markdown",
   "metadata": {},
   "source": [
    "To find content that matches the entire phrase, the phrase must be enclosed in double quotes. The code below uses double quotes around the search phrase and returns the correct result."
   ]
  },
  {
   "cell_type": "code",
   "execution_count": 446,
   "metadata": {},
   "outputs": [
    {
     "name": "stdout",
     "output_type": "stream",
     "text": [
      "<Item title:\"HOLC Appraisals\" type:Feature Layer Collection owner:t.ormsby>\n"
     ]
    }
   ],
   "source": [
    "items = gis.content.search(query='title:\"HOLC Appraisals\"', max_items=20)\n",
    "for item in items:\n",
    "    print(item)"
   ]
  },
  {
   "cell_type": "markdown",
   "metadata": {},
   "source": [
    "#### Query by range of values"
   ]
  },
  {
   "cell_type": "markdown",
   "metadata": {},
   "source": [
    " Values can be queried by range using `firstValue TO lastValue` (`TO` must be capitalized). Brackets (`[]`) around the range indicate that the search should be inclusive of the values. Curly braces (`{}`) indicate that the search should be exclusive of the values.\n",
    "\n",
    "This is especially useful for numeric values, but can work for any field.\n",
    "\n",
    "The code below searches for items created during the month of October in US Central Time. The range opens with a bracket because it must be inclusive of the first milisecond of October. It closes with a curly brace because it must be exclusive of the first milisecond of November.\n"
   ]
  },
  {
   "cell_type": "code",
   "execution_count": 447,
   "metadata": {},
   "outputs": [
    {
     "name": "stdout",
     "output_type": "stream",
     "text": [
      "<Item title:\"ProblemsSummary\" type:Feature Layer Collection owner:t.ormsby>\n",
      "<Item title:\"ProblemsHeatMap\" type:Feature Layer Collection owner:t.ormsby>\n",
      "<Item title:\"Collaboration\" type:Notebook owner:t.ormsby>\n",
      "<Item title:\"Schools20MinWalk\" type:Feature Layer Collection owner:t.ormsby>\n",
      "<Item title:\"ProblemsVectorTilePackage\" type:Vector Tile Package owner:t.ormsby>\n",
      "<Item title:\"ProblemsClusters\" type:Service Definition owner:t.ormsby>\n",
      "<Item title:\"ProblemsHeatMap\" type:Service Definition owner:t.ormsby>\n",
      "<Item title:\"SchoolsInfoFeatures\" type:Feature Layer Collection owner:t.ormsby>\n",
      "<Item title:\"ProblemsBins\" type:Service Definition owner:t.ormsby>\n",
      "<Item title:\"ProblemsBins\" type:Feature Layer Collection owner:t.ormsby>\n",
      "<Item title:\"SchoolsInfoBuffer\" type:Feature Layer Collection owner:t.ormsby>\n",
      "<Item title:\"ProblemsVectorTilePackage\" type:Vector Tile Layer owner:t.ormsby>\n",
      "<Item title:\"ProblemsSummary\" type:Service Definition owner:t.ormsby>\n",
      "<Item title:\"ProblemsClusters\" type:Feature Layer Collection owner:t.ormsby>\n",
      "<Item title:\"clusters\" type:Feature Layer Collection owner:t.ormsby>\n",
      "<Item title:\"Problems\" type:Map Package owner:t.ormsby>\n",
      "<Item title:\"ExampleMap3\" type:Web Map owner:ormsby_guest1>\n",
      "<Item title:\"ExampleMap1\" type:Web Map owner:ormsby_guest1>\n",
      "<Item title:\"ExampleMap2\" type:Web Map owner:ormsby_guest1>\n"
     ]
    }
   ],
   "source": [
    "items = gis.content.search(query=\"created:[1696136400000 TO 1698814800000}\", max_items=20)\n",
    "for item in items:\n",
    "    print(item)"
   ]
  },
  {
   "cell_type": "markdown",
   "metadata": {},
   "source": [
    "#### Combining query terms"
   ]
  },
  {
   "cell_type": "markdown",
   "metadata": {},
   "source": [
    "[The REST API documentation](https://developers.arcgis.com/rest/users-groups-and-items/search-reference.htm#ESRI_SECTION1_5C6C35DB9E4A4F4492C5B937BDA2BF67) claims that you can use the Boolean operators `AND`, `OR` and `NOT` to combine terms in the query string. In practice, these Boolean operators do not work reliably, likely due to a bug in the ArcGIS API for Python. \n",
    "\n",
    "For that reason, the code below uses Python sets and set methods to return collections of items that match more complex patterns needing Boolean operators.\n",
    "\n"
   ]
  },
  {
   "cell_type": "code",
   "execution_count": 479,
   "metadata": {},
   "outputs": [
    {
     "name": "stdout",
     "output_type": "stream",
     "text": [
      "query 1 returns:\n",
      "<Item title:\"Highest percent population of color\" type:Feature Layer Collection owner:t.ormsby>\n",
      "<Item title:\"ExampleMap1\" type:Web Map owner:ormsby_guest1>\n",
      "<Item title:\"Highest percent white population\" type:Feature Layer Collection owner:t.ormsby>\n",
      "query 2 returns:\n",
      "<Item title:\"ExampleMap2\" type:Web Map owner:ormsby_guest1>\n",
      "<Item title:\"ExampleMap1\" type:Web Map owner:ormsby_guest1>\n",
      "<Item title:\"ExampleMap3\" type:Web Map owner:ormsby_guest1>\n",
      "query1 AND query2 returns:\n",
      "<Item title:\"ExampleMap1\" type:Web Map owner:ormsby_guest1>\n",
      "query1 OR query 2 returns:\n",
      "<Item title:\"ExampleMap1\" type:Web Map owner:ormsby_guest1>\n",
      "<Item title:\"ExampleMap2\" type:Web Map owner:ormsby_guest1>\n",
      "<Item title:\"Highest percent white population\" type:Feature Layer Collection owner:t.ormsby>\n",
      "<Item title:\"ExampleMap3\" type:Web Map owner:ormsby_guest1>\n",
      "<Item title:\"Highest percent population of color\" type:Feature Layer Collection owner:t.ormsby>\n",
      "query1 NOT query 2 returns:\n",
      "<Item title:\"Highest percent white population\" type:Feature Layer Collection owner:t.ormsby>\n",
      "<Item title:\"Highest percent population of color\" type:Feature Layer Collection owner:t.ormsby>\n"
     ]
    }
   ],
   "source": [
    "# Dictionary of two sets of Item objects, each set returned from a different query\n",
    "itemsets = {\n",
    "    \"query 1\": set(gis.content.search(query='\"highest percent\"', max_items=100)),\n",
    "    \"query 2\": set(gis.content.search(query='\"example\"', max_items=100))\n",
    "}\n",
    "\n",
    "query1 = itemsets[\"query 1\"]\n",
    "query2 = itemsets[\"query 2\"]\n",
    "\n",
    "# Add more sets to the dictionary representing the intersection, union, and difference of the original sets\n",
    "itemsets[\"query1 AND query2\"] = query1.intersection(query2) # AND means the intersection of two sets\n",
    "itemsets[\"query1 OR query 2\"] = query1.union(query2) # OR means the union of two sets\n",
    "itemsets[\"query1 NOT query 2\"] = query1.difference(query2) # NOT means the difference of two sets\n",
    "\n",
    "# Output the items in each set\n",
    "for setname, itemset in itemsets.items():\n",
    "    print(f\"{setname} returns:\")\n",
    "    for item in itemset:\n",
    "        print(item)\n",
    "    "
   ]
  },
  {
   "cell_type": "markdown",
   "metadata": {},
   "source": [
    "Putting the sets of `Item` objects in a dictionary as above is done to show you the relationships betwen the different sets. In practice, you would not usually do that. The code below represents a more typical pattern by creating variables to hold the results of the initial query terms, and then performing the set operation on those results"
   ]
  },
  {
   "cell_type": "code",
   "execution_count": 478,
   "metadata": {},
   "outputs": [
    {
     "name": "stdout",
     "output_type": "stream",
     "text": [
      "<Item title:\"ExampleMap1\" type:Web Map owner:ormsby_guest1>\n",
      "<Item title:\"ExampleMap2\" type:Web Map owner:ormsby_guest1>\n",
      "<Item title:\"Highest percent white population\" type:Feature Layer Collection owner:t.ormsby>\n",
      "<Item title:\"ExampleMap3\" type:Web Map owner:ormsby_guest1>\n",
      "<Item title:\"Highest percent population of color\" type:Feature Layer Collection owner:t.ormsby>\n"
     ]
    }
   ],
   "source": [
    "query1 = set(gis.content.search(query='\"highest percent\"', max_items=100))\n",
    "query2 = set(gis.content.search(query='\"example\"', max_items=100))\n",
    "query1OR2 = query1.union(query2)\n",
    "for item in query1OR2:\n",
    "    print(item)"
   ]
  },
  {
   "cell_type": "markdown",
   "metadata": {},
   "source": [
    "#### Advanced search"
   ]
  },
  {
   "cell_type": "markdown",
   "metadata": {},
   "source": [
    "The [`advanced_search` method of the `ContentManager` object](https://developers.arcgis.com/python/api-reference/arcgis.gis.toc.html#arcgis.gis.ContentManager.advanced_search) is very similar to the `search` method, with three important differences.\n",
    "\n",
    "* The `advanced_search` method exposes some additional parameters to refine your search. These additional parameters are well documented in the API reference.\n",
    "\n",
    "* The `search` method defaults to searching only inside the organization, but can search outside. The `advanced_search` method does not have a parameter to search inside the organization only (though similar results could be achieved with a query string)\n",
    "\n",
    "* The `search` method returns a list of `Item` objects. By default, the `advanced_search` method retuns a dictionary with a list of `Item` objects stored in the `results` key. \n",
    "\n"
   ]
  },
  {
   "cell_type": "code",
   "execution_count": 482,
   "metadata": {},
   "outputs": [
    {
     "data": {
      "text/plain": [
       "[<Item title:\"HOLC Appraisals\" type:Feature Layer Collection owner:t.ormsby>,\n",
       " <Item title:\"HOLC_Blocks\" type:Service Definition owner:t.ormsby>,\n",
       " <Item title:\"HOLC_Blocks\" type:Feature Layer Collection owner:t.ormsby>]"
      ]
     },
     "execution_count": 482,
     "metadata": {},
     "output_type": "execute_result"
    }
   ],
   "source": [
    "# The search method looks only inside the organization by default \n",
    "# It returns a list of Item objects\n",
    "gis.content.search(query=\"snippet:holc\")"
   ]
  },
  {
   "cell_type": "code",
   "execution_count": 490,
   "metadata": {},
   "outputs": [
    {
     "data": {
      "text/plain": [
       "{'total': 761,\n",
       " 'start': 1,\n",
       " 'num': 100,\n",
       " 'nextStart': 101,\n",
       " 'results': [<Item title:\" (HOLC) Neighborhood Redlining Grade Boston\" type:Web Map owner:raechelw>,\n",
       "  <Item title:\"“Redlining” and Exposure to Urban Heat Islands\" type:Web Map owner:ElainnaH>,\n",
       "  <Item title:\"“Redlining” and Exposure to Urban Heat Islands\" type:Web Map owner:jpszitta_DurhamEM>,\n",
       "  <Item title:\"“Redlining” and Exposure to Urban Heat Islands\" type:Web Map owner:dpisut_content>,\n",
       "  <Item title:\"“Redlining” and Exposure to Urban Heat Islands\" type:Web Map owner:Sarah_A_Knight>,\n",
       "  <Item title:\"“Redlining” and Exposure to Urban Heat Islands\" type:Web Map owner:Connected_DMV_Atlas>,\n",
       "  <Item title:\"“Redlining” and Exposure to Urban Heat Islands – Dallas\" type:Web Mapping Application owner:ldl8244>,\n",
       "  <Item title:\"“Redlining” and Exposure to Urban Heat Islands-Copy\" type:Web Map owner:jeremyhoffman>,\n",
       "  <Item title:\"“Redlining” and Exposure to Urban Heat Islands-Copy\" type:Web Map owner:noir0315_gisucla>,\n",
       "  <Item title:\"“Redlining” and Exposure to Urban Heat Islands-Copy\" type:Web Map owner:Dylan.J.Hayden@hud.gov_HUD>,\n",
       "  <Item title:\"“Redlining” and Exposure to Urban Heat Islands-Copy\" type:Web Map owner:graceriggs12_gisucla>,\n",
       "  <Item title:\"“Redlining” and Exposure to Urban Heat Islands-Copy\" type:Web Map owner:ADu_ourcommunity>,\n",
       "  <Item title:\"“Redlining” and Exposure to Urban Heat Islands-Copy\" type:Web Map owner:Kayli.Skinner_ucboulder>,\n",
       "  <Item title:\"“Redlining” and Exposure to Urban Heat Islands-Copy\" type:Web Map owner:ldl8244>,\n",
       "  <Item title:\"“Redlining” and Exposure to Urban Heat Islands-Copy\" type:Web Map owner:omarissa>,\n",
       "  <Item title:\"“Redlining” and Exposure to Urban Heat Islands_2\" type:Web Map owner:raechelw>,\n",
       "  <Item title:\"“Redlining” and Exposure to Urban Heat Islands_2\" type:Web Map owner:lauren25>,\n",
       "  <Item title:\"“Redlining” and Exposure to Urban Heat Islands_WFL1\" type:Feature Layer Collection owner:jpszitta_DurhamEM>,\n",
       "  <Item title:\"“Redlining” and HCV\" type:Web Map owner:Dylan.J.Hayden@hud.gov_HUD>,\n",
       "  <Item title:\"“Redlining” and Home Ownership\" type:Web Map owner:Dylan.J.Hayden@hud.gov_HUD>,\n",
       "  <Item title:\"“Redlining” and Home Values\" type:Web Map owner:Dylan.J.Hayden@hud.gov_HUD>,\n",
       "  <Item title:\"“Redlining” and Public Housing\" type:Web Map owner:Dylan.J.Hayden@hud.gov_HUD>,\n",
       "  <Item title:\"“Redlining” and Race\" type:Web Map owner:Dylan.J.Hayden@hud.gov_HUD>,\n",
       "  <Item title:\"“Redlining” HOLC 1\" type:Web Map owner:Dylan.J.Hayden@hud.gov_HUD>,\n",
       "  <Item title:\"(HOLC) Neighborhood Redlining Grade\" type:Web Map owner:jimhanson4>,\n",
       "  <Item title:\"16. HOLC Ratings in PUSD, 1939\" type:Web Map owner:caroline.thompson@dlrgroup.com>,\n",
       "  <Item title:\"17. HOLC Scores (1939) by Lower Resource Neighborhoods (2022)\" type:Web Map owner:caroline.thompson@dlrgroup.com>,\n",
       "  <Item title:\"1935 HOLC Grade\" type:Layer Package owner:jayalakc>,\n",
       "  <Item title:\"1937 Durham HOLC Map\" type:Web Map owner:pmmcdani_UNC>,\n",
       "  <Item title:\"1937 Durham HOLC Map- Imagery Backdrop\" type:Web Map owner:pmmcdani_UNC>,\n",
       "  <Item title:\"1937 HOLC - Residential \"Security\" Map\" type:Web Mapping Application owner:mdeemer@grand_rapids.mi.us_grandrapids>,\n",
       "  <Item title:\"1939 HOLC Redlining Grades\" type:Feature Layer Collection owner:m.quirk>,\n",
       "  <Item title:\"1940 Cuyahoga County HOLC Map\" type:Web Mapping Application owner:kirwaninstitute.osu>,\n",
       "  <Item title:\"1940 Cuyahoga County HOLC Map\" type:Web Mapping Application owner:kirwaninstitute.osu>,\n",
       "  <Item title:\"2019_11_18_HOLC\" type:Web Map owner:amy.heath2@g.austincc.edu9>,\n",
       "  <Item title:\"2019_11_18_Redline_in_motion-Copy-Copy\" type:Web Map owner:amy.heath2@g.austincc.edu9>,\n",
       "  <Item title:\"2021 Home Loan Denial Rates for Birmingham, Alabama\" type:Web Mapping Application owner:jhrocha_UMass_Amherst>,\n",
       "  <Item title:\"2022 HOLC\" type:Web Map owner:erp82_rutgers>,\n",
       "  <Item title:\"2N\" type:Web Map owner:wuyiche8_utoronto>,\n",
       "  <Item title:\"3. SF Residential\" type:Web Map owner:naulston>,\n",
       "  <Item title:\"5 - KC Metro Home-Owners Loan Corporation (HOLC) Map and Present-Day Race/Ethnicity\" type:Web Mapping Application owner:kirwaninstitute.osu>,\n",
       "  <Item title:\"5. Life Expectancy\" type:Web Map owner:naulston>,\n",
       "  <Item title:\"A1 - Durham 1937\" type:Image owner:pmmcdani_UNC>,\n",
       "  <Item title:\"A2 - Durham 1937\" type:Image owner:pmmcdani_UNC>,\n",
       "  <Item title:\"A4 - Durham 1937\" type:Image owner:pmmcdani_UNC>,\n",
       "  <Item title:\"A5 - Durham 1937\" type:Image owner:pmmcdani_UNC>,\n",
       "  <Item title:\"Air Quality Lab- P2 POCallaghan-Copy\" type:Web Map owner:patrick.ocallaghan_urichmond>,\n",
       "  <Item title:\"Albany HOLC Map\" type:Web Map owner:hwasser_Skid>,\n",
       "  <Item title:\"Albany HOLC Map\" type:Feature Layer Collection owner:hwasser_Skid>,\n",
       "  <Item title:\"Alkadir_HW1_HOLC_Urban_heat_islands_and_public_housing\" type:Web Map owner:haa311_Harvard_CGA>,\n",
       "  <Item title:\"AP Webmap Proximity of Oil/Gas Wells and Major Roads to Redlined Districts in the Central Los Angeles Area\" type:Web Map owner:apedicin@pitzer.edu_claremont>,\n",
       "  <Item title:\"App Draft 1: Black Population by Block in the Twin Cities, 1980-2010\" type:Web Mapping Application owner:zhan6322_UMN>,\n",
       "  <Item title:\"Asheville Data Resource\" type:Web Mapping Application owner:cmcnamara_avl>,\n",
       "  <Item title:\"Asthma in Philadelphia, PA (AAH)\" type:Web Map owner:azimihas_utoronto>,\n",
       "  <Item title:\"Asthma Rates Related to HOLC-Graded Neighbourhoods - Portland, OR\" type:Web Map owner:mlynczy1_utoronto>,\n",
       "  <Item title:\"Atlanta 1929 Zoning with HOLC\" type:Map Package owner:goliverio3_gtmaps>,\n",
       "  <Item title:\"Atlanta 1929 Zoning with HOLC\" type:Web Map owner:goliverio3_gtmaps>,\n",
       "  <Item title:\"Atlanta, GA, USA contaminated sites and their relation to the former redlining grades\" type:Web Map owner:doanchr4_utoronto>,\n",
       "  <Item title:\"Atlanta, GA, USA HOLC grades redlining and race (black and white)\" type:Web Map owner:doanchr4_utoronto>,\n",
       "  <Item title:\"Atlanta, GA, USA HOLC redlining grades app comparing low income and health insurance coverage\" type:Web Mapping Application owner:doanchr4_utoronto>,\n",
       "  <Item title:\"Atlanta, GA, USA HOLC redlining grades urban heat islands and impervious surface\" type:Web Map owner:doanchr4_utoronto>,\n",
       "  <Item title:\"Atlanta, GA, USA HOLC redlining grades urban heat islands and impervious surface\" type:Web Mapping Application owner:doanchr4_utoronto>,\n",
       "  <Item title:\"Atlanta, GA, USA HOLC redlining grades urban heat islands and impervious surface-Copy\" type:Web Map owner:doanchr4_utoronto>,\n",
       "  <Item title:\"Atlanta, GA, USA HOLC redlining grades with transportation noise\" type:Web Map owner:doanchr4_utoronto>,\n",
       "  <Item title:\"Atlanta, GA, USA HOLC relining grades showing their relationship with internet and vehicle access\" type:Web Map owner:doanchr4_utoronto>,\n",
       "  <Item title:\"Atlanta, GA, USA redlining HOLC grades and parkland relationship to urban heat islands and shade from tree canopies.\" type:Web Mapping Application owner:doanchr4_utoronto>,\n",
       "  <Item title:\"Atlanta, GA, USA redlining HOLC grades and parkland relationship with urban heat islands and shade from tree canopies.\" type:Web Map owner:doanchr4_utoronto>,\n",
       "  <Item title:\"Atlanta, GA, USA redlining HOLC grades and parkland relationship with urban heat islands and shade from tree canopies.-Copy\" type:Web Map owner:doanchr4_utoronto>,\n",
       "  <Item title:\"Atlanta, GA, USA redlining HOLC grades with average income and housing prices\" type:Web Map owner:doanchr4_utoronto>,\n",
       "  <Item title:\"B1 - Durham 1937\" type:Image owner:pmmcdani_UNC>,\n",
       "  <Item title:\"B4 - Durham 1937\" type:Image owner:pmmcdani_UNC>,\n",
       "  <Item title:\"B5 - Durham 1937\" type:Image owner:pmmcdani_UNC>,\n",
       "  <Item title:\"B6 - Durham 1937\" type:Image owner:pmmcdani_UNC>,\n",
       "  <Item title:\"Baltimore HOLC Map\" type:Web Map owner:oellerka@uvm.edu_UVM>,\n",
       "  <Item title:\"Baltimore Redlined Neighborhoods\" type:Web Mapping Application owner:john.v.bullough_envgisumuc>,\n",
       "  <Item title:\"Baltimore Redlined Neighborhoods\" type:Web Map owner:john.v.bullough_envgisumuc>,\n",
       "  <Item title:\"Baltimore Redlined Neighborhoods\" type:Web Map owner:ehe002_Bucknell>,\n",
       "  <Item title:\"Baltimore's Home Owners' Loan Corporation (HOLC)'s Historical Redlining Grade\" type:Web Map owner:MDgeoED>,\n",
       "  <Item title:\"Baltimore_Redlining\" type:Vector Tile Layer owner:jrollins_UofMD>,\n",
       "  <Item title:\"Baltimore_Redlining\" type:Feature Layer Collection owner:jrollins_UofMD>,\n",
       "  <Item title:\"Basic Environmental Facts about Cities Tabulated by 1940 Era HOLC Rating\" type:Feature Layer Collection owner:mdangermond_content>,\n",
       "  <Item title:\"BES Neighborhood Demographic Change1930_2010\" type:Feature Layer Collection owner:Static78>,\n",
       "  <Item title:\"Birmingham Map 1/3- HOLC Grades compared to Median Income, Home Value, and Poverty Status\" type:Web Map owner:ejmccloy_LUGDC>,\n",
       "  <Item title:\"Birmingham Map 2/3 - HOLC Grades in comparison to active hazardous waste sites and asthma prescriptions\" type:Web Map owner:ejmccloy_LUGDC>,\n",
       "  <Item title:\"Birmingham, AL  Home Loan Denials 2021\" type:Web Experience owner:jhrocha_UMass_Amherst>,\n",
       "  <Item title:\"Birmingham, AL 2021 Home Loan Denials\" type:Web Map owner:jhrocha_UMass_Amherst>,\n",
       "  <Item title:\"BirminghamAL_HOLC\" type:Feature Layer Collection owner:jhrocha_UMass_Amherst>,\n",
       "  <Item title:\"Black Residents by Block in the Twin Cities, 1980-2010\" type:Web Mapping Application owner:jps_UMN>,\n",
       "  <Item title:\"Borderlands\" type:Web Map owner:grobin28_asu>,\n",
       "  <Item title:\"Boston area redlining by 2014-2018 demographics\" type:Web Map owner:eic810_Harvard_CGA>,\n",
       "  <Item title:\"Boston HOLC Map - Georectified\" type:Web Map owner:eic810_Harvard_CGA>,\n",
       "  <Item title:\"Boston Urban Heat Islands, Tree Cover, Redlining\" type:Dashboard owner:eic810_Harvard_CGA>,\n",
       "  <Item title:\"Boston_1938_HOLC\" type:Feature Layer Collection owner:BARI_NU>,\n",
       "  <Item title:\"Brooklyn 11221 Food Access Points\" type:Web Map owner:DMcLean21>,\n",
       "  <Item title:\"Brooklyn HOLC\" type:Map Image Layer owner:brose_TM>,\n",
       "  <Item title:\"Buildings_Norfolk_3D_Flood_MP\" type:Scene Layer owner:cmccabe_content>,\n",
       "  <Item title:\"Buildings_Norfolk_3D_Flood_MP\" type:Feature Layer Collection owner:cmccabe_content>,\n",
       "  <Item title:\"Buildings_Roanoke_3D_Flood_MP\" type:Scene Layer owner:cmccabe_content>,\n",
       "  <Item title:\"Buildings_Roanoke_3D_Flood_MP\" type:Feature Layer Collection owner:cmccabe_content>,\n",
       "  <Item title:\"Builidings_Lynchburg_3D_Flood_MP\" type:Scene Layer owner:cmccabe_content>]}"
      ]
     },
     "execution_count": 490,
     "metadata": {},
     "output_type": "execute_result"
    }
   ],
   "source": [
    "# The advanced_search method searches all of ArcGIS Online \n",
    "# It returns a dictionary with Item objects stored in the results key\n",
    "gis.content.advanced_search(query=\"snippet:holc\")"
   ]
  },
  {
   "cell_type": "markdown",
   "metadata": {},
   "source": [
    "## Get information about an item"
   ]
  },
  {
   "cell_type": "markdown",
   "metadata": {},
   "source": [
    "Once you have an `Item` object, you can access information about that item."
   ]
  },
  {
   "cell_type": "markdown",
   "metadata": {},
   "source": [
    "### Display item information"
   ]
  },
  {
   "cell_type": "markdown",
   "metadata": {},
   "source": [
    "The code below uses the Jupyter Notebook `display` function to show a card for an item, including a link to its item details page.\n"
   ]
  },
  {
   "cell_type": "code",
   "execution_count": 491,
   "metadata": {},
   "outputs": [
    {
     "data": {
      "text/html": [
       "<div class=\"item_container\" style=\"height: auto; overflow: hidden; border: 1px solid #cfcfcf; border-radius: 2px; background: #f6fafa; line-height: 1.21429em; padding: 10px;\">\n",
       "                    <div class=\"item_left\" style=\"width: 210px; float: left;\">\n",
       "                       <a href='https://ormsby.maps.arcgis.com/home/item.html?id=86f92739855e481c82d54c6dc167ef99' target='_blank'>\n",
       "                        <img src='data:image/png;base64,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' width='200' height='133' class=\"itemThumbnail\">\n",
       "                       </a>\n",
       "                    </div>\n",
       "\n",
       "                    <div class=\"item_right\"     style=\"float: none; width: auto; overflow: hidden;\">\n",
       "                        <a href='https://ormsby.maps.arcgis.com/home/item.html?id=86f92739855e481c82d54c6dc167ef99' target='_blank'><b>ExampleMap3</b>\n",
       "                        </a>\n",
       "                        <br/><img src='https://ormsby.maps.arcgis.com/home/js/jsapi/esri/css/images/item_type_icons/maps16.png' style=\"vertical-align:middle;\" width=16 height=16>Web Map by ormsby_guest1\n",
       "                        <br/>Last Modified: October 22, 2023\n",
       "                        <br/>0 comments, 4 views\n",
       "                    </div>\n",
       "                </div>\n",
       "                "
      ],
      "text/plain": [
       "<Item title:\"ExampleMap3\" type:Web Map owner:ormsby_guest1>"
      ]
     },
     "metadata": {},
     "output_type": "display_data"
    }
   ],
   "source": [
    "item = gis.content.get(\"86f92739855e481c82d54c6dc167ef99\")\n",
    "display(item)"
   ]
  },
  {
   "cell_type": "markdown",
   "metadata": {},
   "source": [
    "### Access item properties"
   ]
  },
  {
   "cell_type": "markdown",
   "metadata": {},
   "source": [
    "You can also access specific properties of an `Item` object. The code below prints some example information you can access. The [REST API documentation for items](https://developers.arcgis.com/rest/users-groups-and-items/item.htm) has the complete list of available properties."
   ]
  },
  {
   "cell_type": "code",
   "execution_count": 963,
   "metadata": {},
   "outputs": [
    {
     "name": "stdout",
     "output_type": "stream",
     "text": [
      "{'everyone': True, 'org': True, 'groups': []}\n",
      "True\n",
      "t.ormsby\n",
      "1697984440000\n",
      "None\n"
     ]
    }
   ],
   "source": [
    "item = gis.content.get(\"86f92739855e481c82d54c6dc167ef99\")\n",
    "print(item.shared_with)\n",
    "print(item.can_delete)\n",
    "print(item.owner)\n",
    "print(item.modified)\n",
    "print(item.ownerFolder)"
   ]
  },
  {
   "cell_type": "markdown",
   "metadata": {},
   "source": [
    "Most objects in Python have a `__dict__` property that shows all the object's properties. The code below leverages the `__dict__` property to represent the `Item` object as a Python dictionary."
   ]
  },
  {
   "cell_type": "code",
   "execution_count": 693,
   "metadata": {},
   "outputs": [
    {
     "data": {
      "text/plain": [
       "{'_portal': <arcgis.gis._impl._portalpy.Portal at 0x7f2a12d9f7c0>,\n",
       " '_gis': GIS @ https://ormsby.maps.arcgis.com version:2023.3,\n",
       " 'itemid': '86f92739855e481c82d54c6dc167ef99',\n",
       " 'thumbnail': 'thumbnail/ago_downloaded.png',\n",
       " '_workdir': '/tmp',\n",
       " '_hydrated': False,\n",
       " 'id': '86f92739855e481c82d54c6dc167ef99',\n",
       " 'owner': 't.ormsby',\n",
       " 'created': 1697984440000,\n",
       " 'isOrgItem': True,\n",
       " 'modified': 1697984440000,\n",
       " 'guid': None,\n",
       " 'name': None,\n",
       " 'title': 'ExampleMap3',\n",
       " 'type': 'Web Map',\n",
       " 'typeKeywords': ['ArcGIS API for JavaScript',\n",
       "  'ArcGIS Online',\n",
       "  'Explorer Web Map',\n",
       "  'Map',\n",
       "  'Online Map',\n",
       "  'Web Map'],\n",
       " 'description': None,\n",
       " 'tags': [],\n",
       " 'snippet': None,\n",
       " 'documentation': None,\n",
       " 'extent': [[-93.17136264567833, 44.889371356000396],\n",
       "  [-93.05325961833472, 45.035733226307485]],\n",
       " 'categories': [],\n",
       " 'spatialReference': None,\n",
       " 'accessInformation': None,\n",
       " 'classification': None,\n",
       " 'licenseInfo': None,\n",
       " 'culture': 'en-us',\n",
       " 'properties': None,\n",
       " 'advancedSettings': None,\n",
       " 'url': None,\n",
       " 'proxyFilter': None,\n",
       " 'access': 'org',\n",
       " 'size': 1127,\n",
       " 'subInfo': 0,\n",
       " 'appCategories': [],\n",
       " 'industries': [],\n",
       " 'languages': [],\n",
       " 'largeThumbnail': None,\n",
       " 'banner': None,\n",
       " 'screenshots': [],\n",
       " 'listed': False,\n",
       " 'ownerFolder': None,\n",
       " 'protected': False,\n",
       " 'commentsEnabled': True,\n",
       " 'numComments': 0,\n",
       " 'numRatings': 0,\n",
       " 'avgRating': 0,\n",
       " 'numViews': 77,\n",
       " 'itemControl': 'admin',\n",
       " 'scoreCompleteness': 16,\n",
       " 'groupDesignations': None,\n",
       " 'tokenExpirationDate': -1,\n",
       " 'token2ExpirationDate': -1,\n",
       " 'contentOrigin': 'self',\n",
       " 'lastViewed': 1699077600000,\n",
       " '_depend': <Dependencies for 86f92739855e481c82d54c6dc167ef99>}"
      ]
     },
     "execution_count": 693,
     "metadata": {},
     "output_type": "execute_result"
    }
   ],
   "source": [
    "item = gis.content.get(\"86f92739855e481c82d54c6dc167ef99\")\n",
    "item.__dict__"
   ]
  },
  {
   "cell_type": "markdown",
   "metadata": {},
   "source": [
    "## Manage items"
   ]
  },
  {
   "cell_type": "markdown",
   "metadata": {},
   "source": [
    "### Create an item\n"
   ]
  },
  {
   "cell_type": "markdown",
   "metadata": {},
   "source": [
    "The [`add` method of the `ContentManager` object](https://developers.arcgis.com/python/api-reference/arcgis.gis.toc.html#arcgis.gis.ContentManager.add) is equivalent to using the \"New item\" button in the portal web app and choosing the option to add the item without publishing a corresponding service.\n",
    "\n",
    "The code below uses the `add` method to create a map image layer referencing an existing published service on a publicly-available ArcGIS Server site."
   ]
  },
  {
   "cell_type": "code",
   "execution_count": 716,
   "metadata": {},
   "outputs": [
    {
     "data": {
      "text/html": [
       "<div class=\"item_container\" style=\"height: auto; overflow: hidden; border: 1px solid #cfcfcf; border-radius: 2px; background: #f6fafa; line-height: 1.21429em; padding: 10px;\">\n",
       "                    <div class=\"item_left\" style=\"width: 210px; float: left;\">\n",
       "                       <a href='https://ormsby.maps.arcgis.com/home/item.html?id=7fec8b766e2746c3a87eae028d0894bc' target='_blank'>\n",
       "                        <img src='http://static.arcgis.com/images/desktopapp.png' class=\"itemThumbnail\">\n",
       "                       </a>\n",
       "                    </div>\n",
       "\n",
       "                    <div class=\"item_right\"     style=\"float: none; width: auto; overflow: hidden;\">\n",
       "                        <a href='https://ormsby.maps.arcgis.com/home/item.html?id=7fec8b766e2746c3a87eae028d0894bc' target='_blank'><b>What's In My Neighborhood Sites</b>\n",
       "                        </a>\n",
       "                        <br/>Locations of potentially contaminated sites<img src='https://ormsby.maps.arcgis.com/home/js/jsapi/esri/css/images/item_type_icons/mapimages16.png' style=\"vertical-align:middle;\" width=16 height=16>Map Image Layer by t.ormsby\n",
       "                        <br/>Last Modified: November 04, 2023\n",
       "                        <br/>0 comments, 0 views\n",
       "                    </div>\n",
       "                </div>\n",
       "                "
      ],
      "text/plain": [
       "<Item title:\"What's In My Neighborhood Sites\" type:Map Image Layer owner:t.ormsby>"
      ]
     },
     "execution_count": 716,
     "metadata": {},
     "output_type": "execute_result"
    }
   ],
   "source": [
    "service_url = \"https://pca-gis02.pca.state.mn.us/arcgis/rest/services/WIMN/sites/MapServer\"\n",
    "\n",
    "item_dict = {\n",
    "    \"type\": \"Map Service\",\n",
    "    \"title\": \"What's In My Neighborhood Sites\",\n",
    "    \"tags\": [\"Minnesota\", \"Pollution\"],\n",
    "    \"snippet\": \"Locations of potentially contaminated sites\",\n",
    "    \"access\": \"org\",\n",
    "    \"url\": service_url, # Required for items that reference a service\n",
    "    \"accessInformation\": \"Minnesota Pollution Control Agency\" # Credits (Attribution)\n",
    "}\n",
    "gis.content.add(item_properties=item_dict, data=service_url)"
   ]
  },
  {
   "cell_type": "markdown",
   "metadata": {},
   "source": [
    "The code below uses the `add` method to upload a file geodatabase and create a file geodatabase item in the portal. This requires a dictionary of properties for the item.\n",
    "\n",
    "The code below then uses the [`publish` method of that `Item` object](https://developers.arcgis.com/python/api-reference/arcgis.gis.toc.html#arcgis.gis.Item.publish) to create a hosted feature layer item published from the data in that file geodatabase item. This requires a separate dictionary of parameters for the associated service.\n",
    "\n",
    "Documentation for formatting the `publish_parameters` dictionary can be found with the [REST API reference for the /publish endpoint](https://developers.arcgis.com/rest/users-groups-and-items/publish-item.htm). Different items (CSV, shapefile, file geodatabase, etc) have different requirements for that dictionary. \n",
    "\n",
    "Notice that while the published feature service can have its own name and description, the hosted feature layer item that references that service inherits its item properties from the item it was published from."
   ]
  },
  {
   "cell_type": "code",
   "execution_count": 835,
   "metadata": {},
   "outputs": [
    {
     "data": {
      "text/html": [
       "<div class=\"item_container\" style=\"height: auto; overflow: hidden; border: 1px solid #cfcfcf; border-radius: 2px; background: #f6fafa; line-height: 1.21429em; padding: 10px;\">\n",
       "                    <div class=\"item_left\" style=\"width: 210px; float: left;\">\n",
       "                       <a href='https://ormsby.maps.arcgis.com/home/item.html?id=94815e1785c54e26a30baf642dd60ed7' target='_blank'>\n",
       "                        <img src='http://static.arcgis.com/images/desktopapp.png' class=\"itemThumbnail\">\n",
       "                       </a>\n",
       "                    </div>\n",
       "\n",
       "                    <div class=\"item_right\"     style=\"float: none; width: auto; overflow: hidden;\">\n",
       "                        <a href='https://ormsby.maps.arcgis.com/home/item.html?id=94815e1785c54e26a30baf642dd60ed7' target='_blank'><b>What's In My Neighborhood Sites</b>\n",
       "                        </a>\n",
       "                        <br/>Potentially contaminated sites<img src='https://ormsby.maps.arcgis.com/home/js/jsapi/esri/css/images/item_type_icons/layers16.png' style=\"vertical-align:middle;\" width=16 height=16>File Geodatabase by t.ormsby\n",
       "                        <br/>Last Modified: November 05, 2023\n",
       "                        <br/>0 comments, 0 views\n",
       "                    </div>\n",
       "                </div>\n",
       "                "
      ],
      "text/plain": [
       "<Item title:\"What's In My Neighborhood Sites\" type:File Geodatabase owner:t.ormsby>"
      ]
     },
     "metadata": {},
     "output_type": "display_data"
    },
    {
     "data": {
      "text/html": [
       "<div class=\"item_container\" style=\"height: auto; overflow: hidden; border: 1px solid #cfcfcf; border-radius: 2px; background: #f6fafa; line-height: 1.21429em; padding: 10px;\">\n",
       "                    <div class=\"item_left\" style=\"width: 210px; float: left;\">\n",
       "                       <a href='https://ormsby.maps.arcgis.com/home/item.html?id=0adaa9278522454e9a939ac9772ba899' target='_blank'>\n",
       "                        <img src='http://static.arcgis.com/images/desktopapp.png' class=\"itemThumbnail\">\n",
       "                       </a>\n",
       "                    </div>\n",
       "\n",
       "                    <div class=\"item_right\"     style=\"float: none; width: auto; overflow: hidden;\">\n",
       "                        <a href='https://ormsby.maps.arcgis.com/home/item.html?id=0adaa9278522454e9a939ac9772ba899' target='_blank'><b>What's In My Neighborhood Sites</b>\n",
       "                        </a>\n",
       "                        <br/>Potentially contaminated sites<img src='https://ormsby.maps.arcgis.com/home/js/jsapi/esri/css/images/item_type_icons/featureshosted16.png' style=\"vertical-align:middle;\" width=16 height=16>Feature Layer Collection by t.ormsby\n",
       "                        <br/>Last Modified: November 05, 2023\n",
       "                        <br/>0 comments, 0 views\n",
       "                    </div>\n",
       "                </div>\n",
       "                "
      ],
      "text/plain": [
       "<Item title:\"What's In My Neighborhood Sites\" type:Feature Layer Collection owner:t.ormsby>"
      ]
     },
     "metadata": {},
     "output_type": "display_data"
    }
   ],
   "source": [
    "# Path to original file geodatabase\n",
    "fgdb = \"https://resources.gisdata.mn.gov/pub/gdrs/data/pub/us_mn_state_pca/env_my_neighborhood/fgdb_env_my_neighborhood.zip\"\n",
    "\n",
    "# File geodatabase portal item properties\n",
    "item_dict = {\n",
    "    \"type\": \"File Geodatabase\",\n",
    "    \"item_type\": \"file\",\n",
    "    \"title\": \"What's In My Neighborhood Sites\",\n",
    "    \"tags\": [\"Minnesota\", \"Pollution\"],\n",
    "    \"snippet\": \"Potentially contaminated sites\",\n",
    "    \"access\": \"org\",\n",
    "    \"accessInformation\": \"Minnesota Pollution Control Agency\" # Credits (Attribution)\n",
    "}\n",
    "\n",
    "# Add file geodatabase item to portal\n",
    "fgdb_item = gis.content.add(item_properties=item_dict, data=fgdb)\n",
    "display(fgdb_item)\n",
    "\n",
    "# Hosted feature service properties\n",
    "pub_params = {\n",
    "    \"name\": \"NeighborhoodSites\",\n",
    "    \"description\": \"Potentially contaminated sites in Minnesota\",\n",
    "    \"layerInfo\": {\"capabilities\": \"Query\"} # service does not have editing capability\n",
    "}\n",
    "\n",
    "# Publish hosted feature layer from file geodatabase item object\n",
    "hfl_item = fgdb_item.publish(publish_parameters=pub_params, file_type=\"fileGeodatabase\")\n",
    "display(hfl_item)"
   ]
  },
  {
   "cell_type": "markdown",
   "metadata": {},
   "source": [
    "The code below uses the [`create_service` method of the `ContentManager` object](https://developers.arcgis.com/python/api-reference/arcgis.gis.toc.html#arcgis.gis.ContentManager.create_service) to create a new, empty service. It then uses the [`add_to_definition` method of the `FeatureLayerCollectionManager` object](https://developers.arcgis.com/python/api-reference/arcgis.features.managers.html#arcgis.features.managers.FeatureLayerCollectionManager.add_to_definition) to add an empty point layer to the service.\n",
    "\n",
    "There might be extremely limited edge cases where this is a good idea.  The layer properties dictionary is quite difficult to configure correctly (the example below is likely misconfigured for any plausible use case). And no Esri documentation will provide guidance on how you can create a correct configuration. For that reason, you should avoid attempting to create services this way. If you want to create an empty service, it will be easier to publish a empty dataset that correctly defines the schema you want, rather than try to create an empty service and layers from scratch.\n"
   ]
  },
  {
   "cell_type": "code",
   "execution_count": 904,
   "metadata": {},
   "outputs": [
    {
     "data": {
      "text/html": [
       "<div class=\"item_container\" style=\"height: auto; overflow: hidden; border: 1px solid #cfcfcf; border-radius: 2px; background: #f6fafa; line-height: 1.21429em; padding: 10px;\">\n",
       "                    <div class=\"item_left\" style=\"width: 210px; float: left;\">\n",
       "                       <a href='https://ormsby.maps.arcgis.com/home/item.html?id=57ee9c068f4442e8a95d2f2f087d8dcf' target='_blank'>\n",
       "                        <img src='http://static.arcgis.com/images/desktopapp.png' class=\"itemThumbnail\">\n",
       "                       </a>\n",
       "                    </div>\n",
       "\n",
       "                    <div class=\"item_right\"     style=\"float: none; width: auto; overflow: hidden;\">\n",
       "                        <a href='https://ormsby.maps.arcgis.com/home/item.html?id=57ee9c068f4442e8a95d2f2f087d8dcf' target='_blank'><b>Empty Feature Layer</b>\n",
       "                        </a>\n",
       "                        <br/><img src='https://ormsby.maps.arcgis.com/home/js/jsapi/esri/css/images/item_type_icons/featureshosted16.png' style=\"vertical-align:middle;\" width=16 height=16>Feature Layer Collection by t.ormsby\n",
       "                        <br/>Last Modified: November 10, 2023\n",
       "                        <br/>0 comments, 0 views\n",
       "                    </div>\n",
       "                </div>\n",
       "                "
      ],
      "text/plain": [
       "<Item title:\"Empty Feature Layer\" type:Feature Layer Collection owner:t.ormsby>"
      ]
     },
     "metadata": {},
     "output_type": "display_data"
    },
    {
     "name": "stdout",
     "output_type": "stream",
     "text": [
      "<FeatureLayer url:\"https://services8.arcgis.com/jgEF2qh8RkmonUq2/arcgis/rest/services/EmptyService/FeatureServer/0\">\n"
     ]
    }
   ],
   "source": [
    "# Define feature layer item properties\n",
    "item_dict = {\n",
    "    \"type\": \"Feature Service\",\n",
    "    \"title\": \"Empty Feature Layer\",\n",
    "    \"access\": \"org\"\n",
    "}\n",
    "\n",
    "# Create new empty service and corresponding hosted feature layer item\n",
    "item = gis.content.create_service(\n",
    "    name=\"EmptyService\",\n",
    "    service_description=\"Empty Service\",\n",
    "    has_static_data=False,\n",
    "    wkid=26915,\n",
    "    service_type=\"featureService\",\n",
    "    capabilities=\"Query,Editing\",\n",
    "    item_properties=item_dict\n",
    ")\n",
    "\n",
    "# Define properties for new layers to add to the hosted feature service\n",
    "# This is a single point layer called EmptyPointLayer with a single OBJECTID field\n",
    "layers_dict = {\n",
    "    \"layers\": [\n",
    "        {\n",
    "            \"name\": \"EmptyPointLayer\",\n",
    "            \"type\": \"Feature Layer\",\n",
    "            \"geometryType\": \"esriGeometryPoint\",\n",
    "            \"fields\": [\n",
    "                {\n",
    "                \"name\": \"OBJECTID\",\n",
    "                \"type\": \"esriFieldTypeOID\",\n",
    "                \"alias\": \"OBJECTID\",\n",
    "                \"sqlType\": \"sqlTypeOther\",\n",
    "                \"nullable\": False,\n",
    "                \"editable\": False,\n",
    "                \"domain\": None,\n",
    "                \"defaultValue\": None\n",
    "                }\n",
    "            ]\n",
    "        }\n",
    "    ]\n",
    "}\n",
    "\n",
    "# Add the new layer to the hosted feature service\n",
    "flc = FeatureLayerCollection.fromitem(item)\n",
    "flc.manager.add_to_definition(layers_dict)\n",
    "\n",
    "display(item)\n",
    "print(item.layers[0])\n"
   ]
  },
  {
   "cell_type": "markdown",
   "metadata": {},
   "source": [
    "### Copy an item\n"
   ]
  },
  {
   "cell_type": "markdown",
   "metadata": {},
   "source": [
    "The cell below uses the [`copy` method of the `Item` object](https://developers.arcgis.com/python/api-reference/arcgis.gis.toc.html#arcgis.gis.Item.copy) to make a copy of an existing hosted feature layer. The new item will be a feature layer that references the same service url as the  original layer. In general, when making a copy of an item, the underlying layers and data will not be copied."
   ]
  },
  {
   "cell_type": "code",
   "execution_count": 930,
   "metadata": {},
   "outputs": [
    {
     "data": {
      "text/html": [
       "<div class=\"item_container\" style=\"height: auto; overflow: hidden; border: 1px solid #cfcfcf; border-radius: 2px; background: #f6fafa; line-height: 1.21429em; padding: 10px;\">\n",
       "                    <div class=\"item_left\" style=\"width: 210px; float: left;\">\n",
       "                       <a href='https://ormsby.maps.arcgis.com/home/item.html?id=3afbcf22977b4012bac0a1a469b902c0' target='_blank'>\n",
       "                        <img src='http://static.arcgis.com/images/desktopapp.png' class=\"itemThumbnail\">\n",
       "                       </a>\n",
       "                    </div>\n",
       "\n",
       "                    <div class=\"item_right\"     style=\"float: none; width: auto; overflow: hidden;\">\n",
       "                        <a href='https://ormsby.maps.arcgis.com/home/item.html?id=3afbcf22977b4012bac0a1a469b902c0' target='_blank'><b>Copied Feature Layer</b>\n",
       "                        </a>\n",
       "                        <br/><img src='https://ormsby.maps.arcgis.com/home/js/jsapi/esri/css/images/item_type_icons/featureshosted16.png' style=\"vertical-align:middle;\" width=16 height=16>Feature Layer Collection by t.ormsby\n",
       "                        <br/>Last Modified: November 10, 2023\n",
       "                        <br/>0 comments, 0 views\n",
       "                    </div>\n",
       "                </div>\n",
       "                "
      ],
      "text/plain": [
       "<Item title:\"Copied Feature Layer\" type:Feature Layer Collection owner:t.ormsby>"
      ]
     },
     "metadata": {},
     "output_type": "display_data"
    },
    {
     "name": "stdout",
     "output_type": "stream",
     "text": [
      "True\n"
     ]
    }
   ],
   "source": [
    "item = gis.content.get(\"7c81f2c1a15a4187b3538257dc76a7ed\")\n",
    "new_item = item.copy(title=\"Copied Feature Layer\")\n",
    "display(new_item)\n",
    "print(item.url == new_item.url)"
   ]
  },
  {
   "cell_type": "markdown",
   "metadata": {},
   "source": [
    "The code below uses the [`clone_items` method of the `ContentManager` object](https://developers.arcgis.com/python/api-reference/arcgis.gis.toc.html#arcgis.gis.ContentManager.clone_items) to make a copy of an existing hosted feature layer. This differs from the `copy` method in two ways:\n",
    "\n",
    "* `clone_items` works on a list of `Item` objects, rather than a single `Item` object at a time\n",
    "* `clone_items` creates new services and updates all references in the resulting item to point to the new services"
   ]
  },
  {
   "cell_type": "code",
   "execution_count": 931,
   "metadata": {},
   "outputs": [
    {
     "data": {
      "text/html": [
       "<div class=\"item_container\" style=\"height: auto; overflow: hidden; border: 1px solid #cfcfcf; border-radius: 2px; background: #f6fafa; line-height: 1.21429em; padding: 10px;\">\n",
       "                    <div class=\"item_left\" style=\"width: 210px; float: left;\">\n",
       "                       <a href='https://ormsby.maps.arcgis.com/home/item.html?id=8713161bf7494c20804d1de84b64ead0' target='_blank'>\n",
       "                        <img src='data:image/png;base64,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' width='200' height='133' class=\"itemThumbnail\">\n",
       "                       </a>\n",
       "                    </div>\n",
       "\n",
       "                    <div class=\"item_right\"     style=\"float: none; width: auto; overflow: hidden;\">\n",
       "                        <a href='https://ormsby.maps.arcgis.com/home/item.html?id=8713161bf7494c20804d1de84b64ead0' target='_blank'><b>Schools</b>\n",
       "                        </a>\n",
       "                        <br/><img src='https://ormsby.maps.arcgis.com/home/js/jsapi/esri/css/images/item_type_icons/featureshosted16.png' style=\"vertical-align:middle;\" width=16 height=16>Feature Layer Collection by t.ormsby\n",
       "                        <br/>Last Modified: November 10, 2023\n",
       "                        <br/>0 comments, 0 views\n",
       "                    </div>\n",
       "                </div>\n",
       "                "
      ],
      "text/plain": [
       "<Item title:\"Schools\" type:Feature Layer Collection owner:t.ormsby>"
      ]
     },
     "metadata": {},
     "output_type": "display_data"
    },
    {
     "name": "stdout",
     "output_type": "stream",
     "text": [
      "False\n"
     ]
    }
   ],
   "source": [
    "item = gis.content.get(\"7c81f2c1a15a4187b3538257dc76a7ed\")\n",
    "new_items = gis.content.clone_items([item])\n",
    "new_item = new_items[0]\n",
    "display(new_item)\n",
    "print(item.url == new_item.url)"
   ]
  },
  {
   "cell_type": "markdown",
   "metadata": {},
   "source": [
    "### Update an item's information\n"
   ]
  },
  {
   "cell_type": "markdown",
   "metadata": {},
   "source": [
    "The code below uses the [`update` method of an `Item` object](https://developers.arcgis.com/python/api-reference/arcgis.gis.toc.html#arcgis.gis.Item.update) to change the title, tags, and description of that item. The documentation describes all the item properties you can update with this method."
   ]
  },
  {
   "cell_type": "code",
   "execution_count": 935,
   "metadata": {},
   "outputs": [
    {
     "name": "stdout",
     "output_type": "stream",
     "text": [
      "Copied Feature Layer\n",
      "['SPPS']\n",
      "None\n",
      "New Title\n",
      "['NewTag1', 'NewTag2']\n",
      "This item has new properties\n"
     ]
    }
   ],
   "source": [
    "item = gis.content.get(\"3afbcf22977b4012bac0a1a469b902c0\")\n",
    "\n",
    "new_props = {\n",
    "    \"title\": \"New Title\",\n",
    "    \"tags\": [\"NewTag1\", \"NewTag2\"],\n",
    "    \"description\": \"This item has new properties\"\n",
    "}\n",
    "\n",
    "print(item.title)\n",
    "print(item.tags)\n",
    "print(item.description)\n",
    "\n",
    "item.update(new_props)\n",
    "\n",
    "print(item.title)\n",
    "print(item.tags)\n",
    "print(item.description)"
   ]
  },
  {
   "cell_type": "markdown",
   "metadata": {},
   "source": [
    "### Update multiple items' information\n"
   ]
  },
  {
   "cell_type": "markdown",
   "metadata": {},
   "source": [
    "The code below uses the [`bulk_update` method of the `ContentManager` object](https://developers.arcgis.com/python/api-reference/arcgis.gis.toc.html#arcgis.gis.ContentManager.bulk_update) to change multiple items' `categories` property at once."
   ]
  },
  {
   "cell_type": "code",
   "execution_count": 940,
   "metadata": {},
   "outputs": [
    {
     "data": {
      "text/plain": [
       "[{'results': [{'itemId': '7735e1e8054e4bb0a8289294a7b927dc', 'success': True},\n",
       "   {'itemId': '3afbcf22977b4012bac0a1a469b902c0', 'success': True},\n",
       "   {'itemId': '8713161bf7494c20804d1de84b64ead0', 'success': True}]}]"
      ]
     },
     "execution_count": 940,
     "metadata": {},
     "output_type": "execute_result"
    }
   ],
   "source": [
    "itemids = [\n",
    "    \"3afbcf22977b4012bac0a1a469b902c0\", \n",
    "    \"8713161bf7494c20804d1de84b64ead0\", \n",
    "    \"7735e1e8054e4bb0a8289294a7b927dc\"\n",
    "]\n",
    "\n",
    "new_props = {\n",
    "    \"categories\": [\"Education\", \"Tutorial\"]\n",
    "}\n",
    "\n",
    "gis.content.bulk_update(itemids, new_props)"
   ]
  },
  {
   "cell_type": "markdown",
   "metadata": {},
   "source": [
    "The `bulk_update` method only works with the `categories` property. For that reason, to make changes to other properties, the code below loops through several items and uses the `update` method to update each of them individually"
   ]
  },
  {
   "cell_type": "code",
   "execution_count": 941,
   "metadata": {},
   "outputs": [],
   "source": [
    "itemids = [\n",
    "    \"3afbcf22977b4012bac0a1a469b902c0\", \n",
    "    \"8713161bf7494c20804d1de84b64ead0\", \n",
    "    \"7735e1e8054e4bb0a8289294a7b927dc\"\n",
    "]\n",
    "\n",
    "# Update attribution and terms of use\n",
    "new_props = {\n",
    "    \"accessInformation\": \"Travis Ormsby\",\n",
    "    \"licenseInfo\": \"For educational use only\"\n",
    "}\n",
    "\n",
    "for itemid in itemids:\n",
    "    item = gis.content.get(itemid)\n",
    "    item.update(new_props)"
   ]
  },
  {
   "cell_type": "markdown",
   "metadata": {},
   "source": [
    "### Reassign an item to a new owner\n"
   ]
  },
  {
   "cell_type": "markdown",
   "metadata": {},
   "source": [
    "The code below uses the [`reassign_to` method of the `Item` object](https://developers.arcgis.com/python/api-reference/arcgis.gis.toc.html#arcgis.gis.Item.reassign_to) to assign ownership based on the username of the new owner."
   ]
  },
  {
   "cell_type": "code",
   "execution_count": 709,
   "metadata": {},
   "outputs": [
    {
     "data": {
      "text/plain": [
       "True"
      ]
     },
     "execution_count": 709,
     "metadata": {},
     "output_type": "execute_result"
    }
   ],
   "source": [
    "item = gis.content.get(\"d5cd41b03bac446dbfdaabc0c87b986f\")\n",
    "item.reassign_to(target_owner=\"t.ormsby\")"
   ]
  },
  {
   "cell_type": "markdown",
   "metadata": {},
   "source": [
    "Instead of a username string, the code below uses a [`User` object](https://developers.arcgis.com/python/api-reference/arcgis.gis.toc.html#user) created with the [`get` method of the `UserManager` object](https://developers.arcgis.com/python/api-reference/arcgis.gis.toc.html#arcgis.gis.UserManager.get) to specify the new owner."
   ]
  },
  {
   "cell_type": "code",
   "execution_count": 712,
   "metadata": {},
   "outputs": [
    {
     "data": {
      "text/plain": [
       "True"
      ]
     },
     "execution_count": 712,
     "metadata": {},
     "output_type": "execute_result"
    }
   ],
   "source": [
    "item = gis.content.get(\"d5cd41b03bac446dbfdaabc0c87b986f\")\n",
    "new_owner = gis.users.get(\"6626b8616d794725978b22fafdbdcc44\")\n",
    "item.reassign_to(target_owner=new_owner)"
   ]
  },
  {
   "cell_type": "markdown",
   "metadata": {},
   "source": [
    "The code below attempts to reassign ownership to a user who is not able to own content. The code throws an exception and does not change the item ownership."
   ]
  },
  {
   "cell_type": "code",
   "execution_count": 708,
   "metadata": {},
   "outputs": [
    {
     "ename": "Exception",
     "evalue": "Unable to reassign item. Target user does not have privileges to own items.\n(Error Code: 400)",
     "output_type": "error",
     "traceback": [
      "\u001b[0;31m---------------------------------------------------------------------------\u001b[0m",
      "\u001b[0;31mException\u001b[0m                                 Traceback (most recent call last)",
      "Cell \u001b[0;32mIn[708], line 2\u001b[0m\n\u001b[1;32m      1\u001b[0m item \u001b[39m=\u001b[39m gis\u001b[39m.\u001b[39mcontent\u001b[39m.\u001b[39mget(\u001b[39m\"\u001b[39m\u001b[39md5cd41b03bac446dbfdaabc0c87b986f\u001b[39m\u001b[39m\"\u001b[39m)\n\u001b[0;32m----> 2\u001b[0m item\u001b[39m.\u001b[39;49mreassign_to(target_owner\u001b[39m=\u001b[39;49m\u001b[39m\"\u001b[39;49m\u001b[39mormsby_guest2\u001b[39;49m\u001b[39m\"\u001b[39;49m)\n",
      "File \u001b[0;32m~/.local/share/virtualenvs/agol_admin-rkaODuKR/lib/python3.10/site-packages/arcgis/gis/__init__.py:14363\u001b[0m, in \u001b[0;36mItem.reassign_to\u001b[0;34m(self, target_owner, target_folder)\u001b[0m\n\u001b[1;32m  14361\u001b[0m \u001b[39mif\u001b[39;00m \u001b[39misinstance\u001b[39m(target_owner, User):\n\u001b[1;32m  14362\u001b[0m     target_owner \u001b[39m=\u001b[39m target_owner\u001b[39m.\u001b[39musername\n\u001b[0;32m> 14363\u001b[0m resp \u001b[39m=\u001b[39m \u001b[39mself\u001b[39;49m\u001b[39m.\u001b[39;49m_portal\u001b[39m.\u001b[39;49mreassign_item(\n\u001b[1;32m  14364\u001b[0m     \u001b[39mself\u001b[39;49m\u001b[39m.\u001b[39;49mitemid,\n\u001b[1;32m  14365\u001b[0m     \u001b[39mself\u001b[39;49m\u001b[39m.\u001b[39;49m_user_id,\n\u001b[1;32m  14366\u001b[0m     target_owner,\n\u001b[1;32m  14367\u001b[0m     current_folder,\n\u001b[1;32m  14368\u001b[0m     target_folder,\n\u001b[1;32m  14369\u001b[0m )\n\u001b[1;32m  14370\u001b[0m \u001b[39mif\u001b[39;00m resp \u001b[39mis\u001b[39;00m \u001b[39mTrue\u001b[39;00m:\n\u001b[1;32m  14371\u001b[0m     \u001b[39mself\u001b[39m\u001b[39m.\u001b[39m_hydrate()  \u001b[39m# refresh\u001b[39;00m\n",
      "File \u001b[0;32m~/.local/share/virtualenvs/agol_admin-rkaODuKR/lib/python3.10/site-packages/arcgis/gis/_impl/_portalpy.py:1799\u001b[0m, in \u001b[0;36mPortal.reassign_item\u001b[0;34m(self, item_id, current_owner, target_owner, current_folder, target_folder)\u001b[0m\n\u001b[1;32m   1797\u001b[0m postdata[\u001b[39m\"\u001b[39m\u001b[39mtargetUsername\u001b[39m\u001b[39m\"\u001b[39m] \u001b[39m=\u001b[39m target_owner\n\u001b[1;32m   1798\u001b[0m postdata[\u001b[39m\"\u001b[39m\u001b[39mtargetFolderName\u001b[39m\u001b[39m\"\u001b[39m] \u001b[39m=\u001b[39m target_folder \u001b[39mif\u001b[39;00m target_folder \u001b[39melse\u001b[39;00m \u001b[39m\"\u001b[39m\u001b[39m/\u001b[39m\u001b[39m\"\u001b[39m\n\u001b[0;32m-> 1799\u001b[0m resp \u001b[39m=\u001b[39m \u001b[39mself\u001b[39;49m\u001b[39m.\u001b[39;49mcon\u001b[39m.\u001b[39;49mpost(path, postdata)\n\u001b[1;32m   1800\u001b[0m \u001b[39mif\u001b[39;00m resp:\n\u001b[1;32m   1801\u001b[0m     \u001b[39mreturn\u001b[39;00m resp\u001b[39m.\u001b[39mget(\u001b[39m\"\u001b[39m\u001b[39msuccess\u001b[39m\u001b[39m\"\u001b[39m)\n",
      "File \u001b[0;32m~/.local/share/virtualenvs/agol_admin-rkaODuKR/lib/python3.10/site-packages/arcgis/gis/_impl/_con/_connection.py:1524\u001b[0m, in \u001b[0;36mConnection.post\u001b[0;34m(self, path, params, files, **kwargs)\u001b[0m\n\u001b[1;32m   1522\u001b[0m \u001b[39mif\u001b[39;00m return_raw_response:\n\u001b[1;32m   1523\u001b[0m     \u001b[39mreturn\u001b[39;00m resp\n\u001b[0;32m-> 1524\u001b[0m \u001b[39mreturn\u001b[39;00m \u001b[39mself\u001b[39;49m\u001b[39m.\u001b[39;49m_handle_response(\n\u001b[1;32m   1525\u001b[0m     resp\u001b[39m=\u001b[39;49mresp,\n\u001b[1;32m   1526\u001b[0m     out_path\u001b[39m=\u001b[39;49mout_path,\n\u001b[1;32m   1527\u001b[0m     file_name\u001b[39m=\u001b[39;49mfile_name,\n\u001b[1;32m   1528\u001b[0m     try_json\u001b[39m=\u001b[39;49mtry_json,\n\u001b[1;32m   1529\u001b[0m     force_bytes\u001b[39m=\u001b[39;49mkwargs\u001b[39m.\u001b[39;49mpop(\u001b[39m\"\u001b[39;49m\u001b[39mforce_bytes\u001b[39;49m\u001b[39m\"\u001b[39;49m, \u001b[39mFalse\u001b[39;49;00m),\n\u001b[1;32m   1530\u001b[0m )\n",
      "File \u001b[0;32m~/.local/share/virtualenvs/agol_admin-rkaODuKR/lib/python3.10/site-packages/arcgis/gis/_impl/_con/_connection.py:1000\u001b[0m, in \u001b[0;36mConnection._handle_response\u001b[0;34m(self, resp, file_name, out_path, try_json, force_bytes, ignore_error_key)\u001b[0m\n\u001b[1;32m    998\u001b[0m             \u001b[39mreturn\u001b[39;00m data\n\u001b[1;32m    999\u001b[0m         errorcode \u001b[39m=\u001b[39m data[\u001b[39m\"\u001b[39m\u001b[39merror\u001b[39m\u001b[39m\"\u001b[39m][\u001b[39m\"\u001b[39m\u001b[39mcode\u001b[39m\u001b[39m\"\u001b[39m] \u001b[39mif\u001b[39;00m \u001b[39m\"\u001b[39m\u001b[39mcode\u001b[39m\u001b[39m\"\u001b[39m \u001b[39min\u001b[39;00m data[\u001b[39m\"\u001b[39m\u001b[39merror\u001b[39m\u001b[39m\"\u001b[39m] \u001b[39melse\u001b[39;00m \u001b[39m0\u001b[39m\n\u001b[0;32m-> 1000\u001b[0m         \u001b[39mself\u001b[39;49m\u001b[39m.\u001b[39;49m_handle_json_error(data[\u001b[39m\"\u001b[39;49m\u001b[39merror\u001b[39;49m\u001b[39m\"\u001b[39;49m], errorcode)\n\u001b[1;32m   1001\u001b[0m     \u001b[39mreturn\u001b[39;00m data\n\u001b[1;32m   1002\u001b[0m \u001b[39melse\u001b[39;00m:\n",
      "File \u001b[0;32m~/.local/share/virtualenvs/agol_admin-rkaODuKR/lib/python3.10/site-packages/arcgis/gis/_impl/_con/_connection.py:1023\u001b[0m, in \u001b[0;36mConnection._handle_json_error\u001b[0;34m(self, error, errorcode)\u001b[0m\n\u001b[1;32m   1020\u001b[0m                 \u001b[39m# _log.error(errordetail)\u001b[39;00m\n\u001b[1;32m   1022\u001b[0m errormessage \u001b[39m=\u001b[39m errormessage \u001b[39m+\u001b[39m \u001b[39m\"\u001b[39m\u001b[39m\\n\u001b[39;00m\u001b[39m(Error Code: \u001b[39m\u001b[39m\"\u001b[39m \u001b[39m+\u001b[39m \u001b[39mstr\u001b[39m(errorcode) \u001b[39m+\u001b[39m \u001b[39m\"\u001b[39m\u001b[39m)\u001b[39m\u001b[39m\"\u001b[39m\n\u001b[0;32m-> 1023\u001b[0m \u001b[39mraise\u001b[39;00m \u001b[39mException\u001b[39;00m(errormessage)\n",
      "\u001b[0;31mException\u001b[0m: Unable to reassign item. Target user does not have privileges to own items.\n(Error Code: 400)"
     ]
    }
   ],
   "source": [
    "item = gis.content.get(\"d5cd41b03bac446dbfdaabc0c87b986f\")\n",
    "item.reassign_to(target_owner=\"ormsby_guest2\")"
   ]
  },
  {
   "cell_type": "markdown",
   "metadata": {},
   "source": [
    "### Reassign multiple items to single new owner"
   ]
  },
  {
   "cell_type": "markdown",
   "metadata": {},
   "source": [
    "The only method to bulk reassign ownership of content items is to transfer ownership of all a user's items using the [`reassign_to` method on the `User` object](https://developers.arcgis.com/python/api-reference/arcgis.gis.toc.html#arcgis.gis.User.reassign_to).\n",
    "\n",
    "For that reason, the code below uses a loop to reassign multiple content items to a new owner."
   ]
  },
  {
   "cell_type": "code",
   "execution_count": 733,
   "metadata": {},
   "outputs": [
    {
     "name": "stdout",
     "output_type": "stream",
     "text": [
      "d5cd41b03bac446dbfdaabc0c87b986f: True\n",
      "18390402eade43f8bdbcaebe0c3f044b: True\n"
     ]
    }
   ],
   "source": [
    "item_ids = [\"d5cd41b03bac446dbfdaabc0c87b986f\", \"18390402eade43f8bdbcaebe0c3f044b\"]\n",
    "new_owner = gis.users.get(\"15f6e33de2ce408483673fad4dbff612\")\n",
    "\n",
    "for item_id in item_ids:\n",
    "    item = gis.content.get(item_id)\n",
    "    reassign_status = item.reassign_to(new_owner)\n",
    "    print(f\"{item_id}: {reassign_status}\")"
   ]
  },
  {
   "cell_type": "markdown",
   "metadata": {},
   "source": [
    "### Share a single item\n"
   ]
  },
  {
   "cell_type": "markdown",
   "metadata": {},
   "source": [
    "To change the sharing of an item, you need to use the `Item` object's [share](https://developers.arcgis.com/python/api-reference/arcgis.gis.toc.html#arcgis.gis.Item.share) and [unshare](https://developers.arcgis.com/python/api-reference/arcgis.gis.toc.html#arcgis.gis.Item.unshare) methods."
   ]
  },
  {
   "cell_type": "markdown",
   "metadata": {},
   "source": [
    "#### Change the sharing level"
   ]
  },
  {
   "cell_type": "markdown",
   "metadata": {},
   "source": [
    " The `share` method has an `everyone` and `org` parameter to set the sharing level. Be aware that the default values of these parameters represent the most restrictive public and organization sharing options. \n",
    " \n",
    " The code below specifies that the item should not be shared with everyone, but does not specify how it should be shared with the organization. The changes in the `Item`'s `shared_with` property shows how the default parameter values mean that the item is now unshared from the organization as well."
   ]
  },
  {
   "cell_type": "code",
   "execution_count": 678,
   "metadata": {},
   "outputs": [
    {
     "name": "stdout",
     "output_type": "stream",
     "text": [
      "{'everyone': True, 'org': True, 'groups': []}\n",
      "{'everyone': False, 'org': False, 'groups': []}\n"
     ]
    }
   ],
   "source": [
    "item = gis.content.get(\"86f92739855e481c82d54c6dc167ef99\")\n",
    "print(item.shared_with)\n",
    "\n",
    "item.share(everyone=False)\n",
    "print(item.shared_with)"
   ]
  },
  {
   "cell_type": "markdown",
   "metadata": {},
   "source": [
    "For that reason, the code below specifies a value for both the `everyone` and `org` parameters. This is a best practice when using the `share` method."
   ]
  },
  {
   "cell_type": "code",
   "execution_count": 635,
   "metadata": {},
   "outputs": [
    {
     "name": "stdout",
     "output_type": "stream",
     "text": [
      "{'everyone': False, 'org': True, 'groups': []}\n"
     ]
    }
   ],
   "source": [
    "item = gis.content.get(\"86f92739855e481c82d54c6dc167ef99\")\n",
    "item.share(everyone=False, org=True)\n",
    "print(item.shared_with)"
   ]
  },
  {
   "cell_type": "markdown",
   "metadata": {},
   "source": [
    "Sharing with everyone is inclusive of sharing with the organization. The code below demonstrates that it is not possible to set sharing with everyone to `True` and the sharing with the org to `False`."
   ]
  },
  {
   "cell_type": "code",
   "execution_count": 699,
   "metadata": {},
   "outputs": [
    {
     "name": "stdout",
     "output_type": "stream",
     "text": [
      "{'everyone': True, 'org': True, 'groups': []}\n"
     ]
    }
   ],
   "source": [
    "item = gis.content.get(\"86f92739855e481c82d54c6dc167ef99\")\n",
    "item.share(everyone=True, org=False)\n",
    "print(item.shared_with)"
   ]
  },
  {
   "cell_type": "markdown",
   "metadata": {},
   "source": [
    "#### Sharing items to groups: as documented"
   ]
  },
  {
   "cell_type": "markdown",
   "metadata": {},
   "source": [
    "The API reference for the `share` method says to pass a list of groups to the `groups` parameter to share the item with those groups. \n",
    "\n",
    "The code below does that by passing a list of [`Group` objects](https://developers.arcgis.com/python/api-reference/arcgis.gis.toc.html#group) created by the [`get` method of the `GroupManager` object](https://developers.arcgis.com/python/api-reference/arcgis.gis.toc.html#arcgis.gis.GroupManager.get) to the `groups` parameter.\n",
    "\n",
    "The `share` method returns a dictionary indicating any groups the item could not be shared with. In this case, the item could be shared with both groups, so the `notSharedWith` value is an empty list, and the two groups are indicated in the `groups` value in the separate dictionary returned by the item's `shared_with` property."
   ]
  },
  {
   "cell_type": "code",
   "execution_count": 679,
   "metadata": {},
   "outputs": [
    {
     "name": "stdout",
     "output_type": "stream",
     "text": [
      "{'notSharedWith': [], 'itemId': '86f92739855e481c82d54c6dc167ef99'}\n",
      "{'everyone': False, 'org': True, 'groups': [<Group title:\"Group1\" owner:t.ormsby>, <Group title:\"Group2\" owner:t.ormsby>]}\n"
     ]
    }
   ],
   "source": [
    "item = gis.content.get(\"86f92739855e481c82d54c6dc167ef99\")\n",
    "group1 = gis.groups.get(\"435bfd95c37b404ebbf9308b38dcd251\")\n",
    "group2 = gis.groups.get(\"d34a7555514b4a58a6a0f4c9c0ce4078\")\n",
    "\n",
    "share_result = item.share(\n",
    "    everyone=False, \n",
    "    org=True, \n",
    "    groups=[group1, group2]\n",
    ")\n",
    "\n",
    "print(share_result)\n",
    "print(item.shared_with)"
   ]
  },
  {
   "cell_type": "markdown",
   "metadata": {},
   "source": [
    "The code below uses the [`unshare` method of the `Item` object](https://developers.arcgis.com/python/api-reference/arcgis.gis.toc.html#arcgis.gis.Item.unshare) to remove the item from one of the groups it is shared with. "
   ]
  },
  {
   "cell_type": "code",
   "execution_count": 680,
   "metadata": {},
   "outputs": [
    {
     "name": "stdout",
     "output_type": "stream",
     "text": [
      "{'everyone': False, 'org': True, 'groups': [<Group title:\"Group1\" owner:t.ormsby>]}\n"
     ]
    }
   ],
   "source": [
    "item = gis.content.get(\"86f92739855e481c82d54c6dc167ef99\")\n",
    "group2 = gis.groups.get(\"d34a7555514b4a58a6a0f4c9c0ce4078\")\n",
    "\n",
    "item.unshare(groups=[group2])\n",
    "\n",
    "print(item.shared_with)"
   ]
  },
  {
   "cell_type": "markdown",
   "metadata": {},
   "source": [
    "#### Sharing items to groups: the undocumented complexity"
   ]
  },
  {
   "cell_type": "markdown",
   "metadata": {},
   "source": [
    "There are several complexities for sharing with groups that are not immediately obvious. The next several examples walk through pitfalls you might encounter when sharing with a group. None of these behaviors are documented in the API reference, though some of them are documented in the [REST API reference for the shareitems endpoint](https://developers.arcgis.com/rest/users-groups-and-items/share-items.htm). \n",
    "\n",
    "The code below is identical to the first group sharing code above. But the return value of the `share` method now seems to suggest the item was not shared with the first group. That's not true, as the `shared_with` property confirms the item is shared with both groups. The confusing `notSharedWith` value occured because in this example, the item was already shared with the first group. \n",
    "\n",
    "The best way to interpret the `notSharedWith` value is \"the sharing was not changed to add these groups to the existing groups the item is already shared with\". This value does not mean \"this item is not shared with these groups\".\n",
    "\n",
    "For this reason, it is not a good idea to rely on the `notSharedWith` list to determine if an item is shared with a group or not. Use the `shared_with` property instead."
   ]
  },
  {
   "cell_type": "code",
   "execution_count": 681,
   "metadata": {},
   "outputs": [
    {
     "name": "stdout",
     "output_type": "stream",
     "text": [
      "{'notSharedWith': ['435bfd95c37b404ebbf9308b38dcd251'], 'itemId': '86f92739855e481c82d54c6dc167ef99'}\n",
      "{'everyone': False, 'org': True, 'groups': [<Group title:\"Group1\" owner:t.ormsby>, <Group title:\"Group2\" owner:t.ormsby>]}\n"
     ]
    }
   ],
   "source": [
    "item = gis.content.get(\"86f92739855e481c82d54c6dc167ef99\")\n",
    "group1 = gis.groups.get(\"435bfd95c37b404ebbf9308b38dcd251\")\n",
    "group2 = gis.groups.get(\"d34a7555514b4a58a6a0f4c9c0ce4078\")\n",
    "\n",
    "share_result = item.share(\n",
    "    everyone=False, \n",
    "    org=True, \n",
    "    groups=[group1, group2]\n",
    ")\n",
    "\n",
    "print(share_result)\n",
    "print(item.shared_with)"
   ]
  },
  {
   "cell_type": "markdown",
   "metadata": {},
   "source": [
    "The code below is similar to the code above, except that it passes a list of group id strings to the `groups` parameter instead of a list of `Group` objects. The result is similar, except now both groups also appear in the `notSharedWith` list because the item is already shared with both groups. \n",
    "\n",
    "The `notSharedWith` list now also includes a additional empty string. This superflous empty string appears in this list whenever you pass a list of group id strings to the `groups` parameter. For that reason, it is a best practice to use `Group` objects instead"
   ]
  },
  {
   "cell_type": "code",
   "execution_count": 682,
   "metadata": {},
   "outputs": [
    {
     "name": "stdout",
     "output_type": "stream",
     "text": [
      "{'notSharedWith': ['', '435bfd95c37b404ebbf9308b38dcd251', 'd34a7555514b4a58a6a0f4c9c0ce4078'], 'itemId': '86f92739855e481c82d54c6dc167ef99'}\n",
      "{'everyone': False, 'org': True, 'groups': [<Group title:\"Group1\" owner:t.ormsby>, <Group title:\"Group2\" owner:t.ormsby>]}\n"
     ]
    }
   ],
   "source": [
    "item = gis.content.get(\"86f92739855e481c82d54c6dc167ef99\")\n",
    "\n",
    "share_result = item.share(\n",
    "    everyone=False, \n",
    "    org=True, \n",
    "    groups=[\"435bfd95c37b404ebbf9308b38dcd251\", \"d34a7555514b4a58a6a0f4c9c0ce4078\"]\n",
    ")\n",
    "\n",
    "print(share_result)\n",
    "print(item.shared_with)"
   ]
  },
  {
   "cell_type": "markdown",
   "metadata": {},
   "source": [
    "The code below attempts to share a different item, with a different owner, to the same two groups used above. This item's owner is a member of both groups, but is only allowed to contribute content to the first group. The `share` method returns a response indicating that the content was not shared to the second group. The `shared_with` property confirms that the item is shared only with the first group.\n"
   ]
  },
  {
   "cell_type": "code",
   "execution_count": 684,
   "metadata": {},
   "outputs": [
    {
     "name": "stdout",
     "output_type": "stream",
     "text": [
      "{'notSharedWith': ['d34a7555514b4a58a6a0f4c9c0ce4078'], 'itemId': 'c01140f5fb4b492eb1e9b3c9d69bead7'}\n",
      "{'everyone': False, 'org': True, 'groups': [<Group title:\"Group1\" owner:t.ormsby>]}\n"
     ]
    }
   ],
   "source": [
    "item = gis.content.get(\"c01140f5fb4b492eb1e9b3c9d69bead7\")\n",
    "group1 = gis.groups.get(\"435bfd95c37b404ebbf9308b38dcd251\")\n",
    "group2 = gis.groups.get(\"d34a7555514b4a58a6a0f4c9c0ce4078\")\n",
    "\n",
    "share_result = item.share(\n",
    "    everyone=False, \n",
    "    org=True, \n",
    "    groups=[group1, group2]\n",
    ")\n",
    "print(share_result)\n",
    "print(item.shared_with)"
   ]
  },
  {
   "cell_type": "markdown",
   "metadata": {},
   "source": [
    "The code below attempts to share the same item as above to a shared update group. The item owner is a member of this group and has permission to contribute content to the group, but the item is not successfully shared."
   ]
  },
  {
   "cell_type": "code",
   "execution_count": 685,
   "metadata": {},
   "outputs": [
    {
     "name": "stdout",
     "output_type": "stream",
     "text": [
      "{'notSharedWith': ['65959444535f4bbb84dbb740a1fc4f37'], 'itemId': 'c01140f5fb4b492eb1e9b3c9d69bead7'}\n",
      "{'everyone': False, 'org': True, 'groups': [<Group title:\"Group1\" owner:t.ormsby>]}\n"
     ]
    }
   ],
   "source": [
    "item = gis.content.get(\"c01140f5fb4b492eb1e9b3c9d69bead7\")\n",
    "sharedUpdateGroup = gis.groups.get(\"65959444535f4bbb84dbb740a1fc4f37\")\n",
    "share_result = item.share(\n",
    "    everyone=False, \n",
    "    org=True, \n",
    "    groups=[sharedUpdateGroup]\n",
    ")\n",
    "print(share_result)\n",
    "print(item.shared_with)"
   ]
  },
  {
   "cell_type": "markdown",
   "metadata": {},
   "source": [
    "When sharing to a shared update group, you must explicitly enable group members to edit the item. For that reason, the code below sets the `allow_members_to_edit` parameter of the `share` method to `True`, allowing the item to be successfully shared."
   ]
  },
  {
   "cell_type": "code",
   "execution_count": 686,
   "metadata": {},
   "outputs": [
    {
     "name": "stdout",
     "output_type": "stream",
     "text": [
      "{'notSharedWith': [], 'itemId': 'c01140f5fb4b492eb1e9b3c9d69bead7'}\n",
      "{'everyone': False, 'org': True, 'groups': [<Group title:\"Group1\" owner:t.ormsby>, <Group title:\"Shared Update\" owner:t.ormsby>]}\n"
     ]
    }
   ],
   "source": [
    "item = gis.content.get(\"c01140f5fb4b492eb1e9b3c9d69bead7\")\n",
    "sharedUpdateGroup = gis.groups.get(\"65959444535f4bbb84dbb740a1fc4f37\")\n",
    "share_result = item.share(\n",
    "    everyone=False, \n",
    "    org=True, \n",
    "    groups=[sharedUpdateGroup],\n",
    "    allow_members_to_edit=True\n",
    ")\n",
    "print(share_result)\n",
    "print(item.shared_with)"
   ]
  },
  {
   "cell_type": "markdown",
   "metadata": {},
   "source": [
    "The code below shares the same item as above with a group that the item owner is not a member of. This code works because the item is shared to the organization and the user associated with the `gis` object is the owner of the group the item is being shared to. Group owners or managers can add organization-shared content to their group, even if the item owner is not a group member. \n",
    "\n",
    "Notice also that even though only a single group is specified in the `groups` parameter, the `shared_with` property indicates the item is shared with two groups. Groups passed to the `groups` parameter are added to the groups the item is shared to, they do not replace those groups. There is no way to use the `share` method to unshare an item from a group."
   ]
  },
  {
   "cell_type": "code",
   "execution_count": 687,
   "metadata": {},
   "outputs": [
    {
     "name": "stdout",
     "output_type": "stream",
     "text": [
      "{'notSharedWith': [], 'itemId': 'c01140f5fb4b492eb1e9b3c9d69bead7'}\n",
      "{'everyone': False, 'org': True, 'groups': [<Group title:\"Group1\" owner:t.ormsby>, <Group title:\"Shared Update\" owner:t.ormsby>, <Group title:\"AdminsOnly\" owner:t.ormsby>]}\n"
     ]
    }
   ],
   "source": [
    "item = gis.content.get(\"c01140f5fb4b492eb1e9b3c9d69bead7\")\n",
    "adminGroup = gis.groups.get(\"ecc2dd125703488d8d2c1d1bc2e14380\")\n",
    "share_result = item.share(\n",
    "    everyone=False, \n",
    "    org=True, \n",
    "    groups=[adminGroup]\n",
    ")\n",
    "print(share_result)\n",
    "print(item.shared_with)"
   ]
  },
  {
   "cell_type": "markdown",
   "metadata": {},
   "source": [
    "The code below changes the sharing of the item above so that it is not shared with the organization any longer. If performed in the portal web app, this operation would have automatically unshared the item from any groups the item owner cannot contribute content to and succesfully updated the organization sharing level.\n",
    "\n",
    "But the Python API throws an error wrongly indicating the admin user associated with the `gis` object does not have permission to change sharing."
   ]
  },
  {
   "cell_type": "code",
   "execution_count": 688,
   "metadata": {},
   "outputs": [
    {
     "ename": "Exception",
     "evalue": "User does not own the item or have the privileges to share this item.",
     "output_type": "error",
     "traceback": [
      "\u001b[0;31m---------------------------------------------------------------------------\u001b[0m",
      "\u001b[0;31mException\u001b[0m                                 Traceback (most recent call last)",
      "\u001b[0;32m/tmp/ipykernel_2585075/1338280747.py\u001b[0m in \u001b[0;36m?\u001b[0;34m()\u001b[0m\n\u001b[1;32m      1\u001b[0m \u001b[0mitem\u001b[0m \u001b[0;34m=\u001b[0m \u001b[0mgis\u001b[0m\u001b[0;34m.\u001b[0m\u001b[0mcontent\u001b[0m\u001b[0;34m.\u001b[0m\u001b[0mget\u001b[0m\u001b[0;34m(\u001b[0m\u001b[0;34m\"c01140f5fb4b492eb1e9b3c9d69bead7\"\u001b[0m\u001b[0;34m)\u001b[0m\u001b[0;34m\u001b[0m\u001b[0;34m\u001b[0m\u001b[0m\n\u001b[0;32m----> 2\u001b[0;31m share_result = item.share(\n\u001b[0m\u001b[1;32m      3\u001b[0m     \u001b[0meveryone\u001b[0m\u001b[0;34m=\u001b[0m\u001b[0;32mFalse\u001b[0m\u001b[0;34m,\u001b[0m\u001b[0;34m\u001b[0m\u001b[0;34m\u001b[0m\u001b[0m\n\u001b[1;32m      4\u001b[0m     \u001b[0morg\u001b[0m\u001b[0;34m=\u001b[0m\u001b[0;32mFalse\u001b[0m\u001b[0;34m\u001b[0m\u001b[0;34m\u001b[0m\u001b[0m\n\u001b[1;32m      5\u001b[0m )\n",
      "\u001b[0;32m~/.local/share/virtualenvs/agol_admin-rkaODuKR/lib/python3.10/site-packages/arcgis/gis/__init__.py\u001b[0m in \u001b[0;36m?\u001b[0;34m(self, everyone, org, groups, allow_members_to_edit)\u001b[0m\n\u001b[1;32m  14614\u001b[0m             \u001b[0mself\u001b[0m\u001b[0;34m.\u001b[0m\u001b[0m_hydrated\u001b[0m \u001b[0;34m=\u001b[0m \u001b[0;32mFalse\u001b[0m\u001b[0;34m\u001b[0m\u001b[0;34m\u001b[0m\u001b[0m\n\u001b[1;32m  14615\u001b[0m             \u001b[0mself\u001b[0m\u001b[0;34m.\u001b[0m\u001b[0m_hydrate\u001b[0m\u001b[0;34m(\u001b[0m\u001b[0;34m)\u001b[0m\u001b[0;34m\u001b[0m\u001b[0;34m\u001b[0m\u001b[0m\n\u001b[1;32m  14616\u001b[0m             \u001b[0;32mreturn\u001b[0m \u001b[0mres\u001b[0m\u001b[0;34m\u001b[0m\u001b[0;34m\u001b[0m\u001b[0m\n\u001b[1;32m  14617\u001b[0m         \u001b[0;32melse\u001b[0m\u001b[0;34m:\u001b[0m\u001b[0;34m\u001b[0m\u001b[0;34m\u001b[0m\u001b[0m\n\u001b[0;32m> 14618\u001b[0;31m             raise Exception(\n\u001b[0m\u001b[1;32m  14619\u001b[0m                 \u001b[0;34m\"User does not own the item or have the privileges to share this item.\"\u001b[0m\u001b[0;34m\u001b[0m\u001b[0;34m\u001b[0m\u001b[0m\n\u001b[1;32m  14620\u001b[0m             )\n",
      "\u001b[0;31mException\u001b[0m: User does not own the item or have the privileges to share this item."
     ]
    }
   ],
   "source": [
    "item = gis.content.get(\"c01140f5fb4b492eb1e9b3c9d69bead7\")\n",
    "share_result = item.share(\n",
    "    everyone=False, \n",
    "    org=False\n",
    ")\n",
    "print(share_result)\n",
    "print(item.shared_with)"
   ]
  },
  {
   "cell_type": "markdown",
   "metadata": {},
   "source": [
    "The code below attempts to change the orgnization setting by using the `unshare` method to remove the item from the group the item owner does not have permission to contribute to, then changing the organization sharing level with the `share` method. This does not work either"
   ]
  },
  {
   "cell_type": "code",
   "execution_count": 689,
   "metadata": {},
   "outputs": [
    {
     "ename": "Exception",
     "evalue": "User does not own the item or have the privileges to share this item.",
     "output_type": "error",
     "traceback": [
      "\u001b[0;31m---------------------------------------------------------------------------\u001b[0m",
      "\u001b[0;31mException\u001b[0m                                 Traceback (most recent call last)",
      "\u001b[0;32m/tmp/ipykernel_2585075/3982828448.py\u001b[0m in \u001b[0;36m?\u001b[0;34m()\u001b[0m\n\u001b[1;32m      1\u001b[0m \u001b[0mitem\u001b[0m \u001b[0;34m=\u001b[0m \u001b[0mgis\u001b[0m\u001b[0;34m.\u001b[0m\u001b[0mcontent\u001b[0m\u001b[0;34m.\u001b[0m\u001b[0mget\u001b[0m\u001b[0;34m(\u001b[0m\u001b[0;34m\"c01140f5fb4b492eb1e9b3c9d69bead7\"\u001b[0m\u001b[0;34m)\u001b[0m\u001b[0;34m\u001b[0m\u001b[0;34m\u001b[0m\u001b[0m\n\u001b[1;32m      2\u001b[0m \u001b[0madminGroup\u001b[0m \u001b[0;34m=\u001b[0m \u001b[0mgis\u001b[0m\u001b[0;34m.\u001b[0m\u001b[0mgroups\u001b[0m\u001b[0;34m.\u001b[0m\u001b[0mget\u001b[0m\u001b[0;34m(\u001b[0m\u001b[0;34m\"ecc2dd125703488d8d2c1d1bc2e14380\"\u001b[0m\u001b[0;34m)\u001b[0m\u001b[0;34m\u001b[0m\u001b[0;34m\u001b[0m\u001b[0m\n\u001b[1;32m      3\u001b[0m \u001b[0mitem\u001b[0m\u001b[0;34m.\u001b[0m\u001b[0munshare\u001b[0m\u001b[0;34m(\u001b[0m\u001b[0;34m[\u001b[0m\u001b[0madminGroup\u001b[0m\u001b[0;34m]\u001b[0m\u001b[0;34m)\u001b[0m\u001b[0;34m\u001b[0m\u001b[0;34m\u001b[0m\u001b[0m\n\u001b[1;32m      4\u001b[0m \u001b[0;34m\u001b[0m\u001b[0m\n\u001b[0;32m----> 5\u001b[0;31m share_result = item.share(\n\u001b[0m\u001b[1;32m      6\u001b[0m     \u001b[0meveryone\u001b[0m\u001b[0;34m=\u001b[0m\u001b[0;32mFalse\u001b[0m\u001b[0;34m,\u001b[0m\u001b[0;34m\u001b[0m\u001b[0;34m\u001b[0m\u001b[0m\n\u001b[1;32m      7\u001b[0m     \u001b[0morg\u001b[0m\u001b[0;34m=\u001b[0m\u001b[0;32mFalse\u001b[0m\u001b[0;34m,\u001b[0m\u001b[0;34m\u001b[0m\u001b[0;34m\u001b[0m\u001b[0m\n\u001b[1;32m      8\u001b[0m     \u001b[0mgroups\u001b[0m\u001b[0;34m=\u001b[0m\u001b[0;32mNone\u001b[0m\u001b[0;34m\u001b[0m\u001b[0;34m\u001b[0m\u001b[0m\n",
      "\u001b[0;32m~/.local/share/virtualenvs/agol_admin-rkaODuKR/lib/python3.10/site-packages/arcgis/gis/__init__.py\u001b[0m in \u001b[0;36m?\u001b[0;34m(self, everyone, org, groups, allow_members_to_edit)\u001b[0m\n\u001b[1;32m  14614\u001b[0m             \u001b[0mself\u001b[0m\u001b[0;34m.\u001b[0m\u001b[0m_hydrated\u001b[0m \u001b[0;34m=\u001b[0m \u001b[0;32mFalse\u001b[0m\u001b[0;34m\u001b[0m\u001b[0;34m\u001b[0m\u001b[0m\n\u001b[1;32m  14615\u001b[0m             \u001b[0mself\u001b[0m\u001b[0;34m.\u001b[0m\u001b[0m_hydrate\u001b[0m\u001b[0;34m(\u001b[0m\u001b[0;34m)\u001b[0m\u001b[0;34m\u001b[0m\u001b[0;34m\u001b[0m\u001b[0m\n\u001b[1;32m  14616\u001b[0m             \u001b[0;32mreturn\u001b[0m \u001b[0mres\u001b[0m\u001b[0;34m\u001b[0m\u001b[0;34m\u001b[0m\u001b[0m\n\u001b[1;32m  14617\u001b[0m         \u001b[0;32melse\u001b[0m\u001b[0;34m:\u001b[0m\u001b[0;34m\u001b[0m\u001b[0;34m\u001b[0m\u001b[0m\n\u001b[0;32m> 14618\u001b[0;31m             raise Exception(\n\u001b[0m\u001b[1;32m  14619\u001b[0m                 \u001b[0;34m\"User does not own the item or have the privileges to share this item.\"\u001b[0m\u001b[0;34m\u001b[0m\u001b[0;34m\u001b[0m\u001b[0m\n\u001b[1;32m  14620\u001b[0m             )\n",
      "\u001b[0;31mException\u001b[0m: User does not own the item or have the privileges to share this item."
     ]
    }
   ],
   "source": [
    "item = gis.content.get(\"c01140f5fb4b492eb1e9b3c9d69bead7\")\n",
    "adminGroup = gis.groups.get(\"ecc2dd125703488d8d2c1d1bc2e14380\")\n",
    "item.unshare([adminGroup])\n",
    "\n",
    "share_result = item.share(\n",
    "    everyone=False, \n",
    "    org=False,\n",
    "    groups=None\n",
    ")\n",
    "print(share_result)\n",
    "print(item.shared_with)"
   ]
  },
  {
   "cell_type": "markdown",
   "metadata": {},
   "source": [
    "For this reason, the code below temporarily reassigns ownership of the item in order to correctly change the organization sharing level."
   ]
  },
  {
   "cell_type": "code",
   "execution_count": 690,
   "metadata": {},
   "outputs": [
    {
     "name": "stdout",
     "output_type": "stream",
     "text": [
      "{'notSharedWith': [], 'itemId': 'c01140f5fb4b492eb1e9b3c9d69bead7'}\n",
      "{'everyone': False, 'org': False, 'groups': [<Group title:\"Group1\" owner:t.ormsby>, <Group title:\"Shared Update\" owner:t.ormsby>]}\n"
     ]
    }
   ],
   "source": [
    "item = gis.content.get(\"c01140f5fb4b492eb1e9b3c9d69bead7\")\n",
    "origOwner = item.owner\n",
    "item.reassign_to(gis.users.me)\n",
    "\n",
    "adminGroup = gis.groups.get(\"ecc2dd125703488d8d2c1d1bc2e14380\")\n",
    "item.unshare([adminGroup])\n",
    "\n",
    "share_result = item.share(\n",
    "    everyone=False, \n",
    "    org=False,\n",
    "    groups=None\n",
    ")\n",
    "\n",
    "item.reassign_to(origOwner)\n",
    "\n",
    "print(share_result)\n",
    "print(item.shared_with)"
   ]
  },
  {
   "cell_type": "markdown",
   "metadata": {},
   "source": [
    "### Share multiple items"
   ]
  },
  {
   "cell_type": "markdown",
   "metadata": {},
   "source": [
    "The code below uses the [`share_items` method of the `ContentManager` object](https://developers.arcgis.com/python/api-reference/arcgis.gis.toc.html#arcgis.gis.ContentManager.share_items) to change the sharing of multiple items. The `share_items` method works just like the `share` method of an `Item` object, with the same potential challenges noted above."
   ]
  },
  {
   "cell_type": "code",
   "execution_count": 946,
   "metadata": {},
   "outputs": [
    {
     "data": {
      "text/plain": [
       "{'results': [{'itemId': '7735e1e8054e4bb0a8289294a7b927dc',\n",
       "   'success': True,\n",
       "   'notSharedWith': []},\n",
       "  {'itemId': '3afbcf22977b4012bac0a1a469b902c0',\n",
       "   'success': True,\n",
       "   'notSharedWith': []},\n",
       "  {'itemId': '8713161bf7494c20804d1de84b64ead0',\n",
       "   'success': True,\n",
       "   'notSharedWith': []}]}"
      ]
     },
     "execution_count": 946,
     "metadata": {},
     "output_type": "execute_result"
    }
   ],
   "source": [
    "itemids = [\n",
    "    \"3afbcf22977b4012bac0a1a469b902c0\", \n",
    "    \"8713161bf7494c20804d1de84b64ead0\", \n",
    "    \"7735e1e8054e4bb0a8289294a7b927dc\"\n",
    "]\n",
    "\n",
    "group = gis.groups.get(\"435bfd95c37b404ebbf9308b38dcd251\")\n",
    "\n",
    "gis.content.share_items(itemids, everyone=False, org=False, groups=[group])"
   ]
  },
  {
   "cell_type": "markdown",
   "metadata": {},
   "source": [
    "The code below uses the [`unshare_items` method of the `ContentManager` object](https://developers.arcgis.com/python/api-reference/arcgis.gis.toc.html#arcgis.gis.ContentManager.unshare_items) to remove sharing of a set of items from a particular group.\n",
    "\n",
    "It is possible to use the `unshare_items` method to change the sharing level for everyone and/or the organization, but it only does so when explicitly specified. That is different from the default behavior of the `share_items` method, which will default to removing public and org sharing if not specified. It is also different from the `unshare` method of the `Item` object, which is not capable of changing the sharing level at all, and only affects sharing to groups."
   ]
  },
  {
   "cell_type": "code",
   "execution_count": 947,
   "metadata": {},
   "outputs": [
    {
     "data": {
      "text/plain": [
       "{'results': [{'itemId': '7735e1e8054e4bb0a8289294a7b927dc',\n",
       "   'success': True,\n",
       "   'notUnsharedFrom': []},\n",
       "  {'itemId': '3afbcf22977b4012bac0a1a469b902c0',\n",
       "   'success': True,\n",
       "   'notUnsharedFrom': []},\n",
       "  {'itemId': '8713161bf7494c20804d1de84b64ead0',\n",
       "   'success': True,\n",
       "   'notUnsharedFrom': []}]}"
      ]
     },
     "execution_count": 947,
     "metadata": {},
     "output_type": "execute_result"
    }
   ],
   "source": [
    "itemids = [\n",
    "    \"3afbcf22977b4012bac0a1a469b902c0\", \n",
    "    \"8713161bf7494c20804d1de84b64ead0\", \n",
    "    \"7735e1e8054e4bb0a8289294a7b927dc\"\n",
    "]\n",
    "\n",
    "group = gis.groups.get(\"435bfd95c37b404ebbf9308b38dcd251\")\n",
    "\n",
    "gis.content.unshare_items(itemids, everyone=True, org=True, groups=[group])"
   ]
  },
  {
   "cell_type": "markdown",
   "metadata": {},
   "source": [
    "### Change folder locations"
   ]
  },
  {
   "cell_type": "markdown",
   "metadata": {},
   "source": [
    "When changing an item's location, you may want to know that item's current location. The code below finds a folder id given an item by using the `ownerFolder` property of the `Item` object."
   ]
  },
  {
   "cell_type": "code",
   "execution_count": 959,
   "metadata": {},
   "outputs": [
    {
     "name": "stdout",
     "output_type": "stream",
     "text": [
      "5ed2695821a54ffb898cc6bfc9c1466a\n"
     ]
    }
   ],
   "source": [
    "item = gis.content.get(\"7735e1e8054e4bb0a8289294a7b927dc\")\n",
    "print(item.ownerFolder)"
   ]
  },
  {
   "cell_type": "markdown",
   "metadata": {},
   "source": [
    "The code below takes the opposite approach and lists all the items in a given folder id by using the [`items` method of a `User` object](https://developers.arcgis.com/python/api-reference/arcgis.gis.toc.html#arcgis.gis.User.items)"
   ]
  },
  {
   "cell_type": "code",
   "execution_count": 964,
   "metadata": {},
   "outputs": [
    {
     "name": "stdout",
     "output_type": "stream",
     "text": [
      "<Item title:\"Copied Hosted Feature Layer\" type:Feature Layer Collection owner:t.ormsby>\n"
     ]
    }
   ],
   "source": [
    "user = gis.users.get(\"15f6e33de2ce408483673fad4dbff612\")\n",
    "items = user.items(folder=\"5ed2695821a54ffb898cc6bfc9c1466a\")\n",
    "for item in items:\n",
    "    print(item)"
   ]
  },
  {
   "cell_type": "markdown",
   "metadata": {},
   "source": [
    "The code below moves an item to a different folder using the [`move` method of an `Item` object](https://developers.arcgis.com/python/api-reference/arcgis.gis.toc.html#arcgis.gis.Item.move)."
   ]
  },
  {
   "cell_type": "code",
   "execution_count": 965,
   "metadata": {},
   "outputs": [
    {
     "name": "stdout",
     "output_type": "stream",
     "text": [
      "5ed2695821a54ffb898cc6bfc9c1466a\n",
      "88bc290b78de4cfc8f2d09449bc8a766\n"
     ]
    }
   ],
   "source": [
    "item = gis.content.get(\"7735e1e8054e4bb0a8289294a7b927dc\")\n",
    "print(item.ownerFolder)\n",
    "\n",
    "item.move(\"88bc290b78de4cfc8f2d09449bc8a766\")\n",
    "print(item.ownerFolder)"
   ]
  },
  {
   "cell_type": "markdown",
   "metadata": {},
   "source": [
    "The code below moves an item to a new folder using the [`create_folder` method of the `ContentManager` object](https://developers.arcgis.com/python/api-reference/arcgis.gis.toc.html#arcgis.gis.ContentManager.create_folder) and the `move` method of an `Item` object."
   ]
  },
  {
   "cell_type": "code",
   "execution_count": 967,
   "metadata": {},
   "outputs": [
    {
     "name": "stdout",
     "output_type": "stream",
     "text": [
      "88bc290b78de4cfc8f2d09449bc8a766\n",
      "6b79edeb5261461e9c52f4416523cd8a\n"
     ]
    }
   ],
   "source": [
    "user = gis.users.get(\"15f6e33de2ce408483673fad4dbff612\")\n",
    "item = gis.content.get(\"7735e1e8054e4bb0a8289294a7b927dc\")\n",
    "print(item.ownerFolder)\n",
    "\n",
    "new_folder = gis.content.create_folder(folder=\"New Folder\", owner=user)\n",
    "item.move(new_folder)\n",
    "print(item.ownerFolder)"
   ]
  },
  {
   "cell_type": "markdown",
   "metadata": {},
   "source": [
    "### Export an item\n"
   ]
  },
  {
   "cell_type": "markdown",
   "metadata": {},
   "source": [
    "The code below exports a hosted feature layer as a shapefile using the [`export` method of the `Item` object](https://developers.arcgis.com/python/api-reference/arcgis.gis.toc.html#arcgis.gis.Item.export). In addition to shapefile, the documentation describes other valid export formats.\n",
    "\n",
    "This method creates a shapefile item in the portal and returns `Item` object for that shapefile. The code below downloads that shapefile as a .zip archive using the [`download` method of that new `Item` object](https://developers.arcgis.com/python/api-reference/arcgis.gis.toc.html#arcgis.gis.Item.download). The `save_path` parameter indicates the local path the downloaded file should be saved to. In this case, the value `\".\"` means the file should be downloaded to the current working directory.\n",
    "\n"
   ]
  },
  {
   "cell_type": "code",
   "execution_count": 980,
   "metadata": {},
   "outputs": [
    {
     "data": {
      "text/plain": [
       "'./for_download.zip'"
      ]
     },
     "execution_count": 980,
     "metadata": {},
     "output_type": "execute_result"
    }
   ],
   "source": [
    "item = gis.content.get(\"8713161bf7494c20804d1de84b64ead0\")\n",
    "item_export = item.export(title=\"for_download\", export_format=\"Shapefile\")\n",
    "item_export.download(save_path=\".\")\n"
   ]
  },
  {
   "cell_type": "markdown",
   "metadata": {},
   "source": [
    "### Delete an item"
   ]
  },
  {
   "cell_type": "markdown",
   "metadata": {},
   "source": [
    "The code below uses the [`delete` method of an item object](https://developers.arcgis.com/python/api-reference/arcgis.gis.toc.html#arcgis.gis.Item.delete) to delete that item."
   ]
  },
  {
   "cell_type": "code",
   "execution_count": 982,
   "metadata": {},
   "outputs": [
    {
     "data": {
      "text/plain": [
       "True"
      ]
     },
     "execution_count": 982,
     "metadata": {},
     "output_type": "execute_result"
    }
   ],
   "source": [
    "item = gis.content.get(\"7735e1e8054e4bb0a8289294a7b927dc\")\n",
    "item.delete()"
   ]
  },
  {
   "cell_type": "markdown",
   "metadata": {},
   "source": [
    "The `delete` method will not return `False` if it fails to delete the item. Instead it will throw an exception. For that reason, you may want to check if the item can be deleted before attempting to delete it. The code below uses the `dry_run` parameter to check if the item can be deleted"
   ]
  },
  {
   "cell_type": "code",
   "execution_count": 984,
   "metadata": {},
   "outputs": [
    {
     "data": {
      "text/plain": [
       "{'can_delete': False,\n",
       " 'details': {'code': 400,\n",
       "  'message': 'Unable to delete item d7783691894445a39395bad895cf4735. Delete protection is turned on.',\n",
       "  'offending_items': []}}"
      ]
     },
     "execution_count": 984,
     "metadata": {},
     "output_type": "execute_result"
    }
   ],
   "source": [
    "item = gis.content.get(\"d7783691894445a39395bad895cf4735\")\n",
    "item.delete(dry_run=True)"
   ]
  },
  {
   "cell_type": "markdown",
   "metadata": {},
   "source": [
    "The code below uses the [`can_delete` property of the `Item` object](https://developers.arcgis.com/python/api-reference/arcgis.gis.toc.html#arcgis.gis.Item.can_delete) to check if the item can be deleted. While the `can_delete` method prints a dictionary to stdout, the return value of the method is a Boolean."
   ]
  },
  {
   "cell_type": "code",
   "execution_count": 988,
   "metadata": {},
   "outputs": [
    {
     "name": "stderr",
     "output_type": "stream",
     "text": [
      "{'code': 400, 'messageCode': 'CONT_0048', 'message': 'Unable to delete item d7783691894445a39395bad895cf4735. Delete protection is turned on.', 'offendingItems': []}\n"
     ]
    },
    {
     "data": {
      "text/plain": [
       "False"
      ]
     },
     "execution_count": 988,
     "metadata": {},
     "output_type": "execute_result"
    }
   ],
   "source": [
    "item = gis.content.get(\"d7783691894445a39395bad895cf4735\")\n",
    "item.can_delete\n"
   ]
  },
  {
   "cell_type": "markdown",
   "metadata": {},
   "source": [
    "### Delete multiple items"
   ]
  },
  {
   "cell_type": "markdown",
   "metadata": {},
   "source": [
    "The code below deletes a set of items by using the [`delete_items` method of the `ContentManager` object](https://developers.arcgis.com/python/api-reference/arcgis.gis.toc.html#arcgis.gis.ContentManager.delete_items). This method has the limitation that all items must belong to the same user.\n"
   ]
  },
  {
   "cell_type": "code",
   "execution_count": 990,
   "metadata": {},
   "outputs": [
    {
     "data": {
      "text/plain": [
       "[True]"
      ]
     },
     "execution_count": 990,
     "metadata": {},
     "output_type": "execute_result"
    }
   ],
   "source": [
    "itemids = [\n",
    "    \"d7783691894445a39395bad895cf4735\",\n",
    "    \"3afbcf22977b4012bac0a1a469b902c0\"\n",
    "]\n",
    "\n",
    "gis.content.delete_items(itemids)"
   ]
  },
  {
   "cell_type": "markdown",
   "metadata": {},
   "source": [
    "The code below deletes a folder using the [`delete_folder` method of the `ContentManager` object](https://developers.arcgis.com/python/api-reference/arcgis.gis.toc.html#arcgis.gis.ContentManager.delete_folder). Deleting the folder has the effect of deleting all items in the folder."
   ]
  },
  {
   "cell_type": "code",
   "execution_count": 991,
   "metadata": {},
   "outputs": [
    {
     "data": {
      "text/plain": [
       "True"
      ]
     },
     "execution_count": 991,
     "metadata": {},
     "output_type": "execute_result"
    }
   ],
   "source": [
    "gis.content.delete_folder(folder=\"6b79edeb5261461e9c52f4416523cd8a\")"
   ]
  },
  {
   "cell_type": "markdown",
   "metadata": {},
   "source": [
    "For items owned by multiple different users, it is not possible to bulk delete them in a single operation. For that reason, the code below loops through a list of items to delete them."
   ]
  },
  {
   "cell_type": "code",
   "execution_count": 994,
   "metadata": {},
   "outputs": [],
   "source": [
    "itemids = [\n",
    "    \"57ee9c068f4442e8a95d2f2f087d8dcf\",\n",
    "    \"0adaa9278522454e9a939ac9772ba899\"\n",
    "]\n",
    "\n",
    "for itemid in itemids:\n",
    "    item = gis.content.get(itemid)\n",
    "    item.delete()"
   ]
  }
 ],
 "metadata": {
  "kernelspec": {
   "display_name": "agol_admin-rkaODuKR",
   "language": "python",
   "name": "python3"
  },
  "language_info": {
   "codemirror_mode": {
    "name": "ipython",
    "version": 3
   },
   "file_extension": ".py",
   "mimetype": "text/x-python",
   "name": "python",
   "nbconvert_exporter": "python",
   "pygments_lexer": "ipython3",
   "version": "3.10.12"
  }
 },
 "nbformat": 4,
 "nbformat_minor": 2
}
