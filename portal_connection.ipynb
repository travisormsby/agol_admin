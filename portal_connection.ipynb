{
 "cells": [
  {
   "cell_type": "markdown",
   "metadata": {},
   "source": [
    "# Portal connection"
   ]
  },
  {
   "cell_type": "markdown",
   "metadata": {},
   "source": [
    "This notebook contains examples of using the ArcGIS API for Python to connect to an ArcGIS Online portal using the [`GIS` class in the `arcgis.gis` module](https://developers.arcgis.com/python/api-reference/arcgis.gis.toc.html#gis). This connection is necessary for accessing any ArcGIS Online resources.\n",
    "\n",
    "Each cell in this notebook is independent of every other cell. The usernames used throughout this notebook are specific to my organization. You will need to change them to something appropriate for your organization(s)."
   ]
  },
  {
   "cell_type": "markdown",
   "metadata": {},
   "source": [
    "## Connect through ArcGIS Pro <a id='pro-connection'></a>\n"
   ]
  },
  {
   "cell_type": "markdown",
   "metadata": {},
   "source": [
    "If you are running this notebook in ArcGIS Pro, and are logged in to your portal through ArcGIS Pro, the code below will connect to your portal using the credentials you already provided to ArcGIS Pro."
   ]
  },
  {
   "cell_type": "code",
   "execution_count": null,
   "metadata": {},
   "outputs": [],
   "source": [
    "from arcgis.gis import GIS\n",
    "gis = GIS(\"pro\")"
   ]
  },
  {
   "cell_type": "markdown",
   "metadata": {},
   "source": [
    "## Provide password interactively <a id='provide-password'></a>"
   ]
  },
  {
   "cell_type": "markdown",
   "metadata": {},
   "source": [
    "If you are working interactively with the notebook, the code below will prompt you to type your password."
   ]
  },
  {
   "cell_type": "code",
   "execution_count": null,
   "metadata": {},
   "outputs": [],
   "source": [
    "from arcgis.gis import GIS\n",
    "gis = GIS(url=\"https://arcgis.com\", username=\"t.ormsby\")"
   ]
  },
  {
   "cell_type": "markdown",
   "metadata": {},
   "source": [
    "## Store credentials locally <a id='store-credentials'></a>"
   ]
  },
  {
   "cell_type": "markdown",
   "metadata": {},
   "source": [
    "You can keep your credentials on your local machine and reference them from your code, instead of providing the credentials directly. To store you credentials, you will first need to create a profile\n",
    "\n",
    "The code below creates a profile for a given username. Note that this requires you to type your username and password in plain text. Make sure you do not save the code you used to generate the profile.\n",
    "\n"
   ]
  },
  {
   "cell_type": "code",
   "execution_count": null,
   "metadata": {},
   "outputs": [],
   "source": [
    "from arcgis.gis import GIS\n",
    "gis = GIS(\n",
    "    url=\"https://arcgis.com\", \n",
    "    username=\"t.ormsby\", \n",
    "    password=\"never_store_real_passwords_in_code\", \n",
    "    profile=\"ormsby_agol\"\n",
    ")"
   ]
  },
  {
   "cell_type": "markdown",
   "metadata": {},
   "source": [
    "Profile generation is a one-time event. Once you have generated the profile, you can use it to connect to your portal. Because the profile is stored locally, you will not be able to use this code to connect to the portal from a different machine\n",
    "\n",
    "The code below connects to ArcGIS Online with a given named profile."
   ]
  },
  {
   "cell_type": "code",
   "execution_count": 1,
   "metadata": {},
   "outputs": [],
   "source": [
    "from arcgis.gis import GIS\n",
    "gis = GIS(profile=\"ormsby_agol\")"
   ]
  },
  {
   "cell_type": "markdown",
   "metadata": {},
   "source": [
    "## Multiple connections"
   ]
  },
  {
   "cell_type": "markdown",
   "metadata": {},
   "source": [
    "You can create multiple connections by creating different `GIS` objects and assigning them different names. Multiple connections are useful for transferring content or managing collaborations between portals.\n",
    "\n",
    "The code below creates two connection objects to ArcGIS Online with two different users."
   ]
  },
  {
   "cell_type": "code",
   "execution_count": 3,
   "metadata": {},
   "outputs": [],
   "source": [
    "from arcgis.gis import GIS\n",
    "gis1 = GIS(profile=\"ormsby_agol\")\n",
    "gis2 = GIS(url=\"https://arcgis.com\", username=\"ormsby_guest1\")"
   ]
  },
  {
   "cell_type": "markdown",
   "metadata": {},
   "source": [
    "## Other connection methods <a id='other-connection'></a>\n"
   ]
  },
  {
   "cell_type": "markdown",
   "metadata": {},
   "source": [
    "There are other methods than the three above, but they are harder to use. If you need the capabilities provided by access tokens, PKI, LDAP, or OAuth, you can read more about it in the [Esri documentation for working with different authentication schemes](https://developers.arcgis.com/python/guide/working-with-different-authentication-schemes/)."
   ]
  }
 ],
 "metadata": {
  "kernelspec": {
   "display_name": "agol_admin-rkaODuKR",
   "language": "python",
   "name": "python3"
  },
  "language_info": {
   "codemirror_mode": {
    "name": "ipython",
    "version": 3
   },
   "file_extension": ".py",
   "mimetype": "text/x-python",
   "name": "python",
   "nbconvert_exporter": "python",
   "pygments_lexer": "ipython3",
   "version": "3.10.12"
  }
 },
 "nbformat": 4,
 "nbformat_minor": 2
}
