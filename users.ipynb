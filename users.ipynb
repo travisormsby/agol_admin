{
 "cells": [
  {
   "cell_type": "markdown",
   "metadata": {},
   "source": [
    "# Users"
   ]
  },
  {
   "cell_type": "markdown",
   "metadata": {},
   "source": [
    "This notebook contains examples of using the ArcGIS API for Python to manage users in an ArcGIS Online portal. It assumes you are relatively familiar with Python generally, and with performing ArcGIS Online organization administration tasks through the portal web app. It does not assume any familiarity with the specifics of how to use the Python API to automate those administrative tasks."
   ]
  },
  {
   "cell_type": "markdown",
   "metadata": {},
   "source": [
    "## Table of Contents\n",
    "\n",
    "* [Notebook Environment](#notebook-environment)\n",
    "* [Create `User` objects](#create-user-objects)\n",
    "    * [List all users in an organization](#list-users)\n",
    "    * [Search for users](#search-users)\n",
    "    * [Get a specific user](#get-user)\n",
    "    * [Get the user associated with a portal connection](#get-the-user-associated-with-a-portal-connection)\n",
    "* [Get information about a user](#get-info)\n",
    "    * [Display user information](#display-info)\n",
    "    * [Access user properties](#access-properties)\n",
    "    * [Find items owned by a user](#find-items)\n",
    "* [Manage users](#manage)\n",
    "    * [Create a single user](#create-single)\n",
    "    * [Create multiple users](#create-multiple)\n",
    "    * [Update a user's information](#update)\n",
    "    * [Reset a user's password](#reset)\n",
    "    * [Update a user's license type](#update-license)\n",
    "    * [Update a user's role](#update-role)\n",
    "    * [Allocate credits to a user](#allocate)\n",
    "    * [Reassign a user's content](#reassign)\n",
    "    * [Delete a single user](#delete-single)\n",
    "    * [Delete multiple users](#delete-multiple)\n",
    "\n",
    "\n"
   ]
  },
  {
   "cell_type": "markdown",
   "metadata": {},
   "source": [
    "## Notebook Environment"
   ]
  },
  {
   "cell_type": "markdown",
   "metadata": {},
   "source": [
    "The code in this notebook is specific to version 2.2 of the Python API. All API references in this notebook are from the [arcgis.gis](https://developers.arcgis.com/python/api-reference/arcgis.gis.toc.html) module: [CreditManager](https://developers.arcgis.com/python/api-reference/arcgis.gis.admin.html#creditmanager), [ContentManager](https://developers.arcgis.com/python/api-reference/arcgis.gis.toc.html#contentmanager), [GIS](https://developers.arcgis.com/python/api-reference/arcgis.gis.toc.html#gis), [User](https://developers.arcgis.com/python/api-reference/arcgis.gis.toc.html#user), and [UserManager](https://developers.arcgis.com/python/api-reference/arcgis.gis.toc.html#usermanager)\n",
    "\n",
    "The code below imports the relevant portions of the `arcgis` package, confirms you are using the correct version, and creates a `GIS` object called `gis` that connects you to your ArcGIS Online portal. The variables in this cell are required for subsequent cells to work, but the cells in this notebook are otherwise independent of each other. \n",
    "\n",
    "You will need to alter the code creating the `GIS` object to make a connection to your portal. Various methods of creating this object are covered in the [Portal connection notebook](https://github.com/travisormsby/agol_admin/blob/main/portal_connection.ipynb). Usernames and specific content details (such as item id) used in this notebook are also specific to my organization. You will need to change them to something appropriate for your organization."
   ]
  },
  {
   "cell_type": "code",
   "execution_count": 1,
   "metadata": {},
   "outputs": [],
   "source": [
    "import arcgis\n",
    "from arcgis.gis import GIS\n",
    "\n",
    "assert arcgis.__version__.startswith(\"2.2.\")\n",
    "gis = GIS(profile=\"agol\") # Change to make a connection to your portal"
   ]
  },
  {
   "cell_type": "markdown",
   "metadata": {},
   "source": [
    "## Create `User` objects <a id='create-user-objects'></a>"
   ]
  },
  {
   "cell_type": "markdown",
   "metadata": {},
   "source": [
    "In order to manage users, you will need to represent them as some data structure that Python can manipulate. An instance of the [`UserManager` class](https://developers.arcgis.com/python/api-reference/arcgis.gis.toc.html#usermanager) can create these `User` objects. This instance is available as the `users` property of a [`GIS` object](https://developers.arcgis.com/python/api-reference/arcgis.gis.toc.html#gis)"
   ]
  },
  {
   "cell_type": "markdown",
   "metadata": {},
   "source": [
    "### List all users in an organization <a id='list-users'></a>"
   ]
  },
  {
   "cell_type": "markdown",
   "metadata": {},
   "source": [
    "The [`org_search` method of the UserManager object](https://developers.arcgis.com/python/api-reference/arcgis.gis.toc.html#arcgis.gis.UserManager.org_search) will generate a tuple of `User` objects. By default, it will return all users in your organization. <a id='org_search'></a>"
   ]
  },
  {
   "cell_type": "code",
   "execution_count": 246,
   "metadata": {},
   "outputs": [
    {
     "name": "stdout",
     "output_type": "stream",
     "text": [
      "<User username:ormsby_guest1>\n",
      "<User username:t.ormsby>\n",
      "<User username:ormsby_guest2>\n"
     ]
    }
   ],
   "source": [
    "all_users = gis.users.org_search()\n",
    "for user in all_users:\n",
    "    print(user)"
   ]
  },
  {
   "cell_type": "markdown",
   "metadata": {},
   "source": [
    "### Search for users <a id='search-users'></a>"
   ]
  },
  {
   "cell_type": "markdown",
   "metadata": {},
   "source": [
    "You can also use `org_search` to find users in your organization that match a query and sort the `User` objects returned."
   ]
  },
  {
   "cell_type": "code",
   "execution_count": 247,
   "metadata": {},
   "outputs": [
    {
     "name": "stdout",
     "output_type": "stream",
     "text": [
      "<User username:ormsby_guest2>\n",
      "<User username:ormsby_guest1>\n"
     ]
    }
   ],
   "source": [
    "some_users = gis.users.org_search(query=\"ormsby_guest\", sort_field=\"username\", sort_order=\"desc\")\n",
    "for user in some_users:\n",
    "    print(user)"
   ]
  },
  {
   "cell_type": "markdown",
   "metadata": {},
   "source": [
    "In addition to `org_search`, you can use the [`search`](https://developers.arcgis.com/python/api-reference/arcgis.gis.toc.html#arcgis.gis.UserManager.search) and [`advanced_search`](https://developers.arcgis.com/python/api-reference/arcgis.gis.toc.html#arcgis.gis.UserManager.advanced_search) methods to search for users. These methods can search across ArcGIS Online.<a id='search'></a>"
   ]
  },
  {
   "cell_type": "markdown",
   "metadata": {},
   "source": [
    "### Get a specific user <a id='get-user'></a>"
   ]
  },
  {
   "cell_type": "markdown",
   "metadata": {},
   "source": [
    "The [`get` method of the UserManager object](https://developers.arcgis.com/python/api-reference/arcgis.gis.toc.html#arcgis.gis.UserManager.get)  will return a single `User` object that matches the provided username. The `get` method is not limited to a specific organization and can return any ArcGIS Online user. <a id='get'></a>"
   ]
  },
  {
   "cell_type": "code",
   "execution_count": 248,
   "metadata": {},
   "outputs": [
    {
     "name": "stdout",
     "output_type": "stream",
     "text": [
      "<User username:ormsby_guest1>\n"
     ]
    }
   ],
   "source": [
    "one_user = gis.users.get(username=\"ormsby_guest1\")\n",
    "print(one_user)"
   ]
  },
  {
   "cell_type": "markdown",
   "metadata": {},
   "source": [
    "### Get the user associated with a portal connection"
   ]
  },
  {
   "cell_type": "markdown",
   "metadata": {},
   "source": [
    "Because it is possible to make many portal connections, each as a different user, it can be helpful to know what user is associated with a particular connection. The code below uses the [`me` property of the the `UserManager` object](https://developers.arcgis.com/python/api-reference/arcgis.gis.toc.html#arcgis.gis.UserManager.me) to retrieve this `User` object."
   ]
  },
  {
   "cell_type": "code",
   "execution_count": 264,
   "metadata": {},
   "outputs": [
    {
     "name": "stdout",
     "output_type": "stream",
     "text": [
      "<User username:t.ormsby>\n"
     ]
    }
   ],
   "source": [
    "current_user = gis.users.me\n",
    "print(current_user)"
   ]
  },
  {
   "cell_type": "markdown",
   "metadata": {},
   "source": [
    "## Get information about a user <a id='get-info'></a>"
   ]
  },
  {
   "cell_type": "markdown",
   "metadata": {},
   "source": [
    "Once you have a `User` object, you can access information about that user. "
   ]
  },
  {
   "cell_type": "markdown",
   "metadata": {},
   "source": [
    "### Display user information <a id='display-info'></a>"
   ]
  },
  {
   "cell_type": "markdown",
   "metadata": {},
   "source": [
    "The code below uses the Jupyter Notebook `display` function to show a card for a user, including a link to their profile page."
   ]
  },
  {
   "cell_type": "code",
   "execution_count": 249,
   "metadata": {},
   "outputs": [
    {
     "data": {
      "text/html": [
       "<div class=\"9item_container\" style=\"height: auto; overflow: hidden; border: 1px solid #cfcfcf; border-radius: 2px; background: #f6fafa; line-height: 1.21429em; padding: 10px;\">\n",
       "                    <div class=\"item_left\" style=\"width: 210px; float: left;\">\n",
       "                       <a href='https://ormsby.maps.arcgis.com/home/user.html?user=ormsby_guest1' target='_blank'>\n",
       "                        <img src='https://ormsby.maps.arcgis.com/home/js/arcgisonline/css/images/no-user-thumb.jpg' class=\"itemThumbnail\">\n",
       "                       </a>\n",
       "                    </div>\n",
       "\n",
       "                    <div class=\"item_right\" style=\"float: none; width: auto; overflow: hidden;\">\n",
       "                        <a href='https://ormsby.maps.arcgis.com/home/user.html?user=ormsby_guest1' target='_blank'><b>Ormsby Guest1</b>\n",
       "                        </a>\n",
       "                        <br/><br/><b>Bio</b>: None\n",
       "                        <br/><b>First Name</b>: Ormsby\n",
       "                        <br/><b>Last Name</b>: Guest1\n",
       "                        <br/><b>Username</b>: ormsby_guest1\n",
       "                        <br/><b>Joined</b>: October 22, 2023\n",
       "\n",
       "                    </div>\n",
       "                </div>\n",
       "                "
      ],
      "text/plain": [
       "<User username:ormsby_guest1>"
      ]
     },
     "metadata": {},
     "output_type": "display_data"
    }
   ],
   "source": [
    "user = gis.users.get(\"ormsby_guest1\")\n",
    "display(user)"
   ]
  },
  {
   "cell_type": "markdown",
   "metadata": {},
   "source": [
    "### Access user properties <a id='access-properties'></a>"
   ]
  },
  {
   "cell_type": "markdown",
   "metadata": {},
   "source": [
    "You can also access specific properties of a `User` object. The code below prints some example information you can access. The [API Reference for the `User` object](https://developers.arcgis.com/python/api-reference/arcgis.gis.toc.html#user) has the complete list. <a id='properties'></a>"
   ]
  },
  {
   "cell_type": "code",
   "execution_count": 250,
   "metadata": {},
   "outputs": [
    {
     "name": "stdout",
     "output_type": "stream",
     "text": [
      "Ormsby Guest1\n",
      "10.0\n",
      "org_publisher\n",
      "[]\n"
     ]
    }
   ],
   "source": [
    "user = gis.users.get(\"ormsby_guest1\")\n",
    "print(user.fullName)\n",
    "print(user.availableCredits)\n",
    "print(user.role)\n",
    "print(user.groups)"
   ]
  },
  {
   "cell_type": "markdown",
   "metadata": {},
   "source": [
    "Most objects in Python have a `__dict__` property that shows all the object's properties. The code below leverages the `__dict__` property to represent the `User` object as a Python dictionary."
   ]
  },
  {
   "cell_type": "code",
   "execution_count": 251,
   "metadata": {},
   "outputs": [
    {
     "data": {
      "text/plain": [
       "{'_gis': GIS @ https://ormsby.maps.arcgis.com version:2023.3,\n",
       " '_portal': <arcgis.gis._impl._portalpy.Portal at 0x7fda1dfc06a0>,\n",
       " '_user_id': 'ormsby_guest1',\n",
       " 'thumbnail': None,\n",
       " '_workdir': '/tmp',\n",
       " '_invitemgr': None,\n",
       " '_hydrated': False,\n",
       " 'username': 'ormsby_guest1',\n",
       " 'udn': None,\n",
       " 'id': '6626b8616d794725978b22fafdbdcc44',\n",
       " 'fullName': 'Ormsby Guest1',\n",
       " 'availableCredits': 10.0,\n",
       " 'assignedCredits': 10.0,\n",
       " 'categories': [],\n",
       " 'emailStatus': 'notverified',\n",
       " 'firstName': 'Ormsby',\n",
       " 'lastName': 'Guest1',\n",
       " 'preferredView': None,\n",
       " 'description': None,\n",
       " 'email': 't.ormsby@esri.com',\n",
       " 'userType': 'arcgisonly',\n",
       " 'idpUsername': None,\n",
       " 'favGroupId': 'cfb0adf777ca48a383ae610543ab9356',\n",
       " 'lastLogin': 1698009281000,\n",
       " 'mfaEnabled': False,\n",
       " 'mfaEnforcementExempt': False,\n",
       " 'storageUsage': 445780599,\n",
       " 'storageQuota': 2199023255552,\n",
       " 'orgId': 'jgEF2qh8RkmonUq2',\n",
       " 'role': 'org_publisher',\n",
       " 'privileges': ['features:user:edit',\n",
       "  'portal:publisher:bulkPublishFromDataStores',\n",
       "  'portal:publisher:createDataPipelines',\n",
       "  'portal:publisher:publishDynamicImagery',\n",
       "  'portal:publisher:publishFeatures',\n",
       "  'portal:publisher:publishKnowledgeGraph',\n",
       "  'portal:publisher:publishLivestreamVideo',\n",
       "  'portal:publisher:publishScenes',\n",
       "  'portal:publisher:publishServerServices',\n",
       "  'portal:publisher:publishTiledImagery',\n",
       "  'portal:publisher:publishTiles',\n",
       "  'portal:publisher:publishVideo',\n",
       "  'portal:publisher:registerDataStores',\n",
       "  'portal:user:addExternalMembersToGroup',\n",
       "  'portal:user:categorizeItems',\n",
       "  'portal:user:createGroup',\n",
       "  'portal:user:createItem',\n",
       "  'portal:user:joinGroup',\n",
       "  'portal:user:joinNonOrgGroup',\n",
       "  'portal:user:shareGroupToOrg',\n",
       "  'portal:user:shareGroupToPublic',\n",
       "  'portal:user:shareToGroup',\n",
       "  'portal:user:shareToOrg',\n",
       "  'portal:user:shareToPublic',\n",
       "  'portal:user:viewHostedFeatureServices',\n",
       "  'portal:user:viewHostedTileServices',\n",
       "  'portal:user:viewOrgGroups',\n",
       "  'portal:user:viewOrgItems',\n",
       "  'portal:user:viewOrgUsers',\n",
       "  'premium:publisher:geoanalytics',\n",
       "  'premium:publisher:rasteranalysis',\n",
       "  'premium:user:basemaps',\n",
       "  'premium:user:demographics',\n",
       "  'premium:user:elevation',\n",
       "  'premium:user:featurereport',\n",
       "  'premium:user:geocode',\n",
       "  'premium:user:geocode:stored',\n",
       "  'premium:user:geocode:temporary',\n",
       "  'premium:user:geoenrichment',\n",
       "  'premium:user:networkanalysis',\n",
       "  'premium:user:networkanalysis:closestfacility',\n",
       "  'premium:user:networkanalysis:locationallocation',\n",
       "  'premium:user:networkanalysis:optimizedrouting',\n",
       "  'premium:user:networkanalysis:origindestinationcostmatrix',\n",
       "  'premium:user:networkanalysis:routing',\n",
       "  'premium:user:networkanalysis:servicearea',\n",
       "  'premium:user:networkanalysis:vehiclerouting',\n",
       "  'premium:user:places',\n",
       "  'premium:user:spatialanalysis'],\n",
       " 'level': '2',\n",
       " 'userLicenseTypeId': 'creatorUT',\n",
       " 'disabled': False,\n",
       " 'tags': [],\n",
       " 'culture': 'en-US',\n",
       " 'cultureFormat': 'us',\n",
       " 'region': 'WO',\n",
       " 'units': None,\n",
       " 'access': 'org',\n",
       " 'created': 1697980853000,\n",
       " 'modified': 1698009262000,\n",
       " 'provider': 'arcgis',\n",
       " 'roleId': 'org_publisher'}"
      ]
     },
     "execution_count": 251,
     "metadata": {},
     "output_type": "execute_result"
    }
   ],
   "source": [
    "user = gis.users.get(\"ormsby_guest1\")\n",
    "user.__dict__"
   ]
  },
  {
   "cell_type": "markdown",
   "metadata": {},
   "source": [
    "### Find items owned by a user <a id='find-items'></a>\n"
   ]
  },
  {
   "cell_type": "markdown",
   "metadata": {},
   "source": [
    "<a id='item_search'></a> There is an [`items` method of a `User` object](https://developers.arcgis.com/python/api-reference/arcgis.gis.toc.html#arcgis.gis.User.items) but it can only be used to check items in a specified folder. \n",
    "\n",
    "For that reason, the code below uses the [`search` method of the `ContentManager` object](https://developers.arcgis.com/python/api-reference/arcgis.gis.toc.html#arcgis.gis.ContentManager.search) to generate a list of `Item` objects owned by a given username."
   ]
  },
  {
   "cell_type": "code",
   "execution_count": 252,
   "metadata": {},
   "outputs": [
    {
     "data": {
      "text/plain": [
       "[<Item title:\"ExampleMap3\" type:Web Map owner:ormsby_guest1>,\n",
       " <Item title:\"ExampleMap2\" type:Web Map owner:ormsby_guest1>,\n",
       " <Item title:\"ExampleMap1\" type:Web Map owner:ormsby_guest1>]"
      ]
     },
     "execution_count": 252,
     "metadata": {},
     "output_type": "execute_result"
    }
   ],
   "source": [
    "gis.content.search(query=\"owner:ormsby_guest1\", max_items=20)"
   ]
  },
  {
   "cell_type": "markdown",
   "metadata": {},
   "source": [
    "## Manage users <a id='manage'></a>"
   ]
  },
  {
   "cell_type": "markdown",
   "metadata": {},
   "source": [
    "With a `User` object, you can programatically manage a user. The following examples give a good idea of the types of things you can do with users, but are not comprehensive. The API Reference for the [User](https://developers.arcgis.com/python/api-reference/arcgis.gis.toc.html#user) and [UserManager](https://developers.arcgis.com/python/api-reference/arcgis.gis.toc.html#user) classes provides additional details."
   ]
  },
  {
   "cell_type": "markdown",
   "metadata": {},
   "source": [
    "### Create a single user"
   ]
  },
  {
   "cell_type": "markdown",
   "metadata": {},
   "source": [
    "<a id='create-single'></a>The code below uses the the [`create` method of the `UserManager` object](https://developers.arcgis.com/python/api-reference/arcgis.gis.toc.html#arcgis.gis.UserManager.create) to make a new Viewer account in the built-in identity store. Specifying a password of `None` requires the user to set their password when they first attempt to log in to the portal.\n",
    "\n",
    "Note that ArcGIS Online usernames that use the built-in identity store must be globally unique across all ArcGIS Online users. "
   ]
  },
  {
   "cell_type": "code",
   "execution_count": 253,
   "metadata": {},
   "outputs": [
    {
     "data": {
      "text/html": [
       "<div class=\"9item_container\" style=\"height: auto; overflow: hidden; border: 1px solid #cfcfcf; border-radius: 2px; background: #f6fafa; line-height: 1.21429em; padding: 10px;\">\n",
       "                    <div class=\"item_left\" style=\"width: 210px; float: left;\">\n",
       "                       <a href='https://ormsby.maps.arcgis.com/home/user.html?user=fabb44dc' target='_blank'>\n",
       "                        <img src='https://ormsby.maps.arcgis.com/home/js/arcgisonline/css/images/no-user-thumb.jpg' class=\"itemThumbnail\">\n",
       "                       </a>\n",
       "                    </div>\n",
       "\n",
       "                    <div class=\"item_right\" style=\"float: none; width: auto; overflow: hidden;\">\n",
       "                        <a href='https://ormsby.maps.arcgis.com/home/user.html?user=fabb44dc' target='_blank'><b>Test User1</b>\n",
       "                        </a>\n",
       "                        <br/><br/><b>Bio</b>: None\n",
       "                        <br/><b>First Name</b>: Test\n",
       "                        <br/><b>Last Name</b>: User1\n",
       "                        <br/><b>Username</b>: fabb44dc\n",
       "                        <br/><b>Joined</b>: October 28, 2023\n",
       "\n",
       "                    </div>\n",
       "                </div>\n",
       "                "
      ],
      "text/plain": [
       "<User username:fabb44dc>"
      ]
     },
     "metadata": {},
     "output_type": "display_data"
    }
   ],
   "source": [
    "new_user = gis.users.create(\n",
    "        username=\"fabb44dc\",\n",
    "        password=None,\n",
    "        firstname=\"Test\",\n",
    "        lastname=\"User1\",\n",
    "        email=\"testuser1@example.com\",\n",
    "        role=\"iAAAAAAAAAAAAAAA\", # Viewer role id\n",
    "        user_type=\"viewerUT\",\n",
    "        credits=0\n",
    "    )\n",
    "display(new_user)"
   ]
  },
  {
   "cell_type": "markdown",
   "metadata": {},
   "source": [
    "### Create multiple users <a id='create'></a>"
   ]
  },
  {
   "cell_type": "markdown",
   "metadata": {},
   "source": [
    "<a id='create-multiple'></a>Because the `create` method only creates a single user, you will need to use a loop to create multiple users at a time. The code below uses a list of dictionaries of user values to create two new accounts. In this case, the collection of user values is hard coded as a dictionary, but you might read those data from a file instead."
   ]
  },
  {
   "cell_type": "code",
   "execution_count": 254,
   "metadata": {},
   "outputs": [
    {
     "data": {
      "text/html": [
       "<div class=\"9item_container\" style=\"height: auto; overflow: hidden; border: 1px solid #cfcfcf; border-radius: 2px; background: #f6fafa; line-height: 1.21429em; padding: 10px;\">\n",
       "                    <div class=\"item_left\" style=\"width: 210px; float: left;\">\n",
       "                       <a href='https://ormsby.maps.arcgis.com/home/user.html?user=cedd2845' target='_blank'>\n",
       "                        <img src='https://ormsby.maps.arcgis.com/home/js/arcgisonline/css/images/no-user-thumb.jpg' class=\"itemThumbnail\">\n",
       "                       </a>\n",
       "                    </div>\n",
       "\n",
       "                    <div class=\"item_right\" style=\"float: none; width: auto; overflow: hidden;\">\n",
       "                        <a href='https://ormsby.maps.arcgis.com/home/user.html?user=cedd2845' target='_blank'><b>Test User2</b>\n",
       "                        </a>\n",
       "                        <br/><br/><b>Bio</b>: None\n",
       "                        <br/><b>First Name</b>: Test\n",
       "                        <br/><b>Last Name</b>: User2\n",
       "                        <br/><b>Username</b>: cedd2845\n",
       "                        <br/><b>Joined</b>: October 28, 2023\n",
       "\n",
       "                    </div>\n",
       "                </div>\n",
       "                "
      ],
      "text/plain": [
       "<User username:cedd2845>"
      ]
     },
     "metadata": {},
     "output_type": "display_data"
    },
    {
     "data": {
      "text/html": [
       "<div class=\"9item_container\" style=\"height: auto; overflow: hidden; border: 1px solid #cfcfcf; border-radius: 2px; background: #f6fafa; line-height: 1.21429em; padding: 10px;\">\n",
       "                    <div class=\"item_left\" style=\"width: 210px; float: left;\">\n",
       "                       <a href='https://ormsby.maps.arcgis.com/home/user.html?user=e23fb959' target='_blank'>\n",
       "                        <img src='https://ormsby.maps.arcgis.com/home/js/arcgisonline/css/images/no-user-thumb.jpg' class=\"itemThumbnail\">\n",
       "                       </a>\n",
       "                    </div>\n",
       "\n",
       "                    <div class=\"item_right\" style=\"float: none; width: auto; overflow: hidden;\">\n",
       "                        <a href='https://ormsby.maps.arcgis.com/home/user.html?user=e23fb959' target='_blank'><b>Test User3</b>\n",
       "                        </a>\n",
       "                        <br/><br/><b>Bio</b>: None\n",
       "                        <br/><b>First Name</b>: Test\n",
       "                        <br/><b>Last Name</b>: User3\n",
       "                        <br/><b>Username</b>: e23fb959\n",
       "                        <br/><b>Joined</b>: October 28, 2023\n",
       "\n",
       "                    </div>\n",
       "                </div>\n",
       "                "
      ],
      "text/plain": [
       "<User username:e23fb959>"
      ]
     },
     "metadata": {},
     "output_type": "display_data"
    }
   ],
   "source": [
    "user_data = [\n",
    "    {\"uname\": \"cedd2845\", \"fname\": \"Test\", \"lname\": \"User2\", \"email\": \"testuser2@example.com\"},\n",
    "    {\"uname\": \"e23fb959\", \"fname\": \"Test\", \"lname\": \"User3\", \"email\": \"testuser3@example.com\"}\n",
    "]\n",
    "\n",
    "for user in user_data:\n",
    "    new_user = gis.users.create(\n",
    "        username=user[\"uname\"],\n",
    "        password=None,\n",
    "        firstname=user[\"fname\"],\n",
    "        lastname=user[\"lname\"],\n",
    "        email=user[\"email\"],\n",
    "        role=\"iAAAAAAAAAAAAAAA\",\n",
    "        user_type=\"viewerUT\",\n",
    "        credits=0\n",
    "    )\n",
    "    display(new_user)"
   ]
  },
  {
   "cell_type": "markdown",
   "metadata": {},
   "source": [
    "### Update a user's information <a id='update'></a>"
   ]
  },
  {
   "cell_type": "markdown",
   "metadata": {},
   "source": [
    "The code below updates a user's name, email, and description, using the [`update` method of the `User` object](https://developers.arcgis.com/python/api-reference/arcgis.gis.toc.html#arcgis.gis.User.update). The documentation has a comprehensive list of properties that can be changed with this method. <a id='update'></a>"
   ]
  },
  {
   "cell_type": "code",
   "execution_count": 255,
   "metadata": {},
   "outputs": [
    {
     "data": {
      "text/html": [
       "<div class=\"9item_container\" style=\"height: auto; overflow: hidden; border: 1px solid #cfcfcf; border-radius: 2px; background: #f6fafa; line-height: 1.21429em; padding: 10px;\">\n",
       "                    <div class=\"item_left\" style=\"width: 210px; float: left;\">\n",
       "                       <a href='https://ormsby.maps.arcgis.com/home/user.html?user=fabb44dc' target='_blank'>\n",
       "                        <img src='https://ormsby.maps.arcgis.com/home/js/arcgisonline/css/images/no-user-thumb.jpg' class=\"itemThumbnail\">\n",
       "                       </a>\n",
       "                    </div>\n",
       "\n",
       "                    <div class=\"item_right\" style=\"float: none; width: auto; overflow: hidden;\">\n",
       "                        <a href='https://ormsby.maps.arcgis.com/home/user.html?user=fabb44dc' target='_blank'><b>New First Name New Last Name</b>\n",
       "                        </a>\n",
       "                        <br/><br/><b>Bio</b>: I feel like a brand new person\n",
       "                        <br/><b>First Name</b>: New First Name\n",
       "                        <br/><b>Last Name</b>: New Last Name\n",
       "                        <br/><b>Username</b>: fabb44dc\n",
       "                        <br/><b>Joined</b>: October 28, 2023\n",
       "\n",
       "                    </div>\n",
       "                </div>\n",
       "                "
      ],
      "text/plain": [
       "<User username:fabb44dc>"
      ]
     },
     "metadata": {},
     "output_type": "display_data"
    }
   ],
   "source": [
    "user = gis.users.get(\"fabb44dc\")\n",
    "user.update(\n",
    "    first_name=\"New First Name\",\n",
    "    last_name=\"New Last Name\",\n",
    "    email=\"newname@example.com\",\n",
    "    description=\"I feel like a brand new person\"   \n",
    ")\n",
    "display(user)\n"
   ]
  },
  {
   "cell_type": "markdown",
   "metadata": {},
   "source": [
    "### Reset a user's password <a id='reset'></a>"
   ]
  },
  {
   "cell_type": "markdown",
   "metadata": {},
   "source": [
    "Accounts that use IT-managed identity stores like Active Directory or SAML cannot be managed with the ArcGIS API for Python. But an account that uses the built-in identity store can be. The code below uses the [`reset` method of a `User` object](https://developers.arcgis.com/python/api-reference/arcgis.gis.toc.html#arcgis.gis.User.reset) to send a user an email with a temporary password and instructions to reset it the next time they log in."
   ]
  },
  {
   "cell_type": "code",
   "execution_count": 256,
   "metadata": {},
   "outputs": [
    {
     "data": {
      "text/plain": [
       "True"
      ]
     },
     "execution_count": 256,
     "metadata": {},
     "output_type": "execute_result"
    }
   ],
   "source": [
    "user = gis.users.get(\"fabb44dc\")\n",
    "user.reset(password=None, reset_by_email=True)"
   ]
  },
  {
   "cell_type": "markdown",
   "metadata": {},
   "source": [
    "### Update a user's license type <a id='update-license'></a>"
   ]
  },
  {
   "cell_type": "markdown",
   "metadata": {},
   "source": [
    "A user's license type governs what types of roles and privileges they can be granted. In this example, the user has a Viewer license type. The code below changes that to a Creator license type using the [`update_license_type` method of a `User` object](https://developers.arcgis.com/python/api-reference/arcgis.gis.toc.html#arcgis.gis.User.update_license_type)."
   ]
  },
  {
   "cell_type": "code",
   "execution_count": 257,
   "metadata": {},
   "outputs": [
    {
     "data": {
      "text/plain": [
       "True"
      ]
     },
     "execution_count": 257,
     "metadata": {},
     "output_type": "execute_result"
    }
   ],
   "source": [
    "user = gis.users.get(\"fabb44dc\")\n",
    "user.update_license_type(\"CreatorUT\")"
   ]
  },
  {
   "cell_type": "markdown",
   "metadata": {},
   "source": [
    "### Update a user's role <a id='update-role'></a>"
   ]
  },
  {
   "cell_type": "markdown",
   "metadata": {},
   "source": [
    "A user's role governs the privileges they have in the portal, and must be compatible with their license type. In this example, the user has a Viewer role. The code below changes that to a Publisher role using the [`update_role` method of the `User` object](https://developers.arcgis.com/python/api-reference/arcgis.gis.toc.html#arcgis.gis.User.update_role)"
   ]
  },
  {
   "cell_type": "code",
   "execution_count": 258,
   "metadata": {},
   "outputs": [
    {
     "data": {
      "text/plain": [
       "True"
      ]
     },
     "execution_count": 258,
     "metadata": {},
     "output_type": "execute_result"
    }
   ],
   "source": [
    "user = gis.users.get(\"fabb44dc\")\n",
    "user.update_role(\"org_publisher\")"
   ]
  },
  {
   "cell_type": "markdown",
   "metadata": {},
   "source": [
    "### Allocate credits to a user <a id='allocate'></a>"
   ]
  },
  {
   "cell_type": "markdown",
   "metadata": {},
   "source": [
    "The code below uses the [`allocate` method of the `CreditManager` class in the admin submodule](https://developers.arcgis.com/python/api-reference/arcgis.gis.admin.html#arcgis.gis.admin.CreditManager.allocate) to allocate credits to a user based on their username."
   ]
  },
  {
   "cell_type": "code",
   "execution_count": 259,
   "metadata": {},
   "outputs": [
    {
     "data": {
      "text/plain": [
       "True"
      ]
     },
     "execution_count": 259,
     "metadata": {},
     "output_type": "execute_result"
    }
   ],
   "source": [
    "gis.admin.credits.allocate(username=\"fabb44dc\", credits=10)"
   ]
  },
  {
   "cell_type": "markdown",
   "metadata": {},
   "source": [
    "### Reassign a user's content <a id='reassign'></a>"
   ]
  },
  {
   "cell_type": "markdown",
   "metadata": {},
   "source": [
    "The code below reassigns all of a user's items and groups to a different user with the [`reassign_to` method of a `User` object](https://developers.arcgis.com/python/api-reference/arcgis.gis.toc.html#arcgis.gis.User.reassign_to). This operation can only be performed by an administrator, occurs immediately, and cannot be undone.\n",
    "\n",
    "This operation recreates the original folder structure of items in the new owner's content."
   ]
  },
  {
   "cell_type": "code",
   "execution_count": 260,
   "metadata": {},
   "outputs": [
    {
     "data": {
      "text/plain": [
       "True"
      ]
     },
     "execution_count": 260,
     "metadata": {},
     "output_type": "execute_result"
    }
   ],
   "source": [
    "user1 = gis.users.get(\"ormsby_guest1\")\n",
    "user2 = gis.users.get(\"fabb44dc\")\n",
    "user1.reassign_to(target_username=user2)"
   ]
  },
  {
   "cell_type": "markdown",
   "metadata": {},
   "source": [
    "The code below uses the [`transfer_content` method of a `User` object](https://developers.arcgis.com/python/api-reference/arcgis.gis.toc.html#arcgis.gis.User.transfer_content) to transfer the content of a folder to another user. This asyncronous operation may take up to 15 minutes to complete. <a id='transfer_content'></a>\n",
    "\n",
    "This operation transfers all items to a single folder in the new owner's content, regardless of the original folder structure."
   ]
  },
  {
   "cell_type": "code",
   "execution_count": 261,
   "metadata": {},
   "outputs": [
    {
     "data": {
      "text/plain": [
       "<Future at 0x7fda1dfd1a80 state=finished returned dict>"
      ]
     },
     "execution_count": 261,
     "metadata": {},
     "output_type": "execute_result"
    }
   ],
   "source": [
    "user1 = gis.users.get(\"ormsby_guest1\")\n",
    "user2 = gis.users.get(\"fabb44dc\")\n",
    "user2.transfer_content(target_user=user1)"
   ]
  },
  {
   "cell_type": "markdown",
   "metadata": {},
   "source": [
    "### Delete a single user <a id='delete-single'></a>"
   ]
  },
  {
   "cell_type": "markdown",
   "metadata": {},
   "source": [
    "The code below uses the [`delete` method of a `User` object](https://developers.arcgis.com/python/api-reference/arcgis.gis.toc.html#arcgis.gis.User.delete) to delete that user. Users that own content or groups will need to have them reassigned to another user."
   ]
  },
  {
   "cell_type": "code",
   "execution_count": 262,
   "metadata": {},
   "outputs": [
    {
     "data": {
      "text/plain": [
       "True"
      ]
     },
     "execution_count": 262,
     "metadata": {},
     "output_type": "execute_result"
    }
   ],
   "source": [
    "user = gis.users.get(\"fabb44dc\")\n",
    "user.delete()"
   ]
  },
  {
   "cell_type": "markdown",
   "metadata": {},
   "source": [
    "### Delete multiple users <a id='delete-multiple'></a>"
   ]
  },
  {
   "cell_type": "markdown",
   "metadata": {},
   "source": [
    "There is a [`delete_users` method of the `UserManager` object](https://developers.arcgis.com/python/api-reference/arcgis.gis.toc.html#arcgis.gis.UserManager.delete_users) that accepts a list of `User` objects. This operation, however, does not actually delete the users, it merely removes them from the organization. You cannot see them when searching for users, but you can still access their `User` object with the `get` method, and you cannot create new users with the same username as these removed users.  \n",
    "\n",
    "For that reason, the code below deletes multiple users by looping through users and using the `delete` method. This strategy is slower than the `delete_users` method, but more effective in permanently deleting users."
   ]
  },
  {
   "cell_type": "code",
   "execution_count": 263,
   "metadata": {},
   "outputs": [],
   "source": [
    "unames = [\"cedd2845\",\"e23fb959\"]\n",
    "for uname in unames:\n",
    "    user = gis.users.get(uname)\n",
    "    user.delete()"
   ]
  }
 ],
 "metadata": {
  "kernelspec": {
   "display_name": "agol_admin-rkaODuKR",
   "language": "python",
   "name": "python3"
  },
  "language_info": {
   "codemirror_mode": {
    "name": "ipython",
    "version": 3
   },
   "file_extension": ".py",
   "mimetype": "text/x-python",
   "name": "python",
   "nbconvert_exporter": "python",
   "pygments_lexer": "ipython3",
   "version": "3.10.12"
  }
 },
 "nbformat": 4,
 "nbformat_minor": 2
}
