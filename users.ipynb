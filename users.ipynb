{
 "cells": [
  {
   "cell_type": "markdown",
   "metadata": {},
   "source": [
    "# Users"
   ]
  },
  {
   "cell_type": "markdown",
   "metadata": {},
   "source": [
    "This notebook contains examples of using the ArcGIS API for Python to manage users in an ArcGIS Online portal. \n",
    "\n",
    "Each cell is largely independent of every other cell, with the exception that most assume the existence of a portal connection stored in a variable named `gis`. The creation of this object is covered in the first section of the notebook.\n",
    "\n",
    "Usernames used throughout this notebook are specific to my organization. You will need to change them to something appropriate for your organization.\n",
    "\n",
    "All API references in this notebook are from the [arcgis.gis](https://developers.arcgis.com/python/api-reference/arcgis.gis.toc.html) module: [admin.CreditManager](https://developers.arcgis.com/python/api-reference/arcgis.gis.admin.html#creditmanager), [ContentManager](https://developers.arcgis.com/python/api-reference/arcgis.gis.toc.html#contentmanager), [GIS](https://developers.arcgis.com/python/api-reference/arcgis.gis.toc.html#gis), [User](https://developers.arcgis.com/python/api-reference/arcgis.gis.toc.html#user), and [UserManager](https://developers.arcgis.com/python/api-reference/arcgis.gis.toc.html#usermanager)\n",
    "\n"
   ]
  },
  {
   "cell_type": "markdown",
   "metadata": {},
   "source": [
    "## Table of Contents\n",
    "\n",
    "* [Connect to the portal](#portal-connection)\n",
    "    * [Connect through ArcGIS Pro](#pro-connection)\n",
    "    * [Interactively provide password](#provide-password)\n",
    "    * [Store credentials locally](#store-credentials)\n",
    "    * [Other connection methods](#other-connection)\n",
    "* [Create `User` objects](#create-user-objects)\n",
    "    * [List all users in an organization](#list-users)\n",
    "    * [Search for users](#search-users)\n",
    "    * [Get a specific user](#get-user)\n",
    "* [Get information about a user](#get-info)\n",
    "    * [Display user information](#display-info)\n",
    "    * [Access user properties](#access-properties)\n",
    "    * [Find items owned by a user](#find-items)\n",
    "* [Manage users](#manage)\n",
    "    * [Create multiple users](#create)\n",
    "    * [Update a user's information](#update)\n",
    "    * [Reset a user's password](#reset)\n",
    "    * [Update a user's license type](#update-license)\n",
    "    * [Update a user's role](#update-role)\n",
    "    * [Allocate credits to a user](#allocate)\n",
    "    * [Reassign a user's content](#reassign)\n",
    "    * [Delete a single user](#delete-single)\n",
    "    * [Delete multiple users](#delete-multiple)\n",
    "\n",
    "\n"
   ]
  },
  {
   "cell_type": "markdown",
   "metadata": {},
   "source": [
    "## Connect to the portal <a id='portal-connection'></a>\n"
   ]
  },
  {
   "cell_type": "markdown",
   "metadata": {},
   "source": [
    "In order to manage users, you will need to connect to ArcGIS Online using the [`GIS` class in the `arcgis.gis` module](https://developers.arcgis.com/python/api-reference/arcgis.gis.toc.html#gis). You could do that insecurely by putting your username and password into your code. This is a bad idea, don't do that. Instead, use one of the methods below."
   ]
  },
  {
   "cell_type": "markdown",
   "metadata": {},
   "source": [
    "### Connect through ArcGIS Pro <a id='pro-connection'></a>\n"
   ]
  },
  {
   "cell_type": "markdown",
   "metadata": {},
   "source": [
    "If you are running this notebook in ArcGIS Pro, and are logged in to your portal through ArcGIS Pro, the following code will connect to your portal using the credentials you already provided to ArcGIS Pro."
   ]
  },
  {
   "cell_type": "code",
   "execution_count": null,
   "metadata": {},
   "outputs": [],
   "source": [
    "from arcgis.gis import GIS\n",
    "gis = GIS(\"pro\")"
   ]
  },
  {
   "cell_type": "markdown",
   "metadata": {},
   "source": [
    "### Interactively provide password <a id='provide-password'></a>"
   ]
  },
  {
   "cell_type": "markdown",
   "metadata": {},
   "source": [
    "If you are working interactively with the notebook, the following code will prompt you to type your password."
   ]
  },
  {
   "cell_type": "code",
   "execution_count": 4,
   "metadata": {},
   "outputs": [],
   "source": [
    "from arcgis.gis import GIS\n",
    "gis = GIS(url=\"https://arcgis.com\", username=\"t.ormsby\")"
   ]
  },
  {
   "cell_type": "markdown",
   "metadata": {},
   "source": [
    "### Store credentials locally <a id='store-credentials'></a>\n"
   ]
  },
  {
   "cell_type": "markdown",
   "metadata": {},
   "source": [
    "You can keep your credentials on your local machine and reference them from your code, instead of providing the credentials directly. To store you credentials, you will first need to create a profile, which does require you to provide your username and password.\n",
    "\n",
    "Make sure you do not save the code you used to generate the profile."
   ]
  },
  {
   "cell_type": "code",
   "execution_count": 7,
   "metadata": {},
   "outputs": [],
   "source": [
    "from arcgis.gis import GIS\n",
    "gis = GIS(\n",
    "    url=\"https://arcgis.com\", \n",
    "    username=\"t.ormsby\", \n",
    "    password=\"never_store_real_passwords_in_code\", \n",
    "    profile=\"ormsby_agol\"\n",
    ")"
   ]
  },
  {
   "cell_type": "markdown",
   "metadata": {},
   "source": [
    "Profile generation is a one-time event. Once you have generated the profile, you can use it to connect to your portal. Because the profile is stored locally, you will not be able to use this code to connect to the portal from a different machine."
   ]
  },
  {
   "cell_type": "code",
   "execution_count": 15,
   "metadata": {},
   "outputs": [],
   "source": [
    "from arcgis.gis import GIS\n",
    "gis = GIS(profile=\"ormsby_agol\")"
   ]
  },
  {
   "cell_type": "markdown",
   "metadata": {},
   "source": [
    "### Other connection methods <a id='other-connection'></a>\n"
   ]
  },
  {
   "cell_type": "markdown",
   "metadata": {},
   "source": [
    "There are other methods than the three above, but they are harder to use. If you need the capabilities provided by access tokens, PKI, LDAP, or OAuth, you can read more about it in the [Esri documentation for working with different authentication schemes](https://developers.arcgis.com/python/guide/working-with-different-authentication-schemes/)."
   ]
  },
  {
   "cell_type": "markdown",
   "metadata": {},
   "source": [
    "## Create `User` objects <a id='create-user-objects'></a>"
   ]
  },
  {
   "cell_type": "markdown",
   "metadata": {},
   "source": [
    "In order to manage users, you will need to represent them as some data structure that Python can manipulate. The [`UserManager` class](https://developers.arcgis.com/python/api-reference/arcgis.gis.toc.html#usermanager) can create these `User` objects. An instance of this class is available as the `users` property of a `GIS` object"
   ]
  },
  {
   "cell_type": "markdown",
   "metadata": {},
   "source": [
    "### List all users in an organization <a id='list-users'></a>"
   ]
  },
  {
   "cell_type": "markdown",
   "metadata": {},
   "source": [
    "The [`org_search` method of the UserManager object](https://developers.arcgis.com/python/api-reference/arcgis.gis.toc.html#arcgis.gis.UserManager.org_search) will generate a tuple of `User` objects. By default, it will return all users in your organization. <a id='org_search'></a>"
   ]
  },
  {
   "cell_type": "code",
   "execution_count": 224,
   "metadata": {},
   "outputs": [
    {
     "name": "stdout",
     "output_type": "stream",
     "text": [
      "<User username:ormsby_guest1>\n",
      "<User username:t.ormsby>\n",
      "<User username:ormsby_guest2>\n"
     ]
    }
   ],
   "source": [
    "all_users = gis.users.org_search()\n",
    "for user in all_users:\n",
    "    print(user)"
   ]
  },
  {
   "cell_type": "markdown",
   "metadata": {},
   "source": [
    "### Search for users <a id='search-users'></a>"
   ]
  },
  {
   "cell_type": "markdown",
   "metadata": {},
   "source": [
    "You can also use `org_search` to find users in your organization that match a query and sort the `User` objects returned."
   ]
  },
  {
   "cell_type": "code",
   "execution_count": 225,
   "metadata": {},
   "outputs": [
    {
     "name": "stdout",
     "output_type": "stream",
     "text": [
      "<User username:ormsby_guest2>\n",
      "<User username:ormsby_guest1>\n"
     ]
    }
   ],
   "source": [
    "some_users = gis.users.org_search(query=\"ormsby_guest\", sort_field=\"username\", sort_order=\"desc\")\n",
    "for user in some_users:\n",
    "    print(user)"
   ]
  },
  {
   "cell_type": "markdown",
   "metadata": {},
   "source": [
    "In addition to `org_search`, you can use the [`search`](https://developers.arcgis.com/python/api-reference/arcgis.gis.toc.html#arcgis.gis.UserManager.search) and [`advanced_search`](https://developers.arcgis.com/python/api-reference/arcgis.gis.toc.html#arcgis.gis.UserManager.advanced_search) methods to search for users. These methods can search across ArcGIS Online.<a id='search'></a>"
   ]
  },
  {
   "cell_type": "markdown",
   "metadata": {},
   "source": [
    "### Get a specific user <a id='get-user'></a>"
   ]
  },
  {
   "cell_type": "markdown",
   "metadata": {},
   "source": [
    "The [`get` method of the UserManager object](https://developers.arcgis.com/python/api-reference/arcgis.gis.toc.html#arcgis.gis.UserManager.get)  will return a single `User` object that matches the provided username. The `get` method is not limited to a specific organization and can return any ArcGIS Online user. <a id='get'></a>"
   ]
  },
  {
   "cell_type": "code",
   "execution_count": 226,
   "metadata": {},
   "outputs": [
    {
     "name": "stdout",
     "output_type": "stream",
     "text": [
      "<User username:ormsby_guest1>\n"
     ]
    }
   ],
   "source": [
    "one_user = gis.users.get(username=\"ormsby_guest1\")\n",
    "print(one_user)"
   ]
  },
  {
   "cell_type": "markdown",
   "metadata": {},
   "source": [
    "## Get information about a user <a id='get-info'></a>"
   ]
  },
  {
   "cell_type": "markdown",
   "metadata": {},
   "source": [
    "Once you have a `User` object, you can access information about that user. "
   ]
  },
  {
   "cell_type": "markdown",
   "metadata": {},
   "source": [
    "### Display user information <a id='display-info'></a>"
   ]
  },
  {
   "cell_type": "markdown",
   "metadata": {},
   "source": [
    "The code below uses the Jupyter Notebook `display` function to show a card for a user, including a link to their profile page."
   ]
  },
  {
   "cell_type": "code",
   "execution_count": 227,
   "metadata": {},
   "outputs": [
    {
     "data": {
      "text/html": [
       "<div class=\"9item_container\" style=\"height: auto; overflow: hidden; border: 1px solid #cfcfcf; border-radius: 2px; background: #f6fafa; line-height: 1.21429em; padding: 10px;\">\n",
       "                    <div class=\"item_left\" style=\"width: 210px; float: left;\">\n",
       "                       <a href='https://ormsby.maps.arcgis.com/home/user.html?user=ormsby_guest1' target='_blank'>\n",
       "                        <img src='https://ormsby.maps.arcgis.com/home/js/arcgisonline/css/images/no-user-thumb.jpg' class=\"itemThumbnail\">\n",
       "                       </a>\n",
       "                    </div>\n",
       "\n",
       "                    <div class=\"item_right\" style=\"float: none; width: auto; overflow: hidden;\">\n",
       "                        <a href='https://ormsby.maps.arcgis.com/home/user.html?user=ormsby_guest1' target='_blank'><b>Ormsby Guest1</b>\n",
       "                        </a>\n",
       "                        <br/><br/><b>Bio</b>: None\n",
       "                        <br/><b>First Name</b>: Ormsby\n",
       "                        <br/><b>Last Name</b>: Guest1\n",
       "                        <br/><b>Username</b>: ormsby_guest1\n",
       "                        <br/><b>Joined</b>: October 22, 2023\n",
       "\n",
       "                    </div>\n",
       "                </div>\n",
       "                "
      ],
      "text/plain": [
       "<User username:ormsby_guest1>"
      ]
     },
     "metadata": {},
     "output_type": "display_data"
    }
   ],
   "source": [
    "user = gis.users.get(\"ormsby_guest1\")\n",
    "display(user)"
   ]
  },
  {
   "cell_type": "markdown",
   "metadata": {},
   "source": [
    "### Access user properties <a id='access-properties'></a>"
   ]
  },
  {
   "cell_type": "markdown",
   "metadata": {},
   "source": [
    "You can also access specific properties of a `User` object. The code below prints some example information you can access. The [API Reference for the `User` object](https://developers.arcgis.com/python/api-reference/arcgis.gis.toc.html#user) has the complete list. <a id='properties'></a>"
   ]
  },
  {
   "cell_type": "code",
   "execution_count": 228,
   "metadata": {},
   "outputs": [
    {
     "name": "stdout",
     "output_type": "stream",
     "text": [
      "Ormsby Guest1\n",
      "10.0\n",
      "org_publisher\n",
      "[]\n"
     ]
    }
   ],
   "source": [
    "user = gis.users.get(\"ormsby_guest1\")\n",
    "print(user.fullName)\n",
    "print(user.availableCredits)\n",
    "print(user.role)\n",
    "print(user.groups)"
   ]
  },
  {
   "cell_type": "markdown",
   "metadata": {},
   "source": [
    "Most objects in Python have a `__dict__` property that shows all the object's properties. The code below leverages the `__dict__` property to represent the `User` object as a Python dictionary."
   ]
  },
  {
   "cell_type": "code",
   "execution_count": 229,
   "metadata": {},
   "outputs": [
    {
     "data": {
      "text/plain": [
       "{'_gis': GIS @ https://ormsby.maps.arcgis.com version:2023.2,\n",
       " '_portal': <arcgis.gis._impl._portalpy.Portal at 0x7fda24becd90>,\n",
       " '_user_id': 'ormsby_guest1',\n",
       " 'thumbnail': None,\n",
       " '_workdir': '/tmp',\n",
       " '_invitemgr': None,\n",
       " '_hydrated': False,\n",
       " 'username': 'ormsby_guest1',\n",
       " 'udn': None,\n",
       " 'id': '6626b8616d794725978b22fafdbdcc44',\n",
       " 'fullName': 'Ormsby Guest1',\n",
       " 'availableCredits': 10.0,\n",
       " 'assignedCredits': 10.0,\n",
       " 'categories': [],\n",
       " 'emailStatus': 'notverified',\n",
       " 'firstName': 'Ormsby',\n",
       " 'lastName': 'Guest1',\n",
       " 'preferredView': None,\n",
       " 'description': None,\n",
       " 'email': 't.ormsby@esri.com',\n",
       " 'userType': 'arcgisonly',\n",
       " 'idpUsername': None,\n",
       " 'favGroupId': 'cfb0adf777ca48a383ae610543ab9356',\n",
       " 'lastLogin': -1,\n",
       " 'mfaEnabled': False,\n",
       " 'validateUserProfile': True,\n",
       " 'storageUsage': 445780599,\n",
       " 'storageQuota': 2199023255552,\n",
       " 'orgId': 'jgEF2qh8RkmonUq2',\n",
       " 'role': 'org_publisher',\n",
       " 'privileges': ['features:user:edit',\n",
       "  'portal:publisher:bulkPublishFromDataStores',\n",
       "  'portal:publisher:createDataPipelines',\n",
       "  'portal:publisher:publishDynamicImagery',\n",
       "  'portal:publisher:publishFeatures',\n",
       "  'portal:publisher:publishKnowledgeGraph',\n",
       "  'portal:publisher:publishScenes',\n",
       "  'portal:publisher:publishServerServices',\n",
       "  'portal:publisher:publishTiledImagery',\n",
       "  'portal:publisher:publishTiles',\n",
       "  'portal:publisher:registerDataStores',\n",
       "  'portal:user:addExternalMembersToGroup',\n",
       "  'portal:user:categorizeItems',\n",
       "  'portal:user:createGroup',\n",
       "  'portal:user:createItem',\n",
       "  'portal:user:joinGroup',\n",
       "  'portal:user:joinNonOrgGroup',\n",
       "  'portal:user:shareGroupToOrg',\n",
       "  'portal:user:shareGroupToPublic',\n",
       "  'portal:user:shareToGroup',\n",
       "  'portal:user:shareToOrg',\n",
       "  'portal:user:shareToPublic',\n",
       "  'portal:user:viewHostedFeatureServices',\n",
       "  'portal:user:viewHostedTileServices',\n",
       "  'portal:user:viewOrgGroups',\n",
       "  'portal:user:viewOrgItems',\n",
       "  'portal:user:viewOrgUsers',\n",
       "  'premium:publisher:geoanalytics',\n",
       "  'premium:publisher:rasteranalysis',\n",
       "  'premium:user:demographics',\n",
       "  'premium:user:elevation',\n",
       "  'premium:user:featurereport',\n",
       "  'premium:user:geocode',\n",
       "  'premium:user:geocode:stored',\n",
       "  'premium:user:geocode:temporary',\n",
       "  'premium:user:geoenrichment',\n",
       "  'premium:user:networkanalysis',\n",
       "  'premium:user:networkanalysis:closestfacility',\n",
       "  'premium:user:networkanalysis:locationallocation',\n",
       "  'premium:user:networkanalysis:optimizedrouting',\n",
       "  'premium:user:networkanalysis:origindestinationcostmatrix',\n",
       "  'premium:user:networkanalysis:routing',\n",
       "  'premium:user:networkanalysis:servicearea',\n",
       "  'premium:user:networkanalysis:vehiclerouting',\n",
       "  'premium:user:places',\n",
       "  'premium:user:spatialanalysis'],\n",
       " 'level': '2',\n",
       " 'userLicenseTypeId': 'creatorUT',\n",
       " 'disabled': False,\n",
       " 'tags': [],\n",
       " 'culture': 'en-US',\n",
       " 'cultureFormat': 'us',\n",
       " 'region': 'WO',\n",
       " 'units': None,\n",
       " 'access': 'org',\n",
       " 'created': 1697980853000,\n",
       " 'modified': 1697982784000,\n",
       " 'provider': 'arcgis',\n",
       " 'roleId': 'org_publisher'}"
      ]
     },
     "execution_count": 229,
     "metadata": {},
     "output_type": "execute_result"
    }
   ],
   "source": [
    "user = gis.users.get(\"ormsby_guest1\")\n",
    "user.__dict__"
   ]
  },
  {
   "cell_type": "markdown",
   "metadata": {},
   "source": [
    "### Find items owned by a user <a id='find-items'></a>\n"
   ]
  },
  {
   "cell_type": "markdown",
   "metadata": {},
   "source": [
    "<a id='item_search'></a> There is an [`items` method of a `User` object](https://developers.arcgis.com/python/api-reference/arcgis.gis.toc.html#arcgis.gis.User.items) but it can only be used to check items in a specified folder. \n",
    "\n",
    "For that reason, the code below uses the [`search` method of the `ContentManager` object](https://developers.arcgis.com/python/api-reference/arcgis.gis.toc.html#arcgis.gis.ContentManager.search) to generate a list of `Item` objects owned by a given username."
   ]
  },
  {
   "cell_type": "code",
   "execution_count": 230,
   "metadata": {},
   "outputs": [
    {
     "data": {
      "text/plain": [
       "[<Item title:\"ExampleMap3\" type:Web Map owner:ormsby_guest1>,\n",
       " <Item title:\"ExampleMap1\" type:Web Map owner:ormsby_guest1>,\n",
       " <Item title:\"ExampleMap2\" type:Web Map owner:ormsby_guest1>]"
      ]
     },
     "execution_count": 230,
     "metadata": {},
     "output_type": "execute_result"
    }
   ],
   "source": [
    "gis.content.search(query=\"owner:ormsby_guest1\", max_items=20)"
   ]
  },
  {
   "cell_type": "markdown",
   "metadata": {},
   "source": [
    "## Manage users <a id='manage'></a>"
   ]
  },
  {
   "cell_type": "markdown",
   "metadata": {},
   "source": [
    "With a `User` object, you can programatically manage a user. The following examples give a good idea of the types of things you can do with users, but are not comprehensive. The API Reference for the [User](https://developers.arcgis.com/python/api-reference/arcgis.gis.toc.html#user) and [UserManager](https://developers.arcgis.com/python/api-reference/arcgis.gis.toc.html#user) classes provides additional details."
   ]
  },
  {
   "cell_type": "markdown",
   "metadata": {},
   "source": [
    "### Create multiple users <a id='create'></a>"
   ]
  },
  {
   "cell_type": "markdown",
   "metadata": {},
   "source": [
    "<a id='create'></a>The code below creates three new Viewer accounts in the built-in identity store by using the [`create` method of the `UserManager` object](https://developers.arcgis.com/python/api-reference/arcgis.gis.toc.html#arcgis.gis.UserManager.create). This operation creates only one new user at a time, but multiple users can be created by using a loop. Specifying a password of `None` requires the user to set their password when they first attempt to log in to the portal.\n",
    "\n",
    "Note that ArcGIS Online usernames that use the built-in identity store must be globally unique across all ArcGIS Online users. "
   ]
  },
  {
   "cell_type": "code",
   "execution_count": 242,
   "metadata": {},
   "outputs": [
    {
     "data": {
      "text/html": [
       "<div class=\"9item_container\" style=\"height: auto; overflow: hidden; border: 1px solid #cfcfcf; border-radius: 2px; background: #f6fafa; line-height: 1.21429em; padding: 10px;\">\n",
       "                    <div class=\"item_left\" style=\"width: 210px; float: left;\">\n",
       "                       <a href='https://ormsby.maps.arcgis.com/home/user.html?user=fabb44dc' target='_blank'>\n",
       "                        <img src='https://ormsby.maps.arcgis.com/home/js/arcgisonline/css/images/no-user-thumb.jpg' class=\"itemThumbnail\">\n",
       "                       </a>\n",
       "                    </div>\n",
       "\n",
       "                    <div class=\"item_right\" style=\"float: none; width: auto; overflow: hidden;\">\n",
       "                        <a href='https://ormsby.maps.arcgis.com/home/user.html?user=fabb44dc' target='_blank'><b>Test User1</b>\n",
       "                        </a>\n",
       "                        <br/><br/><b>Bio</b>: None\n",
       "                        <br/><b>First Name</b>: Test\n",
       "                        <br/><b>Last Name</b>: User1\n",
       "                        <br/><b>Username</b>: fabb44dc\n",
       "                        <br/><b>Joined</b>: October 22, 2023\n",
       "\n",
       "                    </div>\n",
       "                </div>\n",
       "                "
      ],
      "text/plain": [
       "<User username:fabb44dc>"
      ]
     },
     "metadata": {},
     "output_type": "display_data"
    },
    {
     "data": {
      "text/html": [
       "<div class=\"9item_container\" style=\"height: auto; overflow: hidden; border: 1px solid #cfcfcf; border-radius: 2px; background: #f6fafa; line-height: 1.21429em; padding: 10px;\">\n",
       "                    <div class=\"item_left\" style=\"width: 210px; float: left;\">\n",
       "                       <a href='https://ormsby.maps.arcgis.com/home/user.html?user=cedd2845' target='_blank'>\n",
       "                        <img src='https://ormsby.maps.arcgis.com/home/js/arcgisonline/css/images/no-user-thumb.jpg' class=\"itemThumbnail\">\n",
       "                       </a>\n",
       "                    </div>\n",
       "\n",
       "                    <div class=\"item_right\" style=\"float: none; width: auto; overflow: hidden;\">\n",
       "                        <a href='https://ormsby.maps.arcgis.com/home/user.html?user=cedd2845' target='_blank'><b>Test User2</b>\n",
       "                        </a>\n",
       "                        <br/><br/><b>Bio</b>: None\n",
       "                        <br/><b>First Name</b>: Test\n",
       "                        <br/><b>Last Name</b>: User2\n",
       "                        <br/><b>Username</b>: cedd2845\n",
       "                        <br/><b>Joined</b>: October 22, 2023\n",
       "\n",
       "                    </div>\n",
       "                </div>\n",
       "                "
      ],
      "text/plain": [
       "<User username:cedd2845>"
      ]
     },
     "metadata": {},
     "output_type": "display_data"
    },
    {
     "data": {
      "text/html": [
       "<div class=\"9item_container\" style=\"height: auto; overflow: hidden; border: 1px solid #cfcfcf; border-radius: 2px; background: #f6fafa; line-height: 1.21429em; padding: 10px;\">\n",
       "                    <div class=\"item_left\" style=\"width: 210px; float: left;\">\n",
       "                       <a href='https://ormsby.maps.arcgis.com/home/user.html?user=e23fb959' target='_blank'>\n",
       "                        <img src='https://ormsby.maps.arcgis.com/home/js/arcgisonline/css/images/no-user-thumb.jpg' class=\"itemThumbnail\">\n",
       "                       </a>\n",
       "                    </div>\n",
       "\n",
       "                    <div class=\"item_right\" style=\"float: none; width: auto; overflow: hidden;\">\n",
       "                        <a href='https://ormsby.maps.arcgis.com/home/user.html?user=e23fb959' target='_blank'><b>Test User3</b>\n",
       "                        </a>\n",
       "                        <br/><br/><b>Bio</b>: None\n",
       "                        <br/><b>First Name</b>: Test\n",
       "                        <br/><b>Last Name</b>: User3\n",
       "                        <br/><b>Username</b>: e23fb959\n",
       "                        <br/><b>Joined</b>: October 22, 2023\n",
       "\n",
       "                    </div>\n",
       "                </div>\n",
       "                "
      ],
      "text/plain": [
       "<User username:e23fb959>"
      ]
     },
     "metadata": {},
     "output_type": "display_data"
    }
   ],
   "source": [
    "user_data = [\n",
    "    {\"uname\": \"fabb44dc\", \"fname\": \"Test\", \"lname\": \"User1\", \"email\": \"testuser1@example.com\"},\n",
    "    {\"uname\": \"cedd2845\", \"fname\": \"Test\", \"lname\": \"User2\", \"email\": \"testuser2@example.com\"},\n",
    "    {\"uname\": \"e23fb959\", \"fname\": \"Test\", \"lname\": \"User3\", \"email\": \"testuser3@example.com\"}\n",
    "]\n",
    "\n",
    "for user in user_data:\n",
    "    new_user = gis.users.create(\n",
    "        username=user[\"uname\"],\n",
    "        password=None,\n",
    "        firstname=user[\"fname\"],\n",
    "        lastname=user[\"lname\"],\n",
    "        email=user[\"email\"],\n",
    "        role=\"iAAAAAAAAAAAAAAA\", # Viewer role id\n",
    "        user_type=\"viewerUT\",\n",
    "        credits=0\n",
    "    )\n",
    "    display(new_user)"
   ]
  },
  {
   "cell_type": "markdown",
   "metadata": {},
   "source": [
    "### Update a user's information <a id='update'></a>"
   ]
  },
  {
   "cell_type": "markdown",
   "metadata": {},
   "source": [
    "The code below updates a user's name, email, and description, using the [`update` method of the `User` object](https://developers.arcgis.com/python/api-reference/arcgis.gis.toc.html#arcgis.gis.User.update). The documentation has a comprehensive list of properties that can be changed with this method. <a id='update'></a>"
   ]
  },
  {
   "cell_type": "code",
   "execution_count": 233,
   "metadata": {},
   "outputs": [
    {
     "data": {
      "text/html": [
       "<div class=\"9item_container\" style=\"height: auto; overflow: hidden; border: 1px solid #cfcfcf; border-radius: 2px; background: #f6fafa; line-height: 1.21429em; padding: 10px;\">\n",
       "                    <div class=\"item_left\" style=\"width: 210px; float: left;\">\n",
       "                       <a href='https://ormsby.maps.arcgis.com/home/user.html?user=fabb44dc' target='_blank'>\n",
       "                        <img src='https://ormsby.maps.arcgis.com/home/js/arcgisonline/css/images/no-user-thumb.jpg' class=\"itemThumbnail\">\n",
       "                       </a>\n",
       "                    </div>\n",
       "\n",
       "                    <div class=\"item_right\" style=\"float: none; width: auto; overflow: hidden;\">\n",
       "                        <a href='https://ormsby.maps.arcgis.com/home/user.html?user=fabb44dc' target='_blank'><b>New First Name New Last Name</b>\n",
       "                        </a>\n",
       "                        <br/><br/><b>Bio</b>: I feel like a brand new person\n",
       "                        <br/><b>First Name</b>: New First Name\n",
       "                        <br/><b>Last Name</b>: New Last Name\n",
       "                        <br/><b>Username</b>: fabb44dc\n",
       "                        <br/><b>Joined</b>: October 22, 2023\n",
       "\n",
       "                    </div>\n",
       "                </div>\n",
       "                "
      ],
      "text/plain": [
       "<User username:fabb44dc>"
      ]
     },
     "metadata": {},
     "output_type": "display_data"
    }
   ],
   "source": [
    "user = gis.users.get(\"fabb44dc\")\n",
    "user.update(\n",
    "    first_name=\"New First Name\",\n",
    "    last_name=\"New Last Name\",\n",
    "    email=\"newname@example.com\",\n",
    "    description=\"I feel like a brand new person\"   \n",
    ")\n",
    "display(user)\n"
   ]
  },
  {
   "cell_type": "markdown",
   "metadata": {},
   "source": [
    "### Reset a user's password <a id='reset'></a>"
   ]
  },
  {
   "cell_type": "markdown",
   "metadata": {},
   "source": [
    "Accounts that use IT-managed identity stores like Active Directory or SAML cannot be managed with the ArcGIS API for Python. But an account that uses the built-in identity store can be. The code below uses the [`reset` method of a `User` object](https://developers.arcgis.com/python/api-reference/arcgis.gis.toc.html#arcgis.gis.User.reset) to send a user an email with a temporary password and instructions to reset it the next time they log in."
   ]
  },
  {
   "cell_type": "code",
   "execution_count": 234,
   "metadata": {},
   "outputs": [
    {
     "data": {
      "text/plain": [
       "True"
      ]
     },
     "execution_count": 234,
     "metadata": {},
     "output_type": "execute_result"
    }
   ],
   "source": [
    "user = gis.users.get(\"fabb44dc\")\n",
    "user.reset(password=None, reset_by_email=True)"
   ]
  },
  {
   "cell_type": "markdown",
   "metadata": {},
   "source": [
    "### Update a user's license type <a id='update-license'></a>"
   ]
  },
  {
   "cell_type": "markdown",
   "metadata": {},
   "source": [
    "A user's license type governs what types of roles and privileges they can be granted. In this example, the user has a Viewer license type. The code below changes that to a Creator license type using the [`update_license_type` method of a `User` object](https://developers.arcgis.com/python/api-reference/arcgis.gis.toc.html#arcgis.gis.User.update_license_type)."
   ]
  },
  {
   "cell_type": "code",
   "execution_count": 235,
   "metadata": {},
   "outputs": [
    {
     "data": {
      "text/plain": [
       "True"
      ]
     },
     "execution_count": 235,
     "metadata": {},
     "output_type": "execute_result"
    }
   ],
   "source": [
    "user = gis.users.get(\"fabb44dc\")\n",
    "user.update_license_type(\"CreatorUT\")"
   ]
  },
  {
   "cell_type": "markdown",
   "metadata": {},
   "source": [
    "### Update a user's role <a id='update-role'></a>"
   ]
  },
  {
   "cell_type": "markdown",
   "metadata": {},
   "source": [
    "A user's role governs the privileges they have in the portal, and must be compatible with their license type. In this example, the user has a Viewer role. The code below changes that to a Publisher role using the [`update_role` method of the `User` object](https://developers.arcgis.com/python/api-reference/arcgis.gis.toc.html#arcgis.gis.User.update_role)"
   ]
  },
  {
   "cell_type": "code",
   "execution_count": 236,
   "metadata": {},
   "outputs": [
    {
     "data": {
      "text/plain": [
       "True"
      ]
     },
     "execution_count": 236,
     "metadata": {},
     "output_type": "execute_result"
    }
   ],
   "source": [
    "user = gis.users.get(\"fabb44dc\")\n",
    "user.update_role(\"org_publisher\")"
   ]
  },
  {
   "cell_type": "markdown",
   "metadata": {},
   "source": [
    "### Allocate credits to a user <a id='allocate'></a>"
   ]
  },
  {
   "cell_type": "markdown",
   "metadata": {},
   "source": [
    "The code below uses the [`allocate` method of the `CreditManager` class in the admin submodule](https://developers.arcgis.com/python/api-reference/arcgis.gis.admin.html#arcgis.gis.admin.CreditManager.allocate) to allocate credits to a user based on their username."
   ]
  },
  {
   "cell_type": "code",
   "execution_count": 237,
   "metadata": {},
   "outputs": [
    {
     "data": {
      "text/plain": [
       "True"
      ]
     },
     "execution_count": 237,
     "metadata": {},
     "output_type": "execute_result"
    }
   ],
   "source": [
    "gis.admin.credits.allocate(username=\"fabb44dc\", credits=10)"
   ]
  },
  {
   "cell_type": "markdown",
   "metadata": {},
   "source": [
    "### Reassign a user's content <a id='reassign'></a>"
   ]
  },
  {
   "cell_type": "markdown",
   "metadata": {},
   "source": [
    "The code below reassigns all of a user's items and groups to a different user with the [`reassign_to` method of a `User` object](https://developers.arcgis.com/python/api-reference/arcgis.gis.toc.html#arcgis.gis.User.reassign_to). This operation can only be performed by an administrator, occurs immediately, and cannot be undone.\n",
    "\n",
    "This operation recreates the original folder structure of items in the new owner's content."
   ]
  },
  {
   "cell_type": "code",
   "execution_count": 238,
   "metadata": {},
   "outputs": [
    {
     "data": {
      "text/plain": [
       "True"
      ]
     },
     "execution_count": 238,
     "metadata": {},
     "output_type": "execute_result"
    }
   ],
   "source": [
    "user1 = gis.users.get(\"ormsby_guest1\")\n",
    "user2 = gis.users.get(\"fabb44dc\")\n",
    "user1.reassign_to(target_username=user2)"
   ]
  },
  {
   "cell_type": "markdown",
   "metadata": {},
   "source": [
    "The code below uses the [`transfer_content` method of a `User` object](https://developers.arcgis.com/python/api-reference/arcgis.gis.toc.html#arcgis.gis.User.transfer_content) to transfer the content of a folder to another user. This asyncronous operation may take up to 15 minutes to complete. <a id='transfer_content'></a>\n",
    "\n",
    "This operation transfers all items to a single folder in the new owner's content, regardless of the original folder structure."
   ]
  },
  {
   "cell_type": "code",
   "execution_count": 239,
   "metadata": {},
   "outputs": [
    {
     "data": {
      "text/plain": [
       "<Future at 0x7fda1ce16590 state=finished returned dict>"
      ]
     },
     "execution_count": 239,
     "metadata": {},
     "output_type": "execute_result"
    }
   ],
   "source": [
    "user1 = gis.users.get(\"ormsby_guest1\")\n",
    "user2 = gis.users.get(\"fabb44dc\")\n",
    "user2.transfer_content(target_user=user1)"
   ]
  },
  {
   "cell_type": "markdown",
   "metadata": {},
   "source": [
    "### Delete a single user <a id='delete-single'></a>"
   ]
  },
  {
   "cell_type": "markdown",
   "metadata": {},
   "source": [
    "The code below uses the [`delete` method of a `User` object](https://developers.arcgis.com/python/api-reference/arcgis.gis.toc.html#arcgis.gis.User.delete) to delete that user. Users that own content or groups will need to have them reassigned to another user."
   ]
  },
  {
   "cell_type": "code",
   "execution_count": 243,
   "metadata": {},
   "outputs": [
    {
     "data": {
      "text/plain": [
       "True"
      ]
     },
     "execution_count": 243,
     "metadata": {},
     "output_type": "execute_result"
    }
   ],
   "source": [
    "user = gis.users.get(\"fabb44dc\")\n",
    "user.delete()"
   ]
  },
  {
   "cell_type": "markdown",
   "metadata": {},
   "source": [
    "### Delete multiple users <a id='delete-multiple'></a>"
   ]
  },
  {
   "cell_type": "markdown",
   "metadata": {},
   "source": [
    "There is a [`delete_users` method of the `UserManager` object](https://developers.arcgis.com/python/api-reference/arcgis.gis.toc.html#arcgis.gis.UserManager.delete_users) that accepts a list of `User` objects. This operation, however, does not actually delete the users, it merely removes them from the organization. You cannot see them when searching for users, but you can still access their `User` object with the `get` method, and you cannot create new users with the same username as these removed users.  \n",
    "\n",
    "For that reason, the code below deletes multiple users by looping through users and using the `delete` method. This strategy is slower than the `delete_users` method, but more effective in permanently deleting users."
   ]
  },
  {
   "cell_type": "code",
   "execution_count": 244,
   "metadata": {},
   "outputs": [],
   "source": [
    "unames = [\"cedd2845\",\"e23fb959\"]\n",
    "for uname in unames:\n",
    "    user = gis.users.get(uname)\n",
    "    user.delete()"
   ]
  }
 ],
 "metadata": {
  "kernelspec": {
   "display_name": "agol_admin-rkaODuKR",
   "language": "python",
   "name": "python3"
  },
  "language_info": {
   "codemirror_mode": {
    "name": "ipython",
    "version": 3
   },
   "file_extension": ".py",
   "mimetype": "text/x-python",
   "name": "python",
   "nbconvert_exporter": "python",
   "pygments_lexer": "ipython3",
   "version": "3.10.12"
  }
 },
 "nbformat": 4,
 "nbformat_minor": 2
}
