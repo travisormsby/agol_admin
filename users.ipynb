{
 "cells": [
  {
   "cell_type": "markdown",
   "metadata": {},
   "source": [
    "# Users"
   ]
  },
  {
   "cell_type": "markdown",
   "metadata": {},
   "source": [
    "This notebook contains examples of using the ArcGIS API for Python to manage users in an ArcGIS Online portal. Most, but not all, of these examples also work for an ArcGIS Enterprise portal."
   ]
  },
  {
   "cell_type": "markdown",
   "metadata": {},
   "source": [
    "## Conect to the portal\n"
   ]
  },
  {
   "cell_type": "markdown",
   "metadata": {},
   "source": [
    "In order to manage users, you will need to connect to ArcGIS Online using the [`GIS` class in the `arcgis.gis` module](https://developers.arcgis.com/python/api-reference/arcgis.gis.toc.html#gis). You could do that insecurely by putting your username and password into your code. This is a bad idea, don't do that. Instead, use one of the methods below."
   ]
  },
  {
   "cell_type": "markdown",
   "metadata": {},
   "source": [
    "### Connect through ArcGIS Pro\n"
   ]
  },
  {
   "cell_type": "markdown",
   "metadata": {},
   "source": [
    "If you are running this notebook in ArcGIS Pro, and are logged in to your portal through ArcGIS Pro, the following code will connect to your portal using the credentials you already provided to ArcGIS Pro."
   ]
  },
  {
   "cell_type": "code",
   "execution_count": null,
   "metadata": {},
   "outputs": [],
   "source": [
    "from arcgis.gis import GIS\n",
    "gis = GIS(\"pro\")"
   ]
  },
  {
   "cell_type": "markdown",
   "metadata": {},
   "source": [
    "\n",
    "### Interactively provide password\n"
   ]
  },
  {
   "cell_type": "markdown",
   "metadata": {},
   "source": [
    "If you are working interactively with the notebook, the following code will prompt you to type your password. You will need to replace my username with yours, because you don't know my password."
   ]
  },
  {
   "cell_type": "code",
   "execution_count": 4,
   "metadata": {},
   "outputs": [],
   "source": [
    "from arcgis.gis import GIS\n",
    "gis = GIS(url=\"https://arcgis.com\", username=\"t.ormsby\")"
   ]
  },
  {
   "cell_type": "markdown",
   "metadata": {},
   "source": [
    "### Store credentials locally\n"
   ]
  },
  {
   "cell_type": "markdown",
   "metadata": {},
   "source": [
    "You can keep your credentials on your local machine and reference them from your code, instead of providing the credentials directly. To store you credentials, you will first need to create a profile, which does require you to provide your username and password.\n",
    "\n",
    "Make sure you use your username and password (not mine), and provide a profile name that is meaningful for you. Make sure you do not save the code you used to generate the profile"
   ]
  },
  {
   "cell_type": "code",
   "execution_count": 7,
   "metadata": {},
   "outputs": [],
   "source": [
    "from arcgis.gis import GIS\n",
    "gis = GIS(\n",
    "    url=\"https://arcgis.com\", \n",
    "    username=\"t.ormsby\", \n",
    "    password=\"never_store_real_passwords_in_code\", \n",
    "    profile=\"ormsby_agol\"\n",
    ")"
   ]
  },
  {
   "cell_type": "markdown",
   "metadata": {},
   "source": [
    "Profile generation is a one-time event. Once you have generated the profile, you can use it to connect to your portal. "
   ]
  },
  {
   "cell_type": "code",
   "execution_count": 15,
   "metadata": {},
   "outputs": [],
   "source": [
    "from arcgis.gis import GIS\n",
    "gis = GIS(profile=\"ormsby_agol\")"
   ]
  },
  {
   "cell_type": "markdown",
   "metadata": {},
   "source": [
    "### Other methods\n"
   ]
  },
  {
   "cell_type": "markdown",
   "metadata": {},
   "source": [
    "There are other methods than the three above, but they are harder to use. If you need the capabilities provided by access tokens, PKI, LDAP, or OAuth, you can read more about it in the [Esri documentation for working with different authentication schemes](https://developers.arcgis.com/python/guide/working-with-different-authentication-schemes/)."
   ]
  },
  {
   "cell_type": "markdown",
   "metadata": {},
   "source": [
    "## Create `User` objects"
   ]
  },
  {
   "cell_type": "markdown",
   "metadata": {},
   "source": [
    "In order to manage users, you will need to represent them as some data structure that Python can manipulate. The [`UserManager` class in the `arcgis.gis module`](https://developers.arcgis.com/python/api-reference/arcgis.gis.toc.html#usermanager) can help create these `User` objects."
   ]
  },
  {
   "cell_type": "markdown",
   "metadata": {},
   "source": [
    "### List all users in an organization"
   ]
  },
  {
   "cell_type": "markdown",
   "metadata": {},
   "source": [
    "The [`org_search`](https://developers.arcgis.com/python/api-reference/arcgis.gis.toc.html#arcgis.gis.UserManager.org_search) method will generate a tuple of `User` objects. By default, it will return all users in your organization"
   ]
  },
  {
   "cell_type": "code",
   "execution_count": 17,
   "metadata": {},
   "outputs": [
    {
     "name": "stdout",
     "output_type": "stream",
     "text": [
      "(<User username:ormsby_guest>, <User username:t.ormsby>, <User username:nb_user>)\n",
      "<class 'arcgis.gis.User'>\n"
     ]
    }
   ],
   "source": [
    "all_users = gis.users.org_search()\n",
    "print(all_users)\n",
    "print(type(all_users[0]))"
   ]
  },
  {
   "cell_type": "markdown",
   "metadata": {},
   "source": [
    "### Search for users"
   ]
  },
  {
   "cell_type": "markdown",
   "metadata": {},
   "source": [
    "You can also use [`org_search`](https://developers.arcgis.com/python/api-reference/arcgis.gis.toc.html#arcgis.gis.UserManager.org_search) to find users in your organization that match a query."
   ]
  },
  {
   "cell_type": "code",
   "execution_count": 40,
   "metadata": {},
   "outputs": [
    {
     "name": "stdout",
     "output_type": "stream",
     "text": [
      "(<User username:t.ormsby>, <User username:ormsby_guest>)\n"
     ]
    }
   ],
   "source": [
    "some_users = gis.users.org_search(query=\"ormsby\", sort_field=\"username\", sort_order=\"desc\")\n",
    "print(some_users)"
   ]
  },
  {
   "cell_type": "markdown",
   "metadata": {},
   "source": [
    "In addition to [`org_search`](https://developers.arcgis.com/python/api-reference/arcgis.gis.toc.html#arcgis.gis.UserManager.org_search), you can use the [`search`](https://developers.arcgis.com/python/api-reference/arcgis.gis.toc.html#arcgis.gis.UserManager.search) and [`advanced_search`](https://developers.arcgis.com/python/api-reference/arcgis.gis.toc.html#arcgis.gis.UserManager.advanced_search) methods to search for users. These methods can search across ArcGIS Online."
   ]
  },
  {
   "cell_type": "markdown",
   "metadata": {},
   "source": [
    "### Find a specific user by username"
   ]
  },
  {
   "cell_type": "markdown",
   "metadata": {},
   "source": [
    "The [`get`](https://developers.arcgis.com/python/api-reference/arcgis.gis.toc.html#arcgis.gis.UserManager.get) method will return a single `User` object that matches the provided username. Unlike [`org_search`](https://developers.arcgis.com/python/api-reference/arcgis.gis.toc.html#arcgis.gis.UserManager.org_search), [`get`](https://developers.arcgis.com/python/api-reference/arcgis.gis.toc.html#arcgis.gis.UserManager.get) is not limited to a specific organization and can return any ArcGIS Online user."
   ]
  },
  {
   "cell_type": "code",
   "execution_count": 34,
   "metadata": {},
   "outputs": [
    {
     "name": "stdout",
     "output_type": "stream",
     "text": [
      "<User username:ormsby_guest>\n"
     ]
    }
   ],
   "source": [
    "one_user = gis.users.get(\"ormsby_guest\")\n",
    "print(one_user)"
   ]
  },
  {
   "cell_type": "markdown",
   "metadata": {},
   "source": [
    "## Get information about a user"
   ]
  },
  {
   "cell_type": "markdown",
   "metadata": {},
   "source": [
    "Once you have a `User` object, you can access information about that user. The code below uses the `display` function to show a card for a user, including a link to their profile page."
   ]
  },
  {
   "cell_type": "code",
   "execution_count": 65,
   "metadata": {},
   "outputs": [
    {
     "data": {
      "text/html": [
       "<div class=\"9item_container\" style=\"height: auto; overflow: hidden; border: 1px solid #cfcfcf; border-radius: 2px; background: #f6fafa; line-height: 1.21429em; padding: 10px;\">\n",
       "                    <div class=\"item_left\" style=\"width: 210px; float: left;\">\n",
       "                       <a href='https://ormsby.maps.arcgis.com/home/user.html?user=ormsby_guest' target='_blank'>\n",
       "                        <img src='https://ormsby.maps.arcgis.com/home/js/arcgisonline/css/images/no-user-thumb.jpg' class=\"itemThumbnail\">\n",
       "                       </a>\n",
       "                    </div>\n",
       "\n",
       "                    <div class=\"item_right\" style=\"float: none; width: auto; overflow: hidden;\">\n",
       "                        <a href='https://ormsby.maps.arcgis.com/home/user.html?user=ormsby_guest' target='_blank'><b>Guest Ormsby</b>\n",
       "                        </a>\n",
       "                        <br/><br/><b>Bio</b>: None\n",
       "                        <br/><b>First Name</b>: Guest\n",
       "                        <br/><b>Last Name</b>: Ormsby\n",
       "                        <br/><b>Username</b>: ormsby_guest\n",
       "                        <br/><b>Joined</b>: September 02, 2023\n",
       "\n",
       "                    </div>\n",
       "                </div>\n",
       "                "
      ],
      "text/plain": [
       "<User username:ormsby_guest>"
      ]
     },
     "metadata": {},
     "output_type": "display_data"
    }
   ],
   "source": [
    "display(one_user)"
   ]
  },
  {
   "cell_type": "markdown",
   "metadata": {},
   "source": [
    "You can also access specific properties of a `User` object. The code below prints some example information you can access. The [API Reference for the `User` object](https://developers.arcgis.com/python/api-reference/arcgis.gis.toc.html#user) has the complete list."
   ]
  },
  {
   "cell_type": "code",
   "execution_count": 64,
   "metadata": {},
   "outputs": [
    {
     "name": "stdout",
     "output_type": "stream",
     "text": [
      "Guest Ormsby\n",
      "100.0\n",
      "org_publisher\n",
      "[<Group title:\"Shared Update\" owner:t.ormsby>]\n"
     ]
    }
   ],
   "source": [
    "print(one_user.fullName)\n",
    "print(one_user.availableCredits)\n",
    "print(one_user.role)\n",
    "print(one_user.groups)"
   ]
  },
  {
   "cell_type": "markdown",
   "metadata": {},
   "source": [
    "The code below uses the `__dict__` property to get all the information about a given user as a Python dictionary."
   ]
  },
  {
   "cell_type": "code",
   "execution_count": 80,
   "metadata": {},
   "outputs": [
    {
     "data": {
      "text/plain": [
       "{'_gis': GIS @ https://ormsby.maps.arcgis.com version:2023.2,\n",
       " '_portal': <arcgis.gis._impl._portalpy.Portal at 0x7fda24becd90>,\n",
       " '_user_id': 'ormsby_guest',\n",
       " 'thumbnail': None,\n",
       " '_workdir': '/tmp',\n",
       " '_invitemgr': None,\n",
       " '_hydrated': True,\n",
       " 'username': 'ormsby_guest',\n",
       " 'udn': None,\n",
       " 'id': '89db14f30cbd4f75bdec614d9feb6229',\n",
       " 'fullName': 'Guest Ormsby',\n",
       " 'availableCredits': 100.0,\n",
       " 'assignedCredits': 100.0,\n",
       " 'categories': [],\n",
       " 'emailStatus': 'verified',\n",
       " 'emailStatusDate': 1693668882000,\n",
       " 'firstName': 'Guest',\n",
       " 'lastName': 'Ormsby',\n",
       " 'preferredView': None,\n",
       " 'description': None,\n",
       " 'email': 't.ormsby@esri.com',\n",
       " 'userType': 'arcgisonly',\n",
       " 'idpUsername': None,\n",
       " 'favGroupId': '9f02b15d1c0b4b7f931d7a2c250889b5',\n",
       " 'lastLogin': 1697911056000,\n",
       " 'mfaEnabled': False,\n",
       " 'storageUsage': 446078362,\n",
       " 'storageQuota': 2199023255552,\n",
       " 'orgId': 'jgEF2qh8RkmonUq2',\n",
       " 'role': 'org_publisher',\n",
       " 'privileges': ['features:user:edit',\n",
       "  'portal:publisher:createDataPipelines',\n",
       "  'portal:publisher:publishDynamicImagery',\n",
       "  'portal:publisher:publishFeatures',\n",
       "  'portal:publisher:publishScenes',\n",
       "  'portal:publisher:publishTiledImagery',\n",
       "  'portal:publisher:publishTiles',\n",
       "  'portal:user:addExternalMembersToGroup',\n",
       "  'portal:user:createGroup',\n",
       "  'portal:user:createItem',\n",
       "  'portal:user:joinGroup',\n",
       "  'portal:user:joinNonOrgGroup',\n",
       "  'portal:user:shareGroupToOrg',\n",
       "  'portal:user:shareGroupToPublic',\n",
       "  'portal:user:shareToGroup',\n",
       "  'portal:user:shareToOrg',\n",
       "  'portal:user:shareToPublic',\n",
       "  'portal:user:viewOrgGroups',\n",
       "  'portal:user:viewOrgItems',\n",
       "  'portal:user:viewOrgUsers',\n",
       "  'premium:publisher:createNotebooks',\n",
       "  'premium:publisher:rasteranalysis',\n",
       "  'premium:publisher:scheduleNotebooks',\n",
       "  'premium:user:demographics',\n",
       "  'premium:user:featurereport',\n",
       "  'premium:user:geocode',\n",
       "  'premium:user:geocode:stored',\n",
       "  'premium:user:geocode:temporary',\n",
       "  'premium:user:geoenrichment',\n",
       "  'premium:user:networkanalysis',\n",
       "  'premium:user:networkanalysis:closestfacility',\n",
       "  'premium:user:networkanalysis:locationallocation',\n",
       "  'premium:user:networkanalysis:optimizedrouting',\n",
       "  'premium:user:networkanalysis:origindestinationcostmatrix',\n",
       "  'premium:user:networkanalysis:routing',\n",
       "  'premium:user:networkanalysis:servicearea',\n",
       "  'premium:user:networkanalysis:vehiclerouting',\n",
       "  'premium:user:spatialanalysis'],\n",
       " 'roleId': 'tAfUrmiW29BBA8Jj',\n",
       " 'level': '2',\n",
       " 'userLicenseTypeId': 'creatorUT',\n",
       " 'disabled': False,\n",
       " 'tags': [],\n",
       " 'culture': 'en-US',\n",
       " 'cultureFormat': 'us',\n",
       " 'region': 'WO',\n",
       " 'units': None,\n",
       " 'access': 'org',\n",
       " 'created': 1693668808000,\n",
       " 'modified': 1697806903000,\n",
       " 'provider': 'arcgis',\n",
       " 'groups': [{'id': '65959444535f4bbb84dbb740a1fc4f37',\n",
       "   'title': 'Shared Update',\n",
       "   'isInvitationOnly': True,\n",
       "   'owner': 't.ormsby',\n",
       "   'description': None,\n",
       "   'snippet': None,\n",
       "   'tags': [],\n",
       "   'typeKeywords': [],\n",
       "   'phone': None,\n",
       "   'sortField': 'title',\n",
       "   'sortOrder': 'asc',\n",
       "   'isViewOnly': False,\n",
       "   'featuredItemsId': None,\n",
       "   'thumbnail': None,\n",
       "   'created': 1697806789000,\n",
       "   'modified': 1697806790000,\n",
       "   'access': 'private',\n",
       "   'capabilities': ['updateitemcontrol'],\n",
       "   'isFav': False,\n",
       "   'isReadOnly': False,\n",
       "   'protected': False,\n",
       "   'autoJoin': False,\n",
       "   'notificationsEnabled': False,\n",
       "   'provider': None,\n",
       "   'providerGroupName': None,\n",
       "   'leavingDisallowed': False,\n",
       "   'hiddenMembers': False,\n",
       "   'membershipAccess': 'org',\n",
       "   'displaySettings': {'itemTypes': ''},\n",
       "   'properties': None,\n",
       "   'userMembership': {'username': 'ormsby_guest', 'memberType': 'member'}}]}"
      ]
     },
     "execution_count": 80,
     "metadata": {},
     "output_type": "execute_result"
    }
   ],
   "source": [
    "one_user.__dict__"
   ]
  },
  {
   "cell_type": "markdown",
   "metadata": {},
   "source": [
    "Information about users' items and the user types associated with their apps is generated by methods, and not stored as part of the `User` object. The code below shows how to access this information."
   ]
  },
  {
   "cell_type": "code",
   "execution_count": 85,
   "metadata": {},
   "outputs": [
    {
     "data": {
      "text/plain": [
       "[<Item title:\"HOLC Travis Ormsby\" type:Web Map owner:ormsby_guest>,\n",
       " <Item title:\"HOLC Travis Ormsby\" type:Web Mapping Application owner:ormsby_guest>]"
      ]
     },
     "execution_count": 85,
     "metadata": {},
     "output_type": "execute_result"
    }
   ],
   "source": [
    "one_user.items()"
   ]
  },
  {
   "cell_type": "code",
   "execution_count": 86,
   "metadata": {},
   "outputs": [
    {
     "data": {
      "text/plain": [
       "{'id': 'creatorUT',\n",
       " 'name': 'Creator',\n",
       " 'apps': [{'id': 'ad0dfcde7b8944959942454ebff40712',\n",
       "   'title': 'Office Apps',\n",
       "   'type': 'App Bundle',\n",
       "   'isAppBundle': True,\n",
       "   'apps': [{'id': '34749713220240289318231d1eea9820',\n",
       "     'title': 'ArcGIS for SharePoint',\n",
       "     'thumbnail': 'thumbnail/ago_downloaded.png',\n",
       "     'type': 'Web Mapping Application',\n",
       "     'entitlements': ['mapsforSharepoint']},\n",
       "    {'id': '87f501f12caa4f908fbcaf0ec8affa40',\n",
       "     'title': 'ArcGIS for Office',\n",
       "     'thumbnail': 'thumbnail/ago_downloaded.png',\n",
       "     'type': 'Web Mapping Application',\n",
       "     'entitlements': ['mapsforOffice']}]},\n",
       "  {'id': 'edd0fd8d475146a18ca6330ab7c59be1',\n",
       "   'title': 'Essential Apps',\n",
       "   'type': 'App Bundle',\n",
       "   'isAppBundle': True,\n",
       "   'apps': [{'id': '78829826509c47eaa4e172824852bfd7',\n",
       "     'title': 'Classic Story Maps',\n",
       "     'thumbnail': 'thumbnail/ago_downloaded.png',\n",
       "     'type': 'Web Mapping Application',\n",
       "     'entitlements': ['storymaps']},\n",
       "    {'id': '898ad4783d2e4729938b732147018629',\n",
       "     'title': 'ArcGIS Experience Builder',\n",
       "     'thumbnail': 'thumbnail/ago_downloaded.png',\n",
       "     'type': 'Web Mapping Application',\n",
       "     'entitlements': ['experienceBuilder']},\n",
       "    {'id': 'e654ca8dd19e4628b09de925b43894cf',\n",
       "     'title': 'ArcGIS QuickCapture Web Designer',\n",
       "     'thumbnail': 'thumbnail/ago_downloaded.png',\n",
       "     'type': 'Web Mapping Application',\n",
       "     'entitlements': ['QuickCaptureWebDesigner']},\n",
       "    {'id': '861f5002601e4a0ba22711b29d04756c',\n",
       "     'title': 'ArcGIS Dashboards',\n",
       "     'thumbnail': 'thumbnail/ago_downloaded.png',\n",
       "     'type': 'Web Mapping Application',\n",
       "     'entitlements': ['opsdashboard']},\n",
       "    {'id': '98f597bb9ba94a47b2e012943d2b1e67',\n",
       "     'title': 'ArcGIS Maps for Adobe Creative Cloud',\n",
       "     'thumbnail': 'thumbnail/M4CC_marketplace_small_5B1_5D.jpg',\n",
       "     'type': 'Web Mapping Application',\n",
       "     'entitlements': ['arcgisadobecc']},\n",
       "    {'id': '5fbb024d37de4b8080c6c80284dcb8f0',\n",
       "     'title': 'ArcGIS Web AppBuilder',\n",
       "     'thumbnail': 'thumbnail/ago_downloaded.png',\n",
       "     'type': 'Web Mapping Application',\n",
       "     'entitlements': ['webappbuilder']},\n",
       "    {'id': 'c6305f81bbd44705a8769d1dcc58da60',\n",
       "     'title': 'ArcGIS Hub',\n",
       "     'thumbnail': 'thumbnail/ago_downloaded.png',\n",
       "     'type': 'Web Mapping Application',\n",
       "     'entitlements': ['HubforArcGIS']},\n",
       "    {'id': '52b1bf8f295f4985abb4373fc3954862',\n",
       "     'title': 'ArcGIS for Power BI',\n",
       "     'thumbnail': 'thumbnail/ago_downloaded.png',\n",
       "     'type': 'Web Mapping Application',\n",
       "     'entitlements': ['mapsforPowerBI']},\n",
       "    {'id': 'e6e9ad3be636472892dff914178f24c5',\n",
       "     'title': 'ArcGIS StoryMaps',\n",
       "     'thumbnail': 'thumbnail/ago_downloaded.png',\n",
       "     'type': 'Web Mapping Application',\n",
       "     'entitlements': ['arcgisstorymaps']},\n",
       "    {'id': '829116005aad4b3c8238d1d41944ef74',\n",
       "     'title': 'ArcGIS Online',\n",
       "     'thumbnail': 'thumbnail/ago_downloaded.png',\n",
       "     'type': 'Application',\n",
       "     'entitlements': ['orgwebsite']},\n",
       "    {'id': 'fef27821a62b4b98a19f5d9ec129166e',\n",
       "     'title': 'ArcGIS AppStudio',\n",
       "     'thumbnail': 'thumbnail/ago_downloaded.png',\n",
       "     'type': 'Web Mapping Application',\n",
       "     'entitlements': ['appstudio']},\n",
       "    {'id': 'cd577e662881460e8577bc6cc0ea0016',\n",
       "     'title': 'ArcGIS Online Web App',\n",
       "     'thumbnail': 'thumbnail/ago_downloaded.png',\n",
       "     'type': 'Web Mapping Application',\n",
       "     'entitlements': ['mapViewer',\n",
       "      'presentationApp',\n",
       "      'activityDashboard',\n",
       "      'templates',\n",
       "      'instantapps',\n",
       "      'sceneViewer']},\n",
       "    {'id': '8a3a0034a03f42ab97cf43376286a242',\n",
       "     'title': 'ArcGIS Online Web App',\n",
       "     'type': 'Web Mapping Application',\n",
       "     'entitlements': ['arcgisinstapps']},\n",
       "    {'id': 'c6590e85fdb24637a3434a5b50694dac',\n",
       "     'title': 'ArcGIS Dashboards',\n",
       "     'thumbnail': 'thumbnail/ago_downloaded.png',\n",
       "     'type': 'Web Mapping Application',\n",
       "     'entitlements': ['dashboards']}]},\n",
       "  {'id': 'dcc340a7baa845fb9c151f2c587047db',\n",
       "   'title': 'Field Apps',\n",
       "   'type': 'App Bundle',\n",
       "   'isAppBundle': True,\n",
       "   'apps': [{'id': 'c5da57b3f002452abbb23917a8af6e00',\n",
       "     'title': 'ArcGIS Field Maps',\n",
       "     'thumbnail': 'thumbnail/ago_downloaded.png',\n",
       "     'type': 'Mobile Application',\n",
       "     'entitlements': ['fieldmaps']},\n",
       "    {'id': 'c659bd3be7644719a62fadc2259e0f44',\n",
       "     'title': 'ArcGIS Collector',\n",
       "     'thumbnail': 'thumbnail/collector-S-new.jpg',\n",
       "     'type': 'Mobile Application',\n",
       "     'entitlements': ['collector']},\n",
       "    {'id': '17193cebdac649ed82b2d6b27c6e585e',\n",
       "     'title': 'ArcGIS Survey123',\n",
       "     'thumbnail': 'thumbnail/Survey123_Sm.jpg',\n",
       "     'type': 'Web Mapping Application',\n",
       "     'entitlements': ['survey123']},\n",
       "    {'id': '7a3f688062974b2b90326039e348f4d6',\n",
       "     'title': 'ArcGIS Workforce',\n",
       "     'thumbnail': 'thumbnail/Workforce-S.jpg',\n",
       "     'type': 'Web Mapping Application',\n",
       "     'entitlements': ['workforce']},\n",
       "    {'id': 'fd9fdc037e7448ada4ebd9da10fdba58',\n",
       "     'title': 'ArcGIS QuickCapture',\n",
       "     'thumbnail': 'thumbnail/ago_downloaded.png',\n",
       "     'type': 'Mobile Application',\n",
       "     'entitlements': ['QuickCapture']}]},\n",
       "  {'id': 'bcec212331b241719bc99050e1e2d77a',\n",
       "   'title': 'ArcGIS Runtime Standard',\n",
       "   'type': 'Application SDK',\n",
       "   'isAppBundle': False,\n",
       "   'isViewOnly': False,\n",
       "   'entitlements': ['runtimestandard']}],\n",
       " 'extensions': []}"
      ]
     },
     "execution_count": 86,
     "metadata": {},
     "output_type": "execute_result"
    }
   ],
   "source": [
    "one_user.user_types()"
   ]
  },
  {
   "cell_type": "markdown",
   "metadata": {},
   "source": [
    "## Manage users"
   ]
  },
  {
   "cell_type": "markdown",
   "metadata": {},
   "source": [
    "With a `User` object, you can programatically manage a user. The following examples give a good idea of the types of things you can do with users, but are not comprehensive. The API Reference for the [User](https://developers.arcgis.com/python/api-reference/arcgis.gis.toc.html#user) and [UserManager](https://developers.arcgis.com/python/api-reference/arcgis.gis.toc.html#user) classes provide additional details."
   ]
  },
  {
   "cell_type": "markdown",
   "metadata": {},
   "source": [
    "### Create multiple users"
   ]
  },
  {
   "cell_type": "markdown",
   "metadata": {},
   "source": [
    "The code below creates three new Viewer accounts in the built-in identity store by using the [`create` operation from the `UserManager` class](https://developers.arcgis.com/python/api-reference/arcgis.gis.toc.html#arcgis.gis.UserManager.create).This operation creates only one new user at a time, but multiple users can be created by using a loop. Specifying a password of `None` requires the user to set their password when they first attempt to log in to the portal.\n",
    "\n",
    "Note that ArcGIS Online usernames that use the built-in identity store must be globally unique across all ArcGIS Online users."
   ]
  },
  {
   "cell_type": "code",
   "execution_count": null,
   "metadata": {},
   "outputs": [],
   "source": [
    "user_data = [\n",
    "    {\"uname\": \"319f5dfa\", \"fname\": \"Test\", \"lname\": \"User1\", \"email\": \"testuser1@example.com\"},\n",
    "    {\"uname\": \"e5926516\", \"fname\": \"Test\", \"lname\": \"User2\", \"email\": \"testuser2@example.com\"},\n",
    "    {\"uname\": \"e23fb958\", \"fname\": \"Test\", \"lname\": \"User3\", \"email\": \"testuser3@example.com\"}\n",
    "]\n",
    "\n",
    "for user in user_data:\n",
    "    gis.users.create(\n",
    "        username=user[\"uname\"],\n",
    "        password=None,\n",
    "        firstname=user[\"fname\"],\n",
    "        lastname=user[\"lname\"],\n",
    "        email=user[\"email\"],\n",
    "        role=\"iAAAAAAAAAAAAAAA\", # Viewer role id\n",
    "        user_type=\"viewerUT\",\n",
    "        credits=0\n",
    "    )\n",
    "    display(user)"
   ]
  },
  {
   "cell_type": "markdown",
   "metadata": {},
   "source": [
    "### Update a user's information "
   ]
  },
  {
   "cell_type": "markdown",
   "metadata": {},
   "source": [
    "The code below updates a user's name, email, and description, using the [`update` method of the `User` object](https://developers.arcgis.com/python/api-reference/arcgis.gis.toc.html#arcgis.gis.User.update). The documentation has a comprehensive list of properties that can be changed with this method."
   ]
  },
  {
   "cell_type": "code",
   "execution_count": 125,
   "metadata": {},
   "outputs": [
    {
     "data": {
      "text/html": [
       "<div class=\"9item_container\" style=\"height: auto; overflow: hidden; border: 1px solid #cfcfcf; border-radius: 2px; background: #f6fafa; line-height: 1.21429em; padding: 10px;\">\n",
       "                    <div class=\"item_left\" style=\"width: 210px; float: left;\">\n",
       "                       <a href='https://ormsby.maps.arcgis.com/home/user.html?user=e23fb958' target='_blank'>\n",
       "                        <img src='https://ormsby.maps.arcgis.com/home/js/arcgisonline/css/images/no-user-thumb.jpg' class=\"itemThumbnail\">\n",
       "                       </a>\n",
       "                    </div>\n",
       "\n",
       "                    <div class=\"item_right\" style=\"float: none; width: auto; overflow: hidden;\">\n",
       "                        <a href='https://ormsby.maps.arcgis.com/home/user.html?user=e23fb958' target='_blank'><b>New First Name New Last Name</b>\n",
       "                        </a>\n",
       "                        <br/><br/><b>Bio</b>: I feel like a brand new person\n",
       "                        <br/><b>First Name</b>: New First Name\n",
       "                        <br/><b>Last Name</b>: New Last Name\n",
       "                        <br/><b>Username</b>: e23fb958\n",
       "                        <br/><b>Joined</b>: October 21, 2023\n",
       "\n",
       "                    </div>\n",
       "                </div>\n",
       "                "
      ],
      "text/plain": [
       "<User username:e23fb958>"
      ]
     },
     "metadata": {},
     "output_type": "display_data"
    }
   ],
   "source": [
    "user = gis.users.get(\"e23fb958\")\n",
    "user.update(\n",
    "    first_name=\"New First Name\",\n",
    "    last_name=\"New Last Name\",\n",
    "    email=\"t.ormsby@esri.com\",\n",
    "    description=\"I feel like a brand new person\"   \n",
    ")\n",
    "display(user)\n"
   ]
  },
  {
   "cell_type": "markdown",
   "metadata": {},
   "source": [
    "### Reset a built-in user's password"
   ]
  },
  {
   "cell_type": "markdown",
   "metadata": {},
   "source": [
    "Accounts that use IT-managed identity stores like Active Directory or SAML cannot be managed with the ArcGIS API for Python. But an account that uses the built-in identity store can be. The code below uses the [`reset` method of a `User` object](https://developers.arcgis.com/python/api-reference/arcgis.gis.toc.html#arcgis.gis.User.reset) to send a user an email with a temporary password and instructions to reset it the next time they log in."
   ]
  },
  {
   "cell_type": "code",
   "execution_count": 126,
   "metadata": {},
   "outputs": [
    {
     "data": {
      "text/plain": [
       "True"
      ]
     },
     "execution_count": 126,
     "metadata": {},
     "output_type": "execute_result"
    }
   ],
   "source": [
    "user.reset(password=None, reset_by_email=True)"
   ]
  },
  {
   "cell_type": "markdown",
   "metadata": {},
   "source": [
    "### Update a user's license type"
   ]
  },
  {
   "cell_type": "markdown",
   "metadata": {},
   "source": [
    "A user's license type governs what types of roles and privileges they are allowed to be granted. The user above has a viewer license type. The code below changes that to a Creator license type using the [`update_license_type` method of the `User` object](https://developers.arcgis.com/python/api-reference/arcgis.gis.toc.html#arcgis.gis.User.update_license_type)."
   ]
  },
  {
   "cell_type": "code",
   "execution_count": 122,
   "metadata": {},
   "outputs": [
    {
     "data": {
      "text/plain": [
       "True"
      ]
     },
     "execution_count": 122,
     "metadata": {},
     "output_type": "execute_result"
    }
   ],
   "source": [
    "user.update_license_type(\"CreatorUT\")"
   ]
  },
  {
   "cell_type": "markdown",
   "metadata": {},
   "source": [
    "### Update a user's role"
   ]
  },
  {
   "cell_type": "markdown",
   "metadata": {},
   "source": [
    "A user's role governs the privileges they have in the portal, and must be compatible with their license type. The user above has a Viewer role. The code below changes that to a Publisher role using the [`update_role` method of the `User` object](https://developers.arcgis.com/python/api-reference/arcgis.gis.toc.html#arcgis.gis.User.update_role)"
   ]
  },
  {
   "cell_type": "code",
   "execution_count": 124,
   "metadata": {},
   "outputs": [
    {
     "data": {
      "text/plain": [
       "True"
      ]
     },
     "execution_count": 124,
     "metadata": {},
     "output_type": "execute_result"
    }
   ],
   "source": [
    "user.update_role(\"org_publisher\")"
   ]
  },
  {
   "cell_type": "markdown",
   "metadata": {},
   "source": [
    "### Reassign a user's content to another user"
   ]
  },
  {
   "cell_type": "markdown",
   "metadata": {},
   "source": [
    "The code below reassigns all of a user's items and groups to a different user with the [`reassign_to` method of a `User` object](https://developers.arcgis.com/python/api-reference/arcgis.gis.toc.html#arcgis.gis.User.reassign_to). This operation can only be performed by an administrator, occurs immediately, and cannot be undone.\n",
    "\n",
    "Each folder of content from the original user is transferred to the new user as a folder titled <original_user_name>_<original_folder_name>"
   ]
  },
  {
   "cell_type": "code",
   "execution_count": 127,
   "metadata": {},
   "outputs": [
    {
     "data": {
      "text/plain": [
       "True"
      ]
     },
     "execution_count": 127,
     "metadata": {},
     "output_type": "execute_result"
    }
   ],
   "source": [
    "user2 = gis.users.get(\"nb_user\")\n",
    "user2.reassign_to(user)"
   ]
  },
  {
   "cell_type": "markdown",
   "metadata": {},
   "source": [
    "The code below uses the [`transfer_content` method of the `User` object](https://developers.arcgis.com/python/api-reference/arcgis.gis.toc.html#arcgis.gis.User.transfer_content) to transfer the content of a folder to another user. This asyncronous operation may take up to 15 minutes to complete."
   ]
  },
  {
   "cell_type": "code",
   "execution_count": 128,
   "metadata": {},
   "outputs": [
    {
     "data": {
      "text/plain": [
       "<Future at 0x7fda2411e200 state=finished returned dict>"
      ]
     },
     "execution_count": 128,
     "metadata": {},
     "output_type": "execute_result"
    }
   ],
   "source": [
    "user.transfer_content(target_user=user2, folder=\"nb_user_root\")"
   ]
  },
  {
   "cell_type": "markdown",
   "metadata": {},
   "source": [
    "### Delete a single user"
   ]
  },
  {
   "cell_type": "markdown",
   "metadata": {},
   "source": [
    "The code below uses the [`delete` method of the `User` object](https://developers.arcgis.com/python/api-reference/arcgis.gis.toc.html#arcgis.gis.User.delete) to delete that user. Users that own content or groups will need to have them reassigned to another user."
   ]
  },
  {
   "cell_type": "code",
   "execution_count": 129,
   "metadata": {},
   "outputs": [
    {
     "data": {
      "text/plain": [
       "True"
      ]
     },
     "execution_count": 129,
     "metadata": {},
     "output_type": "execute_result"
    }
   ],
   "source": [
    "user.delete()"
   ]
  },
  {
   "cell_type": "markdown",
   "metadata": {},
   "source": [
    "### Delete multiple users"
   ]
  },
  {
   "cell_type": "markdown",
   "metadata": {},
   "source": [
    "The code below uses the [`delete_users` operation from the `UserManager` class](https://developers.arcgis.com/python/api-reference/arcgis.gis.toc.html#arcgis.gis.UserManager.delete_users) to delete multiple users at once. These users cannot own any content or groups."
   ]
  },
  {
   "cell_type": "code",
   "execution_count": 118,
   "metadata": {},
   "outputs": [
    {
     "data": {
      "text/plain": [
       "[]"
      ]
     },
     "execution_count": 118,
     "metadata": {},
     "output_type": "execute_result"
    }
   ],
   "source": [
    "users = [\"319f5dfa\", \"e5926516\"]\n",
    "user_objs_to_delete = [gis.users.get(uname) for uname in users]\n",
    "gis.users.delete_users(user_objs_to_delete)"
   ]
  }
 ],
 "metadata": {
  "kernelspec": {
   "display_name": "agol_admin-rkaODuKR",
   "language": "python",
   "name": "python3"
  },
  "language_info": {
   "codemirror_mode": {
    "name": "ipython",
    "version": 3
   },
   "file_extension": ".py",
   "mimetype": "text/x-python",
   "name": "python",
   "nbconvert_exporter": "python",
   "pygments_lexer": "ipython3",
   "version": "3.10.12"
  }
 },
 "nbformat": 4,
 "nbformat_minor": 2
}
